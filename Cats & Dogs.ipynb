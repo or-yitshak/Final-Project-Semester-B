{
 "cells": [
  {
   "cell_type": "code",
   "execution_count": 1,
   "metadata": {},
   "outputs": [],
   "source": [
    "import pandas as pd\n",
    "import seaborn as sns\n",
    "import matplotlib.pyplot as plt\n",
    "%matplotlib inline\n",
    "import numpy as np\n",
    "import os\n",
    "import cv2\n",
    "\n",
    "from random import shuffle\n",
    "from sklearn.preprocessing import MinMaxScaler\n",
    "from sklearn.preprocessing import StandardScaler\n",
    "from sklearn.model_selection import train_test_split\n",
    "from sklearn.neighbors import KNeighborsClassifier\n",
    "from sklearn.tree import DecisionTreeClassifier\n",
    "from sklearn import metrics\n",
    "from sklearn.metrics import classification_report,confusion_matrix\n",
    "from sklearn.model_selection import cross_val_score\n",
    "from sklearn.model_selection import GridSearchCV\n",
    "from sklearn.model_selection import RandomizedSearchCV\n",
    "from sklearn.tree import plot_tree\n",
    "from sklearn.dummy import DummyClassifier\n",
    "from sklearn.ensemble import RandomForestClassifier\n",
    "from sklearn.decomposition import PCA\n",
    "from sklearn.pipeline import Pipeline\n",
    "from sklearn.ensemble import AdaBoostClassifier\n",
    "from sklearn.ensemble import VotingClassifier\n",
    "from sklearn.ensemble import GradientBoostingClassifier\n",
    "from sklearn.ensemble import StackingClassifier\n",
    "\n",
    "from xgboost import XGBClassifier"
   ]
  },
  {
   "cell_type": "code",
   "execution_count": 12,
   "metadata": {},
   "outputs": [],
   "source": [
    "def label_img(img):\n",
    "    word_label = img.split('.')[0]\n",
    "    if word_label == 'dog' : return 1\n",
    "    elif word_label == 'cat' : return 0"
   ]
  },
  {
   "cell_type": "code",
   "execution_count": 3,
   "metadata": {},
   "outputs": [],
   "source": [
    "train_data = []\n",
    "train_label = []\n",
    "for img in os.listdir(r'C:\\Users\\guyit\\Desktop\\train'):\n",
    "    label = label_img(img)\n",
    "    path = os.path.join(r'C:\\Users\\guyit\\Desktop\\train',img)\n",
    "    img = cv2.resize(cv2.imread(path, cv2.IMREAD_GRAYSCALE),(28,28))\n",
    "    train_data.append(np.array(img).flatten())\n",
    "    train_label.append(label)"
   ]
  },
  {
   "cell_type": "code",
   "execution_count": 4,
   "metadata": {},
   "outputs": [
    {
     "data": {
      "text/html": [
       "<div>\n",
       "<style scoped>\n",
       "    .dataframe tbody tr th:only-of-type {\n",
       "        vertical-align: middle;\n",
       "    }\n",
       "\n",
       "    .dataframe tbody tr th {\n",
       "        vertical-align: top;\n",
       "    }\n",
       "\n",
       "    .dataframe thead th {\n",
       "        text-align: right;\n",
       "    }\n",
       "</style>\n",
       "<table border=\"1\" class=\"dataframe\">\n",
       "  <thead>\n",
       "    <tr style=\"text-align: right;\">\n",
       "      <th></th>\n",
       "      <th>pixel_0</th>\n",
       "      <th>pixel_1</th>\n",
       "      <th>pixel_2</th>\n",
       "      <th>pixel_3</th>\n",
       "      <th>pixel_4</th>\n",
       "      <th>pixel_5</th>\n",
       "      <th>pixel_6</th>\n",
       "      <th>pixel_7</th>\n",
       "      <th>pixel_8</th>\n",
       "      <th>pixel_9</th>\n",
       "      <th>...</th>\n",
       "      <th>pixel_774</th>\n",
       "      <th>pixel_775</th>\n",
       "      <th>pixel_776</th>\n",
       "      <th>pixel_777</th>\n",
       "      <th>pixel_778</th>\n",
       "      <th>pixel_779</th>\n",
       "      <th>pixel_780</th>\n",
       "      <th>pixel_781</th>\n",
       "      <th>pixel_782</th>\n",
       "      <th>pixel_783</th>\n",
       "    </tr>\n",
       "  </thead>\n",
       "  <tbody>\n",
       "    <tr>\n",
       "      <th>0</th>\n",
       "      <td>173</td>\n",
       "      <td>187</td>\n",
       "      <td>197</td>\n",
       "      <td>204</td>\n",
       "      <td>209</td>\n",
       "      <td>215</td>\n",
       "      <td>184</td>\n",
       "      <td>165</td>\n",
       "      <td>143</td>\n",
       "      <td>96</td>\n",
       "      <td>...</td>\n",
       "      <td>48</td>\n",
       "      <td>28</td>\n",
       "      <td>4</td>\n",
       "      <td>9</td>\n",
       "      <td>34</td>\n",
       "      <td>28</td>\n",
       "      <td>9</td>\n",
       "      <td>2</td>\n",
       "      <td>3</td>\n",
       "      <td>3</td>\n",
       "    </tr>\n",
       "    <tr>\n",
       "      <th>1</th>\n",
       "      <td>36</td>\n",
       "      <td>44</td>\n",
       "      <td>41</td>\n",
       "      <td>40</td>\n",
       "      <td>41</td>\n",
       "      <td>53</td>\n",
       "      <td>67</td>\n",
       "      <td>64</td>\n",
       "      <td>62</td>\n",
       "      <td>73</td>\n",
       "      <td>...</td>\n",
       "      <td>74</td>\n",
       "      <td>62</td>\n",
       "      <td>26</td>\n",
       "      <td>33</td>\n",
       "      <td>71</td>\n",
       "      <td>53</td>\n",
       "      <td>87</td>\n",
       "      <td>57</td>\n",
       "      <td>52</td>\n",
       "      <td>42</td>\n",
       "    </tr>\n",
       "    <tr>\n",
       "      <th>2</th>\n",
       "      <td>56</td>\n",
       "      <td>58</td>\n",
       "      <td>62</td>\n",
       "      <td>61</td>\n",
       "      <td>56</td>\n",
       "      <td>50</td>\n",
       "      <td>48</td>\n",
       "      <td>43</td>\n",
       "      <td>48</td>\n",
       "      <td>56</td>\n",
       "      <td>...</td>\n",
       "      <td>157</td>\n",
       "      <td>106</td>\n",
       "      <td>147</td>\n",
       "      <td>63</td>\n",
       "      <td>76</td>\n",
       "      <td>68</td>\n",
       "      <td>72</td>\n",
       "      <td>131</td>\n",
       "      <td>145</td>\n",
       "      <td>172</td>\n",
       "    </tr>\n",
       "    <tr>\n",
       "      <th>3</th>\n",
       "      <td>222</td>\n",
       "      <td>236</td>\n",
       "      <td>226</td>\n",
       "      <td>228</td>\n",
       "      <td>231</td>\n",
       "      <td>223</td>\n",
       "      <td>231</td>\n",
       "      <td>224</td>\n",
       "      <td>216</td>\n",
       "      <td>208</td>\n",
       "      <td>...</td>\n",
       "      <td>184</td>\n",
       "      <td>159</td>\n",
       "      <td>178</td>\n",
       "      <td>255</td>\n",
       "      <td>251</td>\n",
       "      <td>237</td>\n",
       "      <td>223</td>\n",
       "      <td>208</td>\n",
       "      <td>209</td>\n",
       "      <td>212</td>\n",
       "    </tr>\n",
       "    <tr>\n",
       "      <th>4</th>\n",
       "      <td>99</td>\n",
       "      <td>82</td>\n",
       "      <td>145</td>\n",
       "      <td>198</td>\n",
       "      <td>222</td>\n",
       "      <td>237</td>\n",
       "      <td>202</td>\n",
       "      <td>236</td>\n",
       "      <td>85</td>\n",
       "      <td>136</td>\n",
       "      <td>...</td>\n",
       "      <td>162</td>\n",
       "      <td>92</td>\n",
       "      <td>97</td>\n",
       "      <td>92</td>\n",
       "      <td>86</td>\n",
       "      <td>86</td>\n",
       "      <td>85</td>\n",
       "      <td>76</td>\n",
       "      <td>85</td>\n",
       "      <td>79</td>\n",
       "    </tr>\n",
       "  </tbody>\n",
       "</table>\n",
       "<p>5 rows × 784 columns</p>\n",
       "</div>"
      ],
      "text/plain": [
       "   pixel_0  pixel_1  pixel_2  pixel_3  pixel_4  pixel_5  pixel_6  pixel_7  \\\n",
       "0      173      187      197      204      209      215      184      165   \n",
       "1       36       44       41       40       41       53       67       64   \n",
       "2       56       58       62       61       56       50       48       43   \n",
       "3      222      236      226      228      231      223      231      224   \n",
       "4       99       82      145      198      222      237      202      236   \n",
       "\n",
       "   pixel_8  pixel_9  ...  pixel_774  pixel_775  pixel_776  pixel_777  \\\n",
       "0      143       96  ...         48         28          4          9   \n",
       "1       62       73  ...         74         62         26         33   \n",
       "2       48       56  ...        157        106        147         63   \n",
       "3      216      208  ...        184        159        178        255   \n",
       "4       85      136  ...        162         92         97         92   \n",
       "\n",
       "   pixel_778  pixel_779  pixel_780  pixel_781  pixel_782  pixel_783  \n",
       "0         34         28          9          2          3          3  \n",
       "1         71         53         87         57         52         42  \n",
       "2         76         68         72        131        145        172  \n",
       "3        251        237        223        208        209        212  \n",
       "4         86         86         85         76         85         79  \n",
       "\n",
       "[5 rows x 784 columns]"
      ]
     },
     "execution_count": 4,
     "metadata": {},
     "output_type": "execute_result"
    }
   ],
   "source": [
    "cols = []\n",
    "for i in range(784):\n",
    "    cols.append(\"pixel_\"+str(i))\n",
    "df = pd.DataFrame(train_data,columns=cols)\n",
    "df.head()"
   ]
  },
  {
   "cell_type": "code",
   "execution_count": 5,
   "metadata": {},
   "outputs": [
    {
     "data": {
      "text/html": [
       "<div>\n",
       "<style scoped>\n",
       "    .dataframe tbody tr th:only-of-type {\n",
       "        vertical-align: middle;\n",
       "    }\n",
       "\n",
       "    .dataframe tbody tr th {\n",
       "        vertical-align: top;\n",
       "    }\n",
       "\n",
       "    .dataframe thead th {\n",
       "        text-align: right;\n",
       "    }\n",
       "</style>\n",
       "<table border=\"1\" class=\"dataframe\">\n",
       "  <thead>\n",
       "    <tr style=\"text-align: right;\">\n",
       "      <th></th>\n",
       "      <th>pixel_0</th>\n",
       "      <th>pixel_1</th>\n",
       "      <th>pixel_2</th>\n",
       "      <th>pixel_3</th>\n",
       "      <th>pixel_4</th>\n",
       "      <th>pixel_5</th>\n",
       "      <th>pixel_6</th>\n",
       "      <th>pixel_7</th>\n",
       "      <th>pixel_8</th>\n",
       "      <th>pixel_9</th>\n",
       "      <th>...</th>\n",
       "      <th>pixel_774</th>\n",
       "      <th>pixel_775</th>\n",
       "      <th>pixel_776</th>\n",
       "      <th>pixel_777</th>\n",
       "      <th>pixel_778</th>\n",
       "      <th>pixel_779</th>\n",
       "      <th>pixel_780</th>\n",
       "      <th>pixel_781</th>\n",
       "      <th>pixel_782</th>\n",
       "      <th>pixel_783</th>\n",
       "    </tr>\n",
       "  </thead>\n",
       "  <tbody>\n",
       "    <tr>\n",
       "      <th>0</th>\n",
       "      <td>3</td>\n",
       "      <td>3</td>\n",
       "      <td>2</td>\n",
       "      <td>9</td>\n",
       "      <td>28</td>\n",
       "      <td>34</td>\n",
       "      <td>9</td>\n",
       "      <td>4</td>\n",
       "      <td>28</td>\n",
       "      <td>48</td>\n",
       "      <td>...</td>\n",
       "      <td>96</td>\n",
       "      <td>143</td>\n",
       "      <td>165</td>\n",
       "      <td>184</td>\n",
       "      <td>215</td>\n",
       "      <td>209</td>\n",
       "      <td>204</td>\n",
       "      <td>197</td>\n",
       "      <td>187</td>\n",
       "      <td>173</td>\n",
       "    </tr>\n",
       "    <tr>\n",
       "      <th>1</th>\n",
       "      <td>42</td>\n",
       "      <td>52</td>\n",
       "      <td>57</td>\n",
       "      <td>87</td>\n",
       "      <td>53</td>\n",
       "      <td>71</td>\n",
       "      <td>33</td>\n",
       "      <td>26</td>\n",
       "      <td>62</td>\n",
       "      <td>74</td>\n",
       "      <td>...</td>\n",
       "      <td>73</td>\n",
       "      <td>62</td>\n",
       "      <td>64</td>\n",
       "      <td>67</td>\n",
       "      <td>53</td>\n",
       "      <td>41</td>\n",
       "      <td>40</td>\n",
       "      <td>41</td>\n",
       "      <td>44</td>\n",
       "      <td>36</td>\n",
       "    </tr>\n",
       "    <tr>\n",
       "      <th>2</th>\n",
       "      <td>172</td>\n",
       "      <td>145</td>\n",
       "      <td>131</td>\n",
       "      <td>72</td>\n",
       "      <td>68</td>\n",
       "      <td>76</td>\n",
       "      <td>63</td>\n",
       "      <td>147</td>\n",
       "      <td>106</td>\n",
       "      <td>157</td>\n",
       "      <td>...</td>\n",
       "      <td>56</td>\n",
       "      <td>48</td>\n",
       "      <td>43</td>\n",
       "      <td>48</td>\n",
       "      <td>50</td>\n",
       "      <td>56</td>\n",
       "      <td>61</td>\n",
       "      <td>62</td>\n",
       "      <td>58</td>\n",
       "      <td>56</td>\n",
       "    </tr>\n",
       "    <tr>\n",
       "      <th>3</th>\n",
       "      <td>212</td>\n",
       "      <td>209</td>\n",
       "      <td>208</td>\n",
       "      <td>223</td>\n",
       "      <td>237</td>\n",
       "      <td>251</td>\n",
       "      <td>255</td>\n",
       "      <td>178</td>\n",
       "      <td>159</td>\n",
       "      <td>184</td>\n",
       "      <td>...</td>\n",
       "      <td>208</td>\n",
       "      <td>216</td>\n",
       "      <td>224</td>\n",
       "      <td>231</td>\n",
       "      <td>223</td>\n",
       "      <td>231</td>\n",
       "      <td>228</td>\n",
       "      <td>226</td>\n",
       "      <td>236</td>\n",
       "      <td>222</td>\n",
       "    </tr>\n",
       "    <tr>\n",
       "      <th>4</th>\n",
       "      <td>79</td>\n",
       "      <td>85</td>\n",
       "      <td>76</td>\n",
       "      <td>85</td>\n",
       "      <td>86</td>\n",
       "      <td>86</td>\n",
       "      <td>92</td>\n",
       "      <td>97</td>\n",
       "      <td>92</td>\n",
       "      <td>162</td>\n",
       "      <td>...</td>\n",
       "      <td>136</td>\n",
       "      <td>85</td>\n",
       "      <td>236</td>\n",
       "      <td>202</td>\n",
       "      <td>237</td>\n",
       "      <td>222</td>\n",
       "      <td>198</td>\n",
       "      <td>145</td>\n",
       "      <td>82</td>\n",
       "      <td>99</td>\n",
       "    </tr>\n",
       "  </tbody>\n",
       "</table>\n",
       "<p>5 rows × 784 columns</p>\n",
       "</div>"
      ],
      "text/plain": [
       "   pixel_0  pixel_1  pixel_2  pixel_3  pixel_4  pixel_5  pixel_6  pixel_7  \\\n",
       "0        3        3        2        9       28       34        9        4   \n",
       "1       42       52       57       87       53       71       33       26   \n",
       "2      172      145      131       72       68       76       63      147   \n",
       "3      212      209      208      223      237      251      255      178   \n",
       "4       79       85       76       85       86       86       92       97   \n",
       "\n",
       "   pixel_8  pixel_9  ...  pixel_774  pixel_775  pixel_776  pixel_777  \\\n",
       "0       28       48  ...         96        143        165        184   \n",
       "1       62       74  ...         73         62         64         67   \n",
       "2      106      157  ...         56         48         43         48   \n",
       "3      159      184  ...        208        216        224        231   \n",
       "4       92      162  ...        136         85        236        202   \n",
       "\n",
       "   pixel_778  pixel_779  pixel_780  pixel_781  pixel_782  pixel_783  \n",
       "0        215        209        204        197        187        173  \n",
       "1         53         41         40         41         44         36  \n",
       "2         50         56         61         62         58         56  \n",
       "3        223        231        228        226        236        222  \n",
       "4        237        222        198        145         82         99  \n",
       "\n",
       "[5 rows x 784 columns]"
      ]
     },
     "execution_count": 5,
     "metadata": {},
     "output_type": "execute_result"
    }
   ],
   "source": [
    "df_fliped = df[df.columns[::-1]]\n",
    "df_fliped.columns = cols\n",
    "df_fliped.head()"
   ]
  },
  {
   "cell_type": "code",
   "execution_count": 6,
   "metadata": {},
   "outputs": [
    {
     "data": {
      "text/html": [
       "<div>\n",
       "<style scoped>\n",
       "    .dataframe tbody tr th:only-of-type {\n",
       "        vertical-align: middle;\n",
       "    }\n",
       "\n",
       "    .dataframe tbody tr th {\n",
       "        vertical-align: top;\n",
       "    }\n",
       "\n",
       "    .dataframe thead th {\n",
       "        text-align: right;\n",
       "    }\n",
       "</style>\n",
       "<table border=\"1\" class=\"dataframe\">\n",
       "  <thead>\n",
       "    <tr style=\"text-align: right;\">\n",
       "      <th></th>\n",
       "      <th>pixel_0</th>\n",
       "      <th>pixel_1</th>\n",
       "      <th>pixel_2</th>\n",
       "      <th>pixel_3</th>\n",
       "      <th>pixel_4</th>\n",
       "      <th>pixel_5</th>\n",
       "      <th>pixel_6</th>\n",
       "      <th>pixel_7</th>\n",
       "      <th>pixel_8</th>\n",
       "      <th>pixel_9</th>\n",
       "      <th>...</th>\n",
       "      <th>pixel_774</th>\n",
       "      <th>pixel_775</th>\n",
       "      <th>pixel_776</th>\n",
       "      <th>pixel_777</th>\n",
       "      <th>pixel_778</th>\n",
       "      <th>pixel_779</th>\n",
       "      <th>pixel_780</th>\n",
       "      <th>pixel_781</th>\n",
       "      <th>pixel_782</th>\n",
       "      <th>pixel_783</th>\n",
       "    </tr>\n",
       "  </thead>\n",
       "  <tbody>\n",
       "    <tr>\n",
       "      <th>0</th>\n",
       "      <td>173</td>\n",
       "      <td>187</td>\n",
       "      <td>197</td>\n",
       "      <td>204</td>\n",
       "      <td>209</td>\n",
       "      <td>215</td>\n",
       "      <td>184</td>\n",
       "      <td>165</td>\n",
       "      <td>143</td>\n",
       "      <td>96</td>\n",
       "      <td>...</td>\n",
       "      <td>48</td>\n",
       "      <td>28</td>\n",
       "      <td>4</td>\n",
       "      <td>9</td>\n",
       "      <td>34</td>\n",
       "      <td>28</td>\n",
       "      <td>9</td>\n",
       "      <td>2</td>\n",
       "      <td>3</td>\n",
       "      <td>3</td>\n",
       "    </tr>\n",
       "    <tr>\n",
       "      <th>1</th>\n",
       "      <td>36</td>\n",
       "      <td>44</td>\n",
       "      <td>41</td>\n",
       "      <td>40</td>\n",
       "      <td>41</td>\n",
       "      <td>53</td>\n",
       "      <td>67</td>\n",
       "      <td>64</td>\n",
       "      <td>62</td>\n",
       "      <td>73</td>\n",
       "      <td>...</td>\n",
       "      <td>74</td>\n",
       "      <td>62</td>\n",
       "      <td>26</td>\n",
       "      <td>33</td>\n",
       "      <td>71</td>\n",
       "      <td>53</td>\n",
       "      <td>87</td>\n",
       "      <td>57</td>\n",
       "      <td>52</td>\n",
       "      <td>42</td>\n",
       "    </tr>\n",
       "    <tr>\n",
       "      <th>2</th>\n",
       "      <td>56</td>\n",
       "      <td>58</td>\n",
       "      <td>62</td>\n",
       "      <td>61</td>\n",
       "      <td>56</td>\n",
       "      <td>50</td>\n",
       "      <td>48</td>\n",
       "      <td>43</td>\n",
       "      <td>48</td>\n",
       "      <td>56</td>\n",
       "      <td>...</td>\n",
       "      <td>157</td>\n",
       "      <td>106</td>\n",
       "      <td>147</td>\n",
       "      <td>63</td>\n",
       "      <td>76</td>\n",
       "      <td>68</td>\n",
       "      <td>72</td>\n",
       "      <td>131</td>\n",
       "      <td>145</td>\n",
       "      <td>172</td>\n",
       "    </tr>\n",
       "    <tr>\n",
       "      <th>3</th>\n",
       "      <td>222</td>\n",
       "      <td>236</td>\n",
       "      <td>226</td>\n",
       "      <td>228</td>\n",
       "      <td>231</td>\n",
       "      <td>223</td>\n",
       "      <td>231</td>\n",
       "      <td>224</td>\n",
       "      <td>216</td>\n",
       "      <td>208</td>\n",
       "      <td>...</td>\n",
       "      <td>184</td>\n",
       "      <td>159</td>\n",
       "      <td>178</td>\n",
       "      <td>255</td>\n",
       "      <td>251</td>\n",
       "      <td>237</td>\n",
       "      <td>223</td>\n",
       "      <td>208</td>\n",
       "      <td>209</td>\n",
       "      <td>212</td>\n",
       "    </tr>\n",
       "    <tr>\n",
       "      <th>4</th>\n",
       "      <td>99</td>\n",
       "      <td>82</td>\n",
       "      <td>145</td>\n",
       "      <td>198</td>\n",
       "      <td>222</td>\n",
       "      <td>237</td>\n",
       "      <td>202</td>\n",
       "      <td>236</td>\n",
       "      <td>85</td>\n",
       "      <td>136</td>\n",
       "      <td>...</td>\n",
       "      <td>162</td>\n",
       "      <td>92</td>\n",
       "      <td>97</td>\n",
       "      <td>92</td>\n",
       "      <td>86</td>\n",
       "      <td>86</td>\n",
       "      <td>85</td>\n",
       "      <td>76</td>\n",
       "      <td>85</td>\n",
       "      <td>79</td>\n",
       "    </tr>\n",
       "    <tr>\n",
       "      <th>...</th>\n",
       "      <td>...</td>\n",
       "      <td>...</td>\n",
       "      <td>...</td>\n",
       "      <td>...</td>\n",
       "      <td>...</td>\n",
       "      <td>...</td>\n",
       "      <td>...</td>\n",
       "      <td>...</td>\n",
       "      <td>...</td>\n",
       "      <td>...</td>\n",
       "      <td>...</td>\n",
       "      <td>...</td>\n",
       "      <td>...</td>\n",
       "      <td>...</td>\n",
       "      <td>...</td>\n",
       "      <td>...</td>\n",
       "      <td>...</td>\n",
       "      <td>...</td>\n",
       "      <td>...</td>\n",
       "      <td>...</td>\n",
       "      <td>...</td>\n",
       "    </tr>\n",
       "    <tr>\n",
       "      <th>24995</th>\n",
       "      <td>168</td>\n",
       "      <td>167</td>\n",
       "      <td>164</td>\n",
       "      <td>163</td>\n",
       "      <td>163</td>\n",
       "      <td>159</td>\n",
       "      <td>135</td>\n",
       "      <td>169</td>\n",
       "      <td>157</td>\n",
       "      <td>156</td>\n",
       "      <td>...</td>\n",
       "      <td>165</td>\n",
       "      <td>163</td>\n",
       "      <td>160</td>\n",
       "      <td>159</td>\n",
       "      <td>158</td>\n",
       "      <td>154</td>\n",
       "      <td>152</td>\n",
       "      <td>149</td>\n",
       "      <td>147</td>\n",
       "      <td>143</td>\n",
       "    </tr>\n",
       "    <tr>\n",
       "      <th>24996</th>\n",
       "      <td>82</td>\n",
       "      <td>73</td>\n",
       "      <td>82</td>\n",
       "      <td>94</td>\n",
       "      <td>72</td>\n",
       "      <td>27</td>\n",
       "      <td>20</td>\n",
       "      <td>11</td>\n",
       "      <td>49</td>\n",
       "      <td>63</td>\n",
       "      <td>...</td>\n",
       "      <td>68</td>\n",
       "      <td>113</td>\n",
       "      <td>82</td>\n",
       "      <td>106</td>\n",
       "      <td>104</td>\n",
       "      <td>69</td>\n",
       "      <td>84</td>\n",
       "      <td>89</td>\n",
       "      <td>128</td>\n",
       "      <td>68</td>\n",
       "    </tr>\n",
       "    <tr>\n",
       "      <th>24997</th>\n",
       "      <td>147</td>\n",
       "      <td>164</td>\n",
       "      <td>121</td>\n",
       "      <td>159</td>\n",
       "      <td>132</td>\n",
       "      <td>161</td>\n",
       "      <td>109</td>\n",
       "      <td>137</td>\n",
       "      <td>214</td>\n",
       "      <td>131</td>\n",
       "      <td>...</td>\n",
       "      <td>133</td>\n",
       "      <td>59</td>\n",
       "      <td>85</td>\n",
       "      <td>50</td>\n",
       "      <td>141</td>\n",
       "      <td>136</td>\n",
       "      <td>66</td>\n",
       "      <td>26</td>\n",
       "      <td>43</td>\n",
       "      <td>29</td>\n",
       "    </tr>\n",
       "    <tr>\n",
       "      <th>24998</th>\n",
       "      <td>119</td>\n",
       "      <td>83</td>\n",
       "      <td>97</td>\n",
       "      <td>97</td>\n",
       "      <td>89</td>\n",
       "      <td>113</td>\n",
       "      <td>119</td>\n",
       "      <td>143</td>\n",
       "      <td>135</td>\n",
       "      <td>130</td>\n",
       "      <td>...</td>\n",
       "      <td>119</td>\n",
       "      <td>87</td>\n",
       "      <td>62</td>\n",
       "      <td>161</td>\n",
       "      <td>111</td>\n",
       "      <td>73</td>\n",
       "      <td>111</td>\n",
       "      <td>110</td>\n",
       "      <td>188</td>\n",
       "      <td>245</td>\n",
       "    </tr>\n",
       "    <tr>\n",
       "      <th>24999</th>\n",
       "      <td>254</td>\n",
       "      <td>254</td>\n",
       "      <td>254</td>\n",
       "      <td>254</td>\n",
       "      <td>254</td>\n",
       "      <td>255</td>\n",
       "      <td>255</td>\n",
       "      <td>255</td>\n",
       "      <td>255</td>\n",
       "      <td>255</td>\n",
       "      <td>...</td>\n",
       "      <td>255</td>\n",
       "      <td>249</td>\n",
       "      <td>251</td>\n",
       "      <td>254</td>\n",
       "      <td>254</td>\n",
       "      <td>254</td>\n",
       "      <td>246</td>\n",
       "      <td>254</td>\n",
       "      <td>248</td>\n",
       "      <td>253</td>\n",
       "    </tr>\n",
       "  </tbody>\n",
       "</table>\n",
       "<p>50000 rows × 784 columns</p>\n",
       "</div>"
      ],
      "text/plain": [
       "       pixel_0  pixel_1  pixel_2  pixel_3  pixel_4  pixel_5  pixel_6  pixel_7  \\\n",
       "0          173      187      197      204      209      215      184      165   \n",
       "1           36       44       41       40       41       53       67       64   \n",
       "2           56       58       62       61       56       50       48       43   \n",
       "3          222      236      226      228      231      223      231      224   \n",
       "4           99       82      145      198      222      237      202      236   \n",
       "...        ...      ...      ...      ...      ...      ...      ...      ...   \n",
       "24995      168      167      164      163      163      159      135      169   \n",
       "24996       82       73       82       94       72       27       20       11   \n",
       "24997      147      164      121      159      132      161      109      137   \n",
       "24998      119       83       97       97       89      113      119      143   \n",
       "24999      254      254      254      254      254      255      255      255   \n",
       "\n",
       "       pixel_8  pixel_9  ...  pixel_774  pixel_775  pixel_776  pixel_777  \\\n",
       "0          143       96  ...         48         28          4          9   \n",
       "1           62       73  ...         74         62         26         33   \n",
       "2           48       56  ...        157        106        147         63   \n",
       "3          216      208  ...        184        159        178        255   \n",
       "4           85      136  ...        162         92         97         92   \n",
       "...        ...      ...  ...        ...        ...        ...        ...   \n",
       "24995      157      156  ...        165        163        160        159   \n",
       "24996       49       63  ...         68        113         82        106   \n",
       "24997      214      131  ...        133         59         85         50   \n",
       "24998      135      130  ...        119         87         62        161   \n",
       "24999      255      255  ...        255        249        251        254   \n",
       "\n",
       "       pixel_778  pixel_779  pixel_780  pixel_781  pixel_782  pixel_783  \n",
       "0             34         28          9          2          3          3  \n",
       "1             71         53         87         57         52         42  \n",
       "2             76         68         72        131        145        172  \n",
       "3            251        237        223        208        209        212  \n",
       "4             86         86         85         76         85         79  \n",
       "...          ...        ...        ...        ...        ...        ...  \n",
       "24995        158        154        152        149        147        143  \n",
       "24996        104         69         84         89        128         68  \n",
       "24997        141        136         66         26         43         29  \n",
       "24998        111         73        111        110        188        245  \n",
       "24999        254        254        246        254        248        253  \n",
       "\n",
       "[50000 rows x 784 columns]"
      ]
     },
     "execution_count": 6,
     "metadata": {},
     "output_type": "execute_result"
    }
   ],
   "source": [
    "df_double = pd.concat([df,df_fliped])\n",
    "df_double"
   ]
  },
  {
   "cell_type": "code",
   "execution_count": 7,
   "metadata": {},
   "outputs": [
    {
     "data": {
      "text/html": [
       "<div>\n",
       "<style scoped>\n",
       "    .dataframe tbody tr th:only-of-type {\n",
       "        vertical-align: middle;\n",
       "    }\n",
       "\n",
       "    .dataframe tbody tr th {\n",
       "        vertical-align: top;\n",
       "    }\n",
       "\n",
       "    .dataframe thead th {\n",
       "        text-align: right;\n",
       "    }\n",
       "</style>\n",
       "<table border=\"1\" class=\"dataframe\">\n",
       "  <thead>\n",
       "    <tr style=\"text-align: right;\">\n",
       "      <th></th>\n",
       "      <th>pixel_0</th>\n",
       "      <th>pixel_1</th>\n",
       "      <th>pixel_2</th>\n",
       "      <th>pixel_3</th>\n",
       "      <th>pixel_4</th>\n",
       "      <th>pixel_5</th>\n",
       "      <th>pixel_6</th>\n",
       "      <th>pixel_7</th>\n",
       "      <th>pixel_8</th>\n",
       "      <th>pixel_9</th>\n",
       "      <th>...</th>\n",
       "      <th>pixel_775</th>\n",
       "      <th>pixel_776</th>\n",
       "      <th>pixel_777</th>\n",
       "      <th>pixel_778</th>\n",
       "      <th>pixel_779</th>\n",
       "      <th>pixel_780</th>\n",
       "      <th>pixel_781</th>\n",
       "      <th>pixel_782</th>\n",
       "      <th>pixel_783</th>\n",
       "      <th>label</th>\n",
       "    </tr>\n",
       "  </thead>\n",
       "  <tbody>\n",
       "    <tr>\n",
       "      <th>0</th>\n",
       "      <td>173</td>\n",
       "      <td>187</td>\n",
       "      <td>197</td>\n",
       "      <td>204</td>\n",
       "      <td>209</td>\n",
       "      <td>215</td>\n",
       "      <td>184</td>\n",
       "      <td>165</td>\n",
       "      <td>143</td>\n",
       "      <td>96</td>\n",
       "      <td>...</td>\n",
       "      <td>28</td>\n",
       "      <td>4</td>\n",
       "      <td>9</td>\n",
       "      <td>34</td>\n",
       "      <td>28</td>\n",
       "      <td>9</td>\n",
       "      <td>2</td>\n",
       "      <td>3</td>\n",
       "      <td>3</td>\n",
       "      <td>0</td>\n",
       "    </tr>\n",
       "    <tr>\n",
       "      <th>1</th>\n",
       "      <td>36</td>\n",
       "      <td>44</td>\n",
       "      <td>41</td>\n",
       "      <td>40</td>\n",
       "      <td>41</td>\n",
       "      <td>53</td>\n",
       "      <td>67</td>\n",
       "      <td>64</td>\n",
       "      <td>62</td>\n",
       "      <td>73</td>\n",
       "      <td>...</td>\n",
       "      <td>62</td>\n",
       "      <td>26</td>\n",
       "      <td>33</td>\n",
       "      <td>71</td>\n",
       "      <td>53</td>\n",
       "      <td>87</td>\n",
       "      <td>57</td>\n",
       "      <td>52</td>\n",
       "      <td>42</td>\n",
       "      <td>0</td>\n",
       "    </tr>\n",
       "    <tr>\n",
       "      <th>2</th>\n",
       "      <td>56</td>\n",
       "      <td>58</td>\n",
       "      <td>62</td>\n",
       "      <td>61</td>\n",
       "      <td>56</td>\n",
       "      <td>50</td>\n",
       "      <td>48</td>\n",
       "      <td>43</td>\n",
       "      <td>48</td>\n",
       "      <td>56</td>\n",
       "      <td>...</td>\n",
       "      <td>106</td>\n",
       "      <td>147</td>\n",
       "      <td>63</td>\n",
       "      <td>76</td>\n",
       "      <td>68</td>\n",
       "      <td>72</td>\n",
       "      <td>131</td>\n",
       "      <td>145</td>\n",
       "      <td>172</td>\n",
       "      <td>0</td>\n",
       "    </tr>\n",
       "    <tr>\n",
       "      <th>3</th>\n",
       "      <td>222</td>\n",
       "      <td>236</td>\n",
       "      <td>226</td>\n",
       "      <td>228</td>\n",
       "      <td>231</td>\n",
       "      <td>223</td>\n",
       "      <td>231</td>\n",
       "      <td>224</td>\n",
       "      <td>216</td>\n",
       "      <td>208</td>\n",
       "      <td>...</td>\n",
       "      <td>159</td>\n",
       "      <td>178</td>\n",
       "      <td>255</td>\n",
       "      <td>251</td>\n",
       "      <td>237</td>\n",
       "      <td>223</td>\n",
       "      <td>208</td>\n",
       "      <td>209</td>\n",
       "      <td>212</td>\n",
       "      <td>0</td>\n",
       "    </tr>\n",
       "    <tr>\n",
       "      <th>4</th>\n",
       "      <td>99</td>\n",
       "      <td>82</td>\n",
       "      <td>145</td>\n",
       "      <td>198</td>\n",
       "      <td>222</td>\n",
       "      <td>237</td>\n",
       "      <td>202</td>\n",
       "      <td>236</td>\n",
       "      <td>85</td>\n",
       "      <td>136</td>\n",
       "      <td>...</td>\n",
       "      <td>92</td>\n",
       "      <td>97</td>\n",
       "      <td>92</td>\n",
       "      <td>86</td>\n",
       "      <td>86</td>\n",
       "      <td>85</td>\n",
       "      <td>76</td>\n",
       "      <td>85</td>\n",
       "      <td>79</td>\n",
       "      <td>0</td>\n",
       "    </tr>\n",
       "    <tr>\n",
       "      <th>...</th>\n",
       "      <td>...</td>\n",
       "      <td>...</td>\n",
       "      <td>...</td>\n",
       "      <td>...</td>\n",
       "      <td>...</td>\n",
       "      <td>...</td>\n",
       "      <td>...</td>\n",
       "      <td>...</td>\n",
       "      <td>...</td>\n",
       "      <td>...</td>\n",
       "      <td>...</td>\n",
       "      <td>...</td>\n",
       "      <td>...</td>\n",
       "      <td>...</td>\n",
       "      <td>...</td>\n",
       "      <td>...</td>\n",
       "      <td>...</td>\n",
       "      <td>...</td>\n",
       "      <td>...</td>\n",
       "      <td>...</td>\n",
       "      <td>...</td>\n",
       "    </tr>\n",
       "    <tr>\n",
       "      <th>24995</th>\n",
       "      <td>168</td>\n",
       "      <td>167</td>\n",
       "      <td>164</td>\n",
       "      <td>163</td>\n",
       "      <td>163</td>\n",
       "      <td>159</td>\n",
       "      <td>135</td>\n",
       "      <td>169</td>\n",
       "      <td>157</td>\n",
       "      <td>156</td>\n",
       "      <td>...</td>\n",
       "      <td>163</td>\n",
       "      <td>160</td>\n",
       "      <td>159</td>\n",
       "      <td>158</td>\n",
       "      <td>154</td>\n",
       "      <td>152</td>\n",
       "      <td>149</td>\n",
       "      <td>147</td>\n",
       "      <td>143</td>\n",
       "      <td>1</td>\n",
       "    </tr>\n",
       "    <tr>\n",
       "      <th>24996</th>\n",
       "      <td>82</td>\n",
       "      <td>73</td>\n",
       "      <td>82</td>\n",
       "      <td>94</td>\n",
       "      <td>72</td>\n",
       "      <td>27</td>\n",
       "      <td>20</td>\n",
       "      <td>11</td>\n",
       "      <td>49</td>\n",
       "      <td>63</td>\n",
       "      <td>...</td>\n",
       "      <td>113</td>\n",
       "      <td>82</td>\n",
       "      <td>106</td>\n",
       "      <td>104</td>\n",
       "      <td>69</td>\n",
       "      <td>84</td>\n",
       "      <td>89</td>\n",
       "      <td>128</td>\n",
       "      <td>68</td>\n",
       "      <td>1</td>\n",
       "    </tr>\n",
       "    <tr>\n",
       "      <th>24997</th>\n",
       "      <td>147</td>\n",
       "      <td>164</td>\n",
       "      <td>121</td>\n",
       "      <td>159</td>\n",
       "      <td>132</td>\n",
       "      <td>161</td>\n",
       "      <td>109</td>\n",
       "      <td>137</td>\n",
       "      <td>214</td>\n",
       "      <td>131</td>\n",
       "      <td>...</td>\n",
       "      <td>59</td>\n",
       "      <td>85</td>\n",
       "      <td>50</td>\n",
       "      <td>141</td>\n",
       "      <td>136</td>\n",
       "      <td>66</td>\n",
       "      <td>26</td>\n",
       "      <td>43</td>\n",
       "      <td>29</td>\n",
       "      <td>1</td>\n",
       "    </tr>\n",
       "    <tr>\n",
       "      <th>24998</th>\n",
       "      <td>119</td>\n",
       "      <td>83</td>\n",
       "      <td>97</td>\n",
       "      <td>97</td>\n",
       "      <td>89</td>\n",
       "      <td>113</td>\n",
       "      <td>119</td>\n",
       "      <td>143</td>\n",
       "      <td>135</td>\n",
       "      <td>130</td>\n",
       "      <td>...</td>\n",
       "      <td>87</td>\n",
       "      <td>62</td>\n",
       "      <td>161</td>\n",
       "      <td>111</td>\n",
       "      <td>73</td>\n",
       "      <td>111</td>\n",
       "      <td>110</td>\n",
       "      <td>188</td>\n",
       "      <td>245</td>\n",
       "      <td>1</td>\n",
       "    </tr>\n",
       "    <tr>\n",
       "      <th>24999</th>\n",
       "      <td>254</td>\n",
       "      <td>254</td>\n",
       "      <td>254</td>\n",
       "      <td>254</td>\n",
       "      <td>254</td>\n",
       "      <td>255</td>\n",
       "      <td>255</td>\n",
       "      <td>255</td>\n",
       "      <td>255</td>\n",
       "      <td>255</td>\n",
       "      <td>...</td>\n",
       "      <td>249</td>\n",
       "      <td>251</td>\n",
       "      <td>254</td>\n",
       "      <td>254</td>\n",
       "      <td>254</td>\n",
       "      <td>246</td>\n",
       "      <td>254</td>\n",
       "      <td>248</td>\n",
       "      <td>253</td>\n",
       "      <td>1</td>\n",
       "    </tr>\n",
       "  </tbody>\n",
       "</table>\n",
       "<p>50000 rows × 785 columns</p>\n",
       "</div>"
      ],
      "text/plain": [
       "       pixel_0  pixel_1  pixel_2  pixel_3  pixel_4  pixel_5  pixel_6  pixel_7  \\\n",
       "0          173      187      197      204      209      215      184      165   \n",
       "1           36       44       41       40       41       53       67       64   \n",
       "2           56       58       62       61       56       50       48       43   \n",
       "3          222      236      226      228      231      223      231      224   \n",
       "4           99       82      145      198      222      237      202      236   \n",
       "...        ...      ...      ...      ...      ...      ...      ...      ...   \n",
       "24995      168      167      164      163      163      159      135      169   \n",
       "24996       82       73       82       94       72       27       20       11   \n",
       "24997      147      164      121      159      132      161      109      137   \n",
       "24998      119       83       97       97       89      113      119      143   \n",
       "24999      254      254      254      254      254      255      255      255   \n",
       "\n",
       "       pixel_8  pixel_9  ...  pixel_775  pixel_776  pixel_777  pixel_778  \\\n",
       "0          143       96  ...         28          4          9         34   \n",
       "1           62       73  ...         62         26         33         71   \n",
       "2           48       56  ...        106        147         63         76   \n",
       "3          216      208  ...        159        178        255        251   \n",
       "4           85      136  ...         92         97         92         86   \n",
       "...        ...      ...  ...        ...        ...        ...        ...   \n",
       "24995      157      156  ...        163        160        159        158   \n",
       "24996       49       63  ...        113         82        106        104   \n",
       "24997      214      131  ...         59         85         50        141   \n",
       "24998      135      130  ...         87         62        161        111   \n",
       "24999      255      255  ...        249        251        254        254   \n",
       "\n",
       "       pixel_779  pixel_780  pixel_781  pixel_782  pixel_783  label  \n",
       "0             28          9          2          3          3      0  \n",
       "1             53         87         57         52         42      0  \n",
       "2             68         72        131        145        172      0  \n",
       "3            237        223        208        209        212      0  \n",
       "4             86         85         76         85         79      0  \n",
       "...          ...        ...        ...        ...        ...    ...  \n",
       "24995        154        152        149        147        143      1  \n",
       "24996         69         84         89        128         68      1  \n",
       "24997        136         66         26         43         29      1  \n",
       "24998         73        111        110        188        245      1  \n",
       "24999        254        246        254        248        253      1  \n",
       "\n",
       "[50000 rows x 785 columns]"
      ]
     },
     "execution_count": 7,
     "metadata": {},
     "output_type": "execute_result"
    }
   ],
   "source": [
    "df_double['label']=train_label + train_label\n",
    "df_double"
   ]
  },
  {
   "cell_type": "markdown",
   "metadata": {},
   "source": [
    "the labels are:\n",
    "- 0 cat\n",
    "- 1 dog"
   ]
  },
  {
   "cell_type": "code",
   "execution_count": 8,
   "metadata": {},
   "outputs": [],
   "source": [
    "some_instance = np.array(df_double.iloc[0].drop('label'))\n",
    "some_instance_image = some_instance.reshape(28, 28)"
   ]
  },
  {
   "cell_type": "code",
   "execution_count": 9,
   "metadata": {},
   "outputs": [
    {
     "data": {
      "text/plain": [
       "<matplotlib.image.AxesImage at 0x1d3ab066be0>"
      ]
     },
     "execution_count": 9,
     "metadata": {},
     "output_type": "execute_result"
    },
    {
     "data": {
      "image/png": "[encoded data removed]",
      "text/plain": [
       "<Figure size 432x288 with 1 Axes>"
      ]
     },
     "metadata": {
      "needs_background": "light"
     },
     "output_type": "display_data"
    }
   ],
   "source": [
    "plt.imshow(some_instance_image)"
   ]
  },
  {
   "cell_type": "code",
   "execution_count": 10,
   "metadata": {},
   "outputs": [],
   "source": [
    "some_instance = np.array(df_double.iloc[25000].drop('label'))\n",
    "some_instance_image = some_instance.reshape(28, 28)"
   ]
  },
  {
   "cell_type": "code",
   "execution_count": 11,
   "metadata": {},
   "outputs": [
    {
     "data": {
      "text/plain": [
       "<matplotlib.image.AxesImage at 0x1d3a9dcce80>"
      ]
     },
     "execution_count": 11,
     "metadata": {},
     "output_type": "execute_result"
    },
    {
     "data": {
      "image/png": "[encoded data removed]",
      "text/plain": [
       "<Figure size 432x288 with 1 Axes>"
      ]
     },
     "metadata": {
      "needs_background": "light"
     },
     "output_type": "display_data"
    }
   ],
   "source": [
    "plt.imshow(some_instance_image)"
   ]
  },
  {
   "cell_type": "code",
   "execution_count": 12,
   "metadata": {},
   "outputs": [
    {
     "name": "stdout",
     "output_type": "stream",
     "text": [
      "<class 'pandas.core.frame.DataFrame'>\n",
      "RangeIndex: 25000 entries, 0 to 24999\n",
      "Columns: 784 entries, pixel_0 to pixel_783\n",
      "dtypes: int64(784)\n",
      "memory usage: 149.5 MB\n"
     ]
    }
   ],
   "source": [
    "df.info()"
   ]
  },
  {
   "cell_type": "code",
   "execution_count": 13,
   "metadata": {},
   "outputs": [
    {
     "data": {
      "text/plain": [
       "<matplotlib.axes._subplots.AxesSubplot at 0x1d3a9e00a00>"
      ]
     },
     "execution_count": 13,
     "metadata": {},
     "output_type": "execute_result"
    },
    {
     "data": {
      "image/png": "[encoded data removed]",
      "text/plain": [
       "<Figure size 432x288 with 1 Axes>"
      ]
     },
     "metadata": {
      "needs_background": "light"
     },
     "output_type": "display_data"
    }
   ],
   "source": [
    "sns.distplot(df_double['label'],kde= False)"
   ]
  },
  {
   "cell_type": "code",
   "execution_count": 14,
   "metadata": {},
   "outputs": [],
   "source": [
    "target=df_double['label']\n",
    "data=df_double.drop(['label'], axis = 1)\n",
    "X_train,X_test,y_train,y_test = train_test_split(data,target ,random_state=0)"
   ]
  },
  {
   "cell_type": "code",
   "execution_count": 15,
   "metadata": {},
   "outputs": [
    {
     "data": {
      "text/plain": [
       "RandomForestClassifier()"
      ]
     },
     "execution_count": 15,
     "metadata": {},
     "output_type": "execute_result"
    }
   ],
   "source": [
    "rfc = RandomForestClassifier()\n",
    "rfc.fit(X_train,y_train)"
   ]
  },
  {
   "cell_type": "code",
   "execution_count": 16,
   "metadata": {},
   "outputs": [
    {
     "data": {
      "text/plain": [
       "array([0.00139299, 0.00131357, 0.00116356, 0.0011021 , 0.00110268,\n",
       "       0.00108852, 0.00118248, 0.00121087, 0.00128396, 0.00129018,\n",
       "       0.00134466, 0.00154607, 0.00138408, 0.00163033, 0.00163186,\n",
       "       0.00127562, 0.00134457, 0.0012061 , 0.00119805, 0.00129345,\n",
       "       0.00117985, 0.00127846, 0.00124688, 0.0012043 , 0.00100711,\n",
       "       0.00114627, 0.00118412, 0.00118752, 0.00134555, 0.00110459,\n",
       "       0.00107204, 0.00115725, 0.00109288, 0.00125746, 0.00122103,\n",
       "       0.00113551, 0.00130745, 0.00125161, 0.00130299, 0.0014951 ,\n",
       "       0.00138711, 0.0013473 , 0.00151753, 0.001361  , 0.00133921,\n",
       "       0.00115231, 0.00123707, 0.00093714, 0.00102804, 0.00109829,\n",
       "       0.0011756 , 0.00116647, 0.00112581, 0.001218  , 0.00117841,\n",
       "       0.00114861, 0.00117326, 0.00118073, 0.0011091 , 0.00105165,\n",
       "       0.00101836, 0.00120839, 0.0011258 , 0.00121815, 0.00123141,\n",
       "       0.00130179, 0.00121312, 0.00132697, 0.00140404, 0.00136578,\n",
       "       0.00137962, 0.00123141, 0.00128153, 0.00125344, 0.0012172 ,\n",
       "       0.00122844, 0.00119041, 0.0012052 , 0.0011828 , 0.00107614,\n",
       "       0.00112525, 0.00115224, 0.00108674, 0.00110344, 0.00134033,\n",
       "       0.00119032, 0.00112692, 0.00109475, 0.00106003, 0.00116866,\n",
       "       0.00119728, 0.00123262, 0.00118314, 0.00124715, 0.00129304,\n",
       "       0.00127843, 0.00129473, 0.00134217, 0.00145212, 0.00123052,\n",
       "       0.00117538, 0.00126166, 0.0011724 , 0.00121916, 0.00126317,\n",
       "       0.00120642, 0.00112824, 0.00107762, 0.00110727, 0.00099821,\n",
       "       0.00103721, 0.00101324, 0.00134061, 0.00112904, 0.00119143,\n",
       "       0.001131  , 0.00116573, 0.00123289, 0.00112557, 0.00115298,\n",
       "       0.0011735 , 0.00129579, 0.00119967, 0.00133555, 0.00120519,\n",
       "       0.00127037, 0.00132901, 0.00133786, 0.00130542, 0.00127321,\n",
       "       0.00145042, 0.00121288, 0.00115462, 0.00110581, 0.00116625,\n",
       "       0.00114566, 0.00124119, 0.00108176, 0.00113068, 0.00121479,\n",
       "       0.00109552, 0.00106178, 0.00108793, 0.00127083, 0.00124573,\n",
       "       0.00113535, 0.00119008, 0.0012023 , 0.00130993, 0.00118083,\n",
       "       0.00128244, 0.00129864, 0.00136078, 0.00136362, 0.00132751,\n",
       "       0.00126011, 0.00134014, 0.0012151 , 0.00121926, 0.00116576,\n",
       "       0.00113265, 0.00127372, 0.0010554 , 0.00114447, 0.0010838 ,\n",
       "       0.00118506, 0.00115324, 0.00106054, 0.0013089 , 0.00116719,\n",
       "       0.00120141, 0.00110396, 0.00115834, 0.00117663, 0.00105601,\n",
       "       0.00125164, 0.00123529, 0.00124341, 0.00127357, 0.0014    ,\n",
       "       0.00139989, 0.00144855, 0.00126369, 0.00127937, 0.00132132,\n",
       "       0.00121418, 0.00126789, 0.00126496, 0.00123683, 0.00111822,\n",
       "       0.00118469, 0.00103952, 0.00111687, 0.00112721, 0.0011099 ,\n",
       "       0.00108968, 0.00148668, 0.00123681, 0.00126971, 0.00109838,\n",
       "       0.00119856, 0.00114443, 0.00118017, 0.00121803, 0.00125052,\n",
       "       0.00134847, 0.00128886, 0.00148865, 0.00138689, 0.00136545,\n",
       "       0.00127744, 0.00131467, 0.00135637, 0.00137919, 0.00136195,\n",
       "       0.00121159, 0.00110942, 0.0012013 , 0.00113326, 0.00119084,\n",
       "       0.00107813, 0.00112912, 0.0013888 , 0.00131508, 0.00129548,\n",
       "       0.00133334, 0.00133729, 0.001196  , 0.00117414, 0.00116215,\n",
       "       0.00123822, 0.00116428, 0.0011703 , 0.00120033, 0.00132394,\n",
       "       0.00141245, 0.00135072, 0.00137636, 0.00144491, 0.00133421,\n",
       "       0.00122865, 0.001266  , 0.00139373, 0.00112834, 0.0012089 ,\n",
       "       0.00115391, 0.00123678, 0.00126047, 0.00120407, 0.00120983,\n",
       "       0.00141664, 0.00115104, 0.00165825, 0.00137532, 0.00144966,\n",
       "       0.00122716, 0.00127327, 0.00119463, 0.00125588, 0.0011258 ,\n",
       "       0.00124563, 0.00132108, 0.00130573, 0.00138214, 0.00128367,\n",
       "       0.00143236, 0.00148988, 0.00141074, 0.00140221, 0.00132339,\n",
       "       0.0011405 , 0.00132114, 0.00119441, 0.00127027, 0.00119439,\n",
       "       0.00117422, 0.00131695, 0.00148919, 0.00138001, 0.0012012 ,\n",
       "       0.0015555 , 0.00157438, 0.00123829, 0.00122061, 0.00118335,\n",
       "       0.00125092, 0.00119626, 0.0011852 , 0.00127334, 0.00132749,\n",
       "       0.00138694, 0.00128179, 0.00146427, 0.00137751, 0.00147678,\n",
       "       0.00140331, 0.00131459, 0.00129622, 0.00121504, 0.00114638,\n",
       "       0.00115602, 0.00111941, 0.00121708, 0.00124978, 0.00135716,\n",
       "       0.001159  , 0.0017171 , 0.00143452, 0.00151179, 0.00135507,\n",
       "       0.00120218, 0.00137451, 0.00119531, 0.00116712, 0.00115507,\n",
       "       0.00130783, 0.00131951, 0.00144646, 0.00137512, 0.00152036,\n",
       "       0.00146188, 0.00136906, 0.00140897, 0.00153974, 0.00141705,\n",
       "       0.00131187, 0.00131103, 0.00127726, 0.00121908, 0.00118816,\n",
       "       0.00104789, 0.00126038, 0.00118311, 0.00145726, 0.00159868,\n",
       "       0.00122554, 0.00137801, 0.00142209, 0.00143144, 0.00137884,\n",
       "       0.0013152 , 0.00139504, 0.00114372, 0.00120779, 0.00129642,\n",
       "       0.00137613, 0.00142199, 0.00141922, 0.00140363, 0.00169831,\n",
       "       0.00191927, 0.00131198, 0.00150005, 0.00127618, 0.00139581,\n",
       "       0.00127455, 0.00129477, 0.00123256, 0.00131796, 0.00138049,\n",
       "       0.00129088, 0.00183598, 0.00155519, 0.00129326, 0.00145187,\n",
       "       0.00158883, 0.0012941 , 0.00124147, 0.00120559, 0.00112532,\n",
       "       0.00118643, 0.00130874, 0.00124909, 0.00121036, 0.0013041 ,\n",
       "       0.00132011, 0.00148321, 0.0018002 , 0.00165644, 0.00143472,\n",
       "       0.00143361, 0.00135004, 0.00128933, 0.00118887, 0.00120249,\n",
       "       0.00127344, 0.00133436, 0.00123222, 0.00134083, 0.00143068,\n",
       "       0.00176122, 0.00145869, 0.00186674, 0.00179618, 0.00151961,\n",
       "       0.00142148, 0.00124746, 0.00120111, 0.00126927, 0.00115004,\n",
       "       0.0012252 , 0.001329  , 0.00137416, 0.00135746, 0.00140022,\n",
       "       0.00168091, 0.0016405 , 0.00131616, 0.00142959, 0.00128663,\n",
       "       0.00125315, 0.00118302, 0.00137213, 0.00118446, 0.00122485,\n",
       "       0.00126836, 0.00124905, 0.00126005, 0.00145565, 0.00146453,\n",
       "       0.00123811, 0.00162184, 0.00145943, 0.00124847, 0.00125753,\n",
       "       0.00123229, 0.00113372, 0.00126863, 0.00127211, 0.00133238,\n",
       "       0.00119644, 0.00145186, 0.00145912, 0.00169254, 0.00161931,\n",
       "       0.00147   , 0.00124814, 0.00134409, 0.00124756, 0.00130616,\n",
       "       0.00121168, 0.00110576, 0.00119493, 0.00127791, 0.0012326 ,\n",
       "       0.00159229, 0.00149337, 0.00135592, 0.00136531, 0.00138514,\n",
       "       0.00120048, 0.00138681, 0.00117919, 0.00128271, 0.00110476,\n",
       "       0.00128008, 0.00119232, 0.00128822, 0.00140055, 0.00135605,\n",
       "       0.00164634, 0.00162175, 0.00162535, 0.0014584 , 0.00124295,\n",
       "       0.00131929, 0.00125923, 0.00142289, 0.00112186, 0.00114591,\n",
       "       0.001381  , 0.00127388, 0.00119741, 0.0011999 , 0.00144975,\n",
       "       0.0013717 , 0.00127893, 0.0015304 , 0.00138131, 0.00128716,\n",
       "       0.00118904, 0.00114658, 0.0013096 , 0.00129149, 0.00125085,\n",
       "       0.00135015, 0.0014279 , 0.00135169, 0.00145398, 0.00145514,\n",
       "       0.0014275 , 0.00155   , 0.00136035, 0.00137405, 0.00132488,\n",
       "       0.00140788, 0.00120938, 0.00133392, 0.00120844, 0.00114547,\n",
       "       0.00119062, 0.00141573, 0.00157102, 0.00142923, 0.00121731,\n",
       "       0.00142682, 0.00140829, 0.0011481 , 0.00127797, 0.00122372,\n",
       "       0.00123523, 0.00125023, 0.00116314, 0.00119941, 0.00128785,\n",
       "       0.00126719, 0.00136606, 0.0014422 , 0.0014064 , 0.0014951 ,\n",
       "       0.00138011, 0.00123128, 0.00129331, 0.00137009, 0.00120606,\n",
       "       0.00114682, 0.0012332 , 0.00125806, 0.00128601, 0.00143246,\n",
       "       0.00163889, 0.00145608, 0.00123782, 0.00121789, 0.00119025,\n",
       "       0.0011704 , 0.00133581, 0.00121004, 0.00116295, 0.00116898,\n",
       "       0.00121378, 0.00128528, 0.00120073, 0.00137828, 0.00126224,\n",
       "       0.00136277, 0.0013388 , 0.00145697, 0.00142508, 0.00135795,\n",
       "       0.00126559, 0.00127607, 0.0012394 , 0.00129732, 0.00113838,\n",
       "       0.00129431, 0.00132372, 0.00137054, 0.00138585, 0.00169458,\n",
       "       0.00140516, 0.00129755, 0.00104677, 0.00112592, 0.00135789,\n",
       "       0.00120685, 0.00106326, 0.0012059 , 0.00116834, 0.00122677,\n",
       "       0.00127181, 0.00131326, 0.00134333, 0.00136395, 0.00151117,\n",
       "       0.00140126, 0.00132858, 0.00129159, 0.00119941, 0.00116791,\n",
       "       0.00115734, 0.00120494, 0.00109016, 0.00119   , 0.00129413,\n",
       "       0.00127245, 0.00122721, 0.00136005, 0.00113411, 0.00111739,\n",
       "       0.00113102, 0.00117313, 0.00116274, 0.00117622, 0.00110516,\n",
       "       0.00121296, 0.00115789, 0.00124611, 0.00130382, 0.00124298,\n",
       "       0.00146972, 0.00131326, 0.00150082, 0.0015513 , 0.00138196,\n",
       "       0.00125577, 0.00132868, 0.00136001, 0.0012099 , 0.00127542,\n",
       "       0.00106757, 0.00115715, 0.0011727 , 0.00121928, 0.00123616,\n",
       "       0.00120806, 0.00115237, 0.00106522, 0.00104301, 0.00115927,\n",
       "       0.00110849, 0.00114155, 0.00110604, 0.00129553, 0.00121904,\n",
       "       0.0012043 , 0.00136989, 0.00134135, 0.00139095, 0.00127509,\n",
       "       0.00149672, 0.00144032, 0.00136825, 0.00118655, 0.00128072,\n",
       "       0.00125561, 0.00111406, 0.00121568, 0.00116915, 0.00114242,\n",
       "       0.0010681 , 0.00125255, 0.0013769 , 0.00146305, 0.00126605,\n",
       "       0.00119884, 0.00110253, 0.00117036, 0.00113176, 0.0010779 ,\n",
       "       0.00108833, 0.00118969, 0.00119416, 0.00109685, 0.00129385,\n",
       "       0.00130408, 0.00131671, 0.00147804, 0.00134578, 0.00139788,\n",
       "       0.00135909, 0.00132023, 0.00127498, 0.0012179 , 0.00112744,\n",
       "       0.0011005 , 0.00118487, 0.00118959, 0.00106662, 0.00116748,\n",
       "       0.00125083, 0.00148742, 0.00118276, 0.00115833, 0.00107485,\n",
       "       0.00105441, 0.001208  , 0.00116771, 0.00106048, 0.00110651,\n",
       "       0.00113826, 0.0012617 , 0.00119432, 0.00135655, 0.00125478,\n",
       "       0.00136727, 0.00142054, 0.00135911, 0.00133427, 0.00128916,\n",
       "       0.00117361, 0.00120394, 0.00122422, 0.00107237, 0.00112839,\n",
       "       0.00121873, 0.00106767, 0.00113113, 0.00124386, 0.00121703,\n",
       "       0.00122357, 0.00113613, 0.00113568, 0.00120018, 0.00110876,\n",
       "       0.00121896, 0.00110402, 0.00126131, 0.00110928, 0.00116281,\n",
       "       0.00123638, 0.0012851 , 0.00134988, 0.00142595, 0.00141911,\n",
       "       0.00138523, 0.0012692 , 0.00136309, 0.00127668, 0.00121091,\n",
       "       0.00124295, 0.00126864, 0.00113849, 0.00112119, 0.00116214,\n",
       "       0.00118309, 0.00122429, 0.00122369, 0.00125428, 0.00123966,\n",
       "       0.00099262, 0.00117236, 0.00119108, 0.00119955, 0.00107501,\n",
       "       0.00113347, 0.0012253 , 0.00117857, 0.00119782, 0.00128523,\n",
       "       0.00135964, 0.00122514, 0.00152166, 0.00131869, 0.00137941,\n",
       "       0.00137292, 0.00147463, 0.00147935, 0.00117663, 0.00115668,\n",
       "       0.00112645, 0.00121643, 0.00113739, 0.001105  , 0.00112082,\n",
       "       0.00119176, 0.0011423 , 0.0011875 , 0.00120219, 0.00117551,\n",
       "       0.00124598, 0.00115871, 0.00113753, 0.00130176, 0.00127827,\n",
       "       0.00137081, 0.00125543, 0.00135371, 0.00146688, 0.00153521,\n",
       "       0.00194916, 0.00169093, 0.00148102, 0.0015782 , 0.00142941,\n",
       "       0.00140285, 0.00125133, 0.00127291, 0.00116644, 0.00108879,\n",
       "       0.00107607, 0.00126305, 0.00126217, 0.00136761])"
      ]
     },
     "execution_count": 16,
     "metadata": {},
     "output_type": "execute_result"
    }
   ],
   "source": [
    "rfc.feature_importances_"
   ]
  },
  {
   "cell_type": "code",
   "execution_count": 17,
   "metadata": {},
   "outputs": [],
   "source": [
    "def plot_instance(data):\n",
    "    image = data.reshape(28, 28)\n",
    "    plt.imshow(image, cmap = plt.cm.hot,\n",
    "               interpolation=\"nearest\")\n",
    "    plt.axis(\"off\")"
   ]
  },
  {
   "cell_type": "code",
   "execution_count": 18,
   "metadata": {},
   "outputs": [
    {
     "data": {
      "image/png": "[encoded data removed]",
      "text/plain": [
       "<Figure size 1440x720 with 2 Axes>"
      ]
     },
     "metadata": {
      "needs_background": "light"
     },
     "output_type": "display_data"
    }
   ],
   "source": [
    "plt.figure(figsize=(20, 10))\n",
    "plot_instance(rfc.feature_importances_)\n",
    "cbar = plt.colorbar(ticks=[rfc.feature_importances_.min(), rfc.feature_importances_.max()])\n",
    "cbar.ax.set_yticklabels(['Not important', 'Very important'])\n",
    "plt.show()"
   ]
  },
  {
   "cell_type": "code",
   "execution_count": 19,
   "metadata": {},
   "outputs": [],
   "source": [
    "sc= StandardScaler()"
   ]
  },
  {
   "cell_type": "code",
   "execution_count": 20,
   "metadata": {},
   "outputs": [],
   "source": [
    "scaled_train = sc.fit_transform(X_train)"
   ]
  },
  {
   "cell_type": "code",
   "execution_count": 21,
   "metadata": {},
   "outputs": [],
   "source": [
    "scaled_test = sc.transform(X_test)"
   ]
  },
  {
   "cell_type": "code",
   "execution_count": 22,
   "metadata": {},
   "outputs": [
    {
     "data": {
      "text/plain": [
       "RandomForestClassifier()"
      ]
     },
     "execution_count": 22,
     "metadata": {},
     "output_type": "execute_result"
    }
   ],
   "source": [
    "rfc = RandomForestClassifier()\n",
    "rfc.fit(scaled_train,y_train)\n",
    "rfc"
   ]
  },
  {
   "cell_type": "code",
   "execution_count": 23,
   "metadata": {},
   "outputs": [],
   "source": [
    "y_pred = rfc.predict(scaled_test)"
   ]
  },
  {
   "cell_type": "code",
   "execution_count": 24,
   "metadata": {},
   "outputs": [
    {
     "name": "stdout",
     "output_type": "stream",
     "text": [
      "              precision    recall  f1-score   support\n",
      "\n",
      "           0       0.61      0.65      0.63      6248\n",
      "           1       0.62      0.58      0.60      6252\n",
      "\n",
      "    accuracy                           0.61     12500\n",
      "   macro avg       0.62      0.61      0.61     12500\n",
      "weighted avg       0.62      0.61      0.61     12500\n",
      "\n"
     ]
    }
   ],
   "source": [
    "print (classification_report(y_test,y_pred))"
   ]
  },
  {
   "cell_type": "code",
   "execution_count": 25,
   "metadata": {},
   "outputs": [
    {
     "data": {
      "text/plain": [
       "Text(33.0, 0.5, 'Actual')"
      ]
     },
     "execution_count": 25,
     "metadata": {},
     "output_type": "execute_result"
    },
    {
     "data": {
      "image/png": "[encoded data removed]",
      "text/plain": [
       "<Figure size 432x288 with 2 Axes>"
      ]
     },
     "metadata": {
      "needs_background": "light"
     },
     "output_type": "display_data"
    }
   ],
   "source": [
    "cm = confusion_matrix(y_test,y_pred)\n",
    "sns.heatmap(cm,annot=True,annot_kws = {'size':15},fmt=\".1f\")\n",
    "plt.xlabel(\"Predict\")\n",
    "plt.ylabel(\"Actual\")"
   ]
  },
  {
   "cell_type": "code",
   "execution_count": 27,
   "metadata": {},
   "outputs": [],
   "source": [
    "pca = PCA()\n",
    "pca.fit(scaled_train)\n",
    "cumsum = np.cumsum(pca.explained_variance_ratio_)\n",
    "d = np.argmax(cumsum >= 0.9) + 1"
   ]
  },
  {
   "cell_type": "code",
   "execution_count": 28,
   "metadata": {},
   "outputs": [
    {
     "data": {
      "image/png": "[encoded data removed]",
      "text/plain": [
       "<Figure size 720x288 with 1 Axes>"
      ]
     },
     "metadata": {
      "needs_background": "light"
     },
     "output_type": "display_data"
    }
   ],
   "source": [
    "plt.figure(figsize=(10,4))\n",
    "plt.plot(cumsum, linewidth=3)\n",
    "plt.axis([0, 400, 0, 1])\n",
    "plt.xlabel(\"Dimensions\")\n",
    "plt.ylabel(\"Explained Variance\")\n",
    "plt.plot([d, d], [0, 0.9], \"k:\")\n",
    "plt.plot([0, d], [0.9, 0.9], \"k:\")\n",
    "plt.plot(d, 0.9, \"ko\")\n",
    "plt.grid(True)\n",
    "plt.show()"
   ]
  },
  {
   "cell_type": "code",
   "execution_count": 29,
   "metadata": {},
   "outputs": [],
   "source": [
    "knn = KNeighborsClassifier()\n",
    "dtc = DecisionTreeClassifier()\n",
    "rfc = RandomForestClassifier()\n",
    "pca = PCA(n_components=0.9)"
   ]
  },
  {
   "cell_type": "code",
   "execution_count": 30,
   "metadata": {},
   "outputs": [],
   "source": [
    "redueced_train = pca.fit_transform(scaled_train)"
   ]
  },
  {
   "cell_type": "code",
   "execution_count": 31,
   "metadata": {},
   "outputs": [
    {
     "data": {
      "text/plain": [
       "(37500, 218)"
      ]
     },
     "execution_count": 31,
     "metadata": {},
     "output_type": "execute_result"
    }
   ],
   "source": [
    "redueced_train.shape"
   ]
  },
  {
   "cell_type": "code",
   "execution_count": 32,
   "metadata": {},
   "outputs": [
    {
     "data": {
      "text/plain": [
       "(12500, 218)"
      ]
     },
     "execution_count": 32,
     "metadata": {},
     "output_type": "execute_result"
    }
   ],
   "source": [
    "X_test_reduced = pca.transform(scaled_test)\n",
    "X_test_reduced.shape"
   ]
  },
  {
   "cell_type": "code",
   "execution_count": 33,
   "metadata": {},
   "outputs": [],
   "source": [
    "pipe_knn = Pipeline(steps=[('sc',sc),('pca', pca), ('knn', knn)])"
   ]
  },
  {
   "cell_type": "code",
   "execution_count": 34,
   "metadata": {},
   "outputs": [],
   "source": [
    "pipe_dtc = Pipeline(steps=[('sc',sc),('pca', pca), ('dtc', dtc)])"
   ]
  },
  {
   "cell_type": "code",
   "execution_count": 35,
   "metadata": {},
   "outputs": [],
   "source": [
    "pipe_rfc = Pipeline(steps=[('sc',sc),('pca', pca), ('rfc', rfc)])"
   ]
  },
  {
   "cell_type": "code",
   "execution_count": 36,
   "metadata": {},
   "outputs": [],
   "source": [
    "param_knn = {\n",
    "    'knn__n_neighbors': list(range(2,11,2)),\n",
    "    'knn__weights': ['uniform','distance']  \n",
    "}"
   ]
  },
  {
   "cell_type": "code",
   "execution_count": 37,
   "metadata": {},
   "outputs": [],
   "source": [
    "path = dtc.cost_complexity_pruning_path(redueced_train,y_train)\n",
    "alphas = path.ccp_alphas"
   ]
  },
  {
   "cell_type": "code",
   "execution_count": 38,
   "metadata": {},
   "outputs": [],
   "source": [
    "param_dtc = {'dtc__ccp_alpha':alphas}"
   ]
  },
  {
   "cell_type": "code",
   "execution_count": 39,
   "metadata": {},
   "outputs": [],
   "source": [
    "param_rfc = {'rfc__n_estimators':[100,200,300,400,500],\n",
    "    'rfc__max_depth' : list(range(2,21,2))}"
   ]
  },
  {
   "cell_type": "code",
   "execution_count": 40,
   "metadata": {},
   "outputs": [],
   "source": [
    "grid_knn = RandomizedSearchCV(pipe_knn,param_knn,scoring='accuracy')\n",
    "grid_dtc = RandomizedSearchCV(pipe_dtc,param_dtc,scoring='accuracy')\n",
    "grid_rfc = RandomizedSearchCV(pipe_rfc,param_rfc,scoring='accuracy')"
   ]
  },
  {
   "cell_type": "code",
   "execution_count": 41,
   "metadata": {},
   "outputs": [
    {
     "data": {
      "text/plain": [
       "RandomizedSearchCV(estimator=Pipeline(steps=[('sc', StandardScaler()),\n",
       "                                             ('pca', PCA(n_components=0.9)),\n",
       "                                             ('knn', KNeighborsClassifier())]),\n",
       "                   param_distributions={'knn__n_neighbors': [2, 4, 6, 8, 10],\n",
       "                                        'knn__weights': ['uniform',\n",
       "                                                         'distance']},\n",
       "                   scoring='accuracy')"
      ]
     },
     "execution_count": 41,
     "metadata": {},
     "output_type": "execute_result"
    }
   ],
   "source": [
    "grid_knn.fit(data,target)"
   ]
  },
  {
   "cell_type": "code",
   "execution_count": 43,
   "metadata": {},
   "outputs": [
    {
     "data": {
      "text/plain": [
       "RandomizedSearchCV(estimator=Pipeline(steps=[('sc', StandardScaler()),\n",
       "                                             ('pca', PCA(n_components=0.9)),\n",
       "                                             ('dtc',\n",
       "                                              DecisionTreeClassifier())]),\n",
       "                   param_distributions={'dtc__ccp_alpha': array([0.00000000e+00, 2.50980392e-05, 2.55555556e-05, ...,\n",
       "       2.59600691e-03, 3.53704040e-03, 4.20015100e-03])},\n",
       "                   scoring='accuracy')"
      ]
     },
     "execution_count": 43,
     "metadata": {},
     "output_type": "execute_result"
    }
   ],
   "source": [
    "grid_dtc.fit(data,target)"
   ]
  },
  {
   "cell_type": "code",
   "execution_count": 46,
   "metadata": {},
   "outputs": [
    {
     "data": {
      "text/plain": [
       "RandomizedSearchCV(estimator=Pipeline(steps=[('sc', StandardScaler()),\n",
       "                                             ('pca', PCA(n_components=0.9)),\n",
       "                                             ('rfc',\n",
       "                                              RandomForestClassifier())]),\n",
       "                   param_distributions={'rfc__max_depth': [2, 4, 6, 8, 10, 12,\n",
       "                                                           14, 16, 18, 20],\n",
       "                                        'rfc__n_estimators': [100, 200, 300,\n",
       "                                                              400, 500]},\n",
       "                   scoring='accuracy')"
      ]
     },
     "execution_count": 46,
     "metadata": {},
     "output_type": "execute_result"
    }
   ],
   "source": [
    "grid_rfc.fit(data,target)"
   ]
  },
  {
   "cell_type": "code",
   "execution_count": 42,
   "metadata": {},
   "outputs": [
    {
     "name": "stdout",
     "output_type": "stream",
     "text": [
      "{'knn__weights': 'distance', 'knn__n_neighbors': 10}\n",
      "0.5575\n"
     ]
    }
   ],
   "source": [
    "print(grid_knn.best_params_)\n",
    "print(grid_knn.best_score_)"
   ]
  },
  {
   "cell_type": "code",
   "execution_count": 45,
   "metadata": {},
   "outputs": [
    {
     "name": "stdout",
     "output_type": "stream",
     "text": [
      "{'dtc__ccp_alpha': 0.00017438830251765354}\n",
      "0.5699799999999999\n"
     ]
    }
   ],
   "source": [
    "print(grid_dtc.best_params_)\n",
    "print(grid_dtc.best_score_)"
   ]
  },
  {
   "cell_type": "code",
   "execution_count": 47,
   "metadata": {},
   "outputs": [
    {
     "name": "stdout",
     "output_type": "stream",
     "text": [
      "{'rfc__n_estimators': 500, 'rfc__max_depth': 18}\n",
      "0.62934\n"
     ]
    }
   ],
   "source": [
    "print(grid_rfc.best_params_)\n",
    "print(grid_rfc.best_score_)"
   ]
  },
  {
   "cell_type": "code",
   "execution_count": null,
   "metadata": {},
   "outputs": [],
   "source": []
  },
  {
   "cell_type": "code",
   "execution_count": 48,
   "metadata": {},
   "outputs": [],
   "source": [
    "vot = VotingClassifier(estimators=[('dtc', grid_dtc.best_estimator_), ('knn', grid_knn.best_estimator_), ('rfc', grid_rfc.best_estimator_)],\n",
    "voting='soft')"
   ]
  },
  {
   "cell_type": "code",
   "execution_count": 49,
   "metadata": {},
   "outputs": [
    {
     "data": {
      "text/plain": [
       "0.5915"
      ]
     },
     "execution_count": 49,
     "metadata": {},
     "output_type": "execute_result"
    }
   ],
   "source": [
    "cross_val_score(vot,data,target,scoring='accuracy').mean()"
   ]
  },
  {
   "cell_type": "code",
   "execution_count": null,
   "metadata": {},
   "outputs": [],
   "source": []
  },
  {
   "cell_type": "code",
   "execution_count": 50,
   "metadata": {},
   "outputs": [],
   "source": [
    "xg = XGBClassifier(use_label_encoder=False,eval_metric= 'mlogloss')"
   ]
  },
  {
   "cell_type": "code",
   "execution_count": 51,
   "metadata": {},
   "outputs": [],
   "source": [
    "pipe_xg = Pipeline(steps=[('sc',sc),('pca', pca), ('xg', xg)])"
   ]
  },
  {
   "cell_type": "code",
   "execution_count": 52,
   "metadata": {},
   "outputs": [
    {
     "data": {
      "text/plain": [
       "0.6282599999999999"
      ]
     },
     "execution_count": 52,
     "metadata": {},
     "output_type": "execute_result"
    }
   ],
   "source": [
    "cross_val_score(pipe_xg,data,target,scoring='accuracy').mean()"
   ]
  },
  {
   "cell_type": "code",
   "execution_count": null,
   "metadata": {},
   "outputs": [],
   "source": []
  },
  {
   "cell_type": "code",
   "execution_count": 53,
   "metadata": {},
   "outputs": [],
   "source": [
    "vot2 = VotingClassifier(estimators=[('pipe_xg', pipe_xg), ('rfc', grid_rfc.best_estimator_)],\n",
    "voting='soft')"
   ]
  },
  {
   "cell_type": "code",
   "execution_count": 54,
   "metadata": {},
   "outputs": [
    {
     "data": {
      "text/plain": [
       "0.6355999999999999"
      ]
     },
     "execution_count": 54,
     "metadata": {},
     "output_type": "execute_result"
    }
   ],
   "source": [
    "cross_val_score(vot2,data,target,scoring='accuracy').mean()"
   ]
  },
  {
   "cell_type": "code",
   "execution_count": null,
   "metadata": {},
   "outputs": [],
   "source": []
  },
  {
   "cell_type": "code",
   "execution_count": 64,
   "metadata": {},
   "outputs": [],
   "source": [
    "rfc = RandomForestClassifier(n_estimators=500,max_depth=18)\n",
    "pipe_rfc = Pipeline(steps=[('sc',sc),('pca', pca), ('rfc', rfc)])"
   ]
  },
  {
   "cell_type": "code",
   "execution_count": 65,
   "metadata": {},
   "outputs": [],
   "source": [
    "stc = StackingClassifier(estimators=[('xg', pipe_xg), ('rfc', pipe_rfc)])"
   ]
  },
  {
   "cell_type": "code",
   "execution_count": null,
   "metadata": {},
   "outputs": [],
   "source": [
    "cross_val_score(stc,data,target,scoring='accuracy').mean()"
   ]
  },
  {
   "cell_type": "code",
   "execution_count": null,
   "metadata": {},
   "outputs": [],
   "source": []
  },
  {
   "cell_type": "code",
   "execution_count": 25,
   "metadata": {},
   "outputs": [],
   "source": [
    "knn = KNeighborsClassifier(n_neighbors=10,weights='distance')\n",
    "dtc = DecisionTreeClassifier(ccp_alpha= 0.0003748628587666933)\n",
    "rfc = RandomForestClassifier(n_estimators=500,max_depth=14)\n",
    "pipe_rfc = Pipeline(steps=[('sc',sc),('pca', pca), ('rfc', rfc)])\n",
    "pipe_knn = Pipeline(steps=[('sc',sc),('pca', pca), ('knn', knn)])\n",
    "pipe_dtc = Pipeline(steps=[('sc',sc),('pca', pca), ('dtc', dtc)])"
   ]
  },
  {
   "cell_type": "code",
   "execution_count": 26,
   "metadata": {},
   "outputs": [],
   "source": [
    "stc2 = StackingClassifier(estimators=[('xg', pipe_xg), ('rfc', pipe_rfc),('knn', knn),('dtc', dtc)])"
   ]
  },
  {
   "cell_type": "code",
   "execution_count": 27,
   "metadata": {},
   "outputs": [
    {
     "data": {
      "text/plain": [
       "0.6463599999999999"
      ]
     },
     "execution_count": 27,
     "metadata": {},
     "output_type": "execute_result"
    }
   ],
   "source": [
    "cross_val_score(stc2,data,target,scoring='accuracy').mean()"
   ]
  },
  {
   "cell_type": "code",
   "execution_count": null,
   "metadata": {},
   "outputs": [],
   "source": []
  },
  {
   "cell_type": "code",
   "execution_count": null,
   "metadata": {},
   "outputs": [],
   "source": [
    "knn = KNeighborsClassifier(n_neighbors=10,weights='distance')\n",
    "dtc = DecisionTreeClassifier(ccp_alpha= 0.0003748628587666933)\n",
    "rfc = RandomForestClassifier(n_estimators=500,max_depth=14)"
   ]
  },
  {
   "cell_type": "code",
   "execution_count": null,
   "metadata": {},
   "outputs": [],
   "source": []
  },
  {
   "cell_type": "code",
   "execution_count": null,
   "metadata": {},
   "outputs": [],
   "source": []
  },
  {
   "cell_type": "code",
   "execution_count": 61,
   "metadata": {
    "scrolled": true
   },
   "outputs": [
    {
     "data": {
      "text/plain": [
       "array([[173, 187, 197, 204, 209, 215, 184, 165, 143,  96, 117, 225, 231,\n",
       "        231, 229, 229, 229, 222, 222, 222, 222, 223, 224, 226, 228, 227,\n",
       "        222, 211],\n",
       "       [174, 182, 191, 202, 207, 213, 223, 160, 138, 100, 151, 190, 229,\n",
       "        231, 229, 229, 229, 222, 223, 180, 222, 223, 224, 226, 230, 232,\n",
       "        220, 217],\n",
       "       [173, 181, 183, 200, 204, 210, 220, 202, 145, 155, 151, 143, 220,\n",
       "        229, 229, 229, 229, 222, 212, 142, 222, 224, 226, 227, 231, 232,\n",
       "        223, 221],\n",
       "       [173, 179, 178, 195, 201, 206, 216, 225, 189, 146, 146, 160, 170,\n",
       "        229, 229, 229, 230, 222, 151, 142, 222, 223, 226, 227, 231, 233,\n",
       "        223, 221],\n",
       "       [167, 166, 167, 188, 198, 203, 209, 222, 228, 201, 131, 164, 178,\n",
       "        218, 228, 228, 229, 221, 139, 170, 220, 221, 226, 228, 231, 233,\n",
       "        221, 220],\n",
       "       [167, 177, 186, 192, 197, 200, 204, 215, 226, 227, 219, 164, 183,\n",
       "        204, 227, 227, 228, 220,  96, 167, 221, 221, 226, 227, 231, 232,\n",
       "        219, 220],\n",
       "       [165, 175, 186, 192, 194, 199, 199, 206, 218, 226, 227, 201, 180,\n",
       "        172, 226, 226, 227, 209,  98, 170, 219, 221, 226, 227, 230, 231,\n",
       "        219, 220],\n",
       "       [163, 174, 184, 192, 194, 197, 194, 198, 210, 224, 225, 177, 183,\n",
       "        175, 223, 224, 227,  93, 113, 173, 217, 219, 222, 226, 229, 229,\n",
       "        218, 219],\n",
       "       [164, 175, 182, 189, 193, 195, 192, 183, 186, 218, 188, 154, 160,\n",
       "        173, 217, 199, 173, 147, 115, 179, 214, 217, 222, 226, 227, 227,\n",
       "        217, 218],\n",
       "       [166, 175, 181, 187, 187, 192, 192, 187, 136, 127, 156, 123, 145,\n",
       "        158, 205, 191, 176, 150, 110, 186, 208, 215, 221, 223, 226, 227,\n",
       "        217, 216],\n",
       "       [167, 175, 179, 185, 187, 190, 193, 186, 137, 121, 123, 111, 145,\n",
       "        151, 141, 118, 129, 145, 112, 187, 206, 212, 219, 223, 226, 226,\n",
       "        216, 215],\n",
       "       [164, 175, 179, 184, 187, 191, 196, 189, 150, 114, 136, 135, 147,\n",
       "        171, 164, 125, 116, 145, 123, 183, 202, 211, 218, 221, 224, 224,\n",
       "        214, 214],\n",
       "       [164, 175, 181, 184, 187, 192, 196, 192, 143, 126, 145, 131, 100,\n",
       "        122, 150, 108, 121, 132, 120, 164, 191, 207, 216, 221, 224, 222,\n",
       "        213, 212],\n",
       "       [166, 175, 179, 183, 189, 194, 196, 198, 187, 138, 139, 124,  93,\n",
       "         91, 132, 115, 136, 140, 146, 158, 187, 205, 214, 219, 190, 158,\n",
       "        188, 199],\n",
       "       [168, 176, 129, 130, 128, 124, 122, 119, 114, 136, 133, 120,  85,\n",
       "        126, 161, 116, 150, 125, 125, 152, 183, 201, 213, 218, 196, 115,\n",
       "         95,  84],\n",
       "       [168, 149,  96,  96,  98,  99, 102, 104, 125,  74, 101, 110, 122,\n",
       "        130, 147,  91, 106, 141, 213, 130,  99, 109, 158, 194, 185, 134,\n",
       "        100,  75],\n",
       "       [166, 154,  90,  93,  94,  96,  99, 227, 187,  88, 123, 135, 134,\n",
       "        103,  73,  26, 166, 236, 206,  91, 101, 108, 113, 115,  94,  50,\n",
       "         74,  89],\n",
       "       [165, 155,  87,  88,  90,  91,  93, 112,  85,  44, 219, 226,  65,\n",
       "         52,  51,  37,  68,  98, 101,  95, 101, 108, 112, 112,  96,  71,\n",
       "         54,  42],\n",
       "       [162, 157,  83,  83,  84,  87,  89,  98,  90,  65,  80,  85,  54,\n",
       "         53,  58,  49,  63,  74,  80,  91, 100,  78,  88,  66,  49,  50,\n",
       "         63,  62],\n",
       "       [162, 160,  84,  81,  82,  83,  85,  90,  86,  67,  63,  62,  49,\n",
       "         53,  58,  56,  63,  69,  75,  50,  20,  26,  31,  37,  52,  54,\n",
       "         45,  46],\n",
       "       [159, 157,  93,  77,  78,  80,  82,  83,  80,  63,  54,  49,  45,\n",
       "         52,  62,  63,  66,  68,  71,  18,  24,  17,  17,  28,  31,  54,\n",
       "         51,  42],\n",
       "       [157, 156, 100,  71,  74,  79,  78,  78,  74,  60,  48,  45,  47,\n",
       "         55,  62,  68,  69,  72,  62,  19,  19,  23,  12,  12,  15,  44,\n",
       "         39,  38],\n",
       "       [154, 152, 103,  70,  68,  72,  72,  73,  66,  52,  45,  46,  47,\n",
       "         56,  65,  68,  69,  68,  48,  12,  20,  29,  31,  26,  16,  33,\n",
       "         29,  33],\n",
       "       [150, 149, 104,  63,  65,  66,  68,  68,  60,  49,  47,  47,  51,\n",
       "         63,  69,  68,  67,  65,  58,  19,  11,  19,  22,  20,  19,  25,\n",
       "         23,  27],\n",
       "       [146, 146, 110,  55,  61,  62,  63,  62,  54,  48,  44,  48,  53,\n",
       "         58,  63,  66,  66,  60,  46,  23,  16,  10,  14,  13,   9,  16,\n",
       "         17,  17],\n",
       "       [140, 143, 116,  50,  57,  58,  58,  55,  50,  45,  45,  50,  51,\n",
       "         58,  64,  63,  63,  56,  40,  15,  11,  10,  15,  21,  13,   7,\n",
       "         13,  10],\n",
       "       [135, 141, 122,  46,  54,  54,  52,  55,  51,  44,  46,  46,  53,\n",
       "         53,  59,  61,  59,  57,  43,  18,  30,  83,  93,  20,  11,   5,\n",
       "          6,   5],\n",
       "       [128, 135, 127,  53,  51,  48,  47,  46,  45,  44,  39,  45,  50,\n",
       "         53,  56,  61,  58,  53,  48,  28,   4,   9,  34,  28,   9,   2,\n",
       "          3,   3]], dtype=int64)"
      ]
     },
     "execution_count": 61,
     "metadata": {},
     "output_type": "execute_result"
    }
   ],
   "source": [
    "x= np.array(df.iloc[0]).reshape(28,28) \n",
    "x"
   ]
  },
  {
   "cell_type": "code",
   "execution_count": 63,
   "metadata": {},
   "outputs": [
    {
     "data": {
      "text/plain": [
       "<matplotlib.image.AxesImage at 0x1d388e7bd60>"
      ]
     },
     "execution_count": 63,
     "metadata": {},
     "output_type": "execute_result"
    },
    {
     "data": {
      "image/png": "[encoded data removed]",
      "text/plain": [
       "<Figure size 432x288 with 1 Axes>"
      ]
     },
     "metadata": {
      "needs_background": "light"
     },
     "output_type": "display_data"
    }
   ],
   "source": [
    "plt.imshow(np.flip(x,1))"
   ]
  },
  {
   "cell_type": "code",
   "execution_count": null,
   "metadata": {},
   "outputs": [],
   "source": []
  },
  {
   "cell_type": "code",
   "execution_count": null,
   "metadata": {},
   "outputs": [],
   "source": []
  },
  {
   "cell_type": "code",
   "execution_count": null,
   "metadata": {},
   "outputs": [],
   "source": []
  },
  {
   "cell_type": "markdown",
   "metadata": {},
   "source": [
    "# Second try"
   ]
  },
  {
   "cell_type": "code",
   "execution_count": 6,
   "metadata": {},
   "outputs": [],
   "source": [
    "train_data = []\n",
    "train_label = []\n",
    "for img in os.listdir(r'C:\\Users\\anitay\\Desktop\\Ors folder\\train'):\n",
    "    label = label_img(img)\n",
    "    path = os.path.join(r'C:\\Users\\anitay\\Desktop\\Ors folder\\train',img)\n",
    "    img = cv2.resize(cv2.imread(path),(50,50))\n",
    "    train_data.append(np.array(img).flatten())\n",
    "    train_label.append(label)"
   ]
  },
  {
   "cell_type": "code",
   "execution_count": 7,
   "metadata": {},
   "outputs": [
    {
     "data": {
      "text/html": [
       "<div>\n",
       "<style scoped>\n",
       "    .dataframe tbody tr th:only-of-type {\n",
       "        vertical-align: middle;\n",
       "    }\n",
       "\n",
       "    .dataframe tbody tr th {\n",
       "        vertical-align: top;\n",
       "    }\n",
       "\n",
       "    .dataframe thead th {\n",
       "        text-align: right;\n",
       "    }\n",
       "</style>\n",
       "<table border=\"1\" class=\"dataframe\">\n",
       "  <thead>\n",
       "    <tr style=\"text-align: right;\">\n",
       "      <th></th>\n",
       "      <th>pixel_0</th>\n",
       "      <th>pixel_1</th>\n",
       "      <th>pixel_2</th>\n",
       "      <th>pixel_3</th>\n",
       "      <th>pixel_4</th>\n",
       "      <th>pixel_5</th>\n",
       "      <th>pixel_6</th>\n",
       "      <th>pixel_7</th>\n",
       "      <th>pixel_8</th>\n",
       "      <th>pixel_9</th>\n",
       "      <th>...</th>\n",
       "      <th>pixel_7491</th>\n",
       "      <th>pixel_7492</th>\n",
       "      <th>pixel_7493</th>\n",
       "      <th>pixel_7494</th>\n",
       "      <th>pixel_7495</th>\n",
       "      <th>pixel_7496</th>\n",
       "      <th>pixel_7497</th>\n",
       "      <th>pixel_7498</th>\n",
       "      <th>pixel_7499</th>\n",
       "      <th>label</th>\n",
       "    </tr>\n",
       "  </thead>\n",
       "  <tbody>\n",
       "    <tr>\n",
       "      <th>0</th>\n",
       "      <td>92</td>\n",
       "      <td>169</td>\n",
       "      <td>208</td>\n",
       "      <td>100</td>\n",
       "      <td>177</td>\n",
       "      <td>216</td>\n",
       "      <td>104</td>\n",
       "      <td>182</td>\n",
       "      <td>225</td>\n",
       "      <td>110</td>\n",
       "      <td>...</td>\n",
       "      <td>0</td>\n",
       "      <td>2</td>\n",
       "      <td>2</td>\n",
       "      <td>0</td>\n",
       "      <td>2</td>\n",
       "      <td>2</td>\n",
       "      <td>0</td>\n",
       "      <td>2</td>\n",
       "      <td>2</td>\n",
       "      <td>0</td>\n",
       "    </tr>\n",
       "    <tr>\n",
       "      <th>1</th>\n",
       "      <td>43</td>\n",
       "      <td>43</td>\n",
       "      <td>39</td>\n",
       "      <td>64</td>\n",
       "      <td>58</td>\n",
       "      <td>55</td>\n",
       "      <td>36</td>\n",
       "      <td>40</td>\n",
       "      <td>35</td>\n",
       "      <td>44</td>\n",
       "      <td>...</td>\n",
       "      <td>47</td>\n",
       "      <td>53</td>\n",
       "      <td>70</td>\n",
       "      <td>52</td>\n",
       "      <td>57</td>\n",
       "      <td>75</td>\n",
       "      <td>20</td>\n",
       "      <td>26</td>\n",
       "      <td>39</td>\n",
       "      <td>0</td>\n",
       "    </tr>\n",
       "    <tr>\n",
       "      <th>2</th>\n",
       "      <td>53</td>\n",
       "      <td>45</td>\n",
       "      <td>38</td>\n",
       "      <td>61</td>\n",
       "      <td>47</td>\n",
       "      <td>41</td>\n",
       "      <td>64</td>\n",
       "      <td>54</td>\n",
       "      <td>47</td>\n",
       "      <td>69</td>\n",
       "      <td>...</td>\n",
       "      <td>52</td>\n",
       "      <td>150</td>\n",
       "      <td>165</td>\n",
       "      <td>2</td>\n",
       "      <td>183</td>\n",
       "      <td>185</td>\n",
       "      <td>10</td>\n",
       "      <td>183</td>\n",
       "      <td>187</td>\n",
       "      <td>0</td>\n",
       "    </tr>\n",
       "    <tr>\n",
       "      <th>3</th>\n",
       "      <td>217</td>\n",
       "      <td>222</td>\n",
       "      <td>221</td>\n",
       "      <td>220</td>\n",
       "      <td>225</td>\n",
       "      <td>224</td>\n",
       "      <td>237</td>\n",
       "      <td>235</td>\n",
       "      <td>235</td>\n",
       "      <td>239</td>\n",
       "      <td>...</td>\n",
       "      <td>208</td>\n",
       "      <td>210</td>\n",
       "      <td>210</td>\n",
       "      <td>218</td>\n",
       "      <td>220</td>\n",
       "      <td>219</td>\n",
       "      <td>207</td>\n",
       "      <td>212</td>\n",
       "      <td>215</td>\n",
       "      <td>0</td>\n",
       "    </tr>\n",
       "    <tr>\n",
       "      <th>4</th>\n",
       "      <td>72</td>\n",
       "      <td>109</td>\n",
       "      <td>137</td>\n",
       "      <td>83</td>\n",
       "      <td>120</td>\n",
       "      <td>148</td>\n",
       "      <td>48</td>\n",
       "      <td>87</td>\n",
       "      <td>115</td>\n",
       "      <td>90</td>\n",
       "      <td>...</td>\n",
       "      <td>82</td>\n",
       "      <td>105</td>\n",
       "      <td>120</td>\n",
       "      <td>59</td>\n",
       "      <td>91</td>\n",
       "      <td>102</td>\n",
       "      <td>64</td>\n",
       "      <td>90</td>\n",
       "      <td>102</td>\n",
       "      <td>0</td>\n",
       "    </tr>\n",
       "    <tr>\n",
       "      <th>...</th>\n",
       "      <td>...</td>\n",
       "      <td>...</td>\n",
       "      <td>...</td>\n",
       "      <td>...</td>\n",
       "      <td>...</td>\n",
       "      <td>...</td>\n",
       "      <td>...</td>\n",
       "      <td>...</td>\n",
       "      <td>...</td>\n",
       "      <td>...</td>\n",
       "      <td>...</td>\n",
       "      <td>...</td>\n",
       "      <td>...</td>\n",
       "      <td>...</td>\n",
       "      <td>...</td>\n",
       "      <td>...</td>\n",
       "      <td>...</td>\n",
       "      <td>...</td>\n",
       "      <td>...</td>\n",
       "      <td>...</td>\n",
       "      <td>...</td>\n",
       "    </tr>\n",
       "    <tr>\n",
       "      <th>24995</th>\n",
       "      <td>107</td>\n",
       "      <td>144</td>\n",
       "      <td>148</td>\n",
       "      <td>110</td>\n",
       "      <td>147</td>\n",
       "      <td>151</td>\n",
       "      <td>113</td>\n",
       "      <td>150</td>\n",
       "      <td>154</td>\n",
       "      <td>114</td>\n",
       "      <td>...</td>\n",
       "      <td>132</td>\n",
       "      <td>168</td>\n",
       "      <td>178</td>\n",
       "      <td>134</td>\n",
       "      <td>169</td>\n",
       "      <td>179</td>\n",
       "      <td>135</td>\n",
       "      <td>170</td>\n",
       "      <td>180</td>\n",
       "      <td>1</td>\n",
       "    </tr>\n",
       "    <tr>\n",
       "      <th>24996</th>\n",
       "      <td>53</td>\n",
       "      <td>81</td>\n",
       "      <td>111</td>\n",
       "      <td>63</td>\n",
       "      <td>88</td>\n",
       "      <td>114</td>\n",
       "      <td>44</td>\n",
       "      <td>76</td>\n",
       "      <td>95</td>\n",
       "      <td>43</td>\n",
       "      <td>...</td>\n",
       "      <td>50</td>\n",
       "      <td>76</td>\n",
       "      <td>99</td>\n",
       "      <td>66</td>\n",
       "      <td>97</td>\n",
       "      <td>118</td>\n",
       "      <td>37</td>\n",
       "      <td>64</td>\n",
       "      <td>85</td>\n",
       "      <td>1</td>\n",
       "    </tr>\n",
       "    <tr>\n",
       "      <th>24997</th>\n",
       "      <td>45</td>\n",
       "      <td>48</td>\n",
       "      <td>53</td>\n",
       "      <td>50</td>\n",
       "      <td>53</td>\n",
       "      <td>58</td>\n",
       "      <td>51</td>\n",
       "      <td>53</td>\n",
       "      <td>54</td>\n",
       "      <td>41</td>\n",
       "      <td>...</td>\n",
       "      <td>134</td>\n",
       "      <td>175</td>\n",
       "      <td>213</td>\n",
       "      <td>27</td>\n",
       "      <td>76</td>\n",
       "      <td>117</td>\n",
       "      <td>126</td>\n",
       "      <td>171</td>\n",
       "      <td>217</td>\n",
       "      <td>1</td>\n",
       "    </tr>\n",
       "    <tr>\n",
       "      <th>24998</th>\n",
       "      <td>253</td>\n",
       "      <td>252</td>\n",
       "      <td>253</td>\n",
       "      <td>229</td>\n",
       "      <td>230</td>\n",
       "      <td>253</td>\n",
       "      <td>175</td>\n",
       "      <td>189</td>\n",
       "      <td>235</td>\n",
       "      <td>92</td>\n",
       "      <td>...</td>\n",
       "      <td>98</td>\n",
       "      <td>98</td>\n",
       "      <td>114</td>\n",
       "      <td>97</td>\n",
       "      <td>95</td>\n",
       "      <td>110</td>\n",
       "      <td>107</td>\n",
       "      <td>107</td>\n",
       "      <td>121</td>\n",
       "      <td>1</td>\n",
       "    </tr>\n",
       "    <tr>\n",
       "      <th>24999</th>\n",
       "      <td>230</td>\n",
       "      <td>240</td>\n",
       "      <td>247</td>\n",
       "      <td>231</td>\n",
       "      <td>241</td>\n",
       "      <td>248</td>\n",
       "      <td>228</td>\n",
       "      <td>238</td>\n",
       "      <td>245</td>\n",
       "      <td>234</td>\n",
       "      <td>...</td>\n",
       "      <td>254</td>\n",
       "      <td>254</td>\n",
       "      <td>254</td>\n",
       "      <td>254</td>\n",
       "      <td>254</td>\n",
       "      <td>254</td>\n",
       "      <td>254</td>\n",
       "      <td>254</td>\n",
       "      <td>254</td>\n",
       "      <td>1</td>\n",
       "    </tr>\n",
       "  </tbody>\n",
       "</table>\n",
       "<p>25000 rows × 7501 columns</p>\n",
       "</div>"
      ],
      "text/plain": [
       "       pixel_0  pixel_1  pixel_2  pixel_3  pixel_4  pixel_5  pixel_6  pixel_7  \\\n",
       "0           92      169      208      100      177      216      104      182   \n",
       "1           43       43       39       64       58       55       36       40   \n",
       "2           53       45       38       61       47       41       64       54   \n",
       "3          217      222      221      220      225      224      237      235   \n",
       "4           72      109      137       83      120      148       48       87   \n",
       "...        ...      ...      ...      ...      ...      ...      ...      ...   \n",
       "24995      107      144      148      110      147      151      113      150   \n",
       "24996       53       81      111       63       88      114       44       76   \n",
       "24997       45       48       53       50       53       58       51       53   \n",
       "24998      253      252      253      229      230      253      175      189   \n",
       "24999      230      240      247      231      241      248      228      238   \n",
       "\n",
       "       pixel_8  pixel_9  ...  pixel_7491  pixel_7492  pixel_7493  pixel_7494  \\\n",
       "0          225      110  ...           0           2           2           0   \n",
       "1           35       44  ...          47          53          70          52   \n",
       "2           47       69  ...          52         150         165           2   \n",
       "3          235      239  ...         208         210         210         218   \n",
       "4          115       90  ...          82         105         120          59   \n",
       "...        ...      ...  ...         ...         ...         ...         ...   \n",
       "24995      154      114  ...         132         168         178         134   \n",
       "24996       95       43  ...          50          76          99          66   \n",
       "24997       54       41  ...         134         175         213          27   \n",
       "24998      235       92  ...          98          98         114          97   \n",
       "24999      245      234  ...         254         254         254         254   \n",
       "\n",
       "       pixel_7495  pixel_7496  pixel_7497  pixel_7498  pixel_7499  label  \n",
       "0               2           2           0           2           2      0  \n",
       "1              57          75          20          26          39      0  \n",
       "2             183         185          10         183         187      0  \n",
       "3             220         219         207         212         215      0  \n",
       "4              91         102          64          90         102      0  \n",
       "...           ...         ...         ...         ...         ...    ...  \n",
       "24995         169         179         135         170         180      1  \n",
       "24996          97         118          37          64          85      1  \n",
       "24997          76         117         126         171         217      1  \n",
       "24998          95         110         107         107         121      1  \n",
       "24999         254         254         254         254         254      1  \n",
       "\n",
       "[25000 rows x 7501 columns]"
      ]
     },
     "execution_count": 7,
     "metadata": {},
     "output_type": "execute_result"
    }
   ],
   "source": [
    "cols = []\n",
    "for i in range(7500):\n",
    "    cols.append(\"pixel_\"+str(i))\n",
    "df2 = pd.DataFrame(train_data,columns=cols)\n",
    "df2['label']=train_label\n",
    "df2"
   ]
  },
  {
   "cell_type": "code",
   "execution_count": null,
   "metadata": {},
   "outputs": [],
   "source": [
    "df2.to_csv(r'C:\\Users\\anitay\\Desktop\\Ors folder\\cnd.csv',index=False)"
   ]
  },
  {
   "cell_type": "code",
   "execution_count": 2,
   "metadata": {},
   "outputs": [],
   "source": [
    "df2 = pd.read_csv(r'C:\\Users\\anitay\\Desktop\\Ors folder\\cnd.csv')"
   ]
  },
  {
   "cell_type": "code",
   "execution_count": 3,
   "metadata": {},
   "outputs": [
    {
     "data": {
      "text/html": [
       "<div>\n",
       "<style scoped>\n",
       "    .dataframe tbody tr th:only-of-type {\n",
       "        vertical-align: middle;\n",
       "    }\n",
       "\n",
       "    .dataframe tbody tr th {\n",
       "        vertical-align: top;\n",
       "    }\n",
       "\n",
       "    .dataframe thead th {\n",
       "        text-align: right;\n",
       "    }\n",
       "</style>\n",
       "<table border=\"1\" class=\"dataframe\">\n",
       "  <thead>\n",
       "    <tr style=\"text-align: right;\">\n",
       "      <th></th>\n",
       "      <th>pixel_0</th>\n",
       "      <th>pixel_1</th>\n",
       "      <th>pixel_2</th>\n",
       "      <th>pixel_3</th>\n",
       "      <th>pixel_4</th>\n",
       "      <th>pixel_5</th>\n",
       "      <th>pixel_6</th>\n",
       "      <th>pixel_7</th>\n",
       "      <th>pixel_8</th>\n",
       "      <th>pixel_9</th>\n",
       "      <th>...</th>\n",
       "      <th>pixel_7491</th>\n",
       "      <th>pixel_7492</th>\n",
       "      <th>pixel_7493</th>\n",
       "      <th>pixel_7494</th>\n",
       "      <th>pixel_7495</th>\n",
       "      <th>pixel_7496</th>\n",
       "      <th>pixel_7497</th>\n",
       "      <th>pixel_7498</th>\n",
       "      <th>pixel_7499</th>\n",
       "      <th>label</th>\n",
       "    </tr>\n",
       "  </thead>\n",
       "  <tbody>\n",
       "    <tr>\n",
       "      <th>0</th>\n",
       "      <td>92</td>\n",
       "      <td>169</td>\n",
       "      <td>208</td>\n",
       "      <td>100</td>\n",
       "      <td>177</td>\n",
       "      <td>216</td>\n",
       "      <td>104</td>\n",
       "      <td>182</td>\n",
       "      <td>225</td>\n",
       "      <td>110</td>\n",
       "      <td>...</td>\n",
       "      <td>0</td>\n",
       "      <td>2</td>\n",
       "      <td>2</td>\n",
       "      <td>0</td>\n",
       "      <td>2</td>\n",
       "      <td>2</td>\n",
       "      <td>0</td>\n",
       "      <td>2</td>\n",
       "      <td>2</td>\n",
       "      <td>0</td>\n",
       "    </tr>\n",
       "    <tr>\n",
       "      <th>1</th>\n",
       "      <td>43</td>\n",
       "      <td>43</td>\n",
       "      <td>39</td>\n",
       "      <td>64</td>\n",
       "      <td>58</td>\n",
       "      <td>55</td>\n",
       "      <td>36</td>\n",
       "      <td>40</td>\n",
       "      <td>35</td>\n",
       "      <td>44</td>\n",
       "      <td>...</td>\n",
       "      <td>47</td>\n",
       "      <td>53</td>\n",
       "      <td>70</td>\n",
       "      <td>52</td>\n",
       "      <td>57</td>\n",
       "      <td>75</td>\n",
       "      <td>20</td>\n",
       "      <td>26</td>\n",
       "      <td>39</td>\n",
       "      <td>0</td>\n",
       "    </tr>\n",
       "    <tr>\n",
       "      <th>2</th>\n",
       "      <td>53</td>\n",
       "      <td>45</td>\n",
       "      <td>38</td>\n",
       "      <td>61</td>\n",
       "      <td>47</td>\n",
       "      <td>41</td>\n",
       "      <td>64</td>\n",
       "      <td>54</td>\n",
       "      <td>47</td>\n",
       "      <td>69</td>\n",
       "      <td>...</td>\n",
       "      <td>52</td>\n",
       "      <td>150</td>\n",
       "      <td>165</td>\n",
       "      <td>2</td>\n",
       "      <td>183</td>\n",
       "      <td>185</td>\n",
       "      <td>10</td>\n",
       "      <td>183</td>\n",
       "      <td>187</td>\n",
       "      <td>0</td>\n",
       "    </tr>\n",
       "    <tr>\n",
       "      <th>3</th>\n",
       "      <td>217</td>\n",
       "      <td>222</td>\n",
       "      <td>221</td>\n",
       "      <td>220</td>\n",
       "      <td>225</td>\n",
       "      <td>224</td>\n",
       "      <td>237</td>\n",
       "      <td>235</td>\n",
       "      <td>235</td>\n",
       "      <td>239</td>\n",
       "      <td>...</td>\n",
       "      <td>208</td>\n",
       "      <td>210</td>\n",
       "      <td>210</td>\n",
       "      <td>218</td>\n",
       "      <td>220</td>\n",
       "      <td>219</td>\n",
       "      <td>207</td>\n",
       "      <td>212</td>\n",
       "      <td>215</td>\n",
       "      <td>0</td>\n",
       "    </tr>\n",
       "    <tr>\n",
       "      <th>4</th>\n",
       "      <td>72</td>\n",
       "      <td>109</td>\n",
       "      <td>137</td>\n",
       "      <td>83</td>\n",
       "      <td>120</td>\n",
       "      <td>148</td>\n",
       "      <td>48</td>\n",
       "      <td>87</td>\n",
       "      <td>115</td>\n",
       "      <td>90</td>\n",
       "      <td>...</td>\n",
       "      <td>82</td>\n",
       "      <td>105</td>\n",
       "      <td>120</td>\n",
       "      <td>59</td>\n",
       "      <td>91</td>\n",
       "      <td>102</td>\n",
       "      <td>64</td>\n",
       "      <td>90</td>\n",
       "      <td>102</td>\n",
       "      <td>0</td>\n",
       "    </tr>\n",
       "  </tbody>\n",
       "</table>\n",
       "<p>5 rows × 7501 columns</p>\n",
       "</div>"
      ],
      "text/plain": [
       "   pixel_0  pixel_1  pixel_2  pixel_3  pixel_4  pixel_5  pixel_6  pixel_7  \\\n",
       "0       92      169      208      100      177      216      104      182   \n",
       "1       43       43       39       64       58       55       36       40   \n",
       "2       53       45       38       61       47       41       64       54   \n",
       "3      217      222      221      220      225      224      237      235   \n",
       "4       72      109      137       83      120      148       48       87   \n",
       "\n",
       "   pixel_8  pixel_9  ...  pixel_7491  pixel_7492  pixel_7493  pixel_7494  \\\n",
       "0      225      110  ...           0           2           2           0   \n",
       "1       35       44  ...          47          53          70          52   \n",
       "2       47       69  ...          52         150         165           2   \n",
       "3      235      239  ...         208         210         210         218   \n",
       "4      115       90  ...          82         105         120          59   \n",
       "\n",
       "   pixel_7495  pixel_7496  pixel_7497  pixel_7498  pixel_7499  label  \n",
       "0           2           2           0           2           2      0  \n",
       "1          57          75          20          26          39      0  \n",
       "2         183         185          10         183         187      0  \n",
       "3         220         219         207         212         215      0  \n",
       "4          91         102          64          90         102      0  \n",
       "\n",
       "[5 rows x 7501 columns]"
      ]
     },
     "execution_count": 3,
     "metadata": {},
     "output_type": "execute_result"
    }
   ],
   "source": [
    "df2.head()"
   ]
  },
  {
   "cell_type": "code",
   "execution_count": 4,
   "metadata": {},
   "outputs": [
    {
     "data": {
      "text/html": [
       "<div>\n",
       "<style scoped>\n",
       "    .dataframe tbody tr th:only-of-type {\n",
       "        vertical-align: middle;\n",
       "    }\n",
       "\n",
       "    .dataframe tbody tr th {\n",
       "        vertical-align: top;\n",
       "    }\n",
       "\n",
       "    .dataframe thead th {\n",
       "        text-align: right;\n",
       "    }\n",
       "</style>\n",
       "<table border=\"1\" class=\"dataframe\">\n",
       "  <thead>\n",
       "    <tr style=\"text-align: right;\">\n",
       "      <th></th>\n",
       "      <th>pixel_0</th>\n",
       "      <th>pixel_1</th>\n",
       "      <th>pixel_2</th>\n",
       "      <th>pixel_3</th>\n",
       "      <th>pixel_4</th>\n",
       "      <th>pixel_5</th>\n",
       "      <th>pixel_6</th>\n",
       "      <th>pixel_7</th>\n",
       "      <th>pixel_8</th>\n",
       "      <th>pixel_9</th>\n",
       "      <th>...</th>\n",
       "      <th>pixel_7491</th>\n",
       "      <th>pixel_7492</th>\n",
       "      <th>pixel_7493</th>\n",
       "      <th>pixel_7494</th>\n",
       "      <th>pixel_7495</th>\n",
       "      <th>pixel_7496</th>\n",
       "      <th>pixel_7497</th>\n",
       "      <th>pixel_7498</th>\n",
       "      <th>pixel_7499</th>\n",
       "      <th>label</th>\n",
       "    </tr>\n",
       "  </thead>\n",
       "  <tbody>\n",
       "    <tr>\n",
       "      <th>14149</th>\n",
       "      <td>43</td>\n",
       "      <td>80</td>\n",
       "      <td>42</td>\n",
       "      <td>30</td>\n",
       "      <td>82</td>\n",
       "      <td>41</td>\n",
       "      <td>28</td>\n",
       "      <td>76</td>\n",
       "      <td>47</td>\n",
       "      <td>19</td>\n",
       "      <td>...</td>\n",
       "      <td>87</td>\n",
       "      <td>156</td>\n",
       "      <td>101</td>\n",
       "      <td>66</td>\n",
       "      <td>142</td>\n",
       "      <td>106</td>\n",
       "      <td>64</td>\n",
       "      <td>114</td>\n",
       "      <td>76</td>\n",
       "      <td>1</td>\n",
       "    </tr>\n",
       "    <tr>\n",
       "      <th>8946</th>\n",
       "      <td>20</td>\n",
       "      <td>58</td>\n",
       "      <td>120</td>\n",
       "      <td>4</td>\n",
       "      <td>53</td>\n",
       "      <td>119</td>\n",
       "      <td>6</td>\n",
       "      <td>51</td>\n",
       "      <td>119</td>\n",
       "      <td>3</td>\n",
       "      <td>...</td>\n",
       "      <td>77</td>\n",
       "      <td>71</td>\n",
       "      <td>72</td>\n",
       "      <td>75</td>\n",
       "      <td>72</td>\n",
       "      <td>68</td>\n",
       "      <td>70</td>\n",
       "      <td>74</td>\n",
       "      <td>69</td>\n",
       "      <td>0</td>\n",
       "    </tr>\n",
       "    <tr>\n",
       "      <th>22378</th>\n",
       "      <td>182</td>\n",
       "      <td>186</td>\n",
       "      <td>187</td>\n",
       "      <td>187</td>\n",
       "      <td>188</td>\n",
       "      <td>191</td>\n",
       "      <td>202</td>\n",
       "      <td>202</td>\n",
       "      <td>202</td>\n",
       "      <td>207</td>\n",
       "      <td>...</td>\n",
       "      <td>35</td>\n",
       "      <td>41</td>\n",
       "      <td>36</td>\n",
       "      <td>32</td>\n",
       "      <td>37</td>\n",
       "      <td>35</td>\n",
       "      <td>19</td>\n",
       "      <td>24</td>\n",
       "      <td>22</td>\n",
       "      <td>1</td>\n",
       "    </tr>\n",
       "    <tr>\n",
       "      <th>12162</th>\n",
       "      <td>24</td>\n",
       "      <td>31</td>\n",
       "      <td>42</td>\n",
       "      <td>34</td>\n",
       "      <td>55</td>\n",
       "      <td>86</td>\n",
       "      <td>104</td>\n",
       "      <td>135</td>\n",
       "      <td>160</td>\n",
       "      <td>106</td>\n",
       "      <td>...</td>\n",
       "      <td>88</td>\n",
       "      <td>95</td>\n",
       "      <td>120</td>\n",
       "      <td>70</td>\n",
       "      <td>75</td>\n",
       "      <td>95</td>\n",
       "      <td>93</td>\n",
       "      <td>98</td>\n",
       "      <td>112</td>\n",
       "      <td>0</td>\n",
       "    </tr>\n",
       "    <tr>\n",
       "      <th>4879</th>\n",
       "      <td>110</td>\n",
       "      <td>126</td>\n",
       "      <td>149</td>\n",
       "      <td>114</td>\n",
       "      <td>130</td>\n",
       "      <td>152</td>\n",
       "      <td>113</td>\n",
       "      <td>134</td>\n",
       "      <td>156</td>\n",
       "      <td>108</td>\n",
       "      <td>...</td>\n",
       "      <td>23</td>\n",
       "      <td>77</td>\n",
       "      <td>137</td>\n",
       "      <td>37</td>\n",
       "      <td>91</td>\n",
       "      <td>151</td>\n",
       "      <td>32</td>\n",
       "      <td>86</td>\n",
       "      <td>146</td>\n",
       "      <td>0</td>\n",
       "    </tr>\n",
       "    <tr>\n",
       "      <th>...</th>\n",
       "      <td>...</td>\n",
       "      <td>...</td>\n",
       "      <td>...</td>\n",
       "      <td>...</td>\n",
       "      <td>...</td>\n",
       "      <td>...</td>\n",
       "      <td>...</td>\n",
       "      <td>...</td>\n",
       "      <td>...</td>\n",
       "      <td>...</td>\n",
       "      <td>...</td>\n",
       "      <td>...</td>\n",
       "      <td>...</td>\n",
       "      <td>...</td>\n",
       "      <td>...</td>\n",
       "      <td>...</td>\n",
       "      <td>...</td>\n",
       "      <td>...</td>\n",
       "      <td>...</td>\n",
       "      <td>...</td>\n",
       "      <td>...</td>\n",
       "    </tr>\n",
       "    <tr>\n",
       "      <th>13123</th>\n",
       "      <td>88</td>\n",
       "      <td>92</td>\n",
       "      <td>84</td>\n",
       "      <td>83</td>\n",
       "      <td>85</td>\n",
       "      <td>91</td>\n",
       "      <td>79</td>\n",
       "      <td>75</td>\n",
       "      <td>71</td>\n",
       "      <td>102</td>\n",
       "      <td>...</td>\n",
       "      <td>22</td>\n",
       "      <td>60</td>\n",
       "      <td>30</td>\n",
       "      <td>32</td>\n",
       "      <td>65</td>\n",
       "      <td>38</td>\n",
       "      <td>29</td>\n",
       "      <td>55</td>\n",
       "      <td>29</td>\n",
       "      <td>1</td>\n",
       "    </tr>\n",
       "    <tr>\n",
       "      <th>19648</th>\n",
       "      <td>129</td>\n",
       "      <td>125</td>\n",
       "      <td>130</td>\n",
       "      <td>131</td>\n",
       "      <td>125</td>\n",
       "      <td>136</td>\n",
       "      <td>166</td>\n",
       "      <td>161</td>\n",
       "      <td>170</td>\n",
       "      <td>136</td>\n",
       "      <td>...</td>\n",
       "      <td>90</td>\n",
       "      <td>104</td>\n",
       "      <td>116</td>\n",
       "      <td>124</td>\n",
       "      <td>133</td>\n",
       "      <td>146</td>\n",
       "      <td>133</td>\n",
       "      <td>141</td>\n",
       "      <td>158</td>\n",
       "      <td>1</td>\n",
       "    </tr>\n",
       "    <tr>\n",
       "      <th>9845</th>\n",
       "      <td>114</td>\n",
       "      <td>119</td>\n",
       "      <td>134</td>\n",
       "      <td>116</td>\n",
       "      <td>121</td>\n",
       "      <td>136</td>\n",
       "      <td>119</td>\n",
       "      <td>124</td>\n",
       "      <td>139</td>\n",
       "      <td>117</td>\n",
       "      <td>...</td>\n",
       "      <td>52</td>\n",
       "      <td>51</td>\n",
       "      <td>61</td>\n",
       "      <td>41</td>\n",
       "      <td>40</td>\n",
       "      <td>50</td>\n",
       "      <td>47</td>\n",
       "      <td>46</td>\n",
       "      <td>55</td>\n",
       "      <td>0</td>\n",
       "    </tr>\n",
       "    <tr>\n",
       "      <th>10799</th>\n",
       "      <td>45</td>\n",
       "      <td>56</td>\n",
       "      <td>54</td>\n",
       "      <td>41</td>\n",
       "      <td>52</td>\n",
       "      <td>50</td>\n",
       "      <td>33</td>\n",
       "      <td>43</td>\n",
       "      <td>42</td>\n",
       "      <td>28</td>\n",
       "      <td>...</td>\n",
       "      <td>163</td>\n",
       "      <td>161</td>\n",
       "      <td>157</td>\n",
       "      <td>160</td>\n",
       "      <td>160</td>\n",
       "      <td>154</td>\n",
       "      <td>153</td>\n",
       "      <td>146</td>\n",
       "      <td>143</td>\n",
       "      <td>0</td>\n",
       "    </tr>\n",
       "    <tr>\n",
       "      <th>2732</th>\n",
       "      <td>43</td>\n",
       "      <td>80</td>\n",
       "      <td>114</td>\n",
       "      <td>44</td>\n",
       "      <td>83</td>\n",
       "      <td>111</td>\n",
       "      <td>47</td>\n",
       "      <td>80</td>\n",
       "      <td>113</td>\n",
       "      <td>45</td>\n",
       "      <td>...</td>\n",
       "      <td>105</td>\n",
       "      <td>140</td>\n",
       "      <td>181</td>\n",
       "      <td>89</td>\n",
       "      <td>132</td>\n",
       "      <td>174</td>\n",
       "      <td>82</td>\n",
       "      <td>119</td>\n",
       "      <td>156</td>\n",
       "      <td>0</td>\n",
       "    </tr>\n",
       "  </tbody>\n",
       "</table>\n",
       "<p>25000 rows × 7501 columns</p>\n",
       "</div>"
      ],
      "text/plain": [
       "       pixel_0  pixel_1  pixel_2  pixel_3  pixel_4  pixel_5  pixel_6  pixel_7  \\\n",
       "14149       43       80       42       30       82       41       28       76   \n",
       "8946        20       58      120        4       53      119        6       51   \n",
       "22378      182      186      187      187      188      191      202      202   \n",
       "12162       24       31       42       34       55       86      104      135   \n",
       "4879       110      126      149      114      130      152      113      134   \n",
       "...        ...      ...      ...      ...      ...      ...      ...      ...   \n",
       "13123       88       92       84       83       85       91       79       75   \n",
       "19648      129      125      130      131      125      136      166      161   \n",
       "9845       114      119      134      116      121      136      119      124   \n",
       "10799       45       56       54       41       52       50       33       43   \n",
       "2732        43       80      114       44       83      111       47       80   \n",
       "\n",
       "       pixel_8  pixel_9  ...  pixel_7491  pixel_7492  pixel_7493  pixel_7494  \\\n",
       "14149       47       19  ...          87         156         101          66   \n",
       "8946       119        3  ...          77          71          72          75   \n",
       "22378      202      207  ...          35          41          36          32   \n",
       "12162      160      106  ...          88          95         120          70   \n",
       "4879       156      108  ...          23          77         137          37   \n",
       "...        ...      ...  ...         ...         ...         ...         ...   \n",
       "13123       71      102  ...          22          60          30          32   \n",
       "19648      170      136  ...          90         104         116         124   \n",
       "9845       139      117  ...          52          51          61          41   \n",
       "10799       42       28  ...         163         161         157         160   \n",
       "2732       113       45  ...         105         140         181          89   \n",
       "\n",
       "       pixel_7495  pixel_7496  pixel_7497  pixel_7498  pixel_7499  label  \n",
       "14149         142         106          64         114          76      1  \n",
       "8946           72          68          70          74          69      0  \n",
       "22378          37          35          19          24          22      1  \n",
       "12162          75          95          93          98         112      0  \n",
       "4879           91         151          32          86         146      0  \n",
       "...           ...         ...         ...         ...         ...    ...  \n",
       "13123          65          38          29          55          29      1  \n",
       "19648         133         146         133         141         158      1  \n",
       "9845           40          50          47          46          55      0  \n",
       "10799         160         154         153         146         143      0  \n",
       "2732          132         174          82         119         156      0  \n",
       "\n",
       "[25000 rows x 7501 columns]"
      ]
     },
     "execution_count": 4,
     "metadata": {},
     "output_type": "execute_result"
    }
   ],
   "source": [
    "df2_suffled = df2.sample(frac=1,random_state=0)\n",
    "df2_suffled"
   ]
  },
  {
   "cell_type": "code",
   "execution_count": 5,
   "metadata": {},
   "outputs": [
    {
     "data": {
      "text/html": [
       "<div>\n",
       "<style scoped>\n",
       "    .dataframe tbody tr th:only-of-type {\n",
       "        vertical-align: middle;\n",
       "    }\n",
       "\n",
       "    .dataframe tbody tr th {\n",
       "        vertical-align: top;\n",
       "    }\n",
       "\n",
       "    .dataframe thead th {\n",
       "        text-align: right;\n",
       "    }\n",
       "</style>\n",
       "<table border=\"1\" class=\"dataframe\">\n",
       "  <thead>\n",
       "    <tr style=\"text-align: right;\">\n",
       "      <th></th>\n",
       "      <th>pixel_0</th>\n",
       "      <th>pixel_1</th>\n",
       "      <th>pixel_2</th>\n",
       "      <th>pixel_3</th>\n",
       "      <th>pixel_4</th>\n",
       "      <th>pixel_5</th>\n",
       "      <th>pixel_6</th>\n",
       "      <th>pixel_7</th>\n",
       "      <th>pixel_8</th>\n",
       "      <th>pixel_9</th>\n",
       "      <th>...</th>\n",
       "      <th>pixel_7491</th>\n",
       "      <th>pixel_7492</th>\n",
       "      <th>pixel_7493</th>\n",
       "      <th>pixel_7494</th>\n",
       "      <th>pixel_7495</th>\n",
       "      <th>pixel_7496</th>\n",
       "      <th>pixel_7497</th>\n",
       "      <th>pixel_7498</th>\n",
       "      <th>pixel_7499</th>\n",
       "      <th>label</th>\n",
       "    </tr>\n",
       "  </thead>\n",
       "  <tbody>\n",
       "    <tr>\n",
       "      <th>0</th>\n",
       "      <td>43</td>\n",
       "      <td>80</td>\n",
       "      <td>42</td>\n",
       "      <td>30</td>\n",
       "      <td>82</td>\n",
       "      <td>41</td>\n",
       "      <td>28</td>\n",
       "      <td>76</td>\n",
       "      <td>47</td>\n",
       "      <td>19</td>\n",
       "      <td>...</td>\n",
       "      <td>87</td>\n",
       "      <td>156</td>\n",
       "      <td>101</td>\n",
       "      <td>66</td>\n",
       "      <td>142</td>\n",
       "      <td>106</td>\n",
       "      <td>64</td>\n",
       "      <td>114</td>\n",
       "      <td>76</td>\n",
       "      <td>1</td>\n",
       "    </tr>\n",
       "    <tr>\n",
       "      <th>1</th>\n",
       "      <td>20</td>\n",
       "      <td>58</td>\n",
       "      <td>120</td>\n",
       "      <td>4</td>\n",
       "      <td>53</td>\n",
       "      <td>119</td>\n",
       "      <td>6</td>\n",
       "      <td>51</td>\n",
       "      <td>119</td>\n",
       "      <td>3</td>\n",
       "      <td>...</td>\n",
       "      <td>77</td>\n",
       "      <td>71</td>\n",
       "      <td>72</td>\n",
       "      <td>75</td>\n",
       "      <td>72</td>\n",
       "      <td>68</td>\n",
       "      <td>70</td>\n",
       "      <td>74</td>\n",
       "      <td>69</td>\n",
       "      <td>0</td>\n",
       "    </tr>\n",
       "    <tr>\n",
       "      <th>2</th>\n",
       "      <td>182</td>\n",
       "      <td>186</td>\n",
       "      <td>187</td>\n",
       "      <td>187</td>\n",
       "      <td>188</td>\n",
       "      <td>191</td>\n",
       "      <td>202</td>\n",
       "      <td>202</td>\n",
       "      <td>202</td>\n",
       "      <td>207</td>\n",
       "      <td>...</td>\n",
       "      <td>35</td>\n",
       "      <td>41</td>\n",
       "      <td>36</td>\n",
       "      <td>32</td>\n",
       "      <td>37</td>\n",
       "      <td>35</td>\n",
       "      <td>19</td>\n",
       "      <td>24</td>\n",
       "      <td>22</td>\n",
       "      <td>1</td>\n",
       "    </tr>\n",
       "    <tr>\n",
       "      <th>3</th>\n",
       "      <td>24</td>\n",
       "      <td>31</td>\n",
       "      <td>42</td>\n",
       "      <td>34</td>\n",
       "      <td>55</td>\n",
       "      <td>86</td>\n",
       "      <td>104</td>\n",
       "      <td>135</td>\n",
       "      <td>160</td>\n",
       "      <td>106</td>\n",
       "      <td>...</td>\n",
       "      <td>88</td>\n",
       "      <td>95</td>\n",
       "      <td>120</td>\n",
       "      <td>70</td>\n",
       "      <td>75</td>\n",
       "      <td>95</td>\n",
       "      <td>93</td>\n",
       "      <td>98</td>\n",
       "      <td>112</td>\n",
       "      <td>0</td>\n",
       "    </tr>\n",
       "    <tr>\n",
       "      <th>4</th>\n",
       "      <td>110</td>\n",
       "      <td>126</td>\n",
       "      <td>149</td>\n",
       "      <td>114</td>\n",
       "      <td>130</td>\n",
       "      <td>152</td>\n",
       "      <td>113</td>\n",
       "      <td>134</td>\n",
       "      <td>156</td>\n",
       "      <td>108</td>\n",
       "      <td>...</td>\n",
       "      <td>23</td>\n",
       "      <td>77</td>\n",
       "      <td>137</td>\n",
       "      <td>37</td>\n",
       "      <td>91</td>\n",
       "      <td>151</td>\n",
       "      <td>32</td>\n",
       "      <td>86</td>\n",
       "      <td>146</td>\n",
       "      <td>0</td>\n",
       "    </tr>\n",
       "  </tbody>\n",
       "</table>\n",
       "<p>5 rows × 7501 columns</p>\n",
       "</div>"
      ],
      "text/plain": [
       "   pixel_0  pixel_1  pixel_2  pixel_3  pixel_4  pixel_5  pixel_6  pixel_7  \\\n",
       "0       43       80       42       30       82       41       28       76   \n",
       "1       20       58      120        4       53      119        6       51   \n",
       "2      182      186      187      187      188      191      202      202   \n",
       "3       24       31       42       34       55       86      104      135   \n",
       "4      110      126      149      114      130      152      113      134   \n",
       "\n",
       "   pixel_8  pixel_9  ...  pixel_7491  pixel_7492  pixel_7493  pixel_7494  \\\n",
       "0       47       19  ...          87         156         101          66   \n",
       "1      119        3  ...          77          71          72          75   \n",
       "2      202      207  ...          35          41          36          32   \n",
       "3      160      106  ...          88          95         120          70   \n",
       "4      156      108  ...          23          77         137          37   \n",
       "\n",
       "   pixel_7495  pixel_7496  pixel_7497  pixel_7498  pixel_7499  label  \n",
       "0         142         106          64         114          76      1  \n",
       "1          72          68          70          74          69      0  \n",
       "2          37          35          19          24          22      1  \n",
       "3          75          95          93          98         112      0  \n",
       "4          91         151          32          86         146      0  \n",
       "\n",
       "[5 rows x 7501 columns]"
      ]
     },
     "execution_count": 5,
     "metadata": {},
     "output_type": "execute_result"
    }
   ],
   "source": [
    "test = df2_suffled.iloc[:5000]\n",
    "test.reset_index(drop=True,inplace=True)\n",
    "test.head()"
   ]
  },
  {
   "cell_type": "code",
   "execution_count": 6,
   "metadata": {},
   "outputs": [
    {
     "data": {
      "text/html": [
       "<div>\n",
       "<style scoped>\n",
       "    .dataframe tbody tr th:only-of-type {\n",
       "        vertical-align: middle;\n",
       "    }\n",
       "\n",
       "    .dataframe tbody tr th {\n",
       "        vertical-align: top;\n",
       "    }\n",
       "\n",
       "    .dataframe thead th {\n",
       "        text-align: right;\n",
       "    }\n",
       "</style>\n",
       "<table border=\"1\" class=\"dataframe\">\n",
       "  <thead>\n",
       "    <tr style=\"text-align: right;\">\n",
       "      <th></th>\n",
       "      <th>pixel_0</th>\n",
       "      <th>pixel_1</th>\n",
       "      <th>pixel_2</th>\n",
       "      <th>pixel_3</th>\n",
       "      <th>pixel_4</th>\n",
       "      <th>pixel_5</th>\n",
       "      <th>pixel_6</th>\n",
       "      <th>pixel_7</th>\n",
       "      <th>pixel_8</th>\n",
       "      <th>pixel_9</th>\n",
       "      <th>...</th>\n",
       "      <th>pixel_7491</th>\n",
       "      <th>pixel_7492</th>\n",
       "      <th>pixel_7493</th>\n",
       "      <th>pixel_7494</th>\n",
       "      <th>pixel_7495</th>\n",
       "      <th>pixel_7496</th>\n",
       "      <th>pixel_7497</th>\n",
       "      <th>pixel_7498</th>\n",
       "      <th>pixel_7499</th>\n",
       "      <th>label</th>\n",
       "    </tr>\n",
       "  </thead>\n",
       "  <tbody>\n",
       "    <tr>\n",
       "      <th>0</th>\n",
       "      <td>218</td>\n",
       "      <td>227</td>\n",
       "      <td>187</td>\n",
       "      <td>224</td>\n",
       "      <td>235</td>\n",
       "      <td>195</td>\n",
       "      <td>214</td>\n",
       "      <td>227</td>\n",
       "      <td>189</td>\n",
       "      <td>203</td>\n",
       "      <td>...</td>\n",
       "      <td>204</td>\n",
       "      <td>208</td>\n",
       "      <td>159</td>\n",
       "      <td>205</td>\n",
       "      <td>209</td>\n",
       "      <td>160</td>\n",
       "      <td>202</td>\n",
       "      <td>206</td>\n",
       "      <td>157</td>\n",
       "      <td>0</td>\n",
       "    </tr>\n",
       "    <tr>\n",
       "      <th>1</th>\n",
       "      <td>50</td>\n",
       "      <td>70</td>\n",
       "      <td>67</td>\n",
       "      <td>48</td>\n",
       "      <td>78</td>\n",
       "      <td>73</td>\n",
       "      <td>56</td>\n",
       "      <td>98</td>\n",
       "      <td>87</td>\n",
       "      <td>64</td>\n",
       "      <td>...</td>\n",
       "      <td>43</td>\n",
       "      <td>53</td>\n",
       "      <td>83</td>\n",
       "      <td>11</td>\n",
       "      <td>29</td>\n",
       "      <td>59</td>\n",
       "      <td>38</td>\n",
       "      <td>63</td>\n",
       "      <td>97</td>\n",
       "      <td>1</td>\n",
       "    </tr>\n",
       "    <tr>\n",
       "      <th>2</th>\n",
       "      <td>113</td>\n",
       "      <td>94</td>\n",
       "      <td>77</td>\n",
       "      <td>110</td>\n",
       "      <td>91</td>\n",
       "      <td>74</td>\n",
       "      <td>117</td>\n",
       "      <td>98</td>\n",
       "      <td>81</td>\n",
       "      <td>108</td>\n",
       "      <td>...</td>\n",
       "      <td>55</td>\n",
       "      <td>60</td>\n",
       "      <td>85</td>\n",
       "      <td>59</td>\n",
       "      <td>57</td>\n",
       "      <td>87</td>\n",
       "      <td>61</td>\n",
       "      <td>65</td>\n",
       "      <td>97</td>\n",
       "      <td>1</td>\n",
       "    </tr>\n",
       "    <tr>\n",
       "      <th>3</th>\n",
       "      <td>134</td>\n",
       "      <td>146</td>\n",
       "      <td>152</td>\n",
       "      <td>125</td>\n",
       "      <td>137</td>\n",
       "      <td>143</td>\n",
       "      <td>130</td>\n",
       "      <td>138</td>\n",
       "      <td>145</td>\n",
       "      <td>144</td>\n",
       "      <td>...</td>\n",
       "      <td>194</td>\n",
       "      <td>198</td>\n",
       "      <td>203</td>\n",
       "      <td>204</td>\n",
       "      <td>207</td>\n",
       "      <td>211</td>\n",
       "      <td>191</td>\n",
       "      <td>193</td>\n",
       "      <td>201</td>\n",
       "      <td>1</td>\n",
       "    </tr>\n",
       "    <tr>\n",
       "      <th>4</th>\n",
       "      <td>1</td>\n",
       "      <td>1</td>\n",
       "      <td>1</td>\n",
       "      <td>1</td>\n",
       "      <td>1</td>\n",
       "      <td>1</td>\n",
       "      <td>1</td>\n",
       "      <td>1</td>\n",
       "      <td>1</td>\n",
       "      <td>1</td>\n",
       "      <td>...</td>\n",
       "      <td>1</td>\n",
       "      <td>1</td>\n",
       "      <td>1</td>\n",
       "      <td>1</td>\n",
       "      <td>1</td>\n",
       "      <td>1</td>\n",
       "      <td>1</td>\n",
       "      <td>1</td>\n",
       "      <td>1</td>\n",
       "      <td>1</td>\n",
       "    </tr>\n",
       "  </tbody>\n",
       "</table>\n",
       "<p>5 rows × 7501 columns</p>\n",
       "</div>"
      ],
      "text/plain": [
       "   pixel_0  pixel_1  pixel_2  pixel_3  pixel_4  pixel_5  pixel_6  pixel_7  \\\n",
       "0      218      227      187      224      235      195      214      227   \n",
       "1       50       70       67       48       78       73       56       98   \n",
       "2      113       94       77      110       91       74      117       98   \n",
       "3      134      146      152      125      137      143      130      138   \n",
       "4        1        1        1        1        1        1        1        1   \n",
       "\n",
       "   pixel_8  pixel_9  ...  pixel_7491  pixel_7492  pixel_7493  pixel_7494  \\\n",
       "0      189      203  ...         204         208         159         205   \n",
       "1       87       64  ...          43          53          83          11   \n",
       "2       81      108  ...          55          60          85          59   \n",
       "3      145      144  ...         194         198         203         204   \n",
       "4        1        1  ...           1           1           1           1   \n",
       "\n",
       "   pixel_7495  pixel_7496  pixel_7497  pixel_7498  pixel_7499  label  \n",
       "0         209         160         202         206         157      0  \n",
       "1          29          59          38          63          97      1  \n",
       "2          57          87          61          65          97      1  \n",
       "3         207         211         191         193         201      1  \n",
       "4           1           1           1           1           1      1  \n",
       "\n",
       "[5 rows x 7501 columns]"
      ]
     },
     "execution_count": 6,
     "metadata": {},
     "output_type": "execute_result"
    }
   ],
   "source": [
    "train = df2_suffled.iloc[5000:]\n",
    "train.reset_index(drop=True,inplace=True)\n",
    "train.head()"
   ]
  },
  {
   "cell_type": "code",
   "execution_count": 7,
   "metadata": {},
   "outputs": [],
   "source": [
    "train_data = train.drop('label',axis=1)\n",
    "train_target = train['label']"
   ]
  },
  {
   "cell_type": "code",
   "execution_count": 8,
   "metadata": {},
   "outputs": [
    {
     "data": {
      "text/plain": [
       "<matplotlib.image.AxesImage at 0x231510de700>"
      ]
     },
     "execution_count": 8,
     "metadata": {},
     "output_type": "execute_result"
    },
    {
     "data": {
      "image/png": "[encoded data removed]",
      "text/plain": [
       "<Figure size 432x288 with 1 Axes>"
      ]
     },
     "metadata": {
      "needs_background": "light"
     },
     "output_type": "display_data"
    }
   ],
   "source": [
    "plt.imshow(np.flip(np.array(train_data.loc[1]).reshape(50,50,3),2))"
   ]
  },
  {
   "cell_type": "code",
   "execution_count": 8,
   "metadata": {},
   "outputs": [],
   "source": [
    "test_data = test.drop('label',axis=1)\n",
    "test_target = test['label']"
   ]
  },
  {
   "cell_type": "code",
   "execution_count": 28,
   "metadata": {},
   "outputs": [],
   "source": [
    "sc= StandardScaler()\n",
    "scaled_train = sc.fit_transform(train_data)\n",
    "scaled_test = sc.transform(test_data)"
   ]
  },
  {
   "cell_type": "code",
   "execution_count": 34,
   "metadata": {},
   "outputs": [
    {
     "data": {
      "text/plain": [
       "RandomForestClassifier()"
      ]
     },
     "execution_count": 34,
     "metadata": {},
     "output_type": "execute_result"
    }
   ],
   "source": [
    "rfc = RandomForestClassifier()\n",
    "rfc.fit(scaled_train,train_target)\n",
    "rfc"
   ]
  },
  {
   "cell_type": "code",
   "execution_count": 35,
   "metadata": {},
   "outputs": [],
   "source": [
    "y_pred = rfc.predict(scaled_test)"
   ]
  },
  {
   "cell_type": "code",
   "execution_count": 36,
   "metadata": {},
   "outputs": [
    {
     "name": "stdout",
     "output_type": "stream",
     "text": [
      "              precision    recall  f1-score   support\n",
      "\n",
      "           0       0.65      0.70      0.67      2496\n",
      "           1       0.67      0.62      0.64      2504\n",
      "\n",
      "    accuracy                           0.66      5000\n",
      "   macro avg       0.66      0.66      0.66      5000\n",
      "weighted avg       0.66      0.66      0.66      5000\n",
      "\n"
     ]
    }
   ],
   "source": [
    "print (classification_report(test_target,y_pred))"
   ]
  },
  {
   "cell_type": "code",
   "execution_count": 37,
   "metadata": {},
   "outputs": [
    {
     "data": {
      "text/plain": [
       "0.6586"
      ]
     },
     "execution_count": 37,
     "metadata": {},
     "output_type": "execute_result"
    }
   ],
   "source": [
    "metrics.accuracy_score(test_target,y_pred)"
   ]
  },
  {
   "cell_type": "code",
   "execution_count": 44,
   "metadata": {},
   "outputs": [
    {
     "data": {
      "text/plain": [
       "Text(33.0, 0.5, 'Actual')"
      ]
     },
     "execution_count": 44,
     "metadata": {},
     "output_type": "execute_result"
    },
    {
     "data": {
      "image/png": "[encoded data removed]",
      "text/plain": [
       "<Figure size 432x288 with 2 Axes>"
      ]
     },
     "metadata": {
      "needs_background": "light"
     },
     "output_type": "display_data"
    }
   ],
   "source": [
    "cm = confusion_matrix(test_target,y_pred)\n",
    "sns.heatmap(cm,annot=True,annot_kws = {'size':15},fmt=\".1f\")\n",
    "plt.xlabel(\"Predict\")\n",
    "plt.ylabel(\"Actual\")"
   ]
  },
  {
   "cell_type": "code",
   "execution_count": 13,
   "metadata": {},
   "outputs": [],
   "source": [
    "train_data_fliped = []\n",
    "train_label_fliped = []\n",
    "for img in os.listdir(r'C:\\Users\\anitay\\Desktop\\Ors folder\\train'):\n",
    "    label = label_img(img)\n",
    "    path = os.path.join(r'C:\\Users\\anitay\\Desktop\\Ors folder\\train',img)\n",
    "    img = cv2.resize(cv2.imread(path),(50,50))\n",
    "    img = cv2.flip(img,1)\n",
    "    train_data_fliped.append(np.array(img).flatten())\n",
    "    train_label_fliped.append(label)"
   ]
  },
  {
   "cell_type": "code",
   "execution_count": 15,
   "metadata": {},
   "outputs": [
    {
     "data": {
      "text/html": [
       "<div>\n",
       "<style scoped>\n",
       "    .dataframe tbody tr th:only-of-type {\n",
       "        vertical-align: middle;\n",
       "    }\n",
       "\n",
       "    .dataframe tbody tr th {\n",
       "        vertical-align: top;\n",
       "    }\n",
       "\n",
       "    .dataframe thead th {\n",
       "        text-align: right;\n",
       "    }\n",
       "</style>\n",
       "<table border=\"1\" class=\"dataframe\">\n",
       "  <thead>\n",
       "    <tr style=\"text-align: right;\">\n",
       "      <th></th>\n",
       "      <th>pixel_0</th>\n",
       "      <th>pixel_1</th>\n",
       "      <th>pixel_2</th>\n",
       "      <th>pixel_3</th>\n",
       "      <th>pixel_4</th>\n",
       "      <th>pixel_5</th>\n",
       "      <th>pixel_6</th>\n",
       "      <th>pixel_7</th>\n",
       "      <th>pixel_8</th>\n",
       "      <th>pixel_9</th>\n",
       "      <th>...</th>\n",
       "      <th>pixel_7491</th>\n",
       "      <th>pixel_7492</th>\n",
       "      <th>pixel_7493</th>\n",
       "      <th>pixel_7494</th>\n",
       "      <th>pixel_7495</th>\n",
       "      <th>pixel_7496</th>\n",
       "      <th>pixel_7497</th>\n",
       "      <th>pixel_7498</th>\n",
       "      <th>pixel_7499</th>\n",
       "      <th>label</th>\n",
       "    </tr>\n",
       "  </thead>\n",
       "  <tbody>\n",
       "    <tr>\n",
       "      <th>0</th>\n",
       "      <td>122</td>\n",
       "      <td>204</td>\n",
       "      <td>245</td>\n",
       "      <td>133</td>\n",
       "      <td>212</td>\n",
       "      <td>247</td>\n",
       "      <td>146</td>\n",
       "      <td>219</td>\n",
       "      <td>249</td>\n",
       "      <td>155</td>\n",
       "      <td>...</td>\n",
       "      <td>60</td>\n",
       "      <td>132</td>\n",
       "      <td>166</td>\n",
       "      <td>62</td>\n",
       "      <td>129</td>\n",
       "      <td>160</td>\n",
       "      <td>57</td>\n",
       "      <td>124</td>\n",
       "      <td>155</td>\n",
       "      <td>0</td>\n",
       "    </tr>\n",
       "    <tr>\n",
       "      <th>1</th>\n",
       "      <td>167</td>\n",
       "      <td>195</td>\n",
       "      <td>199</td>\n",
       "      <td>107</td>\n",
       "      <td>93</td>\n",
       "      <td>88</td>\n",
       "      <td>121</td>\n",
       "      <td>95</td>\n",
       "      <td>88</td>\n",
       "      <td>116</td>\n",
       "      <td>...</td>\n",
       "      <td>20</td>\n",
       "      <td>18</td>\n",
       "      <td>20</td>\n",
       "      <td>22</td>\n",
       "      <td>21</td>\n",
       "      <td>23</td>\n",
       "      <td>23</td>\n",
       "      <td>22</td>\n",
       "      <td>24</td>\n",
       "      <td>0</td>\n",
       "    </tr>\n",
       "    <tr>\n",
       "      <th>2</th>\n",
       "      <td>159</td>\n",
       "      <td>163</td>\n",
       "      <td>131</td>\n",
       "      <td>150</td>\n",
       "      <td>158</td>\n",
       "      <td>129</td>\n",
       "      <td>157</td>\n",
       "      <td>158</td>\n",
       "      <td>124</td>\n",
       "      <td>162</td>\n",
       "      <td>...</td>\n",
       "      <td>97</td>\n",
       "      <td>132</td>\n",
       "      <td>146</td>\n",
       "      <td>106</td>\n",
       "      <td>143</td>\n",
       "      <td>157</td>\n",
       "      <td>111</td>\n",
       "      <td>155</td>\n",
       "      <td>168</td>\n",
       "      <td>0</td>\n",
       "    </tr>\n",
       "    <tr>\n",
       "      <th>3</th>\n",
       "      <td>241</td>\n",
       "      <td>236</td>\n",
       "      <td>235</td>\n",
       "      <td>250</td>\n",
       "      <td>245</td>\n",
       "      <td>244</td>\n",
       "      <td>232</td>\n",
       "      <td>230</td>\n",
       "      <td>229</td>\n",
       "      <td>232</td>\n",
       "      <td>...</td>\n",
       "      <td>202</td>\n",
       "      <td>199</td>\n",
       "      <td>211</td>\n",
       "      <td>202</td>\n",
       "      <td>195</td>\n",
       "      <td>206</td>\n",
       "      <td>213</td>\n",
       "      <td>209</td>\n",
       "      <td>211</td>\n",
       "      <td>0</td>\n",
       "    </tr>\n",
       "    <tr>\n",
       "      <th>4</th>\n",
       "      <td>68</td>\n",
       "      <td>87</td>\n",
       "      <td>130</td>\n",
       "      <td>26</td>\n",
       "      <td>55</td>\n",
       "      <td>116</td>\n",
       "      <td>0</td>\n",
       "      <td>15</td>\n",
       "      <td>73</td>\n",
       "      <td>57</td>\n",
       "      <td>...</td>\n",
       "      <td>39</td>\n",
       "      <td>56</td>\n",
       "      <td>65</td>\n",
       "      <td>44</td>\n",
       "      <td>57</td>\n",
       "      <td>65</td>\n",
       "      <td>46</td>\n",
       "      <td>56</td>\n",
       "      <td>63</td>\n",
       "      <td>0</td>\n",
       "    </tr>\n",
       "    <tr>\n",
       "      <th>...</th>\n",
       "      <td>...</td>\n",
       "      <td>...</td>\n",
       "      <td>...</td>\n",
       "      <td>...</td>\n",
       "      <td>...</td>\n",
       "      <td>...</td>\n",
       "      <td>...</td>\n",
       "      <td>...</td>\n",
       "      <td>...</td>\n",
       "      <td>...</td>\n",
       "      <td>...</td>\n",
       "      <td>...</td>\n",
       "      <td>...</td>\n",
       "      <td>...</td>\n",
       "      <td>...</td>\n",
       "      <td>...</td>\n",
       "      <td>...</td>\n",
       "      <td>...</td>\n",
       "      <td>...</td>\n",
       "      <td>...</td>\n",
       "      <td>...</td>\n",
       "    </tr>\n",
       "    <tr>\n",
       "      <th>24995</th>\n",
       "      <td>155</td>\n",
       "      <td>190</td>\n",
       "      <td>200</td>\n",
       "      <td>155</td>\n",
       "      <td>190</td>\n",
       "      <td>200</td>\n",
       "      <td>154</td>\n",
       "      <td>189</td>\n",
       "      <td>199</td>\n",
       "      <td>153</td>\n",
       "      <td>...</td>\n",
       "      <td>48</td>\n",
       "      <td>71</td>\n",
       "      <td>73</td>\n",
       "      <td>48</td>\n",
       "      <td>71</td>\n",
       "      <td>73</td>\n",
       "      <td>47</td>\n",
       "      <td>70</td>\n",
       "      <td>72</td>\n",
       "      <td>1</td>\n",
       "    </tr>\n",
       "    <tr>\n",
       "      <th>24996</th>\n",
       "      <td>35</td>\n",
       "      <td>74</td>\n",
       "      <td>88</td>\n",
       "      <td>47</td>\n",
       "      <td>116</td>\n",
       "      <td>113</td>\n",
       "      <td>38</td>\n",
       "      <td>79</td>\n",
       "      <td>102</td>\n",
       "      <td>93</td>\n",
       "      <td>...</td>\n",
       "      <td>50</td>\n",
       "      <td>78</td>\n",
       "      <td>102</td>\n",
       "      <td>68</td>\n",
       "      <td>94</td>\n",
       "      <td>110</td>\n",
       "      <td>54</td>\n",
       "      <td>77</td>\n",
       "      <td>100</td>\n",
       "      <td>1</td>\n",
       "    </tr>\n",
       "    <tr>\n",
       "      <th>24997</th>\n",
       "      <td>60</td>\n",
       "      <td>68</td>\n",
       "      <td>75</td>\n",
       "      <td>61</td>\n",
       "      <td>70</td>\n",
       "      <td>77</td>\n",
       "      <td>54</td>\n",
       "      <td>57</td>\n",
       "      <td>62</td>\n",
       "      <td>47</td>\n",
       "      <td>...</td>\n",
       "      <td>71</td>\n",
       "      <td>91</td>\n",
       "      <td>120</td>\n",
       "      <td>96</td>\n",
       "      <td>142</td>\n",
       "      <td>167</td>\n",
       "      <td>47</td>\n",
       "      <td>70</td>\n",
       "      <td>94</td>\n",
       "      <td>1</td>\n",
       "    </tr>\n",
       "    <tr>\n",
       "      <th>24998</th>\n",
       "      <td>240</td>\n",
       "      <td>248</td>\n",
       "      <td>253</td>\n",
       "      <td>228</td>\n",
       "      <td>232</td>\n",
       "      <td>255</td>\n",
       "      <td>215</td>\n",
       "      <td>235</td>\n",
       "      <td>244</td>\n",
       "      <td>208</td>\n",
       "      <td>...</td>\n",
       "      <td>74</td>\n",
       "      <td>79</td>\n",
       "      <td>94</td>\n",
       "      <td>74</td>\n",
       "      <td>79</td>\n",
       "      <td>94</td>\n",
       "      <td>80</td>\n",
       "      <td>84</td>\n",
       "      <td>99</td>\n",
       "      <td>1</td>\n",
       "    </tr>\n",
       "    <tr>\n",
       "      <th>24999</th>\n",
       "      <td>248</td>\n",
       "      <td>255</td>\n",
       "      <td>255</td>\n",
       "      <td>247</td>\n",
       "      <td>255</td>\n",
       "      <td>255</td>\n",
       "      <td>247</td>\n",
       "      <td>255</td>\n",
       "      <td>255</td>\n",
       "      <td>248</td>\n",
       "      <td>...</td>\n",
       "      <td>81</td>\n",
       "      <td>82</td>\n",
       "      <td>73</td>\n",
       "      <td>79</td>\n",
       "      <td>77</td>\n",
       "      <td>69</td>\n",
       "      <td>84</td>\n",
       "      <td>82</td>\n",
       "      <td>74</td>\n",
       "      <td>1</td>\n",
       "    </tr>\n",
       "  </tbody>\n",
       "</table>\n",
       "<p>25000 rows × 7501 columns</p>\n",
       "</div>"
      ],
      "text/plain": [
       "       pixel_0  pixel_1  pixel_2  pixel_3  pixel_4  pixel_5  pixel_6  pixel_7  \\\n",
       "0          122      204      245      133      212      247      146      219   \n",
       "1          167      195      199      107       93       88      121       95   \n",
       "2          159      163      131      150      158      129      157      158   \n",
       "3          241      236      235      250      245      244      232      230   \n",
       "4           68       87      130       26       55      116        0       15   \n",
       "...        ...      ...      ...      ...      ...      ...      ...      ...   \n",
       "24995      155      190      200      155      190      200      154      189   \n",
       "24996       35       74       88       47      116      113       38       79   \n",
       "24997       60       68       75       61       70       77       54       57   \n",
       "24998      240      248      253      228      232      255      215      235   \n",
       "24999      248      255      255      247      255      255      247      255   \n",
       "\n",
       "       pixel_8  pixel_9  ...  pixel_7491  pixel_7492  pixel_7493  pixel_7494  \\\n",
       "0          249      155  ...          60         132         166          62   \n",
       "1           88      116  ...          20          18          20          22   \n",
       "2          124      162  ...          97         132         146         106   \n",
       "3          229      232  ...         202         199         211         202   \n",
       "4           73       57  ...          39          56          65          44   \n",
       "...        ...      ...  ...         ...         ...         ...         ...   \n",
       "24995      199      153  ...          48          71          73          48   \n",
       "24996      102       93  ...          50          78         102          68   \n",
       "24997       62       47  ...          71          91         120          96   \n",
       "24998      244      208  ...          74          79          94          74   \n",
       "24999      255      248  ...          81          82          73          79   \n",
       "\n",
       "       pixel_7495  pixel_7496  pixel_7497  pixel_7498  pixel_7499  label  \n",
       "0             129         160          57         124         155      0  \n",
       "1              21          23          23          22          24      0  \n",
       "2             143         157         111         155         168      0  \n",
       "3             195         206         213         209         211      0  \n",
       "4              57          65          46          56          63      0  \n",
       "...           ...         ...         ...         ...         ...    ...  \n",
       "24995          71          73          47          70          72      1  \n",
       "24996          94         110          54          77         100      1  \n",
       "24997         142         167          47          70          94      1  \n",
       "24998          79          94          80          84          99      1  \n",
       "24999          77          69          84          82          74      1  \n",
       "\n",
       "[25000 rows x 7501 columns]"
      ]
     },
     "execution_count": 15,
     "metadata": {},
     "output_type": "execute_result"
    }
   ],
   "source": [
    "cols = []\n",
    "for i in range(7500):\n",
    "    cols.append(\"pixel_\"+str(i))\n",
    "df2_fliped = pd.DataFrame(train_data_fliped,columns=cols)\n",
    "df2_fliped['label']=train_label_fliped\n",
    "df2_fliped"
   ]
  },
  {
   "cell_type": "code",
   "execution_count": 16,
   "metadata": {},
   "outputs": [],
   "source": [
    "df2_fliped.to_csv(r'C:\\Users\\anitay\\Desktop\\Ors folder\\mirror.csv',index=False)"
   ]
  },
  {
   "cell_type": "code",
   "execution_count": 9,
   "metadata": {},
   "outputs": [],
   "source": [
    "df2_fliped = pd.read_csv(r'C:\\Users\\anitay\\Desktop\\Ors folder\\mirror.csv')"
   ]
  },
  {
   "cell_type": "code",
   "execution_count": 10,
   "metadata": {},
   "outputs": [
    {
     "data": {
      "text/html": [
       "<div>\n",
       "<style scoped>\n",
       "    .dataframe tbody tr th:only-of-type {\n",
       "        vertical-align: middle;\n",
       "    }\n",
       "\n",
       "    .dataframe tbody tr th {\n",
       "        vertical-align: top;\n",
       "    }\n",
       "\n",
       "    .dataframe thead th {\n",
       "        text-align: right;\n",
       "    }\n",
       "</style>\n",
       "<table border=\"1\" class=\"dataframe\">\n",
       "  <thead>\n",
       "    <tr style=\"text-align: right;\">\n",
       "      <th></th>\n",
       "      <th>pixel_0</th>\n",
       "      <th>pixel_1</th>\n",
       "      <th>pixel_2</th>\n",
       "      <th>pixel_3</th>\n",
       "      <th>pixel_4</th>\n",
       "      <th>pixel_5</th>\n",
       "      <th>pixel_6</th>\n",
       "      <th>pixel_7</th>\n",
       "      <th>pixel_8</th>\n",
       "      <th>pixel_9</th>\n",
       "      <th>...</th>\n",
       "      <th>pixel_7491</th>\n",
       "      <th>pixel_7492</th>\n",
       "      <th>pixel_7493</th>\n",
       "      <th>pixel_7494</th>\n",
       "      <th>pixel_7495</th>\n",
       "      <th>pixel_7496</th>\n",
       "      <th>pixel_7497</th>\n",
       "      <th>pixel_7498</th>\n",
       "      <th>pixel_7499</th>\n",
       "      <th>label</th>\n",
       "    </tr>\n",
       "  </thead>\n",
       "  <tbody>\n",
       "    <tr>\n",
       "      <th>14149</th>\n",
       "      <td>70</td>\n",
       "      <td>131</td>\n",
       "      <td>87</td>\n",
       "      <td>67</td>\n",
       "      <td>116</td>\n",
       "      <td>80</td>\n",
       "      <td>49</td>\n",
       "      <td>106</td>\n",
       "      <td>71</td>\n",
       "      <td>178</td>\n",
       "      <td>...</td>\n",
       "      <td>32</td>\n",
       "      <td>88</td>\n",
       "      <td>57</td>\n",
       "      <td>50</td>\n",
       "      <td>138</td>\n",
       "      <td>82</td>\n",
       "      <td>110</td>\n",
       "      <td>175</td>\n",
       "      <td>127</td>\n",
       "      <td>1</td>\n",
       "    </tr>\n",
       "    <tr>\n",
       "      <th>8946</th>\n",
       "      <td>128</td>\n",
       "      <td>105</td>\n",
       "      <td>60</td>\n",
       "      <td>129</td>\n",
       "      <td>104</td>\n",
       "      <td>63</td>\n",
       "      <td>138</td>\n",
       "      <td>120</td>\n",
       "      <td>82</td>\n",
       "      <td>145</td>\n",
       "      <td>...</td>\n",
       "      <td>210</td>\n",
       "      <td>220</td>\n",
       "      <td>227</td>\n",
       "      <td>210</td>\n",
       "      <td>221</td>\n",
       "      <td>225</td>\n",
       "      <td>210</td>\n",
       "      <td>221</td>\n",
       "      <td>225</td>\n",
       "      <td>0</td>\n",
       "    </tr>\n",
       "    <tr>\n",
       "      <th>22378</th>\n",
       "      <td>247</td>\n",
       "      <td>238</td>\n",
       "      <td>238</td>\n",
       "      <td>236</td>\n",
       "      <td>226</td>\n",
       "      <td>226</td>\n",
       "      <td>254</td>\n",
       "      <td>254</td>\n",
       "      <td>253</td>\n",
       "      <td>246</td>\n",
       "      <td>...</td>\n",
       "      <td>45</td>\n",
       "      <td>51</td>\n",
       "      <td>46</td>\n",
       "      <td>39</td>\n",
       "      <td>51</td>\n",
       "      <td>45</td>\n",
       "      <td>40</td>\n",
       "      <td>52</td>\n",
       "      <td>46</td>\n",
       "      <td>1</td>\n",
       "    </tr>\n",
       "    <tr>\n",
       "      <th>12162</th>\n",
       "      <td>85</td>\n",
       "      <td>100</td>\n",
       "      <td>118</td>\n",
       "      <td>108</td>\n",
       "      <td>135</td>\n",
       "      <td>158</td>\n",
       "      <td>74</td>\n",
       "      <td>88</td>\n",
       "      <td>90</td>\n",
       "      <td>27</td>\n",
       "      <td>...</td>\n",
       "      <td>41</td>\n",
       "      <td>50</td>\n",
       "      <td>63</td>\n",
       "      <td>52</td>\n",
       "      <td>69</td>\n",
       "      <td>88</td>\n",
       "      <td>60</td>\n",
       "      <td>72</td>\n",
       "      <td>92</td>\n",
       "      <td>0</td>\n",
       "    </tr>\n",
       "    <tr>\n",
       "      <th>4879</th>\n",
       "      <td>67</td>\n",
       "      <td>90</td>\n",
       "      <td>104</td>\n",
       "      <td>67</td>\n",
       "      <td>90</td>\n",
       "      <td>104</td>\n",
       "      <td>67</td>\n",
       "      <td>90</td>\n",
       "      <td>105</td>\n",
       "      <td>72</td>\n",
       "      <td>...</td>\n",
       "      <td>22</td>\n",
       "      <td>74</td>\n",
       "      <td>141</td>\n",
       "      <td>42</td>\n",
       "      <td>94</td>\n",
       "      <td>161</td>\n",
       "      <td>43</td>\n",
       "      <td>95</td>\n",
       "      <td>162</td>\n",
       "      <td>0</td>\n",
       "    </tr>\n",
       "  </tbody>\n",
       "</table>\n",
       "<p>5 rows × 7501 columns</p>\n",
       "</div>"
      ],
      "text/plain": [
       "       pixel_0  pixel_1  pixel_2  pixel_3  pixel_4  pixel_5  pixel_6  pixel_7  \\\n",
       "14149       70      131       87       67      116       80       49      106   \n",
       "8946       128      105       60      129      104       63      138      120   \n",
       "22378      247      238      238      236      226      226      254      254   \n",
       "12162       85      100      118      108      135      158       74       88   \n",
       "4879        67       90      104       67       90      104       67       90   \n",
       "\n",
       "       pixel_8  pixel_9  ...  pixel_7491  pixel_7492  pixel_7493  pixel_7494  \\\n",
       "14149       71      178  ...          32          88          57          50   \n",
       "8946        82      145  ...         210         220         227         210   \n",
       "22378      253      246  ...          45          51          46          39   \n",
       "12162       90       27  ...          41          50          63          52   \n",
       "4879       105       72  ...          22          74         141          42   \n",
       "\n",
       "       pixel_7495  pixel_7496  pixel_7497  pixel_7498  pixel_7499  label  \n",
       "14149         138          82         110         175         127      1  \n",
       "8946          221         225         210         221         225      0  \n",
       "22378          51          45          40          52          46      1  \n",
       "12162          69          88          60          72          92      0  \n",
       "4879           94         161          43          95         162      0  \n",
       "\n",
       "[5 rows x 7501 columns]"
      ]
     },
     "execution_count": 10,
     "metadata": {},
     "output_type": "execute_result"
    }
   ],
   "source": [
    "df2_fliped_shuffled = df2_fliped.sample(frac=1,random_state=0)\n",
    "df2_fliped_shuffled.head()"
   ]
  },
  {
   "cell_type": "code",
   "execution_count": 11,
   "metadata": {},
   "outputs": [
    {
     "data": {
      "text/html": [
       "<div>\n",
       "<style scoped>\n",
       "    .dataframe tbody tr th:only-of-type {\n",
       "        vertical-align: middle;\n",
       "    }\n",
       "\n",
       "    .dataframe tbody tr th {\n",
       "        vertical-align: top;\n",
       "    }\n",
       "\n",
       "    .dataframe thead th {\n",
       "        text-align: right;\n",
       "    }\n",
       "</style>\n",
       "<table border=\"1\" class=\"dataframe\">\n",
       "  <thead>\n",
       "    <tr style=\"text-align: right;\">\n",
       "      <th></th>\n",
       "      <th>pixel_0</th>\n",
       "      <th>pixel_1</th>\n",
       "      <th>pixel_2</th>\n",
       "      <th>pixel_3</th>\n",
       "      <th>pixel_4</th>\n",
       "      <th>pixel_5</th>\n",
       "      <th>pixel_6</th>\n",
       "      <th>pixel_7</th>\n",
       "      <th>pixel_8</th>\n",
       "      <th>pixel_9</th>\n",
       "      <th>...</th>\n",
       "      <th>pixel_7491</th>\n",
       "      <th>pixel_7492</th>\n",
       "      <th>pixel_7493</th>\n",
       "      <th>pixel_7494</th>\n",
       "      <th>pixel_7495</th>\n",
       "      <th>pixel_7496</th>\n",
       "      <th>pixel_7497</th>\n",
       "      <th>pixel_7498</th>\n",
       "      <th>pixel_7499</th>\n",
       "      <th>label</th>\n",
       "    </tr>\n",
       "  </thead>\n",
       "  <tbody>\n",
       "    <tr>\n",
       "      <th>0</th>\n",
       "      <td>105</td>\n",
       "      <td>123</td>\n",
       "      <td>109</td>\n",
       "      <td>135</td>\n",
       "      <td>154</td>\n",
       "      <td>140</td>\n",
       "      <td>114</td>\n",
       "      <td>138</td>\n",
       "      <td>126</td>\n",
       "      <td>114</td>\n",
       "      <td>...</td>\n",
       "      <td>178</td>\n",
       "      <td>174</td>\n",
       "      <td>96</td>\n",
       "      <td>175</td>\n",
       "      <td>170</td>\n",
       "      <td>92</td>\n",
       "      <td>175</td>\n",
       "      <td>172</td>\n",
       "      <td>91</td>\n",
       "      <td>0</td>\n",
       "    </tr>\n",
       "    <tr>\n",
       "      <th>1</th>\n",
       "      <td>20</td>\n",
       "      <td>72</td>\n",
       "      <td>70</td>\n",
       "      <td>6</td>\n",
       "      <td>35</td>\n",
       "      <td>40</td>\n",
       "      <td>87</td>\n",
       "      <td>128</td>\n",
       "      <td>132</td>\n",
       "      <td>71</td>\n",
       "      <td>...</td>\n",
       "      <td>83</td>\n",
       "      <td>102</td>\n",
       "      <td>135</td>\n",
       "      <td>55</td>\n",
       "      <td>80</td>\n",
       "      <td>118</td>\n",
       "      <td>65</td>\n",
       "      <td>84</td>\n",
       "      <td>111</td>\n",
       "      <td>1</td>\n",
       "    </tr>\n",
       "    <tr>\n",
       "      <th>2</th>\n",
       "      <td>37</td>\n",
       "      <td>41</td>\n",
       "      <td>36</td>\n",
       "      <td>39</td>\n",
       "      <td>43</td>\n",
       "      <td>38</td>\n",
       "      <td>39</td>\n",
       "      <td>43</td>\n",
       "      <td>38</td>\n",
       "      <td>37</td>\n",
       "      <td>...</td>\n",
       "      <td>69</td>\n",
       "      <td>91</td>\n",
       "      <td>96</td>\n",
       "      <td>61</td>\n",
       "      <td>83</td>\n",
       "      <td>88</td>\n",
       "      <td>57</td>\n",
       "      <td>79</td>\n",
       "      <td>84</td>\n",
       "      <td>1</td>\n",
       "    </tr>\n",
       "    <tr>\n",
       "      <th>3</th>\n",
       "      <td>22</td>\n",
       "      <td>35</td>\n",
       "      <td>43</td>\n",
       "      <td>84</td>\n",
       "      <td>104</td>\n",
       "      <td>115</td>\n",
       "      <td>91</td>\n",
       "      <td>116</td>\n",
       "      <td>134</td>\n",
       "      <td>93</td>\n",
       "      <td>...</td>\n",
       "      <td>161</td>\n",
       "      <td>182</td>\n",
       "      <td>191</td>\n",
       "      <td>141</td>\n",
       "      <td>166</td>\n",
       "      <td>168</td>\n",
       "      <td>93</td>\n",
       "      <td>127</td>\n",
       "      <td>121</td>\n",
       "      <td>1</td>\n",
       "    </tr>\n",
       "    <tr>\n",
       "      <th>4</th>\n",
       "      <td>1</td>\n",
       "      <td>1</td>\n",
       "      <td>1</td>\n",
       "      <td>1</td>\n",
       "      <td>1</td>\n",
       "      <td>1</td>\n",
       "      <td>1</td>\n",
       "      <td>1</td>\n",
       "      <td>1</td>\n",
       "      <td>1</td>\n",
       "      <td>...</td>\n",
       "      <td>1</td>\n",
       "      <td>1</td>\n",
       "      <td>1</td>\n",
       "      <td>1</td>\n",
       "      <td>1</td>\n",
       "      <td>1</td>\n",
       "      <td>1</td>\n",
       "      <td>1</td>\n",
       "      <td>1</td>\n",
       "      <td>1</td>\n",
       "    </tr>\n",
       "  </tbody>\n",
       "</table>\n",
       "<p>5 rows × 7501 columns</p>\n",
       "</div>"
      ],
      "text/plain": [
       "   pixel_0  pixel_1  pixel_2  pixel_3  pixel_4  pixel_5  pixel_6  pixel_7  \\\n",
       "0      105      123      109      135      154      140      114      138   \n",
       "1       20       72       70        6       35       40       87      128   \n",
       "2       37       41       36       39       43       38       39       43   \n",
       "3       22       35       43       84      104      115       91      116   \n",
       "4        1        1        1        1        1        1        1        1   \n",
       "\n",
       "   pixel_8  pixel_9  ...  pixel_7491  pixel_7492  pixel_7493  pixel_7494  \\\n",
       "0      126      114  ...         178         174          96         175   \n",
       "1      132       71  ...          83         102         135          55   \n",
       "2       38       37  ...          69          91          96          61   \n",
       "3      134       93  ...         161         182         191         141   \n",
       "4        1        1  ...           1           1           1           1   \n",
       "\n",
       "   pixel_7495  pixel_7496  pixel_7497  pixel_7498  pixel_7499  label  \n",
       "0         170          92         175         172          91      0  \n",
       "1          80         118          65          84         111      1  \n",
       "2          83          88          57          79          84      1  \n",
       "3         166         168          93         127         121      1  \n",
       "4           1           1           1           1           1      1  \n",
       "\n",
       "[5 rows x 7501 columns]"
      ]
     },
     "execution_count": 11,
     "metadata": {},
     "output_type": "execute_result"
    }
   ],
   "source": [
    "train_fliped = df2_fliped_shuffled.iloc[5000:]\n",
    "train_fliped.reset_index(drop=True,inplace=True)\n",
    "train_fliped.head()"
   ]
  },
  {
   "cell_type": "code",
   "execution_count": 12,
   "metadata": {},
   "outputs": [],
   "source": [
    "train_fliped_data = train_fliped.drop('label',axis=1)\n",
    "train_fliped_target = train_fliped['label']"
   ]
  },
  {
   "cell_type": "code",
   "execution_count": 23,
   "metadata": {},
   "outputs": [
    {
     "data": {
      "text/plain": [
       "<matplotlib.image.AxesImage at 0x1da24033d00>"
      ]
     },
     "execution_count": 23,
     "metadata": {},
     "output_type": "execute_result"
    },
    {
     "data": {
      "image/png": "[encoded data removed]",
      "text/plain": [
       "<Figure size 432x288 with 1 Axes>"
      ]
     },
     "metadata": {
      "needs_background": "light"
     },
     "output_type": "display_data"
    }
   ],
   "source": [
    "plt.imshow(np.flip(np.array(train_fliped_data.loc[1]).reshape(50,50,3),2))"
   ]
  },
  {
   "cell_type": "code",
   "execution_count": 13,
   "metadata": {},
   "outputs": [],
   "source": [
    "full_train_data = pd.concat([train_data,train_fliped_data])"
   ]
  },
  {
   "cell_type": "code",
   "execution_count": 14,
   "metadata": {},
   "outputs": [],
   "source": [
    "full_train_target = pd.concat([train_target,train_fliped_target])"
   ]
  },
  {
   "cell_type": "code",
   "execution_count": 15,
   "metadata": {},
   "outputs": [],
   "source": [
    "sc= StandardScaler()\n",
    "scaled_train = sc.fit_transform(full_train_data)\n",
    "scaled_test = sc.transform(test_data)"
   ]
  },
  {
   "cell_type": "code",
   "execution_count": 29,
   "metadata": {},
   "outputs": [
    {
     "data": {
      "text/plain": [
       "RandomForestClassifier()"
      ]
     },
     "execution_count": 29,
     "metadata": {},
     "output_type": "execute_result"
    }
   ],
   "source": [
    "rfc = RandomForestClassifier()\n",
    "rfc.fit(scaled_train,full_train_target)\n",
    "rfc"
   ]
  },
  {
   "cell_type": "code",
   "execution_count": 30,
   "metadata": {},
   "outputs": [],
   "source": [
    "y_pred = rfc.predict(scaled_test)"
   ]
  },
  {
   "cell_type": "code",
   "execution_count": 31,
   "metadata": {},
   "outputs": [
    {
     "name": "stdout",
     "output_type": "stream",
     "text": [
      "              precision    recall  f1-score   support\n",
      "\n",
      "           0       0.66      0.71      0.68      2496\n",
      "           1       0.69      0.63      0.66      2504\n",
      "\n",
      "    accuracy                           0.67      5000\n",
      "   macro avg       0.67      0.67      0.67      5000\n",
      "weighted avg       0.67      0.67      0.67      5000\n",
      "\n"
     ]
    }
   ],
   "source": [
    "print (classification_report(test_target,y_pred))"
   ]
  },
  {
   "cell_type": "code",
   "execution_count": 32,
   "metadata": {},
   "outputs": [
    {
     "data": {
      "text/plain": [
       "0.6702"
      ]
     },
     "execution_count": 32,
     "metadata": {},
     "output_type": "execute_result"
    }
   ],
   "source": [
    "metrics.accuracy_score(test_target,y_pred)"
   ]
  },
  {
   "cell_type": "code",
   "execution_count": 33,
   "metadata": {},
   "outputs": [
    {
     "data": {
      "text/plain": [
       "Text(33.0, 0.5, 'Actual')"
      ]
     },
     "execution_count": 33,
     "metadata": {},
     "output_type": "execute_result"
    },
    {
     "data": {
      "image/png": "[encoded data removed]",
      "text/plain": [
       "<Figure size 432x288 with 2 Axes>"
      ]
     },
     "metadata": {
      "needs_background": "light"
     },
     "output_type": "display_data"
    }
   ],
   "source": [
    "cm = confusion_matrix(test_target,y_pred)\n",
    "sns.heatmap(cm,annot=True,annot_kws = {'size':15},fmt=\".1f\")\n",
    "plt.xlabel(\"Predict\")\n",
    "plt.ylabel(\"Actual\")"
   ]
  },
  {
   "cell_type": "code",
   "execution_count": 16,
   "metadata": {},
   "outputs": [
    {
     "name": "stdout",
     "output_type": "stream",
     "text": [
      "[02:22:44] WARNING: ..\\src\\learner.cc:1061: Starting in XGBoost 1.3.0, the default evaluation metric used with the objective 'binary:logistic' was changed from 'error' to 'logloss'. Explicitly set eval_metric if you'd like to restore the old behavior.\n"
     ]
    },
    {
     "data": {
      "text/plain": [
       "XGBClassifier(base_score=0.5, booster='gbtree', colsample_bylevel=1,\n",
       "              colsample_bynode=1, colsample_bytree=1, gamma=0, gpu_id=-1,\n",
       "              importance_type='gain', interaction_constraints='',\n",
       "              learning_rate=0.300000012, max_delta_step=0, max_depth=6,\n",
       "              min_child_weight=1, missing=nan, monotone_constraints='()',\n",
       "              n_estimators=100, n_jobs=8, num_parallel_tree=1, random_state=0,\n",
       "              reg_alpha=0, reg_lambda=1, scale_pos_weight=1, subsample=1,\n",
       "              tree_method='exact', use_label_encoder=False,\n",
       "              validate_parameters=1, verbosity=None)"
      ]
     },
     "execution_count": 16,
     "metadata": {},
     "output_type": "execute_result"
    }
   ],
   "source": [
    "xg = XGBClassifier(use_label_encoder=False)\n",
    "xg.fit(scaled_train,full_train_target)"
   ]
  },
  {
   "cell_type": "code",
   "execution_count": 17,
   "metadata": {},
   "outputs": [],
   "source": [
    "y_pred = xg.predict(scaled_test)"
   ]
  },
  {
   "cell_type": "code",
   "execution_count": 18,
   "metadata": {},
   "outputs": [
    {
     "name": "stdout",
     "output_type": "stream",
     "text": [
      "              precision    recall  f1-score   support\n",
      "\n",
      "           0       0.69      0.71      0.70      2496\n",
      "           1       0.70      0.68      0.69      2504\n",
      "\n",
      "    accuracy                           0.69      5000\n",
      "   macro avg       0.69      0.69      0.69      5000\n",
      "weighted avg       0.69      0.69      0.69      5000\n",
      "\n"
     ]
    }
   ],
   "source": [
    "print (classification_report(test_target,y_pred))"
   ]
  },
  {
   "cell_type": "code",
   "execution_count": 19,
   "metadata": {},
   "outputs": [
    {
     "data": {
      "text/plain": [
       "0.6948"
      ]
     },
     "execution_count": 19,
     "metadata": {},
     "output_type": "execute_result"
    }
   ],
   "source": [
    "metrics.accuracy_score(test_target,y_pred)"
   ]
  },
  {
   "cell_type": "code",
   "execution_count": 20,
   "metadata": {},
   "outputs": [
    {
     "data": {
      "text/plain": [
       "Text(33.0, 0.5, 'Actual')"
      ]
     },
     "execution_count": 20,
     "metadata": {},
     "output_type": "execute_result"
    },
    {
     "data": {
      "image/png": "[encoded data removed]",
      "text/plain": [
       "<Figure size 432x288 with 2 Axes>"
      ]
     },
     "metadata": {
      "needs_background": "light"
     },
     "output_type": "display_data"
    }
   ],
   "source": [
    "cm = confusion_matrix(test_target,y_pred)\n",
    "sns.heatmap(cm,annot=True,annot_kws = {'size':15},fmt=\".1f\")\n",
    "plt.xlabel(\"Predict\")\n",
    "plt.ylabel(\"Actual\")"
   ]
  },
  {
   "cell_type": "code",
   "execution_count": 21,
   "metadata": {},
   "outputs": [],
   "source": [
    "xg = XGBClassifier(use_label_encoder=False)\n",
    "rfc = RandomForestClassifier()\n",
    "vot = VotingClassifier(estimators=[('xg',xg),('rfc',rfc)],voting='soft')"
   ]
  },
  {
   "cell_type": "code",
   "execution_count": 22,
   "metadata": {},
   "outputs": [
    {
     "name": "stdout",
     "output_type": "stream",
     "text": [
      "[02:30:29] WARNING: ..\\src\\learner.cc:1061: Starting in XGBoost 1.3.0, the default evaluation metric used with the objective 'binary:logistic' was changed from 'error' to 'logloss'. Explicitly set eval_metric if you'd like to restore the old behavior.\n"
     ]
    },
    {
     "data": {
      "text/plain": [
       "VotingClassifier(estimators=[('xg',\n",
       "                              XGBClassifier(base_score=None, booster=None,\n",
       "                                            colsample_bylevel=None,\n",
       "                                            colsample_bynode=None,\n",
       "                                            colsample_bytree=None, gamma=None,\n",
       "                                            gpu_id=None, importance_type='gain',\n",
       "                                            interaction_constraints=None,\n",
       "                                            learning_rate=None,\n",
       "                                            max_delta_step=None, max_depth=None,\n",
       "                                            min_child_weight=None, missing=nan,\n",
       "                                            monotone_constraints=None,\n",
       "                                            n_estimators=100, n_jobs=None,\n",
       "                                            num_parallel_tree=None,\n",
       "                                            random_state=None, reg_alpha=None,\n",
       "                                            reg_lambda=None,\n",
       "                                            scale_pos_weight=None,\n",
       "                                            subsample=None, tree_method=None,\n",
       "                                            use_label_encoder=False,\n",
       "                                            validate_parameters=None,\n",
       "                                            verbosity=None)),\n",
       "                             ('rfc', RandomForestClassifier())],\n",
       "                 voting='soft')"
      ]
     },
     "execution_count": 22,
     "metadata": {},
     "output_type": "execute_result"
    }
   ],
   "source": [
    "vot.fit(scaled_train,full_train_target)"
   ]
  },
  {
   "cell_type": "code",
   "execution_count": 23,
   "metadata": {},
   "outputs": [],
   "source": [
    "y_pred = vot.predict(scaled_test)"
   ]
  },
  {
   "cell_type": "code",
   "execution_count": 24,
   "metadata": {},
   "outputs": [
    {
     "name": "stdout",
     "output_type": "stream",
     "text": [
      "              precision    recall  f1-score   support\n",
      "\n",
      "           0       0.69      0.71      0.70      2496\n",
      "           1       0.70      0.69      0.69      2504\n",
      "\n",
      "    accuracy                           0.70      5000\n",
      "   macro avg       0.70      0.70      0.70      5000\n",
      "weighted avg       0.70      0.70      0.70      5000\n",
      "\n"
     ]
    }
   ],
   "source": [
    "print (classification_report(test_target,y_pred))"
   ]
  },
  {
   "cell_type": "code",
   "execution_count": 25,
   "metadata": {},
   "outputs": [
    {
     "data": {
      "text/plain": [
       "0.6976"
      ]
     },
     "execution_count": 25,
     "metadata": {},
     "output_type": "execute_result"
    }
   ],
   "source": [
    "metrics.accuracy_score(test_target,y_pred)"
   ]
  },
  {
   "cell_type": "code",
   "execution_count": 26,
   "metadata": {},
   "outputs": [
    {
     "data": {
      "text/plain": [
       "Text(33.0, 0.5, 'Actual')"
      ]
     },
     "execution_count": 26,
     "metadata": {},
     "output_type": "execute_result"
    },
    {
     "data": {
      "image/png": "[encoded data removed]",
      "text/plain": [
       "<Figure size 432x288 with 2 Axes>"
      ]
     },
     "metadata": {
      "needs_background": "light"
     },
     "output_type": "display_data"
    }
   ],
   "source": [
    "cm = confusion_matrix(test_target,y_pred)\n",
    "sns.heatmap(cm,annot=True,annot_kws = {'size':15},fmt=\".1f\")\n",
    "plt.xlabel(\"Predict\")\n",
    "plt.ylabel(\"Actual\")"
   ]
  },
  {
   "cell_type": "code",
   "execution_count": 27,
   "metadata": {},
   "outputs": [],
   "source": [
    "pca = PCA()\n",
    "pca.fit(scaled_train)\n",
    "cumsum = np.cumsum(pca.explained_variance_ratio_)\n",
    "d = np.argmax(cumsum >= 0.8) + 1"
   ]
  },
  {
   "cell_type": "code",
   "execution_count": 28,
   "metadata": {},
   "outputs": [
    {
     "data": {
      "image/png": "[encoded data removed]",
      "text/plain": [
       "<Figure size 720x288 with 1 Axes>"
      ]
     },
     "metadata": {
      "needs_background": "light"
     },
     "output_type": "display_data"
    }
   ],
   "source": [
    "plt.figure(figsize=(10,4))\n",
    "plt.plot(cumsum, linewidth=3)\n",
    "plt.axis([0, 400, 0, 1])\n",
    "plt.xlabel(\"Dimensions\")\n",
    "plt.ylabel(\"Explained Variance\")\n",
    "plt.plot([d, d], [0, 0.8], \"k:\")\n",
    "plt.plot([0, d], [0.8, 0.8], \"k:\")\n",
    "plt.plot(d, 0.8, \"ko\")\n",
    "plt.grid(True)\n",
    "plt.show()"
   ]
  },
  {
   "cell_type": "code",
   "execution_count": 29,
   "metadata": {},
   "outputs": [],
   "source": [
    "knn = KNeighborsClassifier()\n",
    "dtc = DecisionTreeClassifier()\n",
    "rfc = RandomForestClassifier()\n",
    "pca = PCA(n_components=0.8)"
   ]
  },
  {
   "cell_type": "code",
   "execution_count": 30,
   "metadata": {},
   "outputs": [
    {
     "data": {
      "text/plain": [
       "(40000, 91)"
      ]
     },
     "execution_count": 30,
     "metadata": {},
     "output_type": "execute_result"
    }
   ],
   "source": [
    "redueced_train = pca.fit_transform(scaled_train)\n",
    "redueced_train.shape"
   ]
  },
  {
   "cell_type": "code",
   "execution_count": 31,
   "metadata": {},
   "outputs": [
    {
     "data": {
      "text/plain": [
       "(5000, 91)"
      ]
     },
     "execution_count": 31,
     "metadata": {},
     "output_type": "execute_result"
    }
   ],
   "source": [
    "redueced_test = pca.transform(scaled_test)\n",
    "redueced_test.shape"
   ]
  },
  {
   "cell_type": "code",
   "execution_count": 32,
   "metadata": {},
   "outputs": [
    {
     "data": {
      "text/plain": [
       "XGBClassifier(base_score=0.5, booster='gbtree', colsample_bylevel=1,\n",
       "              colsample_bynode=1, colsample_bytree=1, eval_metric='logloss',\n",
       "              gamma=0, gpu_id=-1, importance_type='gain',\n",
       "              interaction_constraints='', learning_rate=0.300000012,\n",
       "              max_delta_step=0, max_depth=6, min_child_weight=1, missing=nan,\n",
       "              monotone_constraints='()', n_estimators=100, n_jobs=8,\n",
       "              num_parallel_tree=1, random_state=0, reg_alpha=0, reg_lambda=1,\n",
       "              scale_pos_weight=1, subsample=1, tree_method='exact',\n",
       "              use_label_encoder=False, validate_parameters=1, verbosity=None)"
      ]
     },
     "execution_count": 32,
     "metadata": {},
     "output_type": "execute_result"
    }
   ],
   "source": [
    "xg = XGBClassifier(use_label_encoder=False,eval_metric='logloss')\n",
    "xg.fit(redueced_train,full_train_target)"
   ]
  },
  {
   "cell_type": "code",
   "execution_count": 33,
   "metadata": {},
   "outputs": [],
   "source": [
    "y_pred = xg.predict(redueced_test)"
   ]
  },
  {
   "cell_type": "code",
   "execution_count": 34,
   "metadata": {},
   "outputs": [
    {
     "name": "stdout",
     "output_type": "stream",
     "text": [
      "              precision    recall  f1-score   support\n",
      "\n",
      "           0       0.65      0.64      0.65      2496\n",
      "           1       0.65      0.66      0.65      2504\n",
      "\n",
      "    accuracy                           0.65      5000\n",
      "   macro avg       0.65      0.65      0.65      5000\n",
      "weighted avg       0.65      0.65      0.65      5000\n",
      "\n"
     ]
    }
   ],
   "source": [
    "print (classification_report(test_target,y_pred))"
   ]
  },
  {
   "cell_type": "code",
   "execution_count": 35,
   "metadata": {},
   "outputs": [
    {
     "data": {
      "text/plain": [
       "0.649"
      ]
     },
     "execution_count": 35,
     "metadata": {},
     "output_type": "execute_result"
    }
   ],
   "source": [
    "metrics.accuracy_score(test_target,y_pred)"
   ]
  },
  {
   "cell_type": "code",
   "execution_count": null,
   "metadata": {},
   "outputs": [],
   "source": []
  },
  {
   "cell_type": "code",
   "execution_count": null,
   "metadata": {},
   "outputs": [],
   "source": [
    "param_knn = {\n",
    "    'knn__n_neighbors': list(range(2,11,2)),\n",
    "    'knn__weights': ['uniform','distance']  \n",
    "}"
   ]
  },
  {
   "cell_type": "code",
   "execution_count": null,
   "metadata": {},
   "outputs": [],
   "source": [
    "path = dtc.cost_complexity_pruning_path(redueced_train,y_train)\n",
    "alphas = path.ccp_alphas\n",
    "param_dtc = {'dtc__ccp_alpha':alphas}"
   ]
  },
  {
   "cell_type": "code",
   "execution_count": null,
   "metadata": {},
   "outputs": [],
   "source": [
    "param_rfc = {'rfc__n_estimators':[100,200,300,400,500],\n",
    "    'rfc__max_depth' : list(range(2,21,2))}"
   ]
  },
  {
   "cell_type": "code",
   "execution_count": null,
   "metadata": {},
   "outputs": [],
   "source": []
  },
  {
   "cell_type": "code",
   "execution_count": null,
   "metadata": {},
   "outputs": [],
   "source": []
  },
  {
   "cell_type": "code",
   "execution_count": 34,
   "metadata": {},
   "outputs": [],
   "source": [
    "train_data_fliped2 = []\n",
    "train_label_fliped2 = []\n",
    "for img in os.listdir(r'C:\\Users\\anitay\\Desktop\\Ors folder\\train'):\n",
    "    label = label_img(img)\n",
    "    path = os.path.join(r'C:\\Users\\anitay\\Desktop\\Ors folder\\train',img)\n",
    "    img = cv2.resize(cv2.imread(path),(50,50))\n",
    "    img = cv2.flip(img,0)\n",
    "    train_data_fliped2.append(np.array(img).flatten())\n",
    "    train_label_fliped2.append(label)"
   ]
  },
  {
   "cell_type": "code",
   "execution_count": 35,
   "metadata": {},
   "outputs": [
    {
     "data": {
      "text/html": [
       "<div>\n",
       "<style scoped>\n",
       "    .dataframe tbody tr th:only-of-type {\n",
       "        vertical-align: middle;\n",
       "    }\n",
       "\n",
       "    .dataframe tbody tr th {\n",
       "        vertical-align: top;\n",
       "    }\n",
       "\n",
       "    .dataframe thead th {\n",
       "        text-align: right;\n",
       "    }\n",
       "</style>\n",
       "<table border=\"1\" class=\"dataframe\">\n",
       "  <thead>\n",
       "    <tr style=\"text-align: right;\">\n",
       "      <th></th>\n",
       "      <th>pixel_0</th>\n",
       "      <th>pixel_1</th>\n",
       "      <th>pixel_2</th>\n",
       "      <th>pixel_3</th>\n",
       "      <th>pixel_4</th>\n",
       "      <th>pixel_5</th>\n",
       "      <th>pixel_6</th>\n",
       "      <th>pixel_7</th>\n",
       "      <th>pixel_8</th>\n",
       "      <th>pixel_9</th>\n",
       "      <th>...</th>\n",
       "      <th>pixel_7491</th>\n",
       "      <th>pixel_7492</th>\n",
       "      <th>pixel_7493</th>\n",
       "      <th>pixel_7494</th>\n",
       "      <th>pixel_7495</th>\n",
       "      <th>pixel_7496</th>\n",
       "      <th>pixel_7497</th>\n",
       "      <th>pixel_7498</th>\n",
       "      <th>pixel_7499</th>\n",
       "      <th>label</th>\n",
       "    </tr>\n",
       "  </thead>\n",
       "  <tbody>\n",
       "    <tr>\n",
       "      <th>0</th>\n",
       "      <td>57</td>\n",
       "      <td>124</td>\n",
       "      <td>155</td>\n",
       "      <td>62</td>\n",
       "      <td>129</td>\n",
       "      <td>160</td>\n",
       "      <td>60</td>\n",
       "      <td>132</td>\n",
       "      <td>166</td>\n",
       "      <td>66</td>\n",
       "      <td>...</td>\n",
       "      <td>146</td>\n",
       "      <td>219</td>\n",
       "      <td>249</td>\n",
       "      <td>133</td>\n",
       "      <td>212</td>\n",
       "      <td>247</td>\n",
       "      <td>122</td>\n",
       "      <td>204</td>\n",
       "      <td>245</td>\n",
       "      <td>0</td>\n",
       "    </tr>\n",
       "    <tr>\n",
       "      <th>1</th>\n",
       "      <td>23</td>\n",
       "      <td>22</td>\n",
       "      <td>24</td>\n",
       "      <td>22</td>\n",
       "      <td>21</td>\n",
       "      <td>23</td>\n",
       "      <td>20</td>\n",
       "      <td>18</td>\n",
       "      <td>20</td>\n",
       "      <td>18</td>\n",
       "      <td>...</td>\n",
       "      <td>121</td>\n",
       "      <td>95</td>\n",
       "      <td>88</td>\n",
       "      <td>107</td>\n",
       "      <td>93</td>\n",
       "      <td>88</td>\n",
       "      <td>167</td>\n",
       "      <td>195</td>\n",
       "      <td>199</td>\n",
       "      <td>0</td>\n",
       "    </tr>\n",
       "    <tr>\n",
       "      <th>2</th>\n",
       "      <td>111</td>\n",
       "      <td>155</td>\n",
       "      <td>168</td>\n",
       "      <td>106</td>\n",
       "      <td>143</td>\n",
       "      <td>157</td>\n",
       "      <td>97</td>\n",
       "      <td>132</td>\n",
       "      <td>146</td>\n",
       "      <td>100</td>\n",
       "      <td>...</td>\n",
       "      <td>157</td>\n",
       "      <td>158</td>\n",
       "      <td>124</td>\n",
       "      <td>150</td>\n",
       "      <td>158</td>\n",
       "      <td>129</td>\n",
       "      <td>159</td>\n",
       "      <td>163</td>\n",
       "      <td>131</td>\n",
       "      <td>0</td>\n",
       "    </tr>\n",
       "    <tr>\n",
       "      <th>3</th>\n",
       "      <td>213</td>\n",
       "      <td>209</td>\n",
       "      <td>211</td>\n",
       "      <td>202</td>\n",
       "      <td>195</td>\n",
       "      <td>206</td>\n",
       "      <td>202</td>\n",
       "      <td>199</td>\n",
       "      <td>211</td>\n",
       "      <td>128</td>\n",
       "      <td>...</td>\n",
       "      <td>232</td>\n",
       "      <td>230</td>\n",
       "      <td>229</td>\n",
       "      <td>250</td>\n",
       "      <td>245</td>\n",
       "      <td>244</td>\n",
       "      <td>241</td>\n",
       "      <td>236</td>\n",
       "      <td>235</td>\n",
       "      <td>0</td>\n",
       "    </tr>\n",
       "    <tr>\n",
       "      <th>4</th>\n",
       "      <td>46</td>\n",
       "      <td>56</td>\n",
       "      <td>63</td>\n",
       "      <td>44</td>\n",
       "      <td>57</td>\n",
       "      <td>65</td>\n",
       "      <td>39</td>\n",
       "      <td>56</td>\n",
       "      <td>65</td>\n",
       "      <td>49</td>\n",
       "      <td>...</td>\n",
       "      <td>0</td>\n",
       "      <td>15</td>\n",
       "      <td>73</td>\n",
       "      <td>26</td>\n",
       "      <td>55</td>\n",
       "      <td>116</td>\n",
       "      <td>68</td>\n",
       "      <td>87</td>\n",
       "      <td>130</td>\n",
       "      <td>0</td>\n",
       "    </tr>\n",
       "    <tr>\n",
       "      <th>...</th>\n",
       "      <td>...</td>\n",
       "      <td>...</td>\n",
       "      <td>...</td>\n",
       "      <td>...</td>\n",
       "      <td>...</td>\n",
       "      <td>...</td>\n",
       "      <td>...</td>\n",
       "      <td>...</td>\n",
       "      <td>...</td>\n",
       "      <td>...</td>\n",
       "      <td>...</td>\n",
       "      <td>...</td>\n",
       "      <td>...</td>\n",
       "      <td>...</td>\n",
       "      <td>...</td>\n",
       "      <td>...</td>\n",
       "      <td>...</td>\n",
       "      <td>...</td>\n",
       "      <td>...</td>\n",
       "      <td>...</td>\n",
       "      <td>...</td>\n",
       "    </tr>\n",
       "    <tr>\n",
       "      <th>24995</th>\n",
       "      <td>47</td>\n",
       "      <td>70</td>\n",
       "      <td>72</td>\n",
       "      <td>48</td>\n",
       "      <td>71</td>\n",
       "      <td>73</td>\n",
       "      <td>48</td>\n",
       "      <td>71</td>\n",
       "      <td>73</td>\n",
       "      <td>47</td>\n",
       "      <td>...</td>\n",
       "      <td>154</td>\n",
       "      <td>189</td>\n",
       "      <td>199</td>\n",
       "      <td>155</td>\n",
       "      <td>190</td>\n",
       "      <td>200</td>\n",
       "      <td>155</td>\n",
       "      <td>190</td>\n",
       "      <td>200</td>\n",
       "      <td>1</td>\n",
       "    </tr>\n",
       "    <tr>\n",
       "      <th>24996</th>\n",
       "      <td>54</td>\n",
       "      <td>77</td>\n",
       "      <td>100</td>\n",
       "      <td>68</td>\n",
       "      <td>94</td>\n",
       "      <td>110</td>\n",
       "      <td>50</td>\n",
       "      <td>78</td>\n",
       "      <td>102</td>\n",
       "      <td>62</td>\n",
       "      <td>...</td>\n",
       "      <td>38</td>\n",
       "      <td>79</td>\n",
       "      <td>102</td>\n",
       "      <td>47</td>\n",
       "      <td>116</td>\n",
       "      <td>113</td>\n",
       "      <td>35</td>\n",
       "      <td>74</td>\n",
       "      <td>88</td>\n",
       "      <td>1</td>\n",
       "    </tr>\n",
       "    <tr>\n",
       "      <th>24997</th>\n",
       "      <td>47</td>\n",
       "      <td>70</td>\n",
       "      <td>94</td>\n",
       "      <td>96</td>\n",
       "      <td>142</td>\n",
       "      <td>167</td>\n",
       "      <td>71</td>\n",
       "      <td>91</td>\n",
       "      <td>120</td>\n",
       "      <td>43</td>\n",
       "      <td>...</td>\n",
       "      <td>54</td>\n",
       "      <td>57</td>\n",
       "      <td>62</td>\n",
       "      <td>61</td>\n",
       "      <td>70</td>\n",
       "      <td>77</td>\n",
       "      <td>60</td>\n",
       "      <td>68</td>\n",
       "      <td>75</td>\n",
       "      <td>1</td>\n",
       "    </tr>\n",
       "    <tr>\n",
       "      <th>24998</th>\n",
       "      <td>80</td>\n",
       "      <td>84</td>\n",
       "      <td>99</td>\n",
       "      <td>74</td>\n",
       "      <td>79</td>\n",
       "      <td>94</td>\n",
       "      <td>74</td>\n",
       "      <td>79</td>\n",
       "      <td>94</td>\n",
       "      <td>69</td>\n",
       "      <td>...</td>\n",
       "      <td>215</td>\n",
       "      <td>235</td>\n",
       "      <td>244</td>\n",
       "      <td>228</td>\n",
       "      <td>232</td>\n",
       "      <td>255</td>\n",
       "      <td>240</td>\n",
       "      <td>248</td>\n",
       "      <td>253</td>\n",
       "      <td>1</td>\n",
       "    </tr>\n",
       "    <tr>\n",
       "      <th>24999</th>\n",
       "      <td>84</td>\n",
       "      <td>82</td>\n",
       "      <td>74</td>\n",
       "      <td>79</td>\n",
       "      <td>77</td>\n",
       "      <td>69</td>\n",
       "      <td>81</td>\n",
       "      <td>82</td>\n",
       "      <td>73</td>\n",
       "      <td>57</td>\n",
       "      <td>...</td>\n",
       "      <td>247</td>\n",
       "      <td>255</td>\n",
       "      <td>255</td>\n",
       "      <td>247</td>\n",
       "      <td>255</td>\n",
       "      <td>255</td>\n",
       "      <td>248</td>\n",
       "      <td>255</td>\n",
       "      <td>255</td>\n",
       "      <td>1</td>\n",
       "    </tr>\n",
       "  </tbody>\n",
       "</table>\n",
       "<p>25000 rows × 7501 columns</p>\n",
       "</div>"
      ],
      "text/plain": [
       "       pixel_0  pixel_1  pixel_2  pixel_3  pixel_4  pixel_5  pixel_6  pixel_7  \\\n",
       "0           57      124      155       62      129      160       60      132   \n",
       "1           23       22       24       22       21       23       20       18   \n",
       "2          111      155      168      106      143      157       97      132   \n",
       "3          213      209      211      202      195      206      202      199   \n",
       "4           46       56       63       44       57       65       39       56   \n",
       "...        ...      ...      ...      ...      ...      ...      ...      ...   \n",
       "24995       47       70       72       48       71       73       48       71   \n",
       "24996       54       77      100       68       94      110       50       78   \n",
       "24997       47       70       94       96      142      167       71       91   \n",
       "24998       80       84       99       74       79       94       74       79   \n",
       "24999       84       82       74       79       77       69       81       82   \n",
       "\n",
       "       pixel_8  pixel_9  ...  pixel_7491  pixel_7492  pixel_7493  pixel_7494  \\\n",
       "0          166       66  ...         146         219         249         133   \n",
       "1           20       18  ...         121          95          88         107   \n",
       "2          146      100  ...         157         158         124         150   \n",
       "3          211      128  ...         232         230         229         250   \n",
       "4           65       49  ...           0          15          73          26   \n",
       "...        ...      ...  ...         ...         ...         ...         ...   \n",
       "24995       73       47  ...         154         189         199         155   \n",
       "24996      102       62  ...          38          79         102          47   \n",
       "24997      120       43  ...          54          57          62          61   \n",
       "24998       94       69  ...         215         235         244         228   \n",
       "24999       73       57  ...         247         255         255         247   \n",
       "\n",
       "       pixel_7495  pixel_7496  pixel_7497  pixel_7498  pixel_7499  label  \n",
       "0             212         247         122         204         245      0  \n",
       "1              93          88         167         195         199      0  \n",
       "2             158         129         159         163         131      0  \n",
       "3             245         244         241         236         235      0  \n",
       "4              55         116          68          87         130      0  \n",
       "...           ...         ...         ...         ...         ...    ...  \n",
       "24995         190         200         155         190         200      1  \n",
       "24996         116         113          35          74          88      1  \n",
       "24997          70          77          60          68          75      1  \n",
       "24998         232         255         240         248         253      1  \n",
       "24999         255         255         248         255         255      1  \n",
       "\n",
       "[25000 rows x 7501 columns]"
      ]
     },
     "execution_count": 35,
     "metadata": {},
     "output_type": "execute_result"
    }
   ],
   "source": [
    "cols = []\n",
    "for i in range(7500):\n",
    "    cols.append(\"pixel_\"+str(i))\n",
    "df2_fliped2 = pd.DataFrame(train_data_fliped2,columns=cols)\n",
    "df2_fliped2['label']=train_label_fliped2\n",
    "df2_fliped2"
   ]
  },
  {
   "cell_type": "code",
   "execution_count": 37,
   "metadata": {},
   "outputs": [],
   "source": [
    "df2_fliped2.to_csv(r'C:\\Users\\anitay\\Desktop\\Ors folder\\upsidown.csv',index=False)"
   ]
  },
  {
   "cell_type": "code",
   "execution_count": 38,
   "metadata": {},
   "outputs": [],
   "source": [
    "train_data_fliped3 = []\n",
    "train_label_fliped3 = []\n",
    "for img in os.listdir(r'C:\\Users\\anitay\\Desktop\\Ors folder\\train'):\n",
    "    label = label_img(img)\n",
    "    path = os.path.join(r'C:\\Users\\anitay\\Desktop\\Ors folder\\train',img)\n",
    "    img = cv2.resize(cv2.imread(path),(50,50))\n",
    "    img = cv2.flip(img,-1)\n",
    "    train_data_fliped3.append(np.array(img).flatten())\n",
    "    train_label_fliped3.append(label)"
   ]
  },
  {
   "cell_type": "code",
   "execution_count": 39,
   "metadata": {},
   "outputs": [
    {
     "data": {
      "text/html": [
       "<div>\n",
       "<style scoped>\n",
       "    .dataframe tbody tr th:only-of-type {\n",
       "        vertical-align: middle;\n",
       "    }\n",
       "\n",
       "    .dataframe tbody tr th {\n",
       "        vertical-align: top;\n",
       "    }\n",
       "\n",
       "    .dataframe thead th {\n",
       "        text-align: right;\n",
       "    }\n",
       "</style>\n",
       "<table border=\"1\" class=\"dataframe\">\n",
       "  <thead>\n",
       "    <tr style=\"text-align: right;\">\n",
       "      <th></th>\n",
       "      <th>pixel_0</th>\n",
       "      <th>pixel_1</th>\n",
       "      <th>pixel_2</th>\n",
       "      <th>pixel_3</th>\n",
       "      <th>pixel_4</th>\n",
       "      <th>pixel_5</th>\n",
       "      <th>pixel_6</th>\n",
       "      <th>pixel_7</th>\n",
       "      <th>pixel_8</th>\n",
       "      <th>pixel_9</th>\n",
       "      <th>...</th>\n",
       "      <th>pixel_7491</th>\n",
       "      <th>pixel_7492</th>\n",
       "      <th>pixel_7493</th>\n",
       "      <th>pixel_7494</th>\n",
       "      <th>pixel_7495</th>\n",
       "      <th>pixel_7496</th>\n",
       "      <th>pixel_7497</th>\n",
       "      <th>pixel_7498</th>\n",
       "      <th>pixel_7499</th>\n",
       "      <th>label</th>\n",
       "    </tr>\n",
       "  </thead>\n",
       "  <tbody>\n",
       "    <tr>\n",
       "      <th>0</th>\n",
       "      <td>0</td>\n",
       "      <td>2</td>\n",
       "      <td>2</td>\n",
       "      <td>0</td>\n",
       "      <td>2</td>\n",
       "      <td>2</td>\n",
       "      <td>0</td>\n",
       "      <td>2</td>\n",
       "      <td>2</td>\n",
       "      <td>0</td>\n",
       "      <td>...</td>\n",
       "      <td>104</td>\n",
       "      <td>182</td>\n",
       "      <td>225</td>\n",
       "      <td>100</td>\n",
       "      <td>177</td>\n",
       "      <td>216</td>\n",
       "      <td>92</td>\n",
       "      <td>169</td>\n",
       "      <td>208</td>\n",
       "      <td>0</td>\n",
       "    </tr>\n",
       "    <tr>\n",
       "      <th>1</th>\n",
       "      <td>20</td>\n",
       "      <td>26</td>\n",
       "      <td>39</td>\n",
       "      <td>52</td>\n",
       "      <td>57</td>\n",
       "      <td>75</td>\n",
       "      <td>47</td>\n",
       "      <td>53</td>\n",
       "      <td>70</td>\n",
       "      <td>43</td>\n",
       "      <td>...</td>\n",
       "      <td>36</td>\n",
       "      <td>40</td>\n",
       "      <td>35</td>\n",
       "      <td>64</td>\n",
       "      <td>58</td>\n",
       "      <td>55</td>\n",
       "      <td>43</td>\n",
       "      <td>43</td>\n",
       "      <td>39</td>\n",
       "      <td>0</td>\n",
       "    </tr>\n",
       "    <tr>\n",
       "      <th>2</th>\n",
       "      <td>10</td>\n",
       "      <td>183</td>\n",
       "      <td>187</td>\n",
       "      <td>2</td>\n",
       "      <td>183</td>\n",
       "      <td>185</td>\n",
       "      <td>52</td>\n",
       "      <td>150</td>\n",
       "      <td>165</td>\n",
       "      <td>132</td>\n",
       "      <td>...</td>\n",
       "      <td>64</td>\n",
       "      <td>54</td>\n",
       "      <td>47</td>\n",
       "      <td>61</td>\n",
       "      <td>47</td>\n",
       "      <td>41</td>\n",
       "      <td>53</td>\n",
       "      <td>45</td>\n",
       "      <td>38</td>\n",
       "      <td>0</td>\n",
       "    </tr>\n",
       "    <tr>\n",
       "      <th>3</th>\n",
       "      <td>207</td>\n",
       "      <td>212</td>\n",
       "      <td>215</td>\n",
       "      <td>218</td>\n",
       "      <td>220</td>\n",
       "      <td>219</td>\n",
       "      <td>208</td>\n",
       "      <td>210</td>\n",
       "      <td>210</td>\n",
       "      <td>203</td>\n",
       "      <td>...</td>\n",
       "      <td>237</td>\n",
       "      <td>235</td>\n",
       "      <td>235</td>\n",
       "      <td>220</td>\n",
       "      <td>225</td>\n",
       "      <td>224</td>\n",
       "      <td>217</td>\n",
       "      <td>222</td>\n",
       "      <td>221</td>\n",
       "      <td>0</td>\n",
       "    </tr>\n",
       "    <tr>\n",
       "      <th>4</th>\n",
       "      <td>64</td>\n",
       "      <td>90</td>\n",
       "      <td>102</td>\n",
       "      <td>59</td>\n",
       "      <td>91</td>\n",
       "      <td>102</td>\n",
       "      <td>82</td>\n",
       "      <td>105</td>\n",
       "      <td>120</td>\n",
       "      <td>56</td>\n",
       "      <td>...</td>\n",
       "      <td>48</td>\n",
       "      <td>87</td>\n",
       "      <td>115</td>\n",
       "      <td>83</td>\n",
       "      <td>120</td>\n",
       "      <td>148</td>\n",
       "      <td>72</td>\n",
       "      <td>109</td>\n",
       "      <td>137</td>\n",
       "      <td>0</td>\n",
       "    </tr>\n",
       "    <tr>\n",
       "      <th>...</th>\n",
       "      <td>...</td>\n",
       "      <td>...</td>\n",
       "      <td>...</td>\n",
       "      <td>...</td>\n",
       "      <td>...</td>\n",
       "      <td>...</td>\n",
       "      <td>...</td>\n",
       "      <td>...</td>\n",
       "      <td>...</td>\n",
       "      <td>...</td>\n",
       "      <td>...</td>\n",
       "      <td>...</td>\n",
       "      <td>...</td>\n",
       "      <td>...</td>\n",
       "      <td>...</td>\n",
       "      <td>...</td>\n",
       "      <td>...</td>\n",
       "      <td>...</td>\n",
       "      <td>...</td>\n",
       "      <td>...</td>\n",
       "      <td>...</td>\n",
       "    </tr>\n",
       "    <tr>\n",
       "      <th>24995</th>\n",
       "      <td>135</td>\n",
       "      <td>170</td>\n",
       "      <td>180</td>\n",
       "      <td>134</td>\n",
       "      <td>169</td>\n",
       "      <td>179</td>\n",
       "      <td>132</td>\n",
       "      <td>168</td>\n",
       "      <td>178</td>\n",
       "      <td>132</td>\n",
       "      <td>...</td>\n",
       "      <td>113</td>\n",
       "      <td>150</td>\n",
       "      <td>154</td>\n",
       "      <td>110</td>\n",
       "      <td>147</td>\n",
       "      <td>151</td>\n",
       "      <td>107</td>\n",
       "      <td>144</td>\n",
       "      <td>148</td>\n",
       "      <td>1</td>\n",
       "    </tr>\n",
       "    <tr>\n",
       "      <th>24996</th>\n",
       "      <td>37</td>\n",
       "      <td>64</td>\n",
       "      <td>85</td>\n",
       "      <td>66</td>\n",
       "      <td>97</td>\n",
       "      <td>118</td>\n",
       "      <td>50</td>\n",
       "      <td>76</td>\n",
       "      <td>99</td>\n",
       "      <td>63</td>\n",
       "      <td>...</td>\n",
       "      <td>44</td>\n",
       "      <td>76</td>\n",
       "      <td>95</td>\n",
       "      <td>63</td>\n",
       "      <td>88</td>\n",
       "      <td>114</td>\n",
       "      <td>53</td>\n",
       "      <td>81</td>\n",
       "      <td>111</td>\n",
       "      <td>1</td>\n",
       "    </tr>\n",
       "    <tr>\n",
       "      <th>24997</th>\n",
       "      <td>126</td>\n",
       "      <td>171</td>\n",
       "      <td>217</td>\n",
       "      <td>27</td>\n",
       "      <td>76</td>\n",
       "      <td>117</td>\n",
       "      <td>134</td>\n",
       "      <td>175</td>\n",
       "      <td>213</td>\n",
       "      <td>36</td>\n",
       "      <td>...</td>\n",
       "      <td>51</td>\n",
       "      <td>53</td>\n",
       "      <td>54</td>\n",
       "      <td>50</td>\n",
       "      <td>53</td>\n",
       "      <td>58</td>\n",
       "      <td>45</td>\n",
       "      <td>48</td>\n",
       "      <td>53</td>\n",
       "      <td>1</td>\n",
       "    </tr>\n",
       "    <tr>\n",
       "      <th>24998</th>\n",
       "      <td>107</td>\n",
       "      <td>107</td>\n",
       "      <td>121</td>\n",
       "      <td>97</td>\n",
       "      <td>95</td>\n",
       "      <td>110</td>\n",
       "      <td>98</td>\n",
       "      <td>98</td>\n",
       "      <td>114</td>\n",
       "      <td>91</td>\n",
       "      <td>...</td>\n",
       "      <td>175</td>\n",
       "      <td>189</td>\n",
       "      <td>235</td>\n",
       "      <td>229</td>\n",
       "      <td>230</td>\n",
       "      <td>253</td>\n",
       "      <td>253</td>\n",
       "      <td>252</td>\n",
       "      <td>253</td>\n",
       "      <td>1</td>\n",
       "    </tr>\n",
       "    <tr>\n",
       "      <th>24999</th>\n",
       "      <td>254</td>\n",
       "      <td>254</td>\n",
       "      <td>254</td>\n",
       "      <td>254</td>\n",
       "      <td>254</td>\n",
       "      <td>254</td>\n",
       "      <td>254</td>\n",
       "      <td>254</td>\n",
       "      <td>254</td>\n",
       "      <td>254</td>\n",
       "      <td>...</td>\n",
       "      <td>228</td>\n",
       "      <td>238</td>\n",
       "      <td>245</td>\n",
       "      <td>231</td>\n",
       "      <td>241</td>\n",
       "      <td>248</td>\n",
       "      <td>230</td>\n",
       "      <td>240</td>\n",
       "      <td>247</td>\n",
       "      <td>1</td>\n",
       "    </tr>\n",
       "  </tbody>\n",
       "</table>\n",
       "<p>25000 rows × 7501 columns</p>\n",
       "</div>"
      ],
      "text/plain": [
       "       pixel_0  pixel_1  pixel_2  pixel_3  pixel_4  pixel_5  pixel_6  pixel_7  \\\n",
       "0            0        2        2        0        2        2        0        2   \n",
       "1           20       26       39       52       57       75       47       53   \n",
       "2           10      183      187        2      183      185       52      150   \n",
       "3          207      212      215      218      220      219      208      210   \n",
       "4           64       90      102       59       91      102       82      105   \n",
       "...        ...      ...      ...      ...      ...      ...      ...      ...   \n",
       "24995      135      170      180      134      169      179      132      168   \n",
       "24996       37       64       85       66       97      118       50       76   \n",
       "24997      126      171      217       27       76      117      134      175   \n",
       "24998      107      107      121       97       95      110       98       98   \n",
       "24999      254      254      254      254      254      254      254      254   \n",
       "\n",
       "       pixel_8  pixel_9  ...  pixel_7491  pixel_7492  pixel_7493  pixel_7494  \\\n",
       "0            2        0  ...         104         182         225         100   \n",
       "1           70       43  ...          36          40          35          64   \n",
       "2          165      132  ...          64          54          47          61   \n",
       "3          210      203  ...         237         235         235         220   \n",
       "4          120       56  ...          48          87         115          83   \n",
       "...        ...      ...  ...         ...         ...         ...         ...   \n",
       "24995      178      132  ...         113         150         154         110   \n",
       "24996       99       63  ...          44          76          95          63   \n",
       "24997      213       36  ...          51          53          54          50   \n",
       "24998      114       91  ...         175         189         235         229   \n",
       "24999      254      254  ...         228         238         245         231   \n",
       "\n",
       "       pixel_7495  pixel_7496  pixel_7497  pixel_7498  pixel_7499  label  \n",
       "0             177         216          92         169         208      0  \n",
       "1              58          55          43          43          39      0  \n",
       "2              47          41          53          45          38      0  \n",
       "3             225         224         217         222         221      0  \n",
       "4             120         148          72         109         137      0  \n",
       "...           ...         ...         ...         ...         ...    ...  \n",
       "24995         147         151         107         144         148      1  \n",
       "24996          88         114          53          81         111      1  \n",
       "24997          53          58          45          48          53      1  \n",
       "24998         230         253         253         252         253      1  \n",
       "24999         241         248         230         240         247      1  \n",
       "\n",
       "[25000 rows x 7501 columns]"
      ]
     },
     "execution_count": 39,
     "metadata": {},
     "output_type": "execute_result"
    }
   ],
   "source": [
    "cols = []\n",
    "for i in range(7500):\n",
    "    cols.append(\"pixel_\"+str(i))\n",
    "df2_fliped3 = pd.DataFrame(train_data_fliped3,columns=cols)\n",
    "df2_fliped3['label']=train_label_fliped3\n",
    "df2_fliped3"
   ]
  },
  {
   "cell_type": "code",
   "execution_count": 40,
   "metadata": {},
   "outputs": [],
   "source": [
    "df2_fliped3.to_csv(r'C:\\Users\\anitay\\Desktop\\Ors folder\\both.csv',index=False)"
   ]
  },
  {
   "cell_type": "code",
   "execution_count": 13,
   "metadata": {},
   "outputs": [],
   "source": [
    "df2_fliped2 = pd.read_csv(r'C:\\Users\\anitay\\Desktop\\Ors folder\\upsidown.csv')"
   ]
  },
  {
   "cell_type": "code",
   "execution_count": 14,
   "metadata": {},
   "outputs": [],
   "source": [
    "df2_fliped3 = pd.read_csv(r'C:\\Users\\anitay\\Desktop\\Ors folder\\both.csv')"
   ]
  },
  {
   "cell_type": "code",
   "execution_count": 15,
   "metadata": {},
   "outputs": [],
   "source": [
    "df2_fliped_shuffled2 = df2_fliped2.sample(frac=1,random_state=0)\n",
    "df2_fliped_shuffled3 = df2_fliped3.sample(frac=1,random_state=0)"
   ]
  },
  {
   "cell_type": "code",
   "execution_count": 16,
   "metadata": {},
   "outputs": [],
   "source": [
    "train_fliped2 = df2_fliped_shuffled2.iloc[5000:]\n",
    "train_fliped2.reset_index(drop=True,inplace=True)\n",
    "train_fliped3 = df2_fliped_shuffled3.iloc[5000:]\n",
    "train_fliped3.reset_index(drop=True,inplace=True)"
   ]
  },
  {
   "cell_type": "code",
   "execution_count": 17,
   "metadata": {},
   "outputs": [],
   "source": [
    "train_fliped_data2 = train_fliped2.drop('label',axis=1)\n",
    "train_fliped_target2 = train_fliped2['label']\n",
    "train_fliped_data3 = train_fliped3.drop('label',axis=1)\n",
    "train_fliped_target3 = train_fliped3['label']"
   ]
  },
  {
   "cell_type": "code",
   "execution_count": 21,
   "metadata": {},
   "outputs": [
    {
     "data": {
      "text/plain": [
       "<matplotlib.image.AxesImage at 0x1da36bf7b50>"
      ]
     },
     "execution_count": 21,
     "metadata": {},
     "output_type": "execute_result"
    },
    {
     "data": {
      "image/png": "[encoded data removed]",
      "text/plain": [
       "<Figure size 432x288 with 1 Axes>"
      ]
     },
     "metadata": {
      "needs_background": "light"
     },
     "output_type": "display_data"
    }
   ],
   "source": [
    "plt.imshow(np.flip(np.array(train_fliped_data2.loc[1]).reshape(50,50,3),2))"
   ]
  },
  {
   "cell_type": "code",
   "execution_count": 22,
   "metadata": {},
   "outputs": [
    {
     "data": {
      "text/plain": [
       "<matplotlib.image.AxesImage at 0x1da792a8070>"
      ]
     },
     "execution_count": 22,
     "metadata": {},
     "output_type": "execute_result"
    },
    {
     "data": {
      "image/png": "[encoded data removed]",
      "text/plain": [
       "<Figure size 432x288 with 1 Axes>"
      ]
     },
     "metadata": {
      "needs_background": "light"
     },
     "output_type": "display_data"
    }
   ],
   "source": [
    "plt.imshow(np.flip(np.array(train_fliped_data3.loc[1]).reshape(50,50,3),2))"
   ]
  },
  {
   "cell_type": "code",
   "execution_count": 18,
   "metadata": {},
   "outputs": [],
   "source": [
    "full_train_data2 = pd.concat([train_data,train_fliped_data,train_fliped_data2,train_fliped_data3])"
   ]
  },
  {
   "cell_type": "code",
   "execution_count": 19,
   "metadata": {},
   "outputs": [],
   "source": [
    "full_train_target2 = pd.concat([train_target,train_fliped_target,train_fliped_target2,train_fliped_target3])"
   ]
  },
  {
   "cell_type": "code",
   "execution_count": 28,
   "metadata": {
    "scrolled": true
   },
   "outputs": [
    {
     "ename": "MemoryError",
     "evalue": "Unable to allocate 4.47 GiB for an array with shape (80000, 7500) and data type float64",
     "output_type": "error",
     "traceback": [
      "\u001b[1;31m---------------------------------------------------------------------------\u001b[0m",
      "\u001b[1;31mMemoryError\u001b[0m                               Traceback (most recent call last)",
      "\u001b[1;32m<ipython-input-28-b7fe408f0c7e>\u001b[0m in \u001b[0;36m<module>\u001b[1;34m\u001b[0m\n\u001b[0;32m      1\u001b[0m \u001b[0msc\u001b[0m\u001b[1;33m=\u001b[0m \u001b[0mStandardScaler\u001b[0m\u001b[1;33m(\u001b[0m\u001b[1;33m)\u001b[0m\u001b[1;33m\u001b[0m\u001b[1;33m\u001b[0m\u001b[0m\n\u001b[1;32m----> 2\u001b[1;33m \u001b[0mscaled_train2\u001b[0m \u001b[1;33m=\u001b[0m \u001b[0msc\u001b[0m\u001b[1;33m.\u001b[0m\u001b[0mfit_transform\u001b[0m\u001b[1;33m(\u001b[0m\u001b[0mfull_train_data2\u001b[0m\u001b[1;33m)\u001b[0m\u001b[1;33m\u001b[0m\u001b[1;33m\u001b[0m\u001b[0m\n\u001b[0m\u001b[0;32m      3\u001b[0m \u001b[0mscaled_test2\u001b[0m \u001b[1;33m=\u001b[0m \u001b[0msc\u001b[0m\u001b[1;33m.\u001b[0m\u001b[0mtransform\u001b[0m\u001b[1;33m(\u001b[0m\u001b[0mtest_data\u001b[0m\u001b[1;33m)\u001b[0m\u001b[1;33m\u001b[0m\u001b[1;33m\u001b[0m\u001b[0m\n",
      "\u001b[1;32m~\\Anaconda3\\lib\\site-packages\\sklearn\\base.py\u001b[0m in \u001b[0;36mfit_transform\u001b[1;34m(self, X, y, **fit_params)\u001b[0m\n\u001b[0;32m    697\u001b[0m         \u001b[1;32mif\u001b[0m \u001b[0my\u001b[0m \u001b[1;32mis\u001b[0m \u001b[1;32mNone\u001b[0m\u001b[1;33m:\u001b[0m\u001b[1;33m\u001b[0m\u001b[1;33m\u001b[0m\u001b[0m\n\u001b[0;32m    698\u001b[0m             \u001b[1;31m# fit method of arity 1 (unsupervised transformation)\u001b[0m\u001b[1;33m\u001b[0m\u001b[1;33m\u001b[0m\u001b[1;33m\u001b[0m\u001b[0m\n\u001b[1;32m--> 699\u001b[1;33m             \u001b[1;32mreturn\u001b[0m \u001b[0mself\u001b[0m\u001b[1;33m.\u001b[0m\u001b[0mfit\u001b[0m\u001b[1;33m(\u001b[0m\u001b[0mX\u001b[0m\u001b[1;33m,\u001b[0m \u001b[1;33m**\u001b[0m\u001b[0mfit_params\u001b[0m\u001b[1;33m)\u001b[0m\u001b[1;33m.\u001b[0m\u001b[0mtransform\u001b[0m\u001b[1;33m(\u001b[0m\u001b[0mX\u001b[0m\u001b[1;33m)\u001b[0m\u001b[1;33m\u001b[0m\u001b[1;33m\u001b[0m\u001b[0m\n\u001b[0m\u001b[0;32m    700\u001b[0m         \u001b[1;32melse\u001b[0m\u001b[1;33m:\u001b[0m\u001b[1;33m\u001b[0m\u001b[1;33m\u001b[0m\u001b[0m\n\u001b[0;32m    701\u001b[0m             \u001b[1;31m# fit method of arity 2 (supervised transformation)\u001b[0m\u001b[1;33m\u001b[0m\u001b[1;33m\u001b[0m\u001b[1;33m\u001b[0m\u001b[0m\n",
      "\u001b[1;32m~\\Anaconda3\\lib\\site-packages\\sklearn\\preprocessing\\_data.py\u001b[0m in \u001b[0;36mfit\u001b[1;34m(self, X, y, sample_weight)\u001b[0m\n\u001b[0;32m    728\u001b[0m         \u001b[1;31m# Reset internal state before fitting\u001b[0m\u001b[1;33m\u001b[0m\u001b[1;33m\u001b[0m\u001b[1;33m\u001b[0m\u001b[0m\n\u001b[0;32m    729\u001b[0m         \u001b[0mself\u001b[0m\u001b[1;33m.\u001b[0m\u001b[0m_reset\u001b[0m\u001b[1;33m(\u001b[0m\u001b[1;33m)\u001b[0m\u001b[1;33m\u001b[0m\u001b[1;33m\u001b[0m\u001b[0m\n\u001b[1;32m--> 730\u001b[1;33m         \u001b[1;32mreturn\u001b[0m \u001b[0mself\u001b[0m\u001b[1;33m.\u001b[0m\u001b[0mpartial_fit\u001b[0m\u001b[1;33m(\u001b[0m\u001b[0mX\u001b[0m\u001b[1;33m,\u001b[0m \u001b[0my\u001b[0m\u001b[1;33m,\u001b[0m \u001b[0msample_weight\u001b[0m\u001b[1;33m)\u001b[0m\u001b[1;33m\u001b[0m\u001b[1;33m\u001b[0m\u001b[0m\n\u001b[0m\u001b[0;32m    731\u001b[0m \u001b[1;33m\u001b[0m\u001b[0m\n\u001b[0;32m    732\u001b[0m     \u001b[1;32mdef\u001b[0m \u001b[0mpartial_fit\u001b[0m\u001b[1;33m(\u001b[0m\u001b[0mself\u001b[0m\u001b[1;33m,\u001b[0m \u001b[0mX\u001b[0m\u001b[1;33m,\u001b[0m \u001b[0my\u001b[0m\u001b[1;33m=\u001b[0m\u001b[1;32mNone\u001b[0m\u001b[1;33m,\u001b[0m \u001b[0msample_weight\u001b[0m\u001b[1;33m=\u001b[0m\u001b[1;32mNone\u001b[0m\u001b[1;33m)\u001b[0m\u001b[1;33m:\u001b[0m\u001b[1;33m\u001b[0m\u001b[1;33m\u001b[0m\u001b[0m\n",
      "\u001b[1;32m~\\Anaconda3\\lib\\site-packages\\sklearn\\preprocessing\\_data.py\u001b[0m in \u001b[0;36mpartial_fit\u001b[1;34m(self, X, y, sample_weight)\u001b[0m\n\u001b[0;32m    764\u001b[0m         \"\"\"\n\u001b[0;32m    765\u001b[0m         \u001b[0mfirst_call\u001b[0m \u001b[1;33m=\u001b[0m \u001b[1;32mnot\u001b[0m \u001b[0mhasattr\u001b[0m\u001b[1;33m(\u001b[0m\u001b[0mself\u001b[0m\u001b[1;33m,\u001b[0m \u001b[1;34m\"n_samples_seen_\"\u001b[0m\u001b[1;33m)\u001b[0m\u001b[1;33m\u001b[0m\u001b[1;33m\u001b[0m\u001b[0m\n\u001b[1;32m--> 766\u001b[1;33m         X = self._validate_data(X, accept_sparse=('csr', 'csc'),\n\u001b[0m\u001b[0;32m    767\u001b[0m                                 \u001b[0mestimator\u001b[0m\u001b[1;33m=\u001b[0m\u001b[0mself\u001b[0m\u001b[1;33m,\u001b[0m \u001b[0mdtype\u001b[0m\u001b[1;33m=\u001b[0m\u001b[0mFLOAT_DTYPES\u001b[0m\u001b[1;33m,\u001b[0m\u001b[1;33m\u001b[0m\u001b[1;33m\u001b[0m\u001b[0m\n\u001b[0;32m    768\u001b[0m                                 force_all_finite='allow-nan', reset=first_call)\n",
      "\u001b[1;32m~\\Anaconda3\\lib\\site-packages\\sklearn\\base.py\u001b[0m in \u001b[0;36m_validate_data\u001b[1;34m(self, X, y, reset, validate_separately, **check_params)\u001b[0m\n\u001b[0;32m    419\u001b[0m             \u001b[0mout\u001b[0m \u001b[1;33m=\u001b[0m \u001b[0mX\u001b[0m\u001b[1;33m\u001b[0m\u001b[1;33m\u001b[0m\u001b[0m\n\u001b[0;32m    420\u001b[0m         \u001b[1;32melif\u001b[0m \u001b[0misinstance\u001b[0m\u001b[1;33m(\u001b[0m\u001b[0my\u001b[0m\u001b[1;33m,\u001b[0m \u001b[0mstr\u001b[0m\u001b[1;33m)\u001b[0m \u001b[1;32mand\u001b[0m \u001b[0my\u001b[0m \u001b[1;33m==\u001b[0m \u001b[1;34m'no_validation'\u001b[0m\u001b[1;33m:\u001b[0m\u001b[1;33m\u001b[0m\u001b[1;33m\u001b[0m\u001b[0m\n\u001b[1;32m--> 421\u001b[1;33m             \u001b[0mX\u001b[0m \u001b[1;33m=\u001b[0m \u001b[0mcheck_array\u001b[0m\u001b[1;33m(\u001b[0m\u001b[0mX\u001b[0m\u001b[1;33m,\u001b[0m \u001b[1;33m**\u001b[0m\u001b[0mcheck_params\u001b[0m\u001b[1;33m)\u001b[0m\u001b[1;33m\u001b[0m\u001b[1;33m\u001b[0m\u001b[0m\n\u001b[0m\u001b[0;32m    422\u001b[0m             \u001b[0mout\u001b[0m \u001b[1;33m=\u001b[0m \u001b[0mX\u001b[0m\u001b[1;33m\u001b[0m\u001b[1;33m\u001b[0m\u001b[0m\n\u001b[0;32m    423\u001b[0m         \u001b[1;32melse\u001b[0m\u001b[1;33m:\u001b[0m\u001b[1;33m\u001b[0m\u001b[1;33m\u001b[0m\u001b[0m\n",
      "\u001b[1;32m~\\Anaconda3\\lib\\site-packages\\sklearn\\utils\\validation.py\u001b[0m in \u001b[0;36minner_f\u001b[1;34m(*args, **kwargs)\u001b[0m\n\u001b[0;32m     61\u001b[0m             \u001b[0mextra_args\u001b[0m \u001b[1;33m=\u001b[0m \u001b[0mlen\u001b[0m\u001b[1;33m(\u001b[0m\u001b[0margs\u001b[0m\u001b[1;33m)\u001b[0m \u001b[1;33m-\u001b[0m \u001b[0mlen\u001b[0m\u001b[1;33m(\u001b[0m\u001b[0mall_args\u001b[0m\u001b[1;33m)\u001b[0m\u001b[1;33m\u001b[0m\u001b[1;33m\u001b[0m\u001b[0m\n\u001b[0;32m     62\u001b[0m             \u001b[1;32mif\u001b[0m \u001b[0mextra_args\u001b[0m \u001b[1;33m<=\u001b[0m \u001b[1;36m0\u001b[0m\u001b[1;33m:\u001b[0m\u001b[1;33m\u001b[0m\u001b[1;33m\u001b[0m\u001b[0m\n\u001b[1;32m---> 63\u001b[1;33m                 \u001b[1;32mreturn\u001b[0m \u001b[0mf\u001b[0m\u001b[1;33m(\u001b[0m\u001b[1;33m*\u001b[0m\u001b[0margs\u001b[0m\u001b[1;33m,\u001b[0m \u001b[1;33m**\u001b[0m\u001b[0mkwargs\u001b[0m\u001b[1;33m)\u001b[0m\u001b[1;33m\u001b[0m\u001b[1;33m\u001b[0m\u001b[0m\n\u001b[0m\u001b[0;32m     64\u001b[0m \u001b[1;33m\u001b[0m\u001b[0m\n\u001b[0;32m     65\u001b[0m             \u001b[1;31m# extra_args > 0\u001b[0m\u001b[1;33m\u001b[0m\u001b[1;33m\u001b[0m\u001b[1;33m\u001b[0m\u001b[0m\n",
      "\u001b[1;32m~\\Anaconda3\\lib\\site-packages\\sklearn\\utils\\validation.py\u001b[0m in \u001b[0;36mcheck_array\u001b[1;34m(array, accept_sparse, accept_large_sparse, dtype, order, copy, force_all_finite, ensure_2d, allow_nd, ensure_min_samples, ensure_min_features, estimator)\u001b[0m\n\u001b[0;32m    614\u001b[0m                     \u001b[0marray\u001b[0m \u001b[1;33m=\u001b[0m \u001b[0marray\u001b[0m\u001b[1;33m.\u001b[0m\u001b[0mastype\u001b[0m\u001b[1;33m(\u001b[0m\u001b[0mdtype\u001b[0m\u001b[1;33m,\u001b[0m \u001b[0mcasting\u001b[0m\u001b[1;33m=\u001b[0m\u001b[1;34m\"unsafe\"\u001b[0m\u001b[1;33m,\u001b[0m \u001b[0mcopy\u001b[0m\u001b[1;33m=\u001b[0m\u001b[1;32mFalse\u001b[0m\u001b[1;33m)\u001b[0m\u001b[1;33m\u001b[0m\u001b[1;33m\u001b[0m\u001b[0m\n\u001b[0;32m    615\u001b[0m                 \u001b[1;32melse\u001b[0m\u001b[1;33m:\u001b[0m\u001b[1;33m\u001b[0m\u001b[1;33m\u001b[0m\u001b[0m\n\u001b[1;32m--> 616\u001b[1;33m                     \u001b[0marray\u001b[0m \u001b[1;33m=\u001b[0m \u001b[0mnp\u001b[0m\u001b[1;33m.\u001b[0m\u001b[0masarray\u001b[0m\u001b[1;33m(\u001b[0m\u001b[0marray\u001b[0m\u001b[1;33m,\u001b[0m \u001b[0morder\u001b[0m\u001b[1;33m=\u001b[0m\u001b[0morder\u001b[0m\u001b[1;33m,\u001b[0m \u001b[0mdtype\u001b[0m\u001b[1;33m=\u001b[0m\u001b[0mdtype\u001b[0m\u001b[1;33m)\u001b[0m\u001b[1;33m\u001b[0m\u001b[1;33m\u001b[0m\u001b[0m\n\u001b[0m\u001b[0;32m    617\u001b[0m             \u001b[1;32mexcept\u001b[0m \u001b[0mComplexWarning\u001b[0m \u001b[1;32mas\u001b[0m \u001b[0mcomplex_warning\u001b[0m\u001b[1;33m:\u001b[0m\u001b[1;33m\u001b[0m\u001b[1;33m\u001b[0m\u001b[0m\n\u001b[0;32m    618\u001b[0m                 raise ValueError(\"Complex data not supported\\n\"\n",
      "\u001b[1;32m~\\Anaconda3\\lib\\site-packages\\numpy\\core\\_asarray.py\u001b[0m in \u001b[0;36masarray\u001b[1;34m(a, dtype, order, like)\u001b[0m\n\u001b[0;32m    100\u001b[0m         \u001b[1;32mreturn\u001b[0m \u001b[0m_asarray_with_like\u001b[0m\u001b[1;33m(\u001b[0m\u001b[0ma\u001b[0m\u001b[1;33m,\u001b[0m \u001b[0mdtype\u001b[0m\u001b[1;33m=\u001b[0m\u001b[0mdtype\u001b[0m\u001b[1;33m,\u001b[0m \u001b[0morder\u001b[0m\u001b[1;33m=\u001b[0m\u001b[0morder\u001b[0m\u001b[1;33m,\u001b[0m \u001b[0mlike\u001b[0m\u001b[1;33m=\u001b[0m\u001b[0mlike\u001b[0m\u001b[1;33m)\u001b[0m\u001b[1;33m\u001b[0m\u001b[1;33m\u001b[0m\u001b[0m\n\u001b[0;32m    101\u001b[0m \u001b[1;33m\u001b[0m\u001b[0m\n\u001b[1;32m--> 102\u001b[1;33m     \u001b[1;32mreturn\u001b[0m \u001b[0marray\u001b[0m\u001b[1;33m(\u001b[0m\u001b[0ma\u001b[0m\u001b[1;33m,\u001b[0m \u001b[0mdtype\u001b[0m\u001b[1;33m,\u001b[0m \u001b[0mcopy\u001b[0m\u001b[1;33m=\u001b[0m\u001b[1;32mFalse\u001b[0m\u001b[1;33m,\u001b[0m \u001b[0morder\u001b[0m\u001b[1;33m=\u001b[0m\u001b[0morder\u001b[0m\u001b[1;33m)\u001b[0m\u001b[1;33m\u001b[0m\u001b[1;33m\u001b[0m\u001b[0m\n\u001b[0m\u001b[0;32m    103\u001b[0m \u001b[1;33m\u001b[0m\u001b[0m\n\u001b[0;32m    104\u001b[0m \u001b[1;33m\u001b[0m\u001b[0m\n",
      "\u001b[1;32m~\\Anaconda3\\lib\\site-packages\\pandas\\core\\generic.py\u001b[0m in \u001b[0;36m__array__\u001b[1;34m(self, dtype)\u001b[0m\n\u001b[0;32m   1897\u001b[0m \u001b[1;33m\u001b[0m\u001b[0m\n\u001b[0;32m   1898\u001b[0m     \u001b[1;32mdef\u001b[0m \u001b[0m__array__\u001b[0m\u001b[1;33m(\u001b[0m\u001b[0mself\u001b[0m\u001b[1;33m,\u001b[0m \u001b[0mdtype\u001b[0m\u001b[1;33m=\u001b[0m\u001b[1;32mNone\u001b[0m\u001b[1;33m)\u001b[0m \u001b[1;33m->\u001b[0m \u001b[0mnp\u001b[0m\u001b[1;33m.\u001b[0m\u001b[0mndarray\u001b[0m\u001b[1;33m:\u001b[0m\u001b[1;33m\u001b[0m\u001b[1;33m\u001b[0m\u001b[0m\n\u001b[1;32m-> 1899\u001b[1;33m         \u001b[1;32mreturn\u001b[0m \u001b[0mnp\u001b[0m\u001b[1;33m.\u001b[0m\u001b[0masarray\u001b[0m\u001b[1;33m(\u001b[0m\u001b[0mself\u001b[0m\u001b[1;33m.\u001b[0m\u001b[0m_values\u001b[0m\u001b[1;33m,\u001b[0m \u001b[0mdtype\u001b[0m\u001b[1;33m=\u001b[0m\u001b[0mdtype\u001b[0m\u001b[1;33m)\u001b[0m\u001b[1;33m\u001b[0m\u001b[1;33m\u001b[0m\u001b[0m\n\u001b[0m\u001b[0;32m   1900\u001b[0m \u001b[1;33m\u001b[0m\u001b[0m\n\u001b[0;32m   1901\u001b[0m     def __array_wrap__(\n",
      "\u001b[1;32m~\\Anaconda3\\lib\\site-packages\\numpy\\core\\_asarray.py\u001b[0m in \u001b[0;36masarray\u001b[1;34m(a, dtype, order, like)\u001b[0m\n\u001b[0;32m    100\u001b[0m         \u001b[1;32mreturn\u001b[0m \u001b[0m_asarray_with_like\u001b[0m\u001b[1;33m(\u001b[0m\u001b[0ma\u001b[0m\u001b[1;33m,\u001b[0m \u001b[0mdtype\u001b[0m\u001b[1;33m=\u001b[0m\u001b[0mdtype\u001b[0m\u001b[1;33m,\u001b[0m \u001b[0morder\u001b[0m\u001b[1;33m=\u001b[0m\u001b[0morder\u001b[0m\u001b[1;33m,\u001b[0m \u001b[0mlike\u001b[0m\u001b[1;33m=\u001b[0m\u001b[0mlike\u001b[0m\u001b[1;33m)\u001b[0m\u001b[1;33m\u001b[0m\u001b[1;33m\u001b[0m\u001b[0m\n\u001b[0;32m    101\u001b[0m \u001b[1;33m\u001b[0m\u001b[0m\n\u001b[1;32m--> 102\u001b[1;33m     \u001b[1;32mreturn\u001b[0m \u001b[0marray\u001b[0m\u001b[1;33m(\u001b[0m\u001b[0ma\u001b[0m\u001b[1;33m,\u001b[0m \u001b[0mdtype\u001b[0m\u001b[1;33m,\u001b[0m \u001b[0mcopy\u001b[0m\u001b[1;33m=\u001b[0m\u001b[1;32mFalse\u001b[0m\u001b[1;33m,\u001b[0m \u001b[0morder\u001b[0m\u001b[1;33m=\u001b[0m\u001b[0morder\u001b[0m\u001b[1;33m)\u001b[0m\u001b[1;33m\u001b[0m\u001b[1;33m\u001b[0m\u001b[0m\n\u001b[0m\u001b[0;32m    103\u001b[0m \u001b[1;33m\u001b[0m\u001b[0m\n\u001b[0;32m    104\u001b[0m \u001b[1;33m\u001b[0m\u001b[0m\n",
      "\u001b[1;31mMemoryError\u001b[0m: Unable to allocate 4.47 GiB for an array with shape (80000, 7500) and data type float64"
     ]
    }
   ],
   "source": [
    "sc= StandardScaler()\n",
    "scaled_train2 = sc.fit_transform(full_train_data2)\n",
    "scaled_test2 = sc.transform(test_data)"
   ]
  },
  {
   "cell_type": "code",
   "execution_count": 22,
   "metadata": {},
   "outputs": [
    {
     "data": {
      "text/plain": [
       "RandomForestClassifier()"
      ]
     },
     "execution_count": 22,
     "metadata": {},
     "output_type": "execute_result"
    }
   ],
   "source": [
    "rfc = RandomForestClassifier()\n",
    "rfc.fit(full_train_data2,full_train_target2)\n",
    "rfc"
   ]
  },
  {
   "cell_type": "code",
   "execution_count": 23,
   "metadata": {},
   "outputs": [],
   "source": [
    "y_pred = rfc.predict(test_data)"
   ]
  },
  {
   "cell_type": "code",
   "execution_count": 24,
   "metadata": {},
   "outputs": [
    {
     "name": "stdout",
     "output_type": "stream",
     "text": [
      "              precision    recall  f1-score   support\n",
      "\n",
      "           0       0.62      0.67      0.64      2496\n",
      "           1       0.64      0.59      0.61      2504\n",
      "\n",
      "    accuracy                           0.63      5000\n",
      "   macro avg       0.63      0.63      0.63      5000\n",
      "weighted avg       0.63      0.63      0.63      5000\n",
      "\n"
     ]
    }
   ],
   "source": [
    "print (classification_report(test_target,y_pred))"
   ]
  },
  {
   "cell_type": "code",
   "execution_count": 25,
   "metadata": {},
   "outputs": [
    {
     "data": {
      "text/plain": [
       "0.6296"
      ]
     },
     "execution_count": 25,
     "metadata": {},
     "output_type": "execute_result"
    }
   ],
   "source": [
    "metrics.accuracy_score(test_target,y_pred)"
   ]
  },
  {
   "cell_type": "code",
   "execution_count": 26,
   "metadata": {},
   "outputs": [
    {
     "data": {
      "text/plain": [
       "Text(33.0, 0.5, 'Actual')"
      ]
     },
     "execution_count": 26,
     "metadata": {},
     "output_type": "execute_result"
    },
    {
     "data": {
      "image/png": "[encoded data removed]",
      "text/plain": [
       "<Figure size 432x288 with 2 Axes>"
      ]
     },
     "metadata": {
      "needs_background": "light"
     },
     "output_type": "display_data"
    }
   ],
   "source": [
    "cm = confusion_matrix(test_target,y_pred)\n",
    "sns.heatmap(cm,annot=True,annot_kws = {'size':15},fmt=\".1f\")\n",
    "plt.xlabel(\"Predict\")\n",
    "plt.ylabel(\"Actual\")"
   ]
  },
  {
   "cell_type": "code",
   "execution_count": null,
   "metadata": {},
   "outputs": [],
   "source": []
  },
  {
   "cell_type": "code",
   "execution_count": null,
   "metadata": {},
   "outputs": [],
   "source": []
  },
  {
   "cell_type": "code",
   "execution_count": null,
   "metadata": {},
   "outputs": [],
   "source": []
  },
  {
   "cell_type": "code",
   "execution_count": null,
   "metadata": {},
   "outputs": [],
   "source": []
  },
  {
   "cell_type": "code",
   "execution_count": null,
   "metadata": {},
   "outputs": [],
   "source": []
  },
  {
   "cell_type": "code",
   "execution_count": null,
   "metadata": {},
   "outputs": [],
   "source": []
  },
  {
   "cell_type": "code",
   "execution_count": null,
   "metadata": {},
   "outputs": [],
   "source": []
  },
  {
   "cell_type": "code",
   "execution_count": 9,
   "metadata": {},
   "outputs": [],
   "source": [
    "sc= StandardScaler()\n",
    "scaled_train = sc.fit_transform(X_train)\n",
    "scaled_test = sc.transform(X_test)"
   ]
  },
  {
   "cell_type": "code",
   "execution_count": 10,
   "metadata": {},
   "outputs": [
    {
     "data": {
      "text/plain": [
       "RandomForestClassifier()"
      ]
     },
     "execution_count": 10,
     "metadata": {},
     "output_type": "execute_result"
    }
   ],
   "source": [
    "rfc = RandomForestClassifier()\n",
    "rfc.fit(scaled_train,y_train)\n",
    "rfc"
   ]
  },
  {
   "cell_type": "code",
   "execution_count": 11,
   "metadata": {},
   "outputs": [],
   "source": [
    "y_pred = rfc.predict(scaled_test)"
   ]
  },
  {
   "cell_type": "code",
   "execution_count": 12,
   "metadata": {},
   "outputs": [
    {
     "name": "stdout",
     "output_type": "stream",
     "text": [
      "              precision    recall  f1-score   support\n",
      "\n",
      "           0       0.65      0.71      0.68      3149\n",
      "           1       0.67      0.61      0.64      3101\n",
      "\n",
      "    accuracy                           0.66      6250\n",
      "   macro avg       0.66      0.66      0.66      6250\n",
      "weighted avg       0.66      0.66      0.66      6250\n",
      "\n"
     ]
    }
   ],
   "source": [
    "print (classification_report(y_test,y_pred))"
   ]
  },
  {
   "cell_type": "code",
   "execution_count": 13,
   "metadata": {},
   "outputs": [
    {
     "data": {
      "text/plain": [
       "0.65776"
      ]
     },
     "execution_count": 13,
     "metadata": {},
     "output_type": "execute_result"
    }
   ],
   "source": [
    "metrics.accuracy_score(y_test,y_pred)"
   ]
  },
  {
   "cell_type": "code",
   "execution_count": 14,
   "metadata": {},
   "outputs": [],
   "source": [
    "xg = XGBClassifier(use_label_encoder=False)"
   ]
  },
  {
   "cell_type": "code",
   "execution_count": 15,
   "metadata": {},
   "outputs": [
    {
     "data": {
      "text/plain": [
       "RandomForestClassifier()"
      ]
     },
     "execution_count": 15,
     "metadata": {},
     "output_type": "execute_result"
    }
   ],
   "source": [
    "xg = RandomForestClassifier()\n",
    "xg.fit(scaled_train,y_train)\n",
    "xg"
   ]
  },
  {
   "cell_type": "code",
   "execution_count": 16,
   "metadata": {},
   "outputs": [],
   "source": [
    "y_pred = xg.predict(scaled_test)"
   ]
  },
  {
   "cell_type": "code",
   "execution_count": 17,
   "metadata": {},
   "outputs": [
    {
     "name": "stdout",
     "output_type": "stream",
     "text": [
      "              precision    recall  f1-score   support\n",
      "\n",
      "           0       0.64      0.70      0.67      3149\n",
      "           1       0.66      0.61      0.64      3101\n",
      "\n",
      "    accuracy                           0.65      6250\n",
      "   macro avg       0.65      0.65      0.65      6250\n",
      "weighted avg       0.65      0.65      0.65      6250\n",
      "\n"
     ]
    }
   ],
   "source": [
    "print (classification_report(y_test,y_pred))"
   ]
  },
  {
   "cell_type": "code",
   "execution_count": null,
   "metadata": {},
   "outputs": [],
   "source": []
  }
 ],
 "metadata": {
  "kernelspec": {
   "display_name": "Python 3",
   "language": "python",
   "name": "python3"
  },
  "language_info": {
   "codemirror_mode": {
    "name": "ipython",
    "version": 3
   },
   "file_extension": ".py",
   "mimetype": "text/x-python",
   "name": "python",
   "nbconvert_exporter": "python",
   "pygments_lexer": "ipython3",
   "version": "3.8.8"
  }
 },
 "nbformat": 4,
 "nbformat_minor": 4
}
