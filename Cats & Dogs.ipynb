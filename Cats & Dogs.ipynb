{
 "cells": [
  {
   "cell_type": "code",
   "execution_count": 34,
   "metadata": {},
   "outputs": [],
   "source": [
    "import pandas as pd\n",
    "import seaborn as sns\n",
    "import matplotlib.pyplot as plt\n",
    "%matplotlib inline\n",
    "import numpy as np\n",
    "import os\n",
    "import cv2\n",
    "\n",
    "from random import shuffle\n",
    "from sklearn.preprocessing import MinMaxScaler\n",
    "from sklearn.preprocessing import StandardScaler\n",
    "from sklearn.model_selection import train_test_split\n",
    "from sklearn.neighbors import KNeighborsClassifier\n",
    "from sklearn.tree import DecisionTreeClassifier\n",
    "from sklearn import metrics\n",
    "from sklearn.metrics import classification_report,confusion_matrix\n",
    "from sklearn.model_selection import cross_val_score\n",
    "from sklearn.model_selection import GridSearchCV\n",
    "from sklearn.model_selection import RandomizedSearchCV\n",
    "from sklearn.tree import plot_tree\n",
    "from sklearn.dummy import DummyClassifier\n",
    "from sklearn.ensemble import RandomForestClassifier\n",
    "from sklearn.decomposition import PCA\n",
    "from sklearn.pipeline import Pipeline\n",
    "from sklearn.ensemble import AdaBoostClassifier\n",
    "from sklearn.ensemble import VotingClassifier\n",
    "from sklearn.ensemble import GradientBoostingClassifier\n",
    "from sklearn.ensemble import StackingClassifier\n",
    "from sklearn.cluster import KMeans\n",
    "\n",
    "from xgboost import XGBClassifier"
   ]
  },
  {
   "cell_type": "code",
   "execution_count": 2,
   "metadata": {},
   "outputs": [],
   "source": [
    "def label_img(img):\n",
    "    word_label = img.split('.')[0]\n",
    "    if word_label == 'dog' : return 1\n",
    "    elif word_label == 'cat' : return 0"
   ]
  },
  {
   "cell_type": "code",
   "execution_count": 3,
   "metadata": {},
   "outputs": [],
   "source": [
    "train_data = []\n",
    "train_label = []\n",
    "for img in os.listdir(r'C:\\Users\\guyit\\Desktop\\train'):\n",
    "    label = label_img(img)\n",
    "    path = os.path.join(r'C:\\Users\\guyit\\Desktop\\train',img)\n",
    "    img = cv2.resize(cv2.imread(path, cv2.IMREAD_GRAYSCALE),(28,28))\n",
    "    train_data.append(np.array(img).flatten())\n",
    "    train_label.append(label)"
   ]
  },
  {
   "cell_type": "code",
   "execution_count": 4,
   "metadata": {},
   "outputs": [
    {
     "data": {
      "text/html": [
       "<div>\n",
       "<style scoped>\n",
       "    .dataframe tbody tr th:only-of-type {\n",
       "        vertical-align: middle;\n",
       "    }\n",
       "\n",
       "    .dataframe tbody tr th {\n",
       "        vertical-align: top;\n",
       "    }\n",
       "\n",
       "    .dataframe thead th {\n",
       "        text-align: right;\n",
       "    }\n",
       "</style>\n",
       "<table border=\"1\" class=\"dataframe\">\n",
       "  <thead>\n",
       "    <tr style=\"text-align: right;\">\n",
       "      <th></th>\n",
       "      <th>pixel_0</th>\n",
       "      <th>pixel_1</th>\n",
       "      <th>pixel_2</th>\n",
       "      <th>pixel_3</th>\n",
       "      <th>pixel_4</th>\n",
       "      <th>pixel_5</th>\n",
       "      <th>pixel_6</th>\n",
       "      <th>pixel_7</th>\n",
       "      <th>pixel_8</th>\n",
       "      <th>pixel_9</th>\n",
       "      <th>...</th>\n",
       "      <th>pixel_775</th>\n",
       "      <th>pixel_776</th>\n",
       "      <th>pixel_777</th>\n",
       "      <th>pixel_778</th>\n",
       "      <th>pixel_779</th>\n",
       "      <th>pixel_780</th>\n",
       "      <th>pixel_781</th>\n",
       "      <th>pixel_782</th>\n",
       "      <th>pixel_783</th>\n",
       "      <th>label</th>\n",
       "    </tr>\n",
       "  </thead>\n",
       "  <tbody>\n",
       "    <tr>\n",
       "      <th>0</th>\n",
       "      <td>173</td>\n",
       "      <td>187</td>\n",
       "      <td>197</td>\n",
       "      <td>204</td>\n",
       "      <td>209</td>\n",
       "      <td>215</td>\n",
       "      <td>184</td>\n",
       "      <td>165</td>\n",
       "      <td>143</td>\n",
       "      <td>96</td>\n",
       "      <td>...</td>\n",
       "      <td>28</td>\n",
       "      <td>4</td>\n",
       "      <td>9</td>\n",
       "      <td>34</td>\n",
       "      <td>28</td>\n",
       "      <td>9</td>\n",
       "      <td>2</td>\n",
       "      <td>3</td>\n",
       "      <td>3</td>\n",
       "      <td>0</td>\n",
       "    </tr>\n",
       "    <tr>\n",
       "      <th>1</th>\n",
       "      <td>36</td>\n",
       "      <td>44</td>\n",
       "      <td>41</td>\n",
       "      <td>40</td>\n",
       "      <td>41</td>\n",
       "      <td>53</td>\n",
       "      <td>67</td>\n",
       "      <td>64</td>\n",
       "      <td>62</td>\n",
       "      <td>73</td>\n",
       "      <td>...</td>\n",
       "      <td>62</td>\n",
       "      <td>26</td>\n",
       "      <td>33</td>\n",
       "      <td>71</td>\n",
       "      <td>53</td>\n",
       "      <td>87</td>\n",
       "      <td>57</td>\n",
       "      <td>52</td>\n",
       "      <td>42</td>\n",
       "      <td>0</td>\n",
       "    </tr>\n",
       "    <tr>\n",
       "      <th>2</th>\n",
       "      <td>56</td>\n",
       "      <td>58</td>\n",
       "      <td>62</td>\n",
       "      <td>61</td>\n",
       "      <td>56</td>\n",
       "      <td>50</td>\n",
       "      <td>48</td>\n",
       "      <td>43</td>\n",
       "      <td>48</td>\n",
       "      <td>56</td>\n",
       "      <td>...</td>\n",
       "      <td>106</td>\n",
       "      <td>147</td>\n",
       "      <td>63</td>\n",
       "      <td>76</td>\n",
       "      <td>68</td>\n",
       "      <td>72</td>\n",
       "      <td>131</td>\n",
       "      <td>145</td>\n",
       "      <td>172</td>\n",
       "      <td>0</td>\n",
       "    </tr>\n",
       "    <tr>\n",
       "      <th>3</th>\n",
       "      <td>222</td>\n",
       "      <td>236</td>\n",
       "      <td>226</td>\n",
       "      <td>228</td>\n",
       "      <td>231</td>\n",
       "      <td>223</td>\n",
       "      <td>231</td>\n",
       "      <td>224</td>\n",
       "      <td>216</td>\n",
       "      <td>208</td>\n",
       "      <td>...</td>\n",
       "      <td>159</td>\n",
       "      <td>178</td>\n",
       "      <td>255</td>\n",
       "      <td>251</td>\n",
       "      <td>237</td>\n",
       "      <td>223</td>\n",
       "      <td>208</td>\n",
       "      <td>209</td>\n",
       "      <td>212</td>\n",
       "      <td>0</td>\n",
       "    </tr>\n",
       "    <tr>\n",
       "      <th>4</th>\n",
       "      <td>99</td>\n",
       "      <td>82</td>\n",
       "      <td>145</td>\n",
       "      <td>198</td>\n",
       "      <td>222</td>\n",
       "      <td>237</td>\n",
       "      <td>202</td>\n",
       "      <td>236</td>\n",
       "      <td>85</td>\n",
       "      <td>136</td>\n",
       "      <td>...</td>\n",
       "      <td>92</td>\n",
       "      <td>97</td>\n",
       "      <td>92</td>\n",
       "      <td>86</td>\n",
       "      <td>86</td>\n",
       "      <td>85</td>\n",
       "      <td>76</td>\n",
       "      <td>85</td>\n",
       "      <td>79</td>\n",
       "      <td>0</td>\n",
       "    </tr>\n",
       "  </tbody>\n",
       "</table>\n",
       "<p>5 rows × 785 columns</p>\n",
       "</div>"
      ],
      "text/plain": [
       "   pixel_0  pixel_1  pixel_2  pixel_3  pixel_4  pixel_5  pixel_6  pixel_7  \\\n",
       "0      173      187      197      204      209      215      184      165   \n",
       "1       36       44       41       40       41       53       67       64   \n",
       "2       56       58       62       61       56       50       48       43   \n",
       "3      222      236      226      228      231      223      231      224   \n",
       "4       99       82      145      198      222      237      202      236   \n",
       "\n",
       "   pixel_8  pixel_9  ...  pixel_775  pixel_776  pixel_777  pixel_778  \\\n",
       "0      143       96  ...         28          4          9         34   \n",
       "1       62       73  ...         62         26         33         71   \n",
       "2       48       56  ...        106        147         63         76   \n",
       "3      216      208  ...        159        178        255        251   \n",
       "4       85      136  ...         92         97         92         86   \n",
       "\n",
       "   pixel_779  pixel_780  pixel_781  pixel_782  pixel_783  label  \n",
       "0         28          9          2          3          3      0  \n",
       "1         53         87         57         52         42      0  \n",
       "2         68         72        131        145        172      0  \n",
       "3        237        223        208        209        212      0  \n",
       "4         86         85         76         85         79      0  \n",
       "\n",
       "[5 rows x 785 columns]"
      ]
     },
     "execution_count": 4,
     "metadata": {},
     "output_type": "execute_result"
    }
   ],
   "source": [
    "cols = []\n",
    "for i in range(784):\n",
    "    cols.append(\"pixel_\"+str(i))\n",
    "df = pd.DataFrame(train_data,columns=cols)\n",
    "df['label']=train_label\n",
    "df.head()"
   ]
  },
  {
   "cell_type": "code",
   "execution_count": 5,
   "metadata": {},
   "outputs": [
    {
     "data": {
      "text/html": [
       "<div>\n",
       "<style scoped>\n",
       "    .dataframe tbody tr th:only-of-type {\n",
       "        vertical-align: middle;\n",
       "    }\n",
       "\n",
       "    .dataframe tbody tr th {\n",
       "        vertical-align: top;\n",
       "    }\n",
       "\n",
       "    .dataframe thead th {\n",
       "        text-align: right;\n",
       "    }\n",
       "</style>\n",
       "<table border=\"1\" class=\"dataframe\">\n",
       "  <thead>\n",
       "    <tr style=\"text-align: right;\">\n",
       "      <th></th>\n",
       "      <th>pixel_0</th>\n",
       "      <th>pixel_1</th>\n",
       "      <th>pixel_2</th>\n",
       "      <th>pixel_3</th>\n",
       "      <th>pixel_4</th>\n",
       "      <th>pixel_5</th>\n",
       "      <th>pixel_6</th>\n",
       "      <th>pixel_7</th>\n",
       "      <th>pixel_8</th>\n",
       "      <th>pixel_9</th>\n",
       "      <th>...</th>\n",
       "      <th>pixel_775</th>\n",
       "      <th>pixel_776</th>\n",
       "      <th>pixel_777</th>\n",
       "      <th>pixel_778</th>\n",
       "      <th>pixel_779</th>\n",
       "      <th>pixel_780</th>\n",
       "      <th>pixel_781</th>\n",
       "      <th>pixel_782</th>\n",
       "      <th>pixel_783</th>\n",
       "      <th>label</th>\n",
       "    </tr>\n",
       "  </thead>\n",
       "  <tbody>\n",
       "    <tr>\n",
       "      <th>14149</th>\n",
       "      <td>55</td>\n",
       "      <td>47</td>\n",
       "      <td>72</td>\n",
       "      <td>98</td>\n",
       "      <td>137</td>\n",
       "      <td>72</td>\n",
       "      <td>68</td>\n",
       "      <td>155</td>\n",
       "      <td>133</td>\n",
       "      <td>159</td>\n",
       "      <td>...</td>\n",
       "      <td>126</td>\n",
       "      <td>192</td>\n",
       "      <td>179</td>\n",
       "      <td>151</td>\n",
       "      <td>179</td>\n",
       "      <td>101</td>\n",
       "      <td>128</td>\n",
       "      <td>152</td>\n",
       "      <td>109</td>\n",
       "      <td>1</td>\n",
       "    </tr>\n",
       "    <tr>\n",
       "      <th>8946</th>\n",
       "      <td>65</td>\n",
       "      <td>60</td>\n",
       "      <td>60</td>\n",
       "      <td>58</td>\n",
       "      <td>58</td>\n",
       "      <td>47</td>\n",
       "      <td>50</td>\n",
       "      <td>54</td>\n",
       "      <td>42</td>\n",
       "      <td>43</td>\n",
       "      <td>...</td>\n",
       "      <td>57</td>\n",
       "      <td>45</td>\n",
       "      <td>23</td>\n",
       "      <td>45</td>\n",
       "      <td>44</td>\n",
       "      <td>61</td>\n",
       "      <td>64</td>\n",
       "      <td>27</td>\n",
       "      <td>36</td>\n",
       "      <td>0</td>\n",
       "    </tr>\n",
       "    <tr>\n",
       "      <th>22378</th>\n",
       "      <td>185</td>\n",
       "      <td>206</td>\n",
       "      <td>207</td>\n",
       "      <td>211</td>\n",
       "      <td>210</td>\n",
       "      <td>159</td>\n",
       "      <td>199</td>\n",
       "      <td>195</td>\n",
       "      <td>166</td>\n",
       "      <td>190</td>\n",
       "      <td>...</td>\n",
       "      <td>46</td>\n",
       "      <td>51</td>\n",
       "      <td>57</td>\n",
       "      <td>53</td>\n",
       "      <td>46</td>\n",
       "      <td>41</td>\n",
       "      <td>50</td>\n",
       "      <td>36</td>\n",
       "      <td>23</td>\n",
       "      <td>1</td>\n",
       "    </tr>\n",
       "    <tr>\n",
       "      <th>12162</th>\n",
       "      <td>36</td>\n",
       "      <td>140</td>\n",
       "      <td>142</td>\n",
       "      <td>142</td>\n",
       "      <td>140</td>\n",
       "      <td>132</td>\n",
       "      <td>151</td>\n",
       "      <td>56</td>\n",
       "      <td>61</td>\n",
       "      <td>80</td>\n",
       "      <td>...</td>\n",
       "      <td>138</td>\n",
       "      <td>72</td>\n",
       "      <td>48</td>\n",
       "      <td>80</td>\n",
       "      <td>37</td>\n",
       "      <td>60</td>\n",
       "      <td>44</td>\n",
       "      <td>66</td>\n",
       "      <td>70</td>\n",
       "      <td>0</td>\n",
       "    </tr>\n",
       "    <tr>\n",
       "      <th>4879</th>\n",
       "      <td>133</td>\n",
       "      <td>146</td>\n",
       "      <td>141</td>\n",
       "      <td>120</td>\n",
       "      <td>138</td>\n",
       "      <td>134</td>\n",
       "      <td>141</td>\n",
       "      <td>123</td>\n",
       "      <td>125</td>\n",
       "      <td>118</td>\n",
       "      <td>...</td>\n",
       "      <td>126</td>\n",
       "      <td>95</td>\n",
       "      <td>76</td>\n",
       "      <td>46</td>\n",
       "      <td>64</td>\n",
       "      <td>75</td>\n",
       "      <td>103</td>\n",
       "      <td>89</td>\n",
       "      <td>100</td>\n",
       "      <td>0</td>\n",
       "    </tr>\n",
       "    <tr>\n",
       "      <th>...</th>\n",
       "      <td>...</td>\n",
       "      <td>...</td>\n",
       "      <td>...</td>\n",
       "      <td>...</td>\n",
       "      <td>...</td>\n",
       "      <td>...</td>\n",
       "      <td>...</td>\n",
       "      <td>...</td>\n",
       "      <td>...</td>\n",
       "      <td>...</td>\n",
       "      <td>...</td>\n",
       "      <td>...</td>\n",
       "      <td>...</td>\n",
       "      <td>...</td>\n",
       "      <td>...</td>\n",
       "      <td>...</td>\n",
       "      <td>...</td>\n",
       "      <td>...</td>\n",
       "      <td>...</td>\n",
       "      <td>...</td>\n",
       "      <td>...</td>\n",
       "    </tr>\n",
       "    <tr>\n",
       "      <th>13123</th>\n",
       "      <td>85</td>\n",
       "      <td>73</td>\n",
       "      <td>77</td>\n",
       "      <td>72</td>\n",
       "      <td>100</td>\n",
       "      <td>43</td>\n",
       "      <td>42</td>\n",
       "      <td>49</td>\n",
       "      <td>44</td>\n",
       "      <td>53</td>\n",
       "      <td>...</td>\n",
       "      <td>84</td>\n",
       "      <td>123</td>\n",
       "      <td>196</td>\n",
       "      <td>70</td>\n",
       "      <td>69</td>\n",
       "      <td>63</td>\n",
       "      <td>52</td>\n",
       "      <td>49</td>\n",
       "      <td>53</td>\n",
       "      <td>1</td>\n",
       "    </tr>\n",
       "    <tr>\n",
       "      <th>19648</th>\n",
       "      <td>131</td>\n",
       "      <td>166</td>\n",
       "      <td>138</td>\n",
       "      <td>124</td>\n",
       "      <td>142</td>\n",
       "      <td>126</td>\n",
       "      <td>130</td>\n",
       "      <td>134</td>\n",
       "      <td>132</td>\n",
       "      <td>138</td>\n",
       "      <td>...</td>\n",
       "      <td>122</td>\n",
       "      <td>118</td>\n",
       "      <td>108</td>\n",
       "      <td>140</td>\n",
       "      <td>137</td>\n",
       "      <td>122</td>\n",
       "      <td>91</td>\n",
       "      <td>95</td>\n",
       "      <td>128</td>\n",
       "      <td>1</td>\n",
       "    </tr>\n",
       "    <tr>\n",
       "      <th>9845</th>\n",
       "      <td>123</td>\n",
       "      <td>127</td>\n",
       "      <td>126</td>\n",
       "      <td>128</td>\n",
       "      <td>129</td>\n",
       "      <td>130</td>\n",
       "      <td>132</td>\n",
       "      <td>132</td>\n",
       "      <td>130</td>\n",
       "      <td>129</td>\n",
       "      <td>...</td>\n",
       "      <td>107</td>\n",
       "      <td>106</td>\n",
       "      <td>104</td>\n",
       "      <td>96</td>\n",
       "      <td>94</td>\n",
       "      <td>106</td>\n",
       "      <td>57</td>\n",
       "      <td>84</td>\n",
       "      <td>51</td>\n",
       "      <td>0</td>\n",
       "    </tr>\n",
       "    <tr>\n",
       "      <th>10799</th>\n",
       "      <td>52</td>\n",
       "      <td>42</td>\n",
       "      <td>40</td>\n",
       "      <td>44</td>\n",
       "      <td>48</td>\n",
       "      <td>53</td>\n",
       "      <td>57</td>\n",
       "      <td>65</td>\n",
       "      <td>73</td>\n",
       "      <td>86</td>\n",
       "      <td>...</td>\n",
       "      <td>25</td>\n",
       "      <td>31</td>\n",
       "      <td>41</td>\n",
       "      <td>32</td>\n",
       "      <td>29</td>\n",
       "      <td>52</td>\n",
       "      <td>69</td>\n",
       "      <td>152</td>\n",
       "      <td>156</td>\n",
       "      <td>0</td>\n",
       "    </tr>\n",
       "    <tr>\n",
       "      <th>2732</th>\n",
       "      <td>85</td>\n",
       "      <td>84</td>\n",
       "      <td>90</td>\n",
       "      <td>86</td>\n",
       "      <td>90</td>\n",
       "      <td>90</td>\n",
       "      <td>90</td>\n",
       "      <td>93</td>\n",
       "      <td>93</td>\n",
       "      <td>95</td>\n",
       "      <td>...</td>\n",
       "      <td>33</td>\n",
       "      <td>79</td>\n",
       "      <td>12</td>\n",
       "      <td>103</td>\n",
       "      <td>140</td>\n",
       "      <td>105</td>\n",
       "      <td>143</td>\n",
       "      <td>148</td>\n",
       "      <td>134</td>\n",
       "      <td>0</td>\n",
       "    </tr>\n",
       "  </tbody>\n",
       "</table>\n",
       "<p>25000 rows × 785 columns</p>\n",
       "</div>"
      ],
      "text/plain": [
       "       pixel_0  pixel_1  pixel_2  pixel_3  pixel_4  pixel_5  pixel_6  pixel_7  \\\n",
       "14149       55       47       72       98      137       72       68      155   \n",
       "8946        65       60       60       58       58       47       50       54   \n",
       "22378      185      206      207      211      210      159      199      195   \n",
       "12162       36      140      142      142      140      132      151       56   \n",
       "4879       133      146      141      120      138      134      141      123   \n",
       "...        ...      ...      ...      ...      ...      ...      ...      ...   \n",
       "13123       85       73       77       72      100       43       42       49   \n",
       "19648      131      166      138      124      142      126      130      134   \n",
       "9845       123      127      126      128      129      130      132      132   \n",
       "10799       52       42       40       44       48       53       57       65   \n",
       "2732        85       84       90       86       90       90       90       93   \n",
       "\n",
       "       pixel_8  pixel_9  ...  pixel_775  pixel_776  pixel_777  pixel_778  \\\n",
       "14149      133      159  ...        126        192        179        151   \n",
       "8946        42       43  ...         57         45         23         45   \n",
       "22378      166      190  ...         46         51         57         53   \n",
       "12162       61       80  ...        138         72         48         80   \n",
       "4879       125      118  ...        126         95         76         46   \n",
       "...        ...      ...  ...        ...        ...        ...        ...   \n",
       "13123       44       53  ...         84        123        196         70   \n",
       "19648      132      138  ...        122        118        108        140   \n",
       "9845       130      129  ...        107        106        104         96   \n",
       "10799       73       86  ...         25         31         41         32   \n",
       "2732        93       95  ...         33         79         12        103   \n",
       "\n",
       "       pixel_779  pixel_780  pixel_781  pixel_782  pixel_783  label  \n",
       "14149        179        101        128        152        109      1  \n",
       "8946          44         61         64         27         36      0  \n",
       "22378         46         41         50         36         23      1  \n",
       "12162         37         60         44         66         70      0  \n",
       "4879          64         75        103         89        100      0  \n",
       "...          ...        ...        ...        ...        ...    ...  \n",
       "13123         69         63         52         49         53      1  \n",
       "19648        137        122         91         95        128      1  \n",
       "9845          94        106         57         84         51      0  \n",
       "10799         29         52         69        152        156      0  \n",
       "2732         140        105        143        148        134      0  \n",
       "\n",
       "[25000 rows x 785 columns]"
      ]
     },
     "execution_count": 5,
     "metadata": {},
     "output_type": "execute_result"
    }
   ],
   "source": [
    "df_suffled = df.sample(frac=1,random_state=0)\n",
    "df_suffled"
   ]
  },
  {
   "cell_type": "code",
   "execution_count": 6,
   "metadata": {},
   "outputs": [
    {
     "data": {
      "text/html": [
       "<div>\n",
       "<style scoped>\n",
       "    .dataframe tbody tr th:only-of-type {\n",
       "        vertical-align: middle;\n",
       "    }\n",
       "\n",
       "    .dataframe tbody tr th {\n",
       "        vertical-align: top;\n",
       "    }\n",
       "\n",
       "    .dataframe thead th {\n",
       "        text-align: right;\n",
       "    }\n",
       "</style>\n",
       "<table border=\"1\" class=\"dataframe\">\n",
       "  <thead>\n",
       "    <tr style=\"text-align: right;\">\n",
       "      <th></th>\n",
       "      <th>pixel_0</th>\n",
       "      <th>pixel_1</th>\n",
       "      <th>pixel_2</th>\n",
       "      <th>pixel_3</th>\n",
       "      <th>pixel_4</th>\n",
       "      <th>pixel_5</th>\n",
       "      <th>pixel_6</th>\n",
       "      <th>pixel_7</th>\n",
       "      <th>pixel_8</th>\n",
       "      <th>pixel_9</th>\n",
       "      <th>...</th>\n",
       "      <th>pixel_775</th>\n",
       "      <th>pixel_776</th>\n",
       "      <th>pixel_777</th>\n",
       "      <th>pixel_778</th>\n",
       "      <th>pixel_779</th>\n",
       "      <th>pixel_780</th>\n",
       "      <th>pixel_781</th>\n",
       "      <th>pixel_782</th>\n",
       "      <th>pixel_783</th>\n",
       "      <th>label</th>\n",
       "    </tr>\n",
       "  </thead>\n",
       "  <tbody>\n",
       "    <tr>\n",
       "      <th>0</th>\n",
       "      <td>55</td>\n",
       "      <td>47</td>\n",
       "      <td>72</td>\n",
       "      <td>98</td>\n",
       "      <td>137</td>\n",
       "      <td>72</td>\n",
       "      <td>68</td>\n",
       "      <td>155</td>\n",
       "      <td>133</td>\n",
       "      <td>159</td>\n",
       "      <td>...</td>\n",
       "      <td>126</td>\n",
       "      <td>192</td>\n",
       "      <td>179</td>\n",
       "      <td>151</td>\n",
       "      <td>179</td>\n",
       "      <td>101</td>\n",
       "      <td>128</td>\n",
       "      <td>152</td>\n",
       "      <td>109</td>\n",
       "      <td>1</td>\n",
       "    </tr>\n",
       "    <tr>\n",
       "      <th>1</th>\n",
       "      <td>65</td>\n",
       "      <td>60</td>\n",
       "      <td>60</td>\n",
       "      <td>58</td>\n",
       "      <td>58</td>\n",
       "      <td>47</td>\n",
       "      <td>50</td>\n",
       "      <td>54</td>\n",
       "      <td>42</td>\n",
       "      <td>43</td>\n",
       "      <td>...</td>\n",
       "      <td>57</td>\n",
       "      <td>45</td>\n",
       "      <td>23</td>\n",
       "      <td>45</td>\n",
       "      <td>44</td>\n",
       "      <td>61</td>\n",
       "      <td>64</td>\n",
       "      <td>27</td>\n",
       "      <td>36</td>\n",
       "      <td>0</td>\n",
       "    </tr>\n",
       "    <tr>\n",
       "      <th>2</th>\n",
       "      <td>185</td>\n",
       "      <td>206</td>\n",
       "      <td>207</td>\n",
       "      <td>211</td>\n",
       "      <td>210</td>\n",
       "      <td>159</td>\n",
       "      <td>199</td>\n",
       "      <td>195</td>\n",
       "      <td>166</td>\n",
       "      <td>190</td>\n",
       "      <td>...</td>\n",
       "      <td>46</td>\n",
       "      <td>51</td>\n",
       "      <td>57</td>\n",
       "      <td>53</td>\n",
       "      <td>46</td>\n",
       "      <td>41</td>\n",
       "      <td>50</td>\n",
       "      <td>36</td>\n",
       "      <td>23</td>\n",
       "      <td>1</td>\n",
       "    </tr>\n",
       "    <tr>\n",
       "      <th>3</th>\n",
       "      <td>36</td>\n",
       "      <td>140</td>\n",
       "      <td>142</td>\n",
       "      <td>142</td>\n",
       "      <td>140</td>\n",
       "      <td>132</td>\n",
       "      <td>151</td>\n",
       "      <td>56</td>\n",
       "      <td>61</td>\n",
       "      <td>80</td>\n",
       "      <td>...</td>\n",
       "      <td>138</td>\n",
       "      <td>72</td>\n",
       "      <td>48</td>\n",
       "      <td>80</td>\n",
       "      <td>37</td>\n",
       "      <td>60</td>\n",
       "      <td>44</td>\n",
       "      <td>66</td>\n",
       "      <td>70</td>\n",
       "      <td>0</td>\n",
       "    </tr>\n",
       "    <tr>\n",
       "      <th>4</th>\n",
       "      <td>133</td>\n",
       "      <td>146</td>\n",
       "      <td>141</td>\n",
       "      <td>120</td>\n",
       "      <td>138</td>\n",
       "      <td>134</td>\n",
       "      <td>141</td>\n",
       "      <td>123</td>\n",
       "      <td>125</td>\n",
       "      <td>118</td>\n",
       "      <td>...</td>\n",
       "      <td>126</td>\n",
       "      <td>95</td>\n",
       "      <td>76</td>\n",
       "      <td>46</td>\n",
       "      <td>64</td>\n",
       "      <td>75</td>\n",
       "      <td>103</td>\n",
       "      <td>89</td>\n",
       "      <td>100</td>\n",
       "      <td>0</td>\n",
       "    </tr>\n",
       "  </tbody>\n",
       "</table>\n",
       "<p>5 rows × 785 columns</p>\n",
       "</div>"
      ],
      "text/plain": [
       "   pixel_0  pixel_1  pixel_2  pixel_3  pixel_4  pixel_5  pixel_6  pixel_7  \\\n",
       "0       55       47       72       98      137       72       68      155   \n",
       "1       65       60       60       58       58       47       50       54   \n",
       "2      185      206      207      211      210      159      199      195   \n",
       "3       36      140      142      142      140      132      151       56   \n",
       "4      133      146      141      120      138      134      141      123   \n",
       "\n",
       "   pixel_8  pixel_9  ...  pixel_775  pixel_776  pixel_777  pixel_778  \\\n",
       "0      133      159  ...        126        192        179        151   \n",
       "1       42       43  ...         57         45         23         45   \n",
       "2      166      190  ...         46         51         57         53   \n",
       "3       61       80  ...        138         72         48         80   \n",
       "4      125      118  ...        126         95         76         46   \n",
       "\n",
       "   pixel_779  pixel_780  pixel_781  pixel_782  pixel_783  label  \n",
       "0        179        101        128        152        109      1  \n",
       "1         44         61         64         27         36      0  \n",
       "2         46         41         50         36         23      1  \n",
       "3         37         60         44         66         70      0  \n",
       "4         64         75        103         89        100      0  \n",
       "\n",
       "[5 rows x 785 columns]"
      ]
     },
     "execution_count": 6,
     "metadata": {},
     "output_type": "execute_result"
    }
   ],
   "source": [
    "test = df_suffled.iloc[:5000]\n",
    "test.reset_index(drop=True,inplace=True)\n",
    "test.head()"
   ]
  },
  {
   "cell_type": "code",
   "execution_count": 7,
   "metadata": {},
   "outputs": [
    {
     "data": {
      "text/html": [
       "<div>\n",
       "<style scoped>\n",
       "    .dataframe tbody tr th:only-of-type {\n",
       "        vertical-align: middle;\n",
       "    }\n",
       "\n",
       "    .dataframe tbody tr th {\n",
       "        vertical-align: top;\n",
       "    }\n",
       "\n",
       "    .dataframe thead th {\n",
       "        text-align: right;\n",
       "    }\n",
       "</style>\n",
       "<table border=\"1\" class=\"dataframe\">\n",
       "  <thead>\n",
       "    <tr style=\"text-align: right;\">\n",
       "      <th></th>\n",
       "      <th>pixel_0</th>\n",
       "      <th>pixel_1</th>\n",
       "      <th>pixel_2</th>\n",
       "      <th>pixel_3</th>\n",
       "      <th>pixel_4</th>\n",
       "      <th>pixel_5</th>\n",
       "      <th>pixel_6</th>\n",
       "      <th>pixel_7</th>\n",
       "      <th>pixel_8</th>\n",
       "      <th>pixel_9</th>\n",
       "      <th>...</th>\n",
       "      <th>pixel_775</th>\n",
       "      <th>pixel_776</th>\n",
       "      <th>pixel_777</th>\n",
       "      <th>pixel_778</th>\n",
       "      <th>pixel_779</th>\n",
       "      <th>pixel_780</th>\n",
       "      <th>pixel_781</th>\n",
       "      <th>pixel_782</th>\n",
       "      <th>pixel_783</th>\n",
       "      <th>label</th>\n",
       "    </tr>\n",
       "  </thead>\n",
       "  <tbody>\n",
       "    <tr>\n",
       "      <th>0</th>\n",
       "      <td>218</td>\n",
       "      <td>211</td>\n",
       "      <td>212</td>\n",
       "      <td>174</td>\n",
       "      <td>162</td>\n",
       "      <td>138</td>\n",
       "      <td>158</td>\n",
       "      <td>167</td>\n",
       "      <td>148</td>\n",
       "      <td>167</td>\n",
       "      <td>...</td>\n",
       "      <td>183</td>\n",
       "      <td>193</td>\n",
       "      <td>190</td>\n",
       "      <td>193</td>\n",
       "      <td>193</td>\n",
       "      <td>192</td>\n",
       "      <td>191</td>\n",
       "      <td>194</td>\n",
       "      <td>194</td>\n",
       "      <td>0</td>\n",
       "    </tr>\n",
       "    <tr>\n",
       "      <th>1</th>\n",
       "      <td>77</td>\n",
       "      <td>98</td>\n",
       "      <td>59</td>\n",
       "      <td>14</td>\n",
       "      <td>66</td>\n",
       "      <td>105</td>\n",
       "      <td>92</td>\n",
       "      <td>111</td>\n",
       "      <td>143</td>\n",
       "      <td>12</td>\n",
       "      <td>...</td>\n",
       "      <td>99</td>\n",
       "      <td>163</td>\n",
       "      <td>196</td>\n",
       "      <td>179</td>\n",
       "      <td>186</td>\n",
       "      <td>76</td>\n",
       "      <td>102</td>\n",
       "      <td>24</td>\n",
       "      <td>66</td>\n",
       "      <td>1</td>\n",
       "    </tr>\n",
       "    <tr>\n",
       "      <th>2</th>\n",
       "      <td>90</td>\n",
       "      <td>93</td>\n",
       "      <td>88</td>\n",
       "      <td>80</td>\n",
       "      <td>79</td>\n",
       "      <td>61</td>\n",
       "      <td>50</td>\n",
       "      <td>42</td>\n",
       "      <td>31</td>\n",
       "      <td>38</td>\n",
       "      <td>...</td>\n",
       "      <td>89</td>\n",
       "      <td>84</td>\n",
       "      <td>85</td>\n",
       "      <td>120</td>\n",
       "      <td>146</td>\n",
       "      <td>149</td>\n",
       "      <td>141</td>\n",
       "      <td>80</td>\n",
       "      <td>74</td>\n",
       "      <td>1</td>\n",
       "    </tr>\n",
       "    <tr>\n",
       "      <th>3</th>\n",
       "      <td>149</td>\n",
       "      <td>130</td>\n",
       "      <td>149</td>\n",
       "      <td>144</td>\n",
       "      <td>118</td>\n",
       "      <td>144</td>\n",
       "      <td>127</td>\n",
       "      <td>131</td>\n",
       "      <td>136</td>\n",
       "      <td>142</td>\n",
       "      <td>...</td>\n",
       "      <td>196</td>\n",
       "      <td>191</td>\n",
       "      <td>207</td>\n",
       "      <td>201</td>\n",
       "      <td>204</td>\n",
       "      <td>204</td>\n",
       "      <td>190</td>\n",
       "      <td>198</td>\n",
       "      <td>193</td>\n",
       "      <td>1</td>\n",
       "    </tr>\n",
       "    <tr>\n",
       "      <th>4</th>\n",
       "      <td>1</td>\n",
       "      <td>1</td>\n",
       "      <td>1</td>\n",
       "      <td>1</td>\n",
       "      <td>13</td>\n",
       "      <td>1</td>\n",
       "      <td>1</td>\n",
       "      <td>1</td>\n",
       "      <td>1</td>\n",
       "      <td>4</td>\n",
       "      <td>...</td>\n",
       "      <td>1</td>\n",
       "      <td>1</td>\n",
       "      <td>1</td>\n",
       "      <td>1</td>\n",
       "      <td>1</td>\n",
       "      <td>1</td>\n",
       "      <td>1</td>\n",
       "      <td>1</td>\n",
       "      <td>1</td>\n",
       "      <td>1</td>\n",
       "    </tr>\n",
       "  </tbody>\n",
       "</table>\n",
       "<p>5 rows × 785 columns</p>\n",
       "</div>"
      ],
      "text/plain": [
       "   pixel_0  pixel_1  pixel_2  pixel_3  pixel_4  pixel_5  pixel_6  pixel_7  \\\n",
       "0      218      211      212      174      162      138      158      167   \n",
       "1       77       98       59       14       66      105       92      111   \n",
       "2       90       93       88       80       79       61       50       42   \n",
       "3      149      130      149      144      118      144      127      131   \n",
       "4        1        1        1        1       13        1        1        1   \n",
       "\n",
       "   pixel_8  pixel_9  ...  pixel_775  pixel_776  pixel_777  pixel_778  \\\n",
       "0      148      167  ...        183        193        190        193   \n",
       "1      143       12  ...         99        163        196        179   \n",
       "2       31       38  ...         89         84         85        120   \n",
       "3      136      142  ...        196        191        207        201   \n",
       "4        1        4  ...          1          1          1          1   \n",
       "\n",
       "   pixel_779  pixel_780  pixel_781  pixel_782  pixel_783  label  \n",
       "0        193        192        191        194        194      0  \n",
       "1        186         76        102         24         66      1  \n",
       "2        146        149        141         80         74      1  \n",
       "3        204        204        190        198        193      1  \n",
       "4          1          1          1          1          1      1  \n",
       "\n",
       "[5 rows x 785 columns]"
      ]
     },
     "execution_count": 7,
     "metadata": {},
     "output_type": "execute_result"
    }
   ],
   "source": [
    "train = df_suffled.iloc[5000:]\n",
    "train.reset_index(drop=True,inplace=True)\n",
    "train.head()"
   ]
  },
  {
   "cell_type": "code",
   "execution_count": 8,
   "metadata": {},
   "outputs": [],
   "source": [
    "train_data = train.drop('label',axis=1)\n",
    "train_target = train['label']"
   ]
  },
  {
   "cell_type": "code",
   "execution_count": 9,
   "metadata": {},
   "outputs": [],
   "source": [
    "test_data = test.drop('label',axis=1)\n",
    "test_target = test['label']"
   ]
  },
  {
   "cell_type": "markdown",
   "metadata": {},
   "source": [
    "the labels are:\n",
    "- 0 cat\n",
    "- 1 dog"
   ]
  },
  {
   "cell_type": "code",
   "execution_count": 56,
   "metadata": {},
   "outputs": [
    {
     "data": {
      "text/plain": [
       "<matplotlib.image.AxesImage at 0x2a811c4dcd0>"
      ]
     },
     "execution_count": 56,
     "metadata": {},
     "output_type": "execute_result"
    },
    {
     "data": {
      "image/png": "[encoded data removed]",
      "text/plain": [
       "<Figure size 432x288 with 1 Axes>"
      ]
     },
     "metadata": {
      "needs_background": "light"
     },
     "output_type": "display_data"
    }
   ],
   "source": [
    "plt.imshow(np.array(train_data.loc[1]).reshape(28,28))"
   ]
  },
  {
   "cell_type": "code",
   "execution_count": 23,
   "metadata": {},
   "outputs": [
    {
     "name": "stdout",
     "output_type": "stream",
     "text": [
      "<class 'pandas.core.frame.DataFrame'>\n",
      "RangeIndex: 25000 entries, 0 to 24999\n",
      "Columns: 785 entries, pixel_0 to label\n",
      "dtypes: int64(785)\n",
      "memory usage: 149.7 MB\n"
     ]
    }
   ],
   "source": [
    "df.info()"
   ]
  },
  {
   "cell_type": "code",
   "execution_count": 27,
   "metadata": {},
   "outputs": [
    {
     "data": {
      "text/plain": [
       "<matplotlib.axes._subplots.AxesSubplot at 0x2a7a44d60a0>"
      ]
     },
     "execution_count": 27,
     "metadata": {},
     "output_type": "execute_result"
    },
    {
     "data": {
      "image/png": "[encoded data removed]",
      "text/plain": [
       "<Figure size 432x288 with 1 Axes>"
      ]
     },
     "metadata": {
      "needs_background": "light"
     },
     "output_type": "display_data"
    }
   ],
   "source": [
    "sns.countplot(df['label'])"
   ]
  },
  {
   "cell_type": "code",
   "execution_count": 30,
   "metadata": {},
   "outputs": [
    {
     "data": {
      "text/plain": [
       "RandomForestClassifier()"
      ]
     },
     "execution_count": 30,
     "metadata": {},
     "output_type": "execute_result"
    }
   ],
   "source": [
    "rfc = RandomForestClassifier()\n",
    "rfc.fit(train_data,train_target)"
   ]
  },
  {
   "cell_type": "code",
   "execution_count": 31,
   "metadata": {},
   "outputs": [
    {
     "data": {
      "text/plain": [
       "array([0.00102908, 0.00101087, 0.00100481, 0.00106001, 0.00094802,\n",
       "       0.00098764, 0.00107365, 0.00099128, 0.00112334, 0.00106552,\n",
       "       0.00113178, 0.00100118, 0.00107346, 0.00105109, 0.00103453,\n",
       "       0.00093218, 0.00098105, 0.00107452, 0.0010987 , 0.00091831,\n",
       "       0.00108111, 0.00085721, 0.00112843, 0.00115178, 0.00093942,\n",
       "       0.00101906, 0.0010446 , 0.00101066, 0.00125167, 0.00108123,\n",
       "       0.00103013, 0.00099994, 0.00105619, 0.00105582, 0.00108022,\n",
       "       0.00114558, 0.00098487, 0.00111342, 0.00101656, 0.0011678 ,\n",
       "       0.00103803, 0.00102527, 0.00114931, 0.00100731, 0.00087724,\n",
       "       0.00106293, 0.00100045, 0.00111881, 0.00105222, 0.00114584,\n",
       "       0.00103821, 0.00107881, 0.00091194, 0.00107569, 0.00100201,\n",
       "       0.00102796, 0.00107997, 0.001093  , 0.00106179, 0.00092164,\n",
       "       0.00095051, 0.00115433, 0.00102959, 0.00113205, 0.00103514,\n",
       "       0.00118349, 0.0012036 , 0.00100046, 0.0012218 , 0.00119594,\n",
       "       0.00100282, 0.00123261, 0.00102704, 0.0010955 , 0.00113336,\n",
       "       0.00101015, 0.00108706, 0.0010639 , 0.00095181, 0.00107483,\n",
       "       0.0010997 , 0.00095516, 0.00086619, 0.00101349, 0.00112493,\n",
       "       0.00083912, 0.00087551, 0.00109602, 0.00089983, 0.0009817 ,\n",
       "       0.00117355, 0.00115886, 0.00131977, 0.001054  , 0.00111853,\n",
       "       0.00129835, 0.00159097, 0.00140637, 0.00140106, 0.00115437,\n",
       "       0.00127104, 0.00108012, 0.00118887, 0.00110904, 0.00101125,\n",
       "       0.00118183, 0.00095828, 0.00100276, 0.00111371, 0.00107616,\n",
       "       0.00093839, 0.00103412, 0.00112537, 0.00118718, 0.00092121,\n",
       "       0.00110033, 0.00097688, 0.00117136, 0.00104107, 0.00110197,\n",
       "       0.00119805, 0.00130815, 0.00138112, 0.0014622 , 0.00145257,\n",
       "       0.00160034, 0.00143595, 0.0013716 , 0.00121483, 0.00122777,\n",
       "       0.00119507, 0.00122612, 0.00098946, 0.00101534, 0.00109826,\n",
       "       0.00094976, 0.00101948, 0.00100589, 0.00102832, 0.00105719,\n",
       "       0.00111651, 0.00114565, 0.00114544, 0.00097039, 0.00103985,\n",
       "       0.00114022, 0.00113687, 0.00115702, 0.00119799, 0.00130802,\n",
       "       0.0013108 , 0.00131809, 0.00151706, 0.00166325, 0.001525  ,\n",
       "       0.00155655, 0.00139449, 0.0013274 , 0.00119161, 0.0010941 ,\n",
       "       0.00108475, 0.00108488, 0.0009003 , 0.00106878, 0.00102545,\n",
       "       0.00098357, 0.00093809, 0.00094485, 0.00118195, 0.00105817,\n",
       "       0.00095892, 0.00108903, 0.00114745, 0.00104503, 0.00115818,\n",
       "       0.00119153, 0.0013402 , 0.0012406 , 0.00125071, 0.00156994,\n",
       "       0.00132188, 0.00174854, 0.00161911, 0.00139059, 0.00139761,\n",
       "       0.00144408, 0.00107841, 0.00117691, 0.00105137, 0.00121346,\n",
       "       0.00117412, 0.00107294, 0.00087427, 0.00107195, 0.00096458,\n",
       "       0.00099534, 0.00109652, 0.00108069, 0.00105568, 0.00108006,\n",
       "       0.0010291 , 0.00114794, 0.00126576, 0.00112484, 0.00135797,\n",
       "       0.00126397, 0.00126043, 0.00141873, 0.00138367, 0.00164958,\n",
       "       0.00138508, 0.00145663, 0.00128194, 0.00124069, 0.00118731,\n",
       "       0.00128451, 0.00114616, 0.00106968, 0.00107607, 0.00093209,\n",
       "       0.00104383, 0.00114054, 0.00094136, 0.00108869, 0.00110299,\n",
       "       0.00111002, 0.00097173, 0.00107323, 0.00115305, 0.00128377,\n",
       "       0.00126482, 0.00116424, 0.0012375 , 0.00131755, 0.0013524 ,\n",
       "       0.00124373, 0.00138547, 0.00142946, 0.00129129, 0.00126685,\n",
       "       0.00161863, 0.00130892, 0.00114844, 0.00118556, 0.00112698,\n",
       "       0.00116321, 0.00112747, 0.00106733, 0.00112001, 0.0009956 ,\n",
       "       0.00108671, 0.00112579, 0.00109305, 0.0013057 , 0.00102437,\n",
       "       0.00102129, 0.00104107, 0.00111773, 0.00115265, 0.00115212,\n",
       "       0.0012351 , 0.0012267 , 0.00124693, 0.00146145, 0.00136171,\n",
       "       0.00136136, 0.00132053, 0.00126594, 0.00142607, 0.00130379,\n",
       "       0.00116471, 0.00136821, 0.00098333, 0.00111683, 0.00102248,\n",
       "       0.0009209 , 0.0010524 , 0.00103543, 0.0012278 , 0.00111737,\n",
       "       0.00123402, 0.0017228 , 0.00115987, 0.00093823, 0.00105221,\n",
       "       0.00121215, 0.0012353 , 0.00119135, 0.00115957, 0.00138045,\n",
       "       0.00132408, 0.00131541, 0.00133051, 0.00143354, 0.00136345,\n",
       "       0.00133031, 0.00127511, 0.00118479, 0.00123461, 0.00116919,\n",
       "       0.00124195, 0.00097872, 0.00115529, 0.00105459, 0.0012157 ,\n",
       "       0.00100376, 0.0011874 , 0.00117785, 0.00126355, 0.00142109,\n",
       "       0.00122429, 0.00123116, 0.00116374, 0.00116141, 0.00106085,\n",
       "       0.00102027, 0.00100259, 0.00131927, 0.00137777, 0.00129526,\n",
       "       0.00152724, 0.00127842, 0.0015027 , 0.0014094 , 0.00112618,\n",
       "       0.00142276, 0.00127445, 0.00129686, 0.00116231, 0.00106818,\n",
       "       0.00107737, 0.00108899, 0.00109655, 0.00097664, 0.00144049,\n",
       "       0.00126971, 0.00124418, 0.0018089 , 0.00143367, 0.00116165,\n",
       "       0.00105979, 0.00124287, 0.00119098, 0.00111819, 0.00128638,\n",
       "       0.00127491, 0.00130875, 0.00124179, 0.0014181 , 0.00144111,\n",
       "       0.00149025, 0.00133455, 0.00133815, 0.00124773, 0.00133766,\n",
       "       0.00118145, 0.00123516, 0.00109093, 0.00109755, 0.00112635,\n",
       "       0.00129605, 0.00110187, 0.00125042, 0.00125242, 0.00134042,\n",
       "       0.00135846, 0.00132575, 0.00121248, 0.00119296, 0.00126314,\n",
       "       0.00099574, 0.00117014, 0.00127857, 0.00125837, 0.00132439,\n",
       "       0.00106431, 0.00132065, 0.00166337, 0.0014939 , 0.00156062,\n",
       "       0.00132875, 0.00125537, 0.00117047, 0.0011124 , 0.00118968,\n",
       "       0.0011363 , 0.00109477, 0.00108781, 0.00111867, 0.00141892,\n",
       "       0.0018155 , 0.0014182 , 0.00130974, 0.00139076, 0.0014694 ,\n",
       "       0.00146035, 0.00119344, 0.00129788, 0.00109705, 0.00112152,\n",
       "       0.00113838, 0.00135628, 0.00140171, 0.00128103, 0.00138669,\n",
       "       0.00152892, 0.00174795, 0.0013285 , 0.00130081, 0.00135034,\n",
       "       0.00137678, 0.00126833, 0.00109629, 0.00102722, 0.00115845,\n",
       "       0.0011313 , 0.00116467, 0.00111485, 0.00145875, 0.00125139,\n",
       "       0.00144653, 0.00163967, 0.00176075, 0.00123744, 0.00132777,\n",
       "       0.00109085, 0.00117321, 0.00124771, 0.00121789, 0.00108282,\n",
       "       0.00128957, 0.00151623, 0.00151063, 0.00171595, 0.00147986,\n",
       "       0.00150182, 0.00132316, 0.00144876, 0.00136038, 0.00088679,\n",
       "       0.00118731, 0.00117218, 0.00118188, 0.00126591, 0.00134012,\n",
       "       0.00148335, 0.00135029, 0.00142601, 0.00134946, 0.00189124,\n",
       "       0.00137416, 0.0015952 , 0.00115604, 0.00107824, 0.00107007,\n",
       "       0.00127358, 0.00117189, 0.00126721, 0.00119327, 0.0013448 ,\n",
       "       0.00157872, 0.00146914, 0.00162925, 0.00145743, 0.00147553,\n",
       "       0.00128986, 0.00121129, 0.00102195, 0.00112507, 0.00117244,\n",
       "       0.00132896, 0.00109513, 0.00112408, 0.00116276, 0.00164629,\n",
       "       0.00147045, 0.0016078 , 0.00158038, 0.00129664, 0.00151   ,\n",
       "       0.00126388, 0.0012043 , 0.00130925, 0.00136263, 0.00111504,\n",
       "       0.0014446 , 0.00149966, 0.00128392, 0.00141988, 0.00176865,\n",
       "       0.00185638, 0.00155588, 0.00145468, 0.00148747, 0.00132349,\n",
       "       0.00107183, 0.00129713, 0.00123265, 0.00124128, 0.00129364,\n",
       "       0.0015383 , 0.0013621 , 0.00148449, 0.00145878, 0.0012815 ,\n",
       "       0.0023398 , 0.00172812, 0.00119824, 0.00117493, 0.00130817,\n",
       "       0.00112613, 0.0014011 , 0.00128243, 0.00114832, 0.00140546,\n",
       "       0.00141628, 0.0014063 , 0.00155441, 0.00169853, 0.00166859,\n",
       "       0.00167528, 0.00172342, 0.00141206, 0.00127921, 0.00129322,\n",
       "       0.00132138, 0.001248  , 0.00145881, 0.00104109, 0.00124507,\n",
       "       0.00153627, 0.00191571, 0.0010318 , 0.00150098, 0.00143068,\n",
       "       0.00115929, 0.00138233, 0.00129483, 0.00113224, 0.00117795,\n",
       "       0.001255  , 0.00145211, 0.00131226, 0.0012635 , 0.00136518,\n",
       "       0.00161325, 0.0016425 , 0.00202385, 0.0018109 , 0.00155446,\n",
       "       0.00137172, 0.00104029, 0.00117699, 0.00120692, 0.00096727,\n",
       "       0.00130558, 0.00125673, 0.00165356, 0.00152792, 0.00198123,\n",
       "       0.00136183, 0.00150352, 0.00174623, 0.00145529, 0.00120594,\n",
       "       0.00132125, 0.00143113, 0.00118094, 0.00139336, 0.00143375,\n",
       "       0.0014046 , 0.00135449, 0.00181436, 0.00124773, 0.00152727,\n",
       "       0.00187115, 0.00176945, 0.00173289, 0.00161581, 0.00147689,\n",
       "       0.00123127, 0.00112302, 0.0011485 , 0.00136082, 0.001483  ,\n",
       "       0.00128977, 0.00124397, 0.00139876, 0.00148862, 0.00126639,\n",
       "       0.00116844, 0.00151888, 0.00112275, 0.00127035, 0.00106674,\n",
       "       0.00121433, 0.00128285, 0.00153326, 0.00130908, 0.00164231,\n",
       "       0.00167747, 0.00158561, 0.00181321, 0.0018018 , 0.00174147,\n",
       "       0.0016318 , 0.00144573, 0.00137035, 0.00119408, 0.00115488,\n",
       "       0.0011457 , 0.00115749, 0.00136053, 0.00130466, 0.00109618,\n",
       "       0.00151713, 0.00125834, 0.00115602, 0.0011438 , 0.001399  ,\n",
       "       0.0012456 , 0.00117764, 0.00116636, 0.00134577, 0.00146527,\n",
       "       0.00136853, 0.00119281, 0.0013909 , 0.00146931, 0.00153691,\n",
       "       0.00158102, 0.00160345, 0.00146733, 0.00129775, 0.00120661,\n",
       "       0.00119706, 0.00124228, 0.00126519, 0.00119196, 0.00118038,\n",
       "       0.00122694, 0.00106013, 0.00118167, 0.00165612, 0.00142508,\n",
       "       0.00140874, 0.00134242, 0.001196  , 0.00120137, 0.00124673,\n",
       "       0.00119202, 0.00123248, 0.00120401, 0.00123467, 0.00117835,\n",
       "       0.00134497, 0.0014613 , 0.00143467, 0.00154641, 0.00162625,\n",
       "       0.00192562, 0.00145499, 0.00153839, 0.00119711, 0.00120694,\n",
       "       0.00121512, 0.001098  , 0.00127074, 0.00118616, 0.00123032,\n",
       "       0.00159413, 0.00131838, 0.00139279, 0.00112893, 0.00104376,\n",
       "       0.00118082, 0.00126856, 0.00131602, 0.00141204, 0.00127817,\n",
       "       0.00117469, 0.00113468, 0.00112524, 0.00135661, 0.00151959,\n",
       "       0.0016109 , 0.00132851, 0.00146238, 0.00168495, 0.0016572 ,\n",
       "       0.00127189, 0.00136528, 0.00132952, 0.00118813, 0.00120847,\n",
       "       0.00144886, 0.00118304, 0.00115415, 0.00153282, 0.0013166 ,\n",
       "       0.0013049 , 0.00121471, 0.00126494, 0.00108494, 0.00118494,\n",
       "       0.00123684, 0.00111348, 0.00130272, 0.00130583, 0.00141464,\n",
       "       0.00126433, 0.00139145, 0.00131635, 0.00135414, 0.00134392,\n",
       "       0.00166729, 0.00154395, 0.00154894, 0.00123668, 0.00107431,\n",
       "       0.00111981, 0.00102823, 0.00115285, 0.00126582, 0.00113477,\n",
       "       0.00122567, 0.00144462, 0.00142364, 0.00129976, 0.00155135,\n",
       "       0.00138372, 0.00124278, 0.00119396, 0.00143169, 0.00133794,\n",
       "       0.00142943, 0.00110381, 0.00133699, 0.00134814, 0.00128877,\n",
       "       0.001683  , 0.00156211, 0.00154017, 0.00138208, 0.00162151,\n",
       "       0.00147818, 0.00114659, 0.00107613, 0.00129428, 0.00122147,\n",
       "       0.00125486, 0.00129599, 0.00125438, 0.0015071 , 0.00162031,\n",
       "       0.00167055, 0.00169651, 0.00136594, 0.00144749, 0.00127328,\n",
       "       0.00158636, 0.0013903 , 0.00119989, 0.0014943 , 0.00133088,\n",
       "       0.00134588, 0.00132323, 0.00144278, 0.00186494, 0.00196544,\n",
       "       0.00250519, 0.00275693, 0.00204148, 0.0019511 , 0.00196937,\n",
       "       0.00151687, 0.00126408, 0.00155828, 0.00127161, 0.00140149,\n",
       "       0.00134306, 0.00166728, 0.00167829, 0.00168182])"
      ]
     },
     "execution_count": 31,
     "metadata": {},
     "output_type": "execute_result"
    }
   ],
   "source": [
    "rfc.feature_importances_"
   ]
  },
  {
   "cell_type": "code",
   "execution_count": 32,
   "metadata": {},
   "outputs": [],
   "source": [
    "def plot_instance(data):\n",
    "    image = data.reshape(28, 28)\n",
    "    plt.imshow(image, cmap = plt.cm.hot,\n",
    "               interpolation=\"nearest\")\n",
    "    plt.axis(\"off\")"
   ]
  },
  {
   "cell_type": "code",
   "execution_count": 33,
   "metadata": {},
   "outputs": [
    {
     "data": {
      "image/png": "[encoded data removed]",
      "text/plain": [
       "<Figure size 1440x720 with 2 Axes>"
      ]
     },
     "metadata": {
      "needs_background": "light"
     },
     "output_type": "display_data"
    }
   ],
   "source": [
    "plt.figure(figsize=(20, 10))\n",
    "plot_instance(rfc.feature_importances_)\n",
    "cbar = plt.colorbar(ticks=[rfc.feature_importances_.min(), rfc.feature_importances_.max()])\n",
    "cbar.ax.set_yticklabels(['Not important', 'Very important'])\n",
    "plt.show()"
   ]
  },
  {
   "cell_type": "code",
   "execution_count": 34,
   "metadata": {},
   "outputs": [],
   "source": [
    "sc= StandardScaler()\n",
    "scaled_train = sc.fit_transform(train_data)\n",
    "scaled_test = sc.transform(test_data)"
   ]
  },
  {
   "cell_type": "code",
   "execution_count": 35,
   "metadata": {},
   "outputs": [
    {
     "data": {
      "text/plain": [
       "RandomForestClassifier()"
      ]
     },
     "execution_count": 35,
     "metadata": {},
     "output_type": "execute_result"
    }
   ],
   "source": [
    "rfc = RandomForestClassifier()\n",
    "rfc.fit(scaled_train,train_target)\n",
    "rfc"
   ]
  },
  {
   "cell_type": "code",
   "execution_count": 36,
   "metadata": {},
   "outputs": [],
   "source": [
    "y_pred = rfc.predict(scaled_test)"
   ]
  },
  {
   "cell_type": "code",
   "execution_count": 37,
   "metadata": {},
   "outputs": [
    {
     "name": "stdout",
     "output_type": "stream",
     "text": [
      "              precision    recall  f1-score   support\n",
      "\n",
      "           0       0.62      0.67      0.64      2496\n",
      "           1       0.64      0.60      0.62      2504\n",
      "\n",
      "    accuracy                           0.63      5000\n",
      "   macro avg       0.63      0.63      0.63      5000\n",
      "weighted avg       0.63      0.63      0.63      5000\n",
      "\n"
     ]
    }
   ],
   "source": [
    "print (classification_report(test_target,y_pred))"
   ]
  },
  {
   "cell_type": "code",
   "execution_count": 39,
   "metadata": {},
   "outputs": [
    {
     "data": {
      "text/plain": [
       "0.6318"
      ]
     },
     "execution_count": 39,
     "metadata": {},
     "output_type": "execute_result"
    }
   ],
   "source": [
    "metrics.accuracy_score(test_target,y_pred)"
   ]
  },
  {
   "cell_type": "code",
   "execution_count": 40,
   "metadata": {},
   "outputs": [
    {
     "data": {
      "text/plain": [
       "Text(33.0, 0.5, 'Actual')"
      ]
     },
     "execution_count": 40,
     "metadata": {},
     "output_type": "execute_result"
    },
    {
     "data": {
      "image/png": "[encoded data removed]",
      "text/plain": [
       "<Figure size 432x288 with 2 Axes>"
      ]
     },
     "metadata": {
      "needs_background": "light"
     },
     "output_type": "display_data"
    }
   ],
   "source": [
    "cm = confusion_matrix(test_target,y_pred)\n",
    "sns.heatmap(cm,annot=True,annot_kws = {'size':15},fmt=\".1f\")\n",
    "plt.xlabel(\"Predict\")\n",
    "plt.ylabel(\"Actual\")"
   ]
  },
  {
   "cell_type": "code",
   "execution_count": 10,
   "metadata": {},
   "outputs": [],
   "source": [
    "train_data_fliped = []\n",
    "train_label_fliped = []\n",
    "for img in os.listdir(r'C:\\Users\\guyit\\Desktop\\train'):\n",
    "    label = label_img(img)\n",
    "    path = os.path.join(r'C:\\Users\\guyit\\Desktop\\train',img)\n",
    "    img = cv2.resize(cv2.imread(path, cv2.IMREAD_GRAYSCALE),(28,28))\n",
    "    img = cv2.flip(img,1)\n",
    "    train_data_fliped.append(np.array(img).flatten())\n",
    "    train_label_fliped.append(label)"
   ]
  },
  {
   "cell_type": "code",
   "execution_count": 11,
   "metadata": {
    "scrolled": true
   },
   "outputs": [
    {
     "data": {
      "text/html": [
       "<div>\n",
       "<style scoped>\n",
       "    .dataframe tbody tr th:only-of-type {\n",
       "        vertical-align: middle;\n",
       "    }\n",
       "\n",
       "    .dataframe tbody tr th {\n",
       "        vertical-align: top;\n",
       "    }\n",
       "\n",
       "    .dataframe thead th {\n",
       "        text-align: right;\n",
       "    }\n",
       "</style>\n",
       "<table border=\"1\" class=\"dataframe\">\n",
       "  <thead>\n",
       "    <tr style=\"text-align: right;\">\n",
       "      <th></th>\n",
       "      <th>pixel_0</th>\n",
       "      <th>pixel_1</th>\n",
       "      <th>pixel_2</th>\n",
       "      <th>pixel_3</th>\n",
       "      <th>pixel_4</th>\n",
       "      <th>pixel_5</th>\n",
       "      <th>pixel_6</th>\n",
       "      <th>pixel_7</th>\n",
       "      <th>pixel_8</th>\n",
       "      <th>pixel_9</th>\n",
       "      <th>...</th>\n",
       "      <th>pixel_775</th>\n",
       "      <th>pixel_776</th>\n",
       "      <th>pixel_777</th>\n",
       "      <th>pixel_778</th>\n",
       "      <th>pixel_779</th>\n",
       "      <th>pixel_780</th>\n",
       "      <th>pixel_781</th>\n",
       "      <th>pixel_782</th>\n",
       "      <th>pixel_783</th>\n",
       "      <th>label</th>\n",
       "    </tr>\n",
       "  </thead>\n",
       "  <tbody>\n",
       "    <tr>\n",
       "      <th>0</th>\n",
       "      <td>211</td>\n",
       "      <td>222</td>\n",
       "      <td>227</td>\n",
       "      <td>228</td>\n",
       "      <td>226</td>\n",
       "      <td>224</td>\n",
       "      <td>223</td>\n",
       "      <td>222</td>\n",
       "      <td>222</td>\n",
       "      <td>222</td>\n",
       "      <td>...</td>\n",
       "      <td>45</td>\n",
       "      <td>46</td>\n",
       "      <td>47</td>\n",
       "      <td>48</td>\n",
       "      <td>51</td>\n",
       "      <td>53</td>\n",
       "      <td>127</td>\n",
       "      <td>135</td>\n",
       "      <td>128</td>\n",
       "      <td>0</td>\n",
       "    </tr>\n",
       "    <tr>\n",
       "      <th>1</th>\n",
       "      <td>162</td>\n",
       "      <td>103</td>\n",
       "      <td>82</td>\n",
       "      <td>99</td>\n",
       "      <td>91</td>\n",
       "      <td>104</td>\n",
       "      <td>87</td>\n",
       "      <td>93</td>\n",
       "      <td>101</td>\n",
       "      <td>131</td>\n",
       "      <td>...</td>\n",
       "      <td>94</td>\n",
       "      <td>35</td>\n",
       "      <td>36</td>\n",
       "      <td>20</td>\n",
       "      <td>21</td>\n",
       "      <td>20</td>\n",
       "      <td>20</td>\n",
       "      <td>22</td>\n",
       "      <td>18</td>\n",
       "      <td>0</td>\n",
       "    </tr>\n",
       "    <tr>\n",
       "      <th>2</th>\n",
       "      <td>155</td>\n",
       "      <td>148</td>\n",
       "      <td>158</td>\n",
       "      <td>154</td>\n",
       "      <td>155</td>\n",
       "      <td>154</td>\n",
       "      <td>146</td>\n",
       "      <td>156</td>\n",
       "      <td>144</td>\n",
       "      <td>156</td>\n",
       "      <td>...</td>\n",
       "      <td>65</td>\n",
       "      <td>99</td>\n",
       "      <td>178</td>\n",
       "      <td>189</td>\n",
       "      <td>199</td>\n",
       "      <td>143</td>\n",
       "      <td>117</td>\n",
       "      <td>151</td>\n",
       "      <td>153</td>\n",
       "      <td>0</td>\n",
       "    </tr>\n",
       "    <tr>\n",
       "      <th>3</th>\n",
       "      <td>242</td>\n",
       "      <td>236</td>\n",
       "      <td>240</td>\n",
       "      <td>220</td>\n",
       "      <td>227</td>\n",
       "      <td>210</td>\n",
       "      <td>208</td>\n",
       "      <td>226</td>\n",
       "      <td>227</td>\n",
       "      <td>225</td>\n",
       "      <td>...</td>\n",
       "      <td>96</td>\n",
       "      <td>98</td>\n",
       "      <td>93</td>\n",
       "      <td>98</td>\n",
       "      <td>114</td>\n",
       "      <td>129</td>\n",
       "      <td>151</td>\n",
       "      <td>207</td>\n",
       "      <td>208</td>\n",
       "      <td>0</td>\n",
       "    </tr>\n",
       "    <tr>\n",
       "      <th>4</th>\n",
       "      <td>75</td>\n",
       "      <td>51</td>\n",
       "      <td>13</td>\n",
       "      <td>35</td>\n",
       "      <td>102</td>\n",
       "      <td>160</td>\n",
       "      <td>165</td>\n",
       "      <td>174</td>\n",
       "      <td>78</td>\n",
       "      <td>96</td>\n",
       "      <td>...</td>\n",
       "      <td>117</td>\n",
       "      <td>64</td>\n",
       "      <td>85</td>\n",
       "      <td>141</td>\n",
       "      <td>81</td>\n",
       "      <td>81</td>\n",
       "      <td>72</td>\n",
       "      <td>60</td>\n",
       "      <td>56</td>\n",
       "      <td>0</td>\n",
       "    </tr>\n",
       "  </tbody>\n",
       "</table>\n",
       "<p>5 rows × 785 columns</p>\n",
       "</div>"
      ],
      "text/plain": [
       "   pixel_0  pixel_1  pixel_2  pixel_3  pixel_4  pixel_5  pixel_6  pixel_7  \\\n",
       "0      211      222      227      228      226      224      223      222   \n",
       "1      162      103       82       99       91      104       87       93   \n",
       "2      155      148      158      154      155      154      146      156   \n",
       "3      242      236      240      220      227      210      208      226   \n",
       "4       75       51       13       35      102      160      165      174   \n",
       "\n",
       "   pixel_8  pixel_9  ...  pixel_775  pixel_776  pixel_777  pixel_778  \\\n",
       "0      222      222  ...         45         46         47         48   \n",
       "1      101      131  ...         94         35         36         20   \n",
       "2      144      156  ...         65         99        178        189   \n",
       "3      227      225  ...         96         98         93         98   \n",
       "4       78       96  ...        117         64         85        141   \n",
       "\n",
       "   pixel_779  pixel_780  pixel_781  pixel_782  pixel_783  label  \n",
       "0         51         53        127        135        128      0  \n",
       "1         21         20         20         22         18      0  \n",
       "2        199        143        117        151        153      0  \n",
       "3        114        129        151        207        208      0  \n",
       "4         81         81         72         60         56      0  \n",
       "\n",
       "[5 rows x 785 columns]"
      ]
     },
     "execution_count": 11,
     "metadata": {},
     "output_type": "execute_result"
    }
   ],
   "source": [
    "cols = []\n",
    "for i in range(784):\n",
    "    cols.append(\"pixel_\"+str(i))\n",
    "df_fliped = pd.DataFrame(train_data_fliped,columns=cols)\n",
    "df_fliped['label']=train_label_fliped\n",
    "df_fliped.head()"
   ]
  },
  {
   "cell_type": "code",
   "execution_count": 12,
   "metadata": {},
   "outputs": [
    {
     "data": {
      "text/html": [
       "<div>\n",
       "<style scoped>\n",
       "    .dataframe tbody tr th:only-of-type {\n",
       "        vertical-align: middle;\n",
       "    }\n",
       "\n",
       "    .dataframe tbody tr th {\n",
       "        vertical-align: top;\n",
       "    }\n",
       "\n",
       "    .dataframe thead th {\n",
       "        text-align: right;\n",
       "    }\n",
       "</style>\n",
       "<table border=\"1\" class=\"dataframe\">\n",
       "  <thead>\n",
       "    <tr style=\"text-align: right;\">\n",
       "      <th></th>\n",
       "      <th>pixel_0</th>\n",
       "      <th>pixel_1</th>\n",
       "      <th>pixel_2</th>\n",
       "      <th>pixel_3</th>\n",
       "      <th>pixel_4</th>\n",
       "      <th>pixel_5</th>\n",
       "      <th>pixel_6</th>\n",
       "      <th>pixel_7</th>\n",
       "      <th>pixel_8</th>\n",
       "      <th>pixel_9</th>\n",
       "      <th>...</th>\n",
       "      <th>pixel_775</th>\n",
       "      <th>pixel_776</th>\n",
       "      <th>pixel_777</th>\n",
       "      <th>pixel_778</th>\n",
       "      <th>pixel_779</th>\n",
       "      <th>pixel_780</th>\n",
       "      <th>pixel_781</th>\n",
       "      <th>pixel_782</th>\n",
       "      <th>pixel_783</th>\n",
       "      <th>label</th>\n",
       "    </tr>\n",
       "  </thead>\n",
       "  <tbody>\n",
       "    <tr>\n",
       "      <th>14149</th>\n",
       "      <td>87</td>\n",
       "      <td>122</td>\n",
       "      <td>99</td>\n",
       "      <td>87</td>\n",
       "      <td>92</td>\n",
       "      <td>101</td>\n",
       "      <td>37</td>\n",
       "      <td>31</td>\n",
       "      <td>68</td>\n",
       "      <td>94</td>\n",
       "      <td>...</td>\n",
       "      <td>152</td>\n",
       "      <td>157</td>\n",
       "      <td>168</td>\n",
       "      <td>155</td>\n",
       "      <td>133</td>\n",
       "      <td>168</td>\n",
       "      <td>165</td>\n",
       "      <td>79</td>\n",
       "      <td>129</td>\n",
       "      <td>1</td>\n",
       "    </tr>\n",
       "    <tr>\n",
       "      <th>8946</th>\n",
       "      <td>89</td>\n",
       "      <td>115</td>\n",
       "      <td>116</td>\n",
       "      <td>104</td>\n",
       "      <td>120</td>\n",
       "      <td>170</td>\n",
       "      <td>253</td>\n",
       "      <td>241</td>\n",
       "      <td>204</td>\n",
       "      <td>126</td>\n",
       "      <td>...</td>\n",
       "      <td>222</td>\n",
       "      <td>222</td>\n",
       "      <td>222</td>\n",
       "      <td>222</td>\n",
       "      <td>221</td>\n",
       "      <td>221</td>\n",
       "      <td>221</td>\n",
       "      <td>221</td>\n",
       "      <td>221</td>\n",
       "      <td>0</td>\n",
       "    </tr>\n",
       "    <tr>\n",
       "      <th>22378</th>\n",
       "      <td>232</td>\n",
       "      <td>252</td>\n",
       "      <td>212</td>\n",
       "      <td>205</td>\n",
       "      <td>251</td>\n",
       "      <td>192</td>\n",
       "      <td>246</td>\n",
       "      <td>224</td>\n",
       "      <td>252</td>\n",
       "      <td>225</td>\n",
       "      <td>...</td>\n",
       "      <td>53</td>\n",
       "      <td>52</td>\n",
       "      <td>52</td>\n",
       "      <td>52</td>\n",
       "      <td>50</td>\n",
       "      <td>44</td>\n",
       "      <td>44</td>\n",
       "      <td>41</td>\n",
       "      <td>50</td>\n",
       "      <td>1</td>\n",
       "    </tr>\n",
       "    <tr>\n",
       "      <th>12162</th>\n",
       "      <td>95</td>\n",
       "      <td>146</td>\n",
       "      <td>98</td>\n",
       "      <td>144</td>\n",
       "      <td>145</td>\n",
       "      <td>105</td>\n",
       "      <td>142</td>\n",
       "      <td>150</td>\n",
       "      <td>66</td>\n",
       "      <td>93</td>\n",
       "      <td>...</td>\n",
       "      <td>47</td>\n",
       "      <td>45</td>\n",
       "      <td>55</td>\n",
       "      <td>51</td>\n",
       "      <td>65</td>\n",
       "      <td>77</td>\n",
       "      <td>54</td>\n",
       "      <td>64</td>\n",
       "      <td>84</td>\n",
       "      <td>0</td>\n",
       "    </tr>\n",
       "    <tr>\n",
       "      <th>4879</th>\n",
       "      <td>92</td>\n",
       "      <td>92</td>\n",
       "      <td>85</td>\n",
       "      <td>86</td>\n",
       "      <td>92</td>\n",
       "      <td>88</td>\n",
       "      <td>132</td>\n",
       "      <td>140</td>\n",
       "      <td>103</td>\n",
       "      <td>102</td>\n",
       "      <td>...</td>\n",
       "      <td>137</td>\n",
       "      <td>138</td>\n",
       "      <td>131</td>\n",
       "      <td>111</td>\n",
       "      <td>108</td>\n",
       "      <td>105</td>\n",
       "      <td>94</td>\n",
       "      <td>87</td>\n",
       "      <td>117</td>\n",
       "      <td>0</td>\n",
       "    </tr>\n",
       "  </tbody>\n",
       "</table>\n",
       "<p>5 rows × 785 columns</p>\n",
       "</div>"
      ],
      "text/plain": [
       "       pixel_0  pixel_1  pixel_2  pixel_3  pixel_4  pixel_5  pixel_6  pixel_7  \\\n",
       "14149       87      122       99       87       92      101       37       31   \n",
       "8946        89      115      116      104      120      170      253      241   \n",
       "22378      232      252      212      205      251      192      246      224   \n",
       "12162       95      146       98      144      145      105      142      150   \n",
       "4879        92       92       85       86       92       88      132      140   \n",
       "\n",
       "       pixel_8  pixel_9  ...  pixel_775  pixel_776  pixel_777  pixel_778  \\\n",
       "14149       68       94  ...        152        157        168        155   \n",
       "8946       204      126  ...        222        222        222        222   \n",
       "22378      252      225  ...         53         52         52         52   \n",
       "12162       66       93  ...         47         45         55         51   \n",
       "4879       103      102  ...        137        138        131        111   \n",
       "\n",
       "       pixel_779  pixel_780  pixel_781  pixel_782  pixel_783  label  \n",
       "14149        133        168        165         79        129      1  \n",
       "8946         221        221        221        221        221      0  \n",
       "22378         50         44         44         41         50      1  \n",
       "12162         65         77         54         64         84      0  \n",
       "4879         108        105         94         87        117      0  \n",
       "\n",
       "[5 rows x 785 columns]"
      ]
     },
     "execution_count": 12,
     "metadata": {},
     "output_type": "execute_result"
    }
   ],
   "source": [
    "df_fliped_shuffled = df_fliped.sample(frac=1,random_state=0)\n",
    "df_fliped_shuffled.head()"
   ]
  },
  {
   "cell_type": "code",
   "execution_count": 13,
   "metadata": {},
   "outputs": [
    {
     "data": {
      "text/html": [
       "<div>\n",
       "<style scoped>\n",
       "    .dataframe tbody tr th:only-of-type {\n",
       "        vertical-align: middle;\n",
       "    }\n",
       "\n",
       "    .dataframe tbody tr th {\n",
       "        vertical-align: top;\n",
       "    }\n",
       "\n",
       "    .dataframe thead th {\n",
       "        text-align: right;\n",
       "    }\n",
       "</style>\n",
       "<table border=\"1\" class=\"dataframe\">\n",
       "  <thead>\n",
       "    <tr style=\"text-align: right;\">\n",
       "      <th></th>\n",
       "      <th>pixel_0</th>\n",
       "      <th>pixel_1</th>\n",
       "      <th>pixel_2</th>\n",
       "      <th>pixel_3</th>\n",
       "      <th>pixel_4</th>\n",
       "      <th>pixel_5</th>\n",
       "      <th>pixel_6</th>\n",
       "      <th>pixel_7</th>\n",
       "      <th>pixel_8</th>\n",
       "      <th>pixel_9</th>\n",
       "      <th>...</th>\n",
       "      <th>pixel_775</th>\n",
       "      <th>pixel_776</th>\n",
       "      <th>pixel_777</th>\n",
       "      <th>pixel_778</th>\n",
       "      <th>pixel_779</th>\n",
       "      <th>pixel_780</th>\n",
       "      <th>pixel_781</th>\n",
       "      <th>pixel_782</th>\n",
       "      <th>pixel_783</th>\n",
       "      <th>label</th>\n",
       "    </tr>\n",
       "  </thead>\n",
       "  <tbody>\n",
       "    <tr>\n",
       "      <th>0</th>\n",
       "      <td>134</td>\n",
       "      <td>124</td>\n",
       "      <td>124</td>\n",
       "      <td>126</td>\n",
       "      <td>125</td>\n",
       "      <td>109</td>\n",
       "      <td>111</td>\n",
       "      <td>106</td>\n",
       "      <td>74</td>\n",
       "      <td>98</td>\n",
       "      <td>...</td>\n",
       "      <td>174</td>\n",
       "      <td>164</td>\n",
       "      <td>160</td>\n",
       "      <td>159</td>\n",
       "      <td>172</td>\n",
       "      <td>158</td>\n",
       "      <td>147</td>\n",
       "      <td>150</td>\n",
       "      <td>148</td>\n",
       "      <td>0</td>\n",
       "    </tr>\n",
       "    <tr>\n",
       "      <th>1</th>\n",
       "      <td>74</td>\n",
       "      <td>141</td>\n",
       "      <td>123</td>\n",
       "      <td>120</td>\n",
       "      <td>110</td>\n",
       "      <td>110</td>\n",
       "      <td>60</td>\n",
       "      <td>54</td>\n",
       "      <td>39</td>\n",
       "      <td>85</td>\n",
       "      <td>...</td>\n",
       "      <td>202</td>\n",
       "      <td>204</td>\n",
       "      <td>191</td>\n",
       "      <td>137</td>\n",
       "      <td>115</td>\n",
       "      <td>188</td>\n",
       "      <td>87</td>\n",
       "      <td>91</td>\n",
       "      <td>77</td>\n",
       "      <td>1</td>\n",
       "    </tr>\n",
       "    <tr>\n",
       "      <th>2</th>\n",
       "      <td>39</td>\n",
       "      <td>43</td>\n",
       "      <td>42</td>\n",
       "      <td>43</td>\n",
       "      <td>45</td>\n",
       "      <td>44</td>\n",
       "      <td>41</td>\n",
       "      <td>41</td>\n",
       "      <td>36</td>\n",
       "      <td>37</td>\n",
       "      <td>...</td>\n",
       "      <td>85</td>\n",
       "      <td>77</td>\n",
       "      <td>80</td>\n",
       "      <td>90</td>\n",
       "      <td>83</td>\n",
       "      <td>89</td>\n",
       "      <td>84</td>\n",
       "      <td>85</td>\n",
       "      <td>78</td>\n",
       "      <td>1</td>\n",
       "    </tr>\n",
       "    <tr>\n",
       "      <th>3</th>\n",
       "      <td>45</td>\n",
       "      <td>111</td>\n",
       "      <td>104</td>\n",
       "      <td>144</td>\n",
       "      <td>82</td>\n",
       "      <td>92</td>\n",
       "      <td>100</td>\n",
       "      <td>105</td>\n",
       "      <td>108</td>\n",
       "      <td>109</td>\n",
       "      <td>...</td>\n",
       "      <td>186</td>\n",
       "      <td>127</td>\n",
       "      <td>153</td>\n",
       "      <td>133</td>\n",
       "      <td>187</td>\n",
       "      <td>175</td>\n",
       "      <td>128</td>\n",
       "      <td>186</td>\n",
       "      <td>174</td>\n",
       "      <td>1</td>\n",
       "    </tr>\n",
       "    <tr>\n",
       "      <th>4</th>\n",
       "      <td>1</td>\n",
       "      <td>1</td>\n",
       "      <td>1</td>\n",
       "      <td>1</td>\n",
       "      <td>1</td>\n",
       "      <td>1</td>\n",
       "      <td>1</td>\n",
       "      <td>1</td>\n",
       "      <td>1</td>\n",
       "      <td>1</td>\n",
       "      <td>...</td>\n",
       "      <td>80</td>\n",
       "      <td>55</td>\n",
       "      <td>42</td>\n",
       "      <td>42</td>\n",
       "      <td>0</td>\n",
       "      <td>1</td>\n",
       "      <td>1</td>\n",
       "      <td>1</td>\n",
       "      <td>1</td>\n",
       "      <td>1</td>\n",
       "    </tr>\n",
       "  </tbody>\n",
       "</table>\n",
       "<p>5 rows × 785 columns</p>\n",
       "</div>"
      ],
      "text/plain": [
       "   pixel_0  pixel_1  pixel_2  pixel_3  pixel_4  pixel_5  pixel_6  pixel_7  \\\n",
       "0      134      124      124      126      125      109      111      106   \n",
       "1       74      141      123      120      110      110       60       54   \n",
       "2       39       43       42       43       45       44       41       41   \n",
       "3       45      111      104      144       82       92      100      105   \n",
       "4        1        1        1        1        1        1        1        1   \n",
       "\n",
       "   pixel_8  pixel_9  ...  pixel_775  pixel_776  pixel_777  pixel_778  \\\n",
       "0       74       98  ...        174        164        160        159   \n",
       "1       39       85  ...        202        204        191        137   \n",
       "2       36       37  ...         85         77         80         90   \n",
       "3      108      109  ...        186        127        153        133   \n",
       "4        1        1  ...         80         55         42         42   \n",
       "\n",
       "   pixel_779  pixel_780  pixel_781  pixel_782  pixel_783  label  \n",
       "0        172        158        147        150        148      0  \n",
       "1        115        188         87         91         77      1  \n",
       "2         83         89         84         85         78      1  \n",
       "3        187        175        128        186        174      1  \n",
       "4          0          1          1          1          1      1  \n",
       "\n",
       "[5 rows x 785 columns]"
      ]
     },
     "execution_count": 13,
     "metadata": {},
     "output_type": "execute_result"
    }
   ],
   "source": [
    "train_fliped = df_fliped_shuffled.iloc[5000:]\n",
    "train_fliped.reset_index(drop=True,inplace=True)\n",
    "train_fliped.head()"
   ]
  },
  {
   "cell_type": "code",
   "execution_count": 14,
   "metadata": {},
   "outputs": [],
   "source": [
    "train_fliped_data = train_fliped.drop('label',axis=1)\n",
    "train_fliped_target = train_fliped['label']"
   ]
  },
  {
   "cell_type": "code",
   "execution_count": 62,
   "metadata": {},
   "outputs": [
    {
     "data": {
      "text/plain": [
       "<matplotlib.image.AxesImage at 0x2a814deb940>"
      ]
     },
     "execution_count": 62,
     "metadata": {},
     "output_type": "execute_result"
    },
    {
     "data": {
      "image/png": "[encoded data removed]",
      "text/plain": [
       "<Figure size 432x288 with 1 Axes>"
      ]
     },
     "metadata": {
      "needs_background": "light"
     },
     "output_type": "display_data"
    }
   ],
   "source": [
    "plt.imshow(np.array(train_fliped_data.loc[1]).reshape(28,28))"
   ]
  },
  {
   "cell_type": "code",
   "execution_count": 15,
   "metadata": {},
   "outputs": [],
   "source": [
    "full_train_data = pd.concat([train_data,train_fliped_data])\n",
    "full_train_target = pd.concat([train_target,train_fliped_target])"
   ]
  },
  {
   "cell_type": "code",
   "execution_count": 16,
   "metadata": {},
   "outputs": [],
   "source": [
    "sc= StandardScaler()\n",
    "scaled_train = sc.fit_transform(full_train_data)\n",
    "scaled_test = sc.transform(test_data)"
   ]
  },
  {
   "cell_type": "code",
   "execution_count": 65,
   "metadata": {},
   "outputs": [
    {
     "data": {
      "text/plain": [
       "RandomForestClassifier()"
      ]
     },
     "execution_count": 65,
     "metadata": {},
     "output_type": "execute_result"
    }
   ],
   "source": [
    "rfc = RandomForestClassifier()\n",
    "rfc.fit(scaled_train,full_train_target)\n",
    "rfc"
   ]
  },
  {
   "cell_type": "code",
   "execution_count": 66,
   "metadata": {},
   "outputs": [],
   "source": [
    "y_pred = rfc.predict(scaled_test)"
   ]
  },
  {
   "cell_type": "code",
   "execution_count": 67,
   "metadata": {},
   "outputs": [
    {
     "name": "stdout",
     "output_type": "stream",
     "text": [
      "              precision    recall  f1-score   support\n",
      "\n",
      "           0       0.64      0.67      0.65      2496\n",
      "           1       0.65      0.62      0.64      2504\n",
      "\n",
      "    accuracy                           0.64      5000\n",
      "   macro avg       0.65      0.64      0.64      5000\n",
      "weighted avg       0.65      0.64      0.64      5000\n",
      "\n"
     ]
    }
   ],
   "source": [
    "print (classification_report(test_target,y_pred))"
   ]
  },
  {
   "cell_type": "code",
   "execution_count": 68,
   "metadata": {},
   "outputs": [
    {
     "data": {
      "text/plain": [
       "0.6448"
      ]
     },
     "execution_count": 68,
     "metadata": {},
     "output_type": "execute_result"
    }
   ],
   "source": [
    "metrics.accuracy_score(test_target,y_pred)"
   ]
  },
  {
   "cell_type": "code",
   "execution_count": 69,
   "metadata": {},
   "outputs": [
    {
     "data": {
      "text/plain": [
       "Text(33.0, 0.5, 'Actual')"
      ]
     },
     "execution_count": 69,
     "metadata": {},
     "output_type": "execute_result"
    },
    {
     "data": {
      "image/png": "[encoded data removed]",
      "text/plain": [
       "<Figure size 432x288 with 2 Axes>"
      ]
     },
     "metadata": {
      "needs_background": "light"
     },
     "output_type": "display_data"
    }
   ],
   "source": [
    "cm = confusion_matrix(test_target,y_pred)\n",
    "sns.heatmap(cm,annot=True,annot_kws = {'size':15},fmt=\".1f\")\n",
    "plt.xlabel(\"Predict\")\n",
    "plt.ylabel(\"Actual\")"
   ]
  },
  {
   "cell_type": "code",
   "execution_count": 70,
   "metadata": {},
   "outputs": [
    {
     "data": {
      "text/plain": [
       "XGBClassifier(base_score=0.5, booster='gbtree', colsample_bylevel=1,\n",
       "              colsample_bynode=1, colsample_bytree=1, eval_metric='mlogloss',\n",
       "              gamma=0, gpu_id=-1, importance_type='gain',\n",
       "              interaction_constraints='', learning_rate=0.300000012,\n",
       "              max_delta_step=0, max_depth=6, min_child_weight=1, missing=nan,\n",
       "              monotone_constraints='()', n_estimators=100, n_jobs=4,\n",
       "              num_parallel_tree=1, random_state=0, reg_alpha=0, reg_lambda=1,\n",
       "              scale_pos_weight=1, subsample=1, tree_method='exact',\n",
       "              use_label_encoder=False, validate_parameters=1, verbosity=None)"
      ]
     },
     "execution_count": 70,
     "metadata": {},
     "output_type": "execute_result"
    }
   ],
   "source": [
    "xg = XGBClassifier(use_label_encoder=False,eval_metric = 'mlogloss')\n",
    "xg.fit(scaled_train,full_train_target)"
   ]
  },
  {
   "cell_type": "code",
   "execution_count": 71,
   "metadata": {},
   "outputs": [],
   "source": [
    "y_pred = xg.predict(scaled_test)"
   ]
  },
  {
   "cell_type": "code",
   "execution_count": 72,
   "metadata": {},
   "outputs": [
    {
     "name": "stdout",
     "output_type": "stream",
     "text": [
      "              precision    recall  f1-score   support\n",
      "\n",
      "           0       0.68      0.67      0.68      2496\n",
      "           1       0.68      0.69      0.68      2504\n",
      "\n",
      "    accuracy                           0.68      5000\n",
      "   macro avg       0.68      0.68      0.68      5000\n",
      "weighted avg       0.68      0.68      0.68      5000\n",
      "\n"
     ]
    }
   ],
   "source": [
    "print (classification_report(test_target,y_pred))"
   ]
  },
  {
   "cell_type": "code",
   "execution_count": 73,
   "metadata": {},
   "outputs": [
    {
     "data": {
      "text/plain": [
       "0.6798"
      ]
     },
     "execution_count": 73,
     "metadata": {},
     "output_type": "execute_result"
    }
   ],
   "source": [
    "metrics.accuracy_score(test_target,y_pred)"
   ]
  },
  {
   "cell_type": "code",
   "execution_count": 74,
   "metadata": {},
   "outputs": [
    {
     "data": {
      "text/plain": [
       "Text(33.0, 0.5, 'Actual')"
      ]
     },
     "execution_count": 74,
     "metadata": {},
     "output_type": "execute_result"
    },
    {
     "data": {
      "image/png": "[encoded data removed]",
      "text/plain": [
       "<Figure size 432x288 with 2 Axes>"
      ]
     },
     "metadata": {
      "needs_background": "light"
     },
     "output_type": "display_data"
    }
   ],
   "source": [
    "cm = confusion_matrix(test_target,y_pred)\n",
    "sns.heatmap(cm,annot=True,annot_kws = {'size':15},fmt=\".1f\")\n",
    "plt.xlabel(\"Predict\")\n",
    "plt.ylabel(\"Actual\")"
   ]
  },
  {
   "cell_type": "code",
   "execution_count": 77,
   "metadata": {},
   "outputs": [
    {
     "data": {
      "text/plain": [
       "VotingClassifier(estimators=[('xg',\n",
       "                              XGBClassifier(base_score=None, booster=None,\n",
       "                                            colsample_bylevel=None,\n",
       "                                            colsample_bynode=None,\n",
       "                                            colsample_bytree=None,\n",
       "                                            eval_metric='mlogloss', gamma=None,\n",
       "                                            gpu_id=None, importance_type='gain',\n",
       "                                            interaction_constraints=None,\n",
       "                                            learning_rate=None,\n",
       "                                            max_delta_step=None, max_depth=None,\n",
       "                                            min_child_weight=None, missing=nan,\n",
       "                                            monotone_constraints=None,\n",
       "                                            n_estimators=100, n_jobs=None,\n",
       "                                            num_parallel_tree=None,\n",
       "                                            random_state=None, reg_alpha=None,\n",
       "                                            reg_lambda=None,\n",
       "                                            scale_pos_weight=None,\n",
       "                                            subsample=None, tree_method=None,\n",
       "                                            use_label_encoder=False,\n",
       "                                            validate_parameters=None,\n",
       "                                            verbosity=None)),\n",
       "                             ('rfc', RandomForestClassifier())],\n",
       "                 voting='soft')"
      ]
     },
     "execution_count": 77,
     "metadata": {},
     "output_type": "execute_result"
    }
   ],
   "source": [
    "xg = XGBClassifier(use_label_encoder=False,eval_metric = 'mlogloss')\n",
    "rfc = RandomForestClassifier()\n",
    "vot = VotingClassifier(estimators=[('xg',xg),('rfc',rfc)],voting='soft')\n",
    "vot.fit(scaled_train,full_train_target)"
   ]
  },
  {
   "cell_type": "code",
   "execution_count": 78,
   "metadata": {},
   "outputs": [],
   "source": [
    "y_pred = vot.predict(scaled_test)"
   ]
  },
  {
   "cell_type": "code",
   "execution_count": 79,
   "metadata": {},
   "outputs": [
    {
     "name": "stdout",
     "output_type": "stream",
     "text": [
      "              precision    recall  f1-score   support\n",
      "\n",
      "           0       0.69      0.68      0.68      2496\n",
      "           1       0.68      0.70      0.69      2504\n",
      "\n",
      "    accuracy                           0.69      5000\n",
      "   macro avg       0.69      0.69      0.69      5000\n",
      "weighted avg       0.69      0.69      0.69      5000\n",
      "\n"
     ]
    }
   ],
   "source": [
    "print (classification_report(test_target,y_pred))"
   ]
  },
  {
   "cell_type": "code",
   "execution_count": 80,
   "metadata": {},
   "outputs": [
    {
     "data": {
      "text/plain": [
       "0.6866"
      ]
     },
     "execution_count": 80,
     "metadata": {},
     "output_type": "execute_result"
    }
   ],
   "source": [
    "metrics.accuracy_score(test_target,y_pred)"
   ]
  },
  {
   "cell_type": "code",
   "execution_count": 81,
   "metadata": {},
   "outputs": [
    {
     "data": {
      "text/plain": [
       "Text(33.0, 0.5, 'Actual')"
      ]
     },
     "execution_count": 81,
     "metadata": {},
     "output_type": "execute_result"
    },
    {
     "data": {
      "image/png": "[encoded data removed]",
      "text/plain": [
       "<Figure size 432x288 with 2 Axes>"
      ]
     },
     "metadata": {
      "needs_background": "light"
     },
     "output_type": "display_data"
    }
   ],
   "source": [
    "cm = confusion_matrix(test_target,y_pred)\n",
    "sns.heatmap(cm,annot=True,annot_kws = {'size':15},fmt=\".1f\")\n",
    "plt.xlabel(\"Predict\")\n",
    "plt.ylabel(\"Actual\")"
   ]
  },
  {
   "cell_type": "code",
   "execution_count": 69,
   "metadata": {},
   "outputs": [],
   "source": [
    "km = KMeans(n_clusters = 2, random_state=0)\n",
    "km.fit(full_train_data)\n",
    "y_labels_train = km.labels_\n",
    "y_labels_test = km.predict(test_data)"
   ]
  },
  {
   "cell_type": "code",
   "execution_count": 70,
   "metadata": {},
   "outputs": [
    {
     "data": {
      "text/html": [
       "<div>\n",
       "<style scoped>\n",
       "    .dataframe tbody tr th:only-of-type {\n",
       "        vertical-align: middle;\n",
       "    }\n",
       "\n",
       "    .dataframe tbody tr th {\n",
       "        vertical-align: top;\n",
       "    }\n",
       "\n",
       "    .dataframe thead th {\n",
       "        text-align: right;\n",
       "    }\n",
       "</style>\n",
       "<table border=\"1\" class=\"dataframe\">\n",
       "  <thead>\n",
       "    <tr style=\"text-align: right;\">\n",
       "      <th></th>\n",
       "      <th>pixel_0</th>\n",
       "      <th>pixel_1</th>\n",
       "      <th>pixel_2</th>\n",
       "      <th>pixel_3</th>\n",
       "      <th>pixel_4</th>\n",
       "      <th>pixel_5</th>\n",
       "      <th>pixel_6</th>\n",
       "      <th>pixel_7</th>\n",
       "      <th>pixel_8</th>\n",
       "      <th>pixel_9</th>\n",
       "      <th>...</th>\n",
       "      <th>pixel_775</th>\n",
       "      <th>pixel_776</th>\n",
       "      <th>pixel_777</th>\n",
       "      <th>pixel_778</th>\n",
       "      <th>pixel_779</th>\n",
       "      <th>pixel_780</th>\n",
       "      <th>pixel_781</th>\n",
       "      <th>pixel_782</th>\n",
       "      <th>pixel_783</th>\n",
       "      <th>KMeans</th>\n",
       "    </tr>\n",
       "  </thead>\n",
       "  <tbody>\n",
       "    <tr>\n",
       "      <th>0</th>\n",
       "      <td>218</td>\n",
       "      <td>211</td>\n",
       "      <td>212</td>\n",
       "      <td>174</td>\n",
       "      <td>162</td>\n",
       "      <td>138</td>\n",
       "      <td>158</td>\n",
       "      <td>167</td>\n",
       "      <td>148</td>\n",
       "      <td>167</td>\n",
       "      <td>...</td>\n",
       "      <td>183</td>\n",
       "      <td>193</td>\n",
       "      <td>190</td>\n",
       "      <td>193</td>\n",
       "      <td>193</td>\n",
       "      <td>192</td>\n",
       "      <td>191</td>\n",
       "      <td>194</td>\n",
       "      <td>194</td>\n",
       "      <td>1</td>\n",
       "    </tr>\n",
       "    <tr>\n",
       "      <th>1</th>\n",
       "      <td>77</td>\n",
       "      <td>98</td>\n",
       "      <td>59</td>\n",
       "      <td>14</td>\n",
       "      <td>66</td>\n",
       "      <td>105</td>\n",
       "      <td>92</td>\n",
       "      <td>111</td>\n",
       "      <td>143</td>\n",
       "      <td>12</td>\n",
       "      <td>...</td>\n",
       "      <td>99</td>\n",
       "      <td>163</td>\n",
       "      <td>196</td>\n",
       "      <td>179</td>\n",
       "      <td>186</td>\n",
       "      <td>76</td>\n",
       "      <td>102</td>\n",
       "      <td>24</td>\n",
       "      <td>66</td>\n",
       "      <td>0</td>\n",
       "    </tr>\n",
       "    <tr>\n",
       "      <th>2</th>\n",
       "      <td>90</td>\n",
       "      <td>93</td>\n",
       "      <td>88</td>\n",
       "      <td>80</td>\n",
       "      <td>79</td>\n",
       "      <td>61</td>\n",
       "      <td>50</td>\n",
       "      <td>42</td>\n",
       "      <td>31</td>\n",
       "      <td>38</td>\n",
       "      <td>...</td>\n",
       "      <td>89</td>\n",
       "      <td>84</td>\n",
       "      <td>85</td>\n",
       "      <td>120</td>\n",
       "      <td>146</td>\n",
       "      <td>149</td>\n",
       "      <td>141</td>\n",
       "      <td>80</td>\n",
       "      <td>74</td>\n",
       "      <td>0</td>\n",
       "    </tr>\n",
       "    <tr>\n",
       "      <th>3</th>\n",
       "      <td>149</td>\n",
       "      <td>130</td>\n",
       "      <td>149</td>\n",
       "      <td>144</td>\n",
       "      <td>118</td>\n",
       "      <td>144</td>\n",
       "      <td>127</td>\n",
       "      <td>131</td>\n",
       "      <td>136</td>\n",
       "      <td>142</td>\n",
       "      <td>...</td>\n",
       "      <td>196</td>\n",
       "      <td>191</td>\n",
       "      <td>207</td>\n",
       "      <td>201</td>\n",
       "      <td>204</td>\n",
       "      <td>204</td>\n",
       "      <td>190</td>\n",
       "      <td>198</td>\n",
       "      <td>193</td>\n",
       "      <td>1</td>\n",
       "    </tr>\n",
       "    <tr>\n",
       "      <th>4</th>\n",
       "      <td>1</td>\n",
       "      <td>1</td>\n",
       "      <td>1</td>\n",
       "      <td>1</td>\n",
       "      <td>13</td>\n",
       "      <td>1</td>\n",
       "      <td>1</td>\n",
       "      <td>1</td>\n",
       "      <td>1</td>\n",
       "      <td>4</td>\n",
       "      <td>...</td>\n",
       "      <td>1</td>\n",
       "      <td>1</td>\n",
       "      <td>1</td>\n",
       "      <td>1</td>\n",
       "      <td>1</td>\n",
       "      <td>1</td>\n",
       "      <td>1</td>\n",
       "      <td>1</td>\n",
       "      <td>1</td>\n",
       "      <td>0</td>\n",
       "    </tr>\n",
       "  </tbody>\n",
       "</table>\n",
       "<p>5 rows × 785 columns</p>\n",
       "</div>"
      ],
      "text/plain": [
       "   pixel_0  pixel_1  pixel_2  pixel_3  pixel_4  pixel_5  pixel_6  pixel_7  \\\n",
       "0      218      211      212      174      162      138      158      167   \n",
       "1       77       98       59       14       66      105       92      111   \n",
       "2       90       93       88       80       79       61       50       42   \n",
       "3      149      130      149      144      118      144      127      131   \n",
       "4        1        1        1        1       13        1        1        1   \n",
       "\n",
       "   pixel_8  pixel_9  ...  pixel_775  pixel_776  pixel_777  pixel_778  \\\n",
       "0      148      167  ...        183        193        190        193   \n",
       "1      143       12  ...         99        163        196        179   \n",
       "2       31       38  ...         89         84         85        120   \n",
       "3      136      142  ...        196        191        207        201   \n",
       "4        1        4  ...          1          1          1          1   \n",
       "\n",
       "   pixel_779  pixel_780  pixel_781  pixel_782  pixel_783  KMeans  \n",
       "0        193        192        191        194        194       1  \n",
       "1        186         76        102         24         66       0  \n",
       "2        146        149        141         80         74       0  \n",
       "3        204        204        190        198        193       1  \n",
       "4          1          1          1          1          1       0  \n",
       "\n",
       "[5 rows x 785 columns]"
      ]
     },
     "execution_count": 70,
     "metadata": {},
     "output_type": "execute_result"
    }
   ],
   "source": [
    "full_train_data_km = full_train_data.copy()\n",
    "full_train_data_km['KMeans'] = y_labels_train\n",
    "full_train_data_km.head()"
   ]
  },
  {
   "cell_type": "code",
   "execution_count": 71,
   "metadata": {},
   "outputs": [],
   "source": [
    "test_data_km = test_data.copy()\n",
    "test_data_km['KMeans'] = y_labels_test"
   ]
  },
  {
   "cell_type": "code",
   "execution_count": 72,
   "metadata": {},
   "outputs": [
    {
     "data": {
      "text/plain": [
       "VotingClassifier(estimators=[('xg',\n",
       "                              Pipeline(steps=[('sc', StandardScaler()),\n",
       "                                              ('xg',\n",
       "                                               XGBClassifier(base_score=None,\n",
       "                                                             booster=None,\n",
       "                                                             colsample_bylevel=None,\n",
       "                                                             colsample_bynode=None,\n",
       "                                                             colsample_bytree=None,\n",
       "                                                             eval_metric='mlogloss',\n",
       "                                                             gamma=None,\n",
       "                                                             gpu_id=None,\n",
       "                                                             importance_type='gain',\n",
       "                                                             interaction_constraints=None,\n",
       "                                                             learning_rate=None,\n",
       "                                                             max_delta_step=None,\n",
       "                                                             max_depth=None,\n",
       "                                                             min_chi...\n",
       "                                                             missing=nan,\n",
       "                                                             monotone_constraints=None,\n",
       "                                                             n_estimators=100,\n",
       "                                                             n_jobs=None,\n",
       "                                                             num_parallel_tree=None,\n",
       "                                                             random_state=None,\n",
       "                                                             reg_alpha=None,\n",
       "                                                             reg_lambda=None,\n",
       "                                                             scale_pos_weight=None,\n",
       "                                                             subsample=None,\n",
       "                                                             tree_method=None,\n",
       "                                                             use_label_encoder=False,\n",
       "                                                             validate_parameters=None,\n",
       "                                                             verbosity=None))])),\n",
       "                             ('rfc',\n",
       "                              Pipeline(steps=[('sc', StandardScaler()),\n",
       "                                              ('rfc',\n",
       "                                               RandomForestClassifier())]))],\n",
       "                 voting='soft')"
      ]
     },
     "execution_count": 72,
     "metadata": {},
     "output_type": "execute_result"
    }
   ],
   "source": [
    "xg = XGBClassifier(use_label_encoder=False,eval_metric = 'mlogloss')\n",
    "rfc = RandomForestClassifier()\n",
    "pipe_rfc = Pipeline(steps=[('sc',sc), ('rfc', rfc)])\n",
    "pipe_xg =  Pipeline(steps=[('sc',sc), ('xg', xg)])\n",
    "vot = VotingClassifier(estimators=[('xg',pipe_xg),('rfc',pipe_rfc)],voting='soft')\n",
    "vot.fit(full_train_data_km,full_train_target)"
   ]
  },
  {
   "cell_type": "code",
   "execution_count": 73,
   "metadata": {},
   "outputs": [],
   "source": [
    "y_pred = vot.predict(test_data_km)"
   ]
  },
  {
   "cell_type": "code",
   "execution_count": 74,
   "metadata": {},
   "outputs": [
    {
     "name": "stdout",
     "output_type": "stream",
     "text": [
      "              precision    recall  f1-score   support\n",
      "\n",
      "           0       0.69      0.68      0.68      2496\n",
      "           1       0.68      0.69      0.69      2504\n",
      "\n",
      "    accuracy                           0.69      5000\n",
      "   macro avg       0.69      0.68      0.68      5000\n",
      "weighted avg       0.69      0.69      0.68      5000\n",
      "\n"
     ]
    }
   ],
   "source": [
    "print (classification_report(test_target,y_pred))"
   ]
  },
  {
   "cell_type": "code",
   "execution_count": 75,
   "metadata": {},
   "outputs": [
    {
     "data": {
      "text/plain": [
       "0.685"
      ]
     },
     "execution_count": 75,
     "metadata": {},
     "output_type": "execute_result"
    }
   ],
   "source": [
    "metrics.accuracy_score(test_target,y_pred)"
   ]
  },
  {
   "cell_type": "code",
   "execution_count": 76,
   "metadata": {},
   "outputs": [
    {
     "data": {
      "text/plain": [
       "Text(33.0, 0.5, 'Actual')"
      ]
     },
     "execution_count": 76,
     "metadata": {},
     "output_type": "execute_result"
    },
    {
     "data": {
      "image/png": "[encoded data removed]",
      "text/plain": [
       "<Figure size 432x288 with 2 Axes>"
      ]
     },
     "metadata": {
      "needs_background": "light"
     },
     "output_type": "display_data"
    }
   ],
   "source": [
    "cm = confusion_matrix(test_target,y_pred)\n",
    "sns.heatmap(cm,annot=True,annot_kws = {'size':15},fmt=\".1f\")\n",
    "plt.xlabel(\"Predict\")\n",
    "plt.ylabel(\"Actual\")"
   ]
  },
  {
   "cell_type": "code",
   "execution_count": null,
   "metadata": {},
   "outputs": [],
   "source": []
  },
  {
   "cell_type": "code",
   "execution_count": 84,
   "metadata": {},
   "outputs": [],
   "source": [
    "pca = PCA()\n",
    "pca.fit(scaled_train)\n",
    "cumsum = np.cumsum(pca.explained_variance_ratio_)\n",
    "d = np.argmax(cumsum >= 0.9) + 1"
   ]
  },
  {
   "cell_type": "code",
   "execution_count": 85,
   "metadata": {},
   "outputs": [
    {
     "data": {
      "image/png": "[encoded data removed]",
      "text/plain": [
       "<Figure size 720x288 with 1 Axes>"
      ]
     },
     "metadata": {
      "needs_background": "light"
     },
     "output_type": "display_data"
    }
   ],
   "source": [
    "plt.figure(figsize=(10,4))\n",
    "plt.plot(cumsum, linewidth=3)\n",
    "plt.axis([0, 400, 0, 1])\n",
    "plt.xlabel(\"Dimensions\")\n",
    "plt.ylabel(\"Explained Variance\")\n",
    "plt.plot([d, d], [0, 0.9], \"k:\")\n",
    "plt.plot([0, d], [0.9, 0.9], \"k:\")\n",
    "plt.plot(d, 0.9, \"ko\")\n",
    "plt.grid(True)\n",
    "plt.show()"
   ]
  },
  {
   "cell_type": "code",
   "execution_count": 17,
   "metadata": {},
   "outputs": [],
   "source": [
    "knn = KNeighborsClassifier()\n",
    "dtc = DecisionTreeClassifier()\n",
    "rfc = RandomForestClassifier()\n",
    "xg = XGBClassifier(use_label_encoder=False,eval_metric = 'mlogloss')\n",
    "pca = PCA(n_components=0.9)"
   ]
  },
  {
   "cell_type": "code",
   "execution_count": 18,
   "metadata": {},
   "outputs": [
    {
     "data": {
      "text/plain": [
       "(40000, 220)"
      ]
     },
     "execution_count": 18,
     "metadata": {},
     "output_type": "execute_result"
    }
   ],
   "source": [
    "redueced_train = pca.fit_transform(scaled_train)\n",
    "redueced_train.shape"
   ]
  },
  {
   "cell_type": "code",
   "execution_count": 19,
   "metadata": {},
   "outputs": [
    {
     "data": {
      "text/plain": [
       "(5000, 220)"
      ]
     },
     "execution_count": 19,
     "metadata": {},
     "output_type": "execute_result"
    }
   ],
   "source": [
    "redueced_test = pca.transform(scaled_test)\n",
    "redueced_test.shape"
   ]
  },
  {
   "cell_type": "code",
   "execution_count": 89,
   "metadata": {},
   "outputs": [],
   "source": [
    "pipe_knn = Pipeline(steps=[('sc',sc),('pca', pca), ('knn', knn)])\n",
    "pipe_dtc = Pipeline(steps=[('sc',sc),('pca', pca), ('dtc', dtc)])\n",
    "pipe_rfc = Pipeline(steps=[('sc',sc),('pca', pca), ('rfc', rfc)])\n",
    "pipe_xg = Pipeline(steps=[('sc',sc),('pca', pca), ('xg', xg)])"
   ]
  },
  {
   "cell_type": "code",
   "execution_count": 90,
   "metadata": {},
   "outputs": [],
   "source": [
    "param_knn = {\n",
    "    'knn__n_neighbors': list(range(2,11,2)),\n",
    "    'knn__weights': ['uniform','distance']  \n",
    "}"
   ]
  },
  {
   "cell_type": "code",
   "execution_count": 92,
   "metadata": {},
   "outputs": [],
   "source": [
    "path = dtc.cost_complexity_pruning_path(redueced_train,full_train_target)\n",
    "alphas = path.ccp_alphas\n",
    "param_dtc = {'dtc__ccp_alpha':alphas}"
   ]
  },
  {
   "cell_type": "code",
   "execution_count": 93,
   "metadata": {},
   "outputs": [],
   "source": [
    "param_rfc = {'rfc__n_estimators':[100,200,300,400,500],\n",
    "    'rfc__max_depth' : list(range(2,21,2))}"
   ]
  },
  {
   "cell_type": "code",
   "execution_count": 109,
   "metadata": {},
   "outputs": [],
   "source": [
    "param_xg = {'xg__n_estimators':[100,200,300,400,500],\n",
    "    'xg__learning_rate' : np.linspace(0.3,1,8)}"
   ]
  },
  {
   "cell_type": "code",
   "execution_count": 110,
   "metadata": {},
   "outputs": [],
   "source": [
    "grid_knn = RandomizedSearchCV(pipe_knn,param_knn,scoring='accuracy')\n",
    "grid_dtc = RandomizedSearchCV(pipe_dtc,param_dtc,scoring='accuracy')\n",
    "grid_rfc = RandomizedSearchCV(pipe_rfc,param_rfc,scoring='accuracy')\n",
    "grid_xg = RandomizedSearchCV(pipe_xg,param_xg,scoring='accuracy')"
   ]
  },
  {
   "cell_type": "code",
   "execution_count": 96,
   "metadata": {},
   "outputs": [
    {
     "data": {
      "text/plain": [
       "RandomizedSearchCV(estimator=Pipeline(steps=[('sc', StandardScaler()),\n",
       "                                             ('pca', PCA(n_components=0.9)),\n",
       "                                             ('knn', KNeighborsClassifier())]),\n",
       "                   param_distributions={'knn__n_neighbors': [2, 4, 6, 8, 10],\n",
       "                                        'knn__weights': ['uniform',\n",
       "                                                         'distance']},\n",
       "                   scoring='accuracy')"
      ]
     },
     "execution_count": 96,
     "metadata": {},
     "output_type": "execute_result"
    }
   ],
   "source": [
    "grid_knn.fit(full_train_data,full_train_target)"
   ]
  },
  {
   "cell_type": "code",
   "execution_count": 97,
   "metadata": {},
   "outputs": [
    {
     "data": {
      "text/plain": [
       "RandomizedSearchCV(estimator=Pipeline(steps=[('sc', StandardScaler()),\n",
       "                                             ('pca', PCA(n_components=0.9)),\n",
       "                                             ('dtc',\n",
       "                                              DecisionTreeClassifier())]),\n",
       "                   param_distributions={'dtc__ccp_alpha': array([0.00000000e+00, 2.47863248e-05, 2.47881356e-05, ...,\n",
       "       3.10367540e-03, 4.22521443e-03, 6.48858291e-03])},\n",
       "                   scoring='accuracy')"
      ]
     },
     "execution_count": 97,
     "metadata": {},
     "output_type": "execute_result"
    }
   ],
   "source": [
    "grid_dtc.fit(full_train_data,full_train_target)"
   ]
  },
  {
   "cell_type": "code",
   "execution_count": 98,
   "metadata": {},
   "outputs": [
    {
     "data": {
      "text/plain": [
       "RandomizedSearchCV(estimator=Pipeline(steps=[('sc', StandardScaler()),\n",
       "                                             ('pca', PCA(n_components=0.9)),\n",
       "                                             ('rfc',\n",
       "                                              RandomForestClassifier())]),\n",
       "                   param_distributions={'rfc__max_depth': [2, 4, 6, 8, 10, 12,\n",
       "                                                           14, 16, 18, 20],\n",
       "                                        'rfc__n_estimators': [100, 200, 300,\n",
       "                                                              400, 500]},\n",
       "                   scoring='accuracy')"
      ]
     },
     "execution_count": 98,
     "metadata": {},
     "output_type": "execute_result"
    }
   ],
   "source": [
    "grid_rfc.fit(full_train_data,full_train_target)"
   ]
  },
  {
   "cell_type": "code",
   "execution_count": 111,
   "metadata": {},
   "outputs": [
    {
     "data": {
      "text/plain": [
       "RandomizedSearchCV(estimator=Pipeline(steps=[('sc', StandardScaler()),\n",
       "                                             ('pca', PCA(n_components=0.9)),\n",
       "                                             ('xg',\n",
       "                                              XGBClassifier(base_score=None,\n",
       "                                                            booster=None,\n",
       "                                                            colsample_bylevel=None,\n",
       "                                                            colsample_bynode=None,\n",
       "                                                            colsample_bytree=None,\n",
       "                                                            eval_metric='mlogloss',\n",
       "                                                            gamma=None,\n",
       "                                                            gpu_id=None,\n",
       "                                                            importance_type='gain',\n",
       "                                                            interaction_constraints=None,\n",
       "                                                            learning_rate=None,\n",
       "                                                            max_delta_step=Non...\n",
       "                                                            n_estimators=100,\n",
       "                                                            n_jobs=None,\n",
       "                                                            num_parallel_tree=None,\n",
       "                                                            random_state=None,\n",
       "                                                            reg_alpha=None,\n",
       "                                                            reg_lambda=None,\n",
       "                                                            scale_pos_weight=None,\n",
       "                                                            subsample=None,\n",
       "                                                            tree_method=None,\n",
       "                                                            use_label_encoder=False,\n",
       "                                                            validate_parameters=None,\n",
       "                                                            verbosity=None))]),\n",
       "                   param_distributions={'xg__learning_rate': array([0.3, 0.4, 0.5, 0.6, 0.7, 0.8, 0.9, 1. ]),\n",
       "                                        'xg__n_estimators': [100, 200, 300, 400,\n",
       "                                                             500]},\n",
       "                   scoring='accuracy')"
      ]
     },
     "execution_count": 111,
     "metadata": {},
     "output_type": "execute_result"
    }
   ],
   "source": [
    "grid_xg.fit(full_train_data,full_train_target)"
   ]
  },
  {
   "cell_type": "code",
   "execution_count": 99,
   "metadata": {},
   "outputs": [
    {
     "name": "stdout",
     "output_type": "stream",
     "text": [
      "{'knn__weights': 'distance', 'knn__n_neighbors': 10}\n",
      "0.605725\n"
     ]
    }
   ],
   "source": [
    "print(grid_knn.best_params_)\n",
    "print(grid_knn.best_score_)"
   ]
  },
  {
   "cell_type": "code",
   "execution_count": 100,
   "metadata": {},
   "outputs": [
    {
     "name": "stdout",
     "output_type": "stream",
     "text": [
      "{'dtc__ccp_alpha': 0.0002}\n",
      "0.611\n"
     ]
    }
   ],
   "source": [
    "print(grid_dtc.best_params_)\n",
    "print(grid_dtc.best_score_)"
   ]
  },
  {
   "cell_type": "code",
   "execution_count": 101,
   "metadata": {},
   "outputs": [
    {
     "name": "stdout",
     "output_type": "stream",
     "text": [
      "{'rfc__n_estimators': 400, 'rfc__max_depth': 14}\n",
      "0.6604249999999999\n"
     ]
    }
   ],
   "source": [
    "print(grid_rfc.best_params_)\n",
    "print(grid_rfc.best_score_)"
   ]
  },
  {
   "cell_type": "code",
   "execution_count": 112,
   "metadata": {},
   "outputs": [
    {
     "name": "stdout",
     "output_type": "stream",
     "text": [
      "{'xg__n_estimators': 500, 'xg__learning_rate': 0.6}\n",
      "0.6979249999999999\n"
     ]
    }
   ],
   "source": [
    "print(grid_xg.best_params_)\n",
    "print(grid_xg.best_score_)"
   ]
  },
  {
   "cell_type": "code",
   "execution_count": null,
   "metadata": {},
   "outputs": [],
   "source": []
  },
  {
   "cell_type": "code",
   "execution_count": 20,
   "metadata": {},
   "outputs": [],
   "source": [
    "knn = KNeighborsClassifier(n_neighbors=10,weights='distance')\n",
    "dtc = DecisionTreeClassifier(ccp_alpha= 0.0002)\n",
    "rfc = RandomForestClassifier(n_estimators=400,max_depth=14)\n",
    "xg = XGBClassifier(use_label_encoder=False,eval_metric = 'mlogloss',n_estimators=500,learning_rate=0.6)\n",
    "pipe_rfc = Pipeline(steps=[('sc',sc),('pca', pca), ('rfc', rfc)])\n",
    "pipe_knn = Pipeline(steps=[('sc',sc),('pca', pca), ('knn', knn)])\n",
    "pipe_dtc = Pipeline(steps=[('sc',sc),('pca', pca), ('dtc', dtc)])\n",
    "pipe_xg =  Pipeline(steps=[('sc',sc),('pca', pca), ('xg', xg)])"
   ]
  },
  {
   "cell_type": "code",
   "execution_count": 125,
   "metadata": {},
   "outputs": [],
   "source": [
    "vot = VotingClassifier(estimators=[('dtc', pipe_dtc), ('knn', pipe_knn), ('rfc', pipe_rfc), ('xg', pipe_xg)],\n",
    "voting='soft')"
   ]
  },
  {
   "cell_type": "code",
   "execution_count": 127,
   "metadata": {
    "scrolled": true
   },
   "outputs": [
    {
     "data": {
      "text/plain": [
       "VotingClassifier(estimators=[('dtc',\n",
       "                              Pipeline(steps=[('sc', StandardScaler()),\n",
       "                                              ('pca', PCA(n_components=0.9)),\n",
       "                                              ('dtc',\n",
       "                                               DecisionTreeClassifier(ccp_alpha=0.0002))])),\n",
       "                             ('knn',\n",
       "                              Pipeline(steps=[('sc', StandardScaler()),\n",
       "                                              ('pca', PCA(n_components=0.9)),\n",
       "                                              ('knn',\n",
       "                                               KNeighborsClassifier(n_neighbors=10,\n",
       "                                                                    weights='distance'))])),\n",
       "                             ('rfc',\n",
       "                              Pipeline(steps=[('sc', StandardScaler()),\n",
       "                                              (...\n",
       "                                                             learning_rate=0.6,\n",
       "                                                             max_delta_step=None,\n",
       "                                                             max_depth=None,\n",
       "                                                             min_child_weight=None,\n",
       "                                                             missing=nan,\n",
       "                                                             monotone_constraints=None,\n",
       "                                                             n_estimators=500,\n",
       "                                                             n_jobs=None,\n",
       "                                                             num_parallel_tree=None,\n",
       "                                                             random_state=None,\n",
       "                                                             reg_alpha=None,\n",
       "                                                             reg_lambda=None,\n",
       "                                                             scale_pos_weight=None,\n",
       "                                                             subsample=None,\n",
       "                                                             tree_method=None,\n",
       "                                                             use_label_encoder=False,\n",
       "                                                             validate_parameters=None,\n",
       "                                                             verbosity=None))]))],\n",
       "                 voting='soft')"
      ]
     },
     "execution_count": 127,
     "metadata": {},
     "output_type": "execute_result"
    }
   ],
   "source": [
    "vot.fit(full_train_data,full_train_target)"
   ]
  },
  {
   "cell_type": "code",
   "execution_count": 128,
   "metadata": {},
   "outputs": [],
   "source": [
    "y_pred = vot.predict(test_data)"
   ]
  },
  {
   "cell_type": "code",
   "execution_count": 130,
   "metadata": {},
   "outputs": [
    {
     "name": "stdout",
     "output_type": "stream",
     "text": [
      "              precision    recall  f1-score   support\n",
      "\n",
      "           0       0.63      0.65      0.64      2496\n",
      "           1       0.64      0.62      0.63      2504\n",
      "\n",
      "    accuracy                           0.64      5000\n",
      "   macro avg       0.64      0.64      0.64      5000\n",
      "weighted avg       0.64      0.64      0.64      5000\n",
      "\n"
     ]
    }
   ],
   "source": [
    "print (classification_report(test_target,y_pred))"
   ]
  },
  {
   "cell_type": "code",
   "execution_count": 129,
   "metadata": {},
   "outputs": [
    {
     "data": {
      "text/plain": [
       "0.6368"
      ]
     },
     "execution_count": 129,
     "metadata": {},
     "output_type": "execute_result"
    }
   ],
   "source": [
    "metrics.accuracy_score(test_target,y_pred)"
   ]
  },
  {
   "cell_type": "code",
   "execution_count": null,
   "metadata": {},
   "outputs": [],
   "source": []
  },
  {
   "cell_type": "code",
   "execution_count": 21,
   "metadata": {},
   "outputs": [],
   "source": [
    "vot2 = VotingClassifier(estimators=[('xg',pipe_xg), ('rfc', pipe_rfc)],\n",
    "voting='soft')"
   ]
  },
  {
   "cell_type": "code",
   "execution_count": 138,
   "metadata": {
    "scrolled": true
   },
   "outputs": [
    {
     "data": {
      "text/plain": [
       "VotingClassifier(estimators=[('xg',\n",
       "                              Pipeline(steps=[('sc', StandardScaler()),\n",
       "                                              ('pca', PCA(n_components=0.9)),\n",
       "                                              ('xg',\n",
       "                                               XGBClassifier(base_score=None,\n",
       "                                                             booster=None,\n",
       "                                                             colsample_bylevel=None,\n",
       "                                                             colsample_bynode=None,\n",
       "                                                             colsample_bytree=None,\n",
       "                                                             eval_metric='mlogloss',\n",
       "                                                             gamma=None,\n",
       "                                                             gpu_id=None,\n",
       "                                                             importance_type='gain',\n",
       "                                                             interaction_constraints=None,\n",
       "                                                             learning_rate=0.6,\n",
       "                                                             max_delta_ste...\n",
       "                                                             num_parallel_tree=None,\n",
       "                                                             random_state=None,\n",
       "                                                             reg_alpha=None,\n",
       "                                                             reg_lambda=None,\n",
       "                                                             scale_pos_weight=None,\n",
       "                                                             subsample=None,\n",
       "                                                             tree_method=None,\n",
       "                                                             use_label_encoder=False,\n",
       "                                                             validate_parameters=None,\n",
       "                                                             verbosity=None))])),\n",
       "                             ('rfc',\n",
       "                              Pipeline(steps=[('sc', StandardScaler()),\n",
       "                                              ('pca', PCA(n_components=0.9)),\n",
       "                                              ('rfc',\n",
       "                                               RandomForestClassifier(max_depth=14,\n",
       "                                                                      n_estimators=400))]))],\n",
       "                 voting='soft')"
      ]
     },
     "execution_count": 138,
     "metadata": {},
     "output_type": "execute_result"
    }
   ],
   "source": [
    "vot2.fit(full_train_data,full_train_target)"
   ]
  },
  {
   "cell_type": "code",
   "execution_count": 139,
   "metadata": {},
   "outputs": [],
   "source": [
    "y_pred = vot2.predict(test_data)"
   ]
  },
  {
   "cell_type": "code",
   "execution_count": 140,
   "metadata": {},
   "outputs": [
    {
     "name": "stdout",
     "output_type": "stream",
     "text": [
      "              precision    recall  f1-score   support\n",
      "\n",
      "           0       0.66      0.67      0.66      2496\n",
      "           1       0.66      0.65      0.66      2504\n",
      "\n",
      "    accuracy                           0.66      5000\n",
      "   macro avg       0.66      0.66      0.66      5000\n",
      "weighted avg       0.66      0.66      0.66      5000\n",
      "\n"
     ]
    }
   ],
   "source": [
    "print (classification_report(test_target,y_pred))"
   ]
  },
  {
   "cell_type": "code",
   "execution_count": 141,
   "metadata": {},
   "outputs": [
    {
     "data": {
      "text/plain": [
       "0.6604"
      ]
     },
     "execution_count": 141,
     "metadata": {},
     "output_type": "execute_result"
    }
   ],
   "source": [
    "metrics.accuracy_score(test_target,y_pred)"
   ]
  },
  {
   "cell_type": "code",
   "execution_count": null,
   "metadata": {},
   "outputs": [],
   "source": []
  },
  {
   "cell_type": "code",
   "execution_count": 77,
   "metadata": {},
   "outputs": [],
   "source": [
    "stc = StackingClassifier(estimators=[('dtc', pipe_dtc), ('knn', pipe_knn), ('rfc', pipe_rfc), ('xg', pipe_xg)])"
   ]
  },
  {
   "cell_type": "code",
   "execution_count": 143,
   "metadata": {
    "scrolled": true
   },
   "outputs": [
    {
     "data": {
      "text/plain": [
       "StackingClassifier(estimators=[('dtc',\n",
       "                                Pipeline(steps=[('sc', StandardScaler()),\n",
       "                                                ('pca', PCA(n_components=0.9)),\n",
       "                                                ('dtc',\n",
       "                                                 DecisionTreeClassifier(ccp_alpha=0.0002))])),\n",
       "                               ('knn',\n",
       "                                Pipeline(steps=[('sc', StandardScaler()),\n",
       "                                                ('pca', PCA(n_components=0.9)),\n",
       "                                                ('knn',\n",
       "                                                 KNeighborsClassifier(n_neighbors=10,\n",
       "                                                                      weights='distance'))])),\n",
       "                               ('rfc',\n",
       "                                Pipeline(steps=[('sc', StandardScaler())...\n",
       "                                                               interaction_constraints=None,\n",
       "                                                               learning_rate=0.6,\n",
       "                                                               max_delta_step=None,\n",
       "                                                               max_depth=None,\n",
       "                                                               min_child_weight=None,\n",
       "                                                               missing=nan,\n",
       "                                                               monotone_constraints=None,\n",
       "                                                               n_estimators=500,\n",
       "                                                               n_jobs=None,\n",
       "                                                               num_parallel_tree=None,\n",
       "                                                               random_state=None,\n",
       "                                                               reg_alpha=None,\n",
       "                                                               reg_lambda=None,\n",
       "                                                               scale_pos_weight=None,\n",
       "                                                               subsample=None,\n",
       "                                                               tree_method=None,\n",
       "                                                               use_label_encoder=False,\n",
       "                                                               validate_parameters=None,\n",
       "                                                               verbosity=None))]))])"
      ]
     },
     "execution_count": 143,
     "metadata": {},
     "output_type": "execute_result"
    }
   ],
   "source": [
    "stc.fit(full_train_data,full_train_target)"
   ]
  },
  {
   "cell_type": "code",
   "execution_count": 144,
   "metadata": {},
   "outputs": [],
   "source": [
    "y_pred = stc.predict(test_data)"
   ]
  },
  {
   "cell_type": "code",
   "execution_count": 145,
   "metadata": {},
   "outputs": [
    {
     "name": "stdout",
     "output_type": "stream",
     "text": [
      "              precision    recall  f1-score   support\n",
      "\n",
      "           0       0.67      0.67      0.67      2496\n",
      "           1       0.67      0.67      0.67      2504\n",
      "\n",
      "    accuracy                           0.67      5000\n",
      "   macro avg       0.67      0.67      0.67      5000\n",
      "weighted avg       0.67      0.67      0.67      5000\n",
      "\n"
     ]
    }
   ],
   "source": [
    "print (classification_report(test_target,y_pred))"
   ]
  },
  {
   "cell_type": "code",
   "execution_count": 146,
   "metadata": {},
   "outputs": [
    {
     "data": {
      "text/plain": [
       "0.667"
      ]
     },
     "execution_count": 146,
     "metadata": {},
     "output_type": "execute_result"
    }
   ],
   "source": [
    "metrics.accuracy_score(test_target,y_pred)"
   ]
  },
  {
   "cell_type": "code",
   "execution_count": null,
   "metadata": {},
   "outputs": [],
   "source": []
  },
  {
   "cell_type": "code",
   "execution_count": 149,
   "metadata": {},
   "outputs": [],
   "source": [
    "stc2 = StackingClassifier(estimators=[('xg', pipe_xg), ('rfc', pipe_rfc)])"
   ]
  },
  {
   "cell_type": "code",
   "execution_count": 150,
   "metadata": {
    "scrolled": true
   },
   "outputs": [
    {
     "data": {
      "text/plain": [
       "StackingClassifier(estimators=[('xg',\n",
       "                                Pipeline(steps=[('sc', StandardScaler()),\n",
       "                                                ('pca', PCA(n_components=0.9)),\n",
       "                                                ('xg',\n",
       "                                                 XGBClassifier(base_score=None,\n",
       "                                                               booster=None,\n",
       "                                                               colsample_bylevel=None,\n",
       "                                                               colsample_bynode=None,\n",
       "                                                               colsample_bytree=None,\n",
       "                                                               eval_metric='mlogloss',\n",
       "                                                               gamma=None,\n",
       "                                                               gpu_id=None,\n",
       "                                                               importance_type='gain',\n",
       "                                                               interaction_constraints=None,\n",
       "                                                               learning_rate=0.6,\n",
       "                                                               max_delta_s...\n",
       "                                                               n_jobs=None,\n",
       "                                                               num_parallel_tree=None,\n",
       "                                                               random_state=None,\n",
       "                                                               reg_alpha=None,\n",
       "                                                               reg_lambda=None,\n",
       "                                                               scale_pos_weight=None,\n",
       "                                                               subsample=None,\n",
       "                                                               tree_method=None,\n",
       "                                                               use_label_encoder=False,\n",
       "                                                               validate_parameters=None,\n",
       "                                                               verbosity=None))])),\n",
       "                               ('rfc',\n",
       "                                Pipeline(steps=[('sc', StandardScaler()),\n",
       "                                                ('pca', PCA(n_components=0.9)),\n",
       "                                                ('rfc',\n",
       "                                                 RandomForestClassifier(max_depth=14,\n",
       "                                                                        n_estimators=400))]))])"
      ]
     },
     "execution_count": 150,
     "metadata": {},
     "output_type": "execute_result"
    }
   ],
   "source": [
    "stc2.fit(full_train_data,full_train_target)"
   ]
  },
  {
   "cell_type": "code",
   "execution_count": 151,
   "metadata": {},
   "outputs": [],
   "source": [
    "y_pred = stc2.predict(test_data)"
   ]
  },
  {
   "cell_type": "code",
   "execution_count": 152,
   "metadata": {},
   "outputs": [
    {
     "name": "stdout",
     "output_type": "stream",
     "text": [
      "              precision    recall  f1-score   support\n",
      "\n",
      "           0       0.66      0.67      0.66      2496\n",
      "           1       0.67      0.66      0.66      2504\n",
      "\n",
      "    accuracy                           0.66      5000\n",
      "   macro avg       0.66      0.66      0.66      5000\n",
      "weighted avg       0.66      0.66      0.66      5000\n",
      "\n"
     ]
    }
   ],
   "source": [
    "print (classification_report(test_target,y_pred))"
   ]
  },
  {
   "cell_type": "code",
   "execution_count": 153,
   "metadata": {},
   "outputs": [
    {
     "data": {
      "text/plain": [
       "0.6628"
      ]
     },
     "execution_count": 153,
     "metadata": {},
     "output_type": "execute_result"
    }
   ],
   "source": [
    "metrics.accuracy_score(test_target,y_pred)"
   ]
  },
  {
   "cell_type": "code",
   "execution_count": null,
   "metadata": {},
   "outputs": [],
   "source": []
  },
  {
   "cell_type": "code",
   "execution_count": 53,
   "metadata": {
    "scrolled": true
   },
   "outputs": [
    {
     "data": {
      "text/plain": [
       "VotingClassifier(estimators=[('xg',\n",
       "                              Pipeline(steps=[('sc', StandardScaler()),\n",
       "                                              ('pca', PCA(n_components=0.9)),\n",
       "                                              ('xg',\n",
       "                                               XGBClassifier(base_score=None,\n",
       "                                                             booster=None,\n",
       "                                                             colsample_bylevel=None,\n",
       "                                                             colsample_bynode=None,\n",
       "                                                             colsample_bytree=None,\n",
       "                                                             eval_metric='mlogloss',\n",
       "                                                             gamma=None,\n",
       "                                                             gpu_id=None,\n",
       "                                                             importance_type='gain',\n",
       "                                                             interaction_constraints=None,\n",
       "                                                             learning_rate=0.6,\n",
       "                                                             max_delta_ste...\n",
       "                                                             num_parallel_tree=None,\n",
       "                                                             random_state=None,\n",
       "                                                             reg_alpha=None,\n",
       "                                                             reg_lambda=None,\n",
       "                                                             scale_pos_weight=None,\n",
       "                                                             subsample=None,\n",
       "                                                             tree_method=None,\n",
       "                                                             use_label_encoder=False,\n",
       "                                                             validate_parameters=None,\n",
       "                                                             verbosity=None))])),\n",
       "                             ('rfc',\n",
       "                              Pipeline(steps=[('sc', StandardScaler()),\n",
       "                                              ('pca', PCA(n_components=0.9)),\n",
       "                                              ('rfc',\n",
       "                                               RandomForestClassifier(max_depth=14,\n",
       "                                                                      n_estimators=400))]))],\n",
       "                 voting='soft')"
      ]
     },
     "execution_count": 53,
     "metadata": {},
     "output_type": "execute_result"
    }
   ],
   "source": [
    "vot2.fit(full_train_data_km,full_train_target)"
   ]
  },
  {
   "cell_type": "code",
   "execution_count": 54,
   "metadata": {},
   "outputs": [],
   "source": [
    "y_pred = vot2.predict(test_data_km)"
   ]
  },
  {
   "cell_type": "code",
   "execution_count": 55,
   "metadata": {},
   "outputs": [
    {
     "name": "stdout",
     "output_type": "stream",
     "text": [
      "              precision    recall  f1-score   support\n",
      "\n",
      "           0       0.67      0.67      0.67      2496\n",
      "           1       0.67      0.67      0.67      2504\n",
      "\n",
      "    accuracy                           0.67      5000\n",
      "   macro avg       0.67      0.67      0.67      5000\n",
      "weighted avg       0.67      0.67      0.67      5000\n",
      "\n"
     ]
    }
   ],
   "source": [
    "print (classification_report(test_target,y_pred))"
   ]
  },
  {
   "cell_type": "code",
   "execution_count": 56,
   "metadata": {},
   "outputs": [
    {
     "data": {
      "text/plain": [
       "0.6668"
      ]
     },
     "execution_count": 56,
     "metadata": {},
     "output_type": "execute_result"
    }
   ],
   "source": [
    "metrics.accuracy_score(test_target,y_pred)"
   ]
  },
  {
   "cell_type": "code",
   "execution_count": null,
   "metadata": {},
   "outputs": [],
   "source": []
  },
  {
   "cell_type": "code",
   "execution_count": 78,
   "metadata": {},
   "outputs": [
    {
     "data": {
      "text/plain": [
       "StackingClassifier(estimators=[('dtc',\n",
       "                                Pipeline(steps=[('sc', StandardScaler()),\n",
       "                                                ('pca', PCA(n_components=0.9)),\n",
       "                                                ('dtc',\n",
       "                                                 DecisionTreeClassifier(ccp_alpha=0.0002))])),\n",
       "                               ('knn',\n",
       "                                Pipeline(steps=[('sc', StandardScaler()),\n",
       "                                                ('pca', PCA(n_components=0.9)),\n",
       "                                                ('knn',\n",
       "                                                 KNeighborsClassifier(n_neighbors=10,\n",
       "                                                                      weights='distance'))])),\n",
       "                               ('rfc',\n",
       "                                Pipeline(steps=[('sc', StandardScaler())...\n",
       "                                                               interaction_constraints=None,\n",
       "                                                               learning_rate=None,\n",
       "                                                               max_delta_step=None,\n",
       "                                                               max_depth=None,\n",
       "                                                               min_child_weight=None,\n",
       "                                                               missing=nan,\n",
       "                                                               monotone_constraints=None,\n",
       "                                                               n_estimators=100,\n",
       "                                                               n_jobs=None,\n",
       "                                                               num_parallel_tree=None,\n",
       "                                                               random_state=None,\n",
       "                                                               reg_alpha=None,\n",
       "                                                               reg_lambda=None,\n",
       "                                                               scale_pos_weight=None,\n",
       "                                                               subsample=None,\n",
       "                                                               tree_method=None,\n",
       "                                                               use_label_encoder=False,\n",
       "                                                               validate_parameters=None,\n",
       "                                                               verbosity=None))]))])"
      ]
     },
     "execution_count": 78,
     "metadata": {},
     "output_type": "execute_result"
    }
   ],
   "source": [
    "stc.fit(full_train_data_km,full_train_target)"
   ]
  },
  {
   "cell_type": "code",
   "execution_count": 79,
   "metadata": {},
   "outputs": [],
   "source": [
    "y_pred = stc.predict(test_data_km)"
   ]
  },
  {
   "cell_type": "code",
   "execution_count": 80,
   "metadata": {},
   "outputs": [
    {
     "name": "stdout",
     "output_type": "stream",
     "text": [
      "              precision    recall  f1-score   support\n",
      "\n",
      "           0       0.67      0.66      0.67      2496\n",
      "           1       0.67      0.68      0.67      2504\n",
      "\n",
      "    accuracy                           0.67      5000\n",
      "   macro avg       0.67      0.67      0.67      5000\n",
      "weighted avg       0.67      0.67      0.67      5000\n",
      "\n"
     ]
    }
   ],
   "source": [
    "print (classification_report(test_target,y_pred))"
   ]
  },
  {
   "cell_type": "code",
   "execution_count": 81,
   "metadata": {},
   "outputs": [
    {
     "data": {
      "text/plain": [
       "0.6692"
      ]
     },
     "execution_count": 81,
     "metadata": {},
     "output_type": "execute_result"
    }
   ],
   "source": [
    "metrics.accuracy_score(test_target,y_pred)"
   ]
  },
  {
   "cell_type": "markdown",
   "metadata": {},
   "source": [
    "# Second try"
   ]
  },
  {
   "cell_type": "code",
   "execution_count": 6,
   "metadata": {},
   "outputs": [],
   "source": [
    "train_data = []\n",
    "train_label = []\n",
    "for img in os.listdir(r'C:\\Users\\anitay\\Desktop\\Ors folder\\train'):\n",
    "    label = label_img(img)\n",
    "    path = os.path.join(r'C:\\Users\\anitay\\Desktop\\Ors folder\\train',img)\n",
    "    img = cv2.resize(cv2.imread(path),(50,50))\n",
    "    train_data.append(np.array(img).flatten())\n",
    "    train_label.append(label)"
   ]
  },
  {
   "cell_type": "code",
   "execution_count": 7,
   "metadata": {},
   "outputs": [
    {
     "data": {
      "text/html": [
       "<div>\n",
       "<style scoped>\n",
       "    .dataframe tbody tr th:only-of-type {\n",
       "        vertical-align: middle;\n",
       "    }\n",
       "\n",
       "    .dataframe tbody tr th {\n",
       "        vertical-align: top;\n",
       "    }\n",
       "\n",
       "    .dataframe thead th {\n",
       "        text-align: right;\n",
       "    }\n",
       "</style>\n",
       "<table border=\"1\" class=\"dataframe\">\n",
       "  <thead>\n",
       "    <tr style=\"text-align: right;\">\n",
       "      <th></th>\n",
       "      <th>pixel_0</th>\n",
       "      <th>pixel_1</th>\n",
       "      <th>pixel_2</th>\n",
       "      <th>pixel_3</th>\n",
       "      <th>pixel_4</th>\n",
       "      <th>pixel_5</th>\n",
       "      <th>pixel_6</th>\n",
       "      <th>pixel_7</th>\n",
       "      <th>pixel_8</th>\n",
       "      <th>pixel_9</th>\n",
       "      <th>...</th>\n",
       "      <th>pixel_7491</th>\n",
       "      <th>pixel_7492</th>\n",
       "      <th>pixel_7493</th>\n",
       "      <th>pixel_7494</th>\n",
       "      <th>pixel_7495</th>\n",
       "      <th>pixel_7496</th>\n",
       "      <th>pixel_7497</th>\n",
       "      <th>pixel_7498</th>\n",
       "      <th>pixel_7499</th>\n",
       "      <th>label</th>\n",
       "    </tr>\n",
       "  </thead>\n",
       "  <tbody>\n",
       "    <tr>\n",
       "      <th>0</th>\n",
       "      <td>92</td>\n",
       "      <td>169</td>\n",
       "      <td>208</td>\n",
       "      <td>100</td>\n",
       "      <td>177</td>\n",
       "      <td>216</td>\n",
       "      <td>104</td>\n",
       "      <td>182</td>\n",
       "      <td>225</td>\n",
       "      <td>110</td>\n",
       "      <td>...</td>\n",
       "      <td>0</td>\n",
       "      <td>2</td>\n",
       "      <td>2</td>\n",
       "      <td>0</td>\n",
       "      <td>2</td>\n",
       "      <td>2</td>\n",
       "      <td>0</td>\n",
       "      <td>2</td>\n",
       "      <td>2</td>\n",
       "      <td>0</td>\n",
       "    </tr>\n",
       "    <tr>\n",
       "      <th>1</th>\n",
       "      <td>43</td>\n",
       "      <td>43</td>\n",
       "      <td>39</td>\n",
       "      <td>64</td>\n",
       "      <td>58</td>\n",
       "      <td>55</td>\n",
       "      <td>36</td>\n",
       "      <td>40</td>\n",
       "      <td>35</td>\n",
       "      <td>44</td>\n",
       "      <td>...</td>\n",
       "      <td>47</td>\n",
       "      <td>53</td>\n",
       "      <td>70</td>\n",
       "      <td>52</td>\n",
       "      <td>57</td>\n",
       "      <td>75</td>\n",
       "      <td>20</td>\n",
       "      <td>26</td>\n",
       "      <td>39</td>\n",
       "      <td>0</td>\n",
       "    </tr>\n",
       "    <tr>\n",
       "      <th>2</th>\n",
       "      <td>53</td>\n",
       "      <td>45</td>\n",
       "      <td>38</td>\n",
       "      <td>61</td>\n",
       "      <td>47</td>\n",
       "      <td>41</td>\n",
       "      <td>64</td>\n",
       "      <td>54</td>\n",
       "      <td>47</td>\n",
       "      <td>69</td>\n",
       "      <td>...</td>\n",
       "      <td>52</td>\n",
       "      <td>150</td>\n",
       "      <td>165</td>\n",
       "      <td>2</td>\n",
       "      <td>183</td>\n",
       "      <td>185</td>\n",
       "      <td>10</td>\n",
       "      <td>183</td>\n",
       "      <td>187</td>\n",
       "      <td>0</td>\n",
       "    </tr>\n",
       "    <tr>\n",
       "      <th>3</th>\n",
       "      <td>217</td>\n",
       "      <td>222</td>\n",
       "      <td>221</td>\n",
       "      <td>220</td>\n",
       "      <td>225</td>\n",
       "      <td>224</td>\n",
       "      <td>237</td>\n",
       "      <td>235</td>\n",
       "      <td>235</td>\n",
       "      <td>239</td>\n",
       "      <td>...</td>\n",
       "      <td>208</td>\n",
       "      <td>210</td>\n",
       "      <td>210</td>\n",
       "      <td>218</td>\n",
       "      <td>220</td>\n",
       "      <td>219</td>\n",
       "      <td>207</td>\n",
       "      <td>212</td>\n",
       "      <td>215</td>\n",
       "      <td>0</td>\n",
       "    </tr>\n",
       "    <tr>\n",
       "      <th>4</th>\n",
       "      <td>72</td>\n",
       "      <td>109</td>\n",
       "      <td>137</td>\n",
       "      <td>83</td>\n",
       "      <td>120</td>\n",
       "      <td>148</td>\n",
       "      <td>48</td>\n",
       "      <td>87</td>\n",
       "      <td>115</td>\n",
       "      <td>90</td>\n",
       "      <td>...</td>\n",
       "      <td>82</td>\n",
       "      <td>105</td>\n",
       "      <td>120</td>\n",
       "      <td>59</td>\n",
       "      <td>91</td>\n",
       "      <td>102</td>\n",
       "      <td>64</td>\n",
       "      <td>90</td>\n",
       "      <td>102</td>\n",
       "      <td>0</td>\n",
       "    </tr>\n",
       "    <tr>\n",
       "      <th>...</th>\n",
       "      <td>...</td>\n",
       "      <td>...</td>\n",
       "      <td>...</td>\n",
       "      <td>...</td>\n",
       "      <td>...</td>\n",
       "      <td>...</td>\n",
       "      <td>...</td>\n",
       "      <td>...</td>\n",
       "      <td>...</td>\n",
       "      <td>...</td>\n",
       "      <td>...</td>\n",
       "      <td>...</td>\n",
       "      <td>...</td>\n",
       "      <td>...</td>\n",
       "      <td>...</td>\n",
       "      <td>...</td>\n",
       "      <td>...</td>\n",
       "      <td>...</td>\n",
       "      <td>...</td>\n",
       "      <td>...</td>\n",
       "      <td>...</td>\n",
       "    </tr>\n",
       "    <tr>\n",
       "      <th>24995</th>\n",
       "      <td>107</td>\n",
       "      <td>144</td>\n",
       "      <td>148</td>\n",
       "      <td>110</td>\n",
       "      <td>147</td>\n",
       "      <td>151</td>\n",
       "      <td>113</td>\n",
       "      <td>150</td>\n",
       "      <td>154</td>\n",
       "      <td>114</td>\n",
       "      <td>...</td>\n",
       "      <td>132</td>\n",
       "      <td>168</td>\n",
       "      <td>178</td>\n",
       "      <td>134</td>\n",
       "      <td>169</td>\n",
       "      <td>179</td>\n",
       "      <td>135</td>\n",
       "      <td>170</td>\n",
       "      <td>180</td>\n",
       "      <td>1</td>\n",
       "    </tr>\n",
       "    <tr>\n",
       "      <th>24996</th>\n",
       "      <td>53</td>\n",
       "      <td>81</td>\n",
       "      <td>111</td>\n",
       "      <td>63</td>\n",
       "      <td>88</td>\n",
       "      <td>114</td>\n",
       "      <td>44</td>\n",
       "      <td>76</td>\n",
       "      <td>95</td>\n",
       "      <td>43</td>\n",
       "      <td>...</td>\n",
       "      <td>50</td>\n",
       "      <td>76</td>\n",
       "      <td>99</td>\n",
       "      <td>66</td>\n",
       "      <td>97</td>\n",
       "      <td>118</td>\n",
       "      <td>37</td>\n",
       "      <td>64</td>\n",
       "      <td>85</td>\n",
       "      <td>1</td>\n",
       "    </tr>\n",
       "    <tr>\n",
       "      <th>24997</th>\n",
       "      <td>45</td>\n",
       "      <td>48</td>\n",
       "      <td>53</td>\n",
       "      <td>50</td>\n",
       "      <td>53</td>\n",
       "      <td>58</td>\n",
       "      <td>51</td>\n",
       "      <td>53</td>\n",
       "      <td>54</td>\n",
       "      <td>41</td>\n",
       "      <td>...</td>\n",
       "      <td>134</td>\n",
       "      <td>175</td>\n",
       "      <td>213</td>\n",
       "      <td>27</td>\n",
       "      <td>76</td>\n",
       "      <td>117</td>\n",
       "      <td>126</td>\n",
       "      <td>171</td>\n",
       "      <td>217</td>\n",
       "      <td>1</td>\n",
       "    </tr>\n",
       "    <tr>\n",
       "      <th>24998</th>\n",
       "      <td>253</td>\n",
       "      <td>252</td>\n",
       "      <td>253</td>\n",
       "      <td>229</td>\n",
       "      <td>230</td>\n",
       "      <td>253</td>\n",
       "      <td>175</td>\n",
       "      <td>189</td>\n",
       "      <td>235</td>\n",
       "      <td>92</td>\n",
       "      <td>...</td>\n",
       "      <td>98</td>\n",
       "      <td>98</td>\n",
       "      <td>114</td>\n",
       "      <td>97</td>\n",
       "      <td>95</td>\n",
       "      <td>110</td>\n",
       "      <td>107</td>\n",
       "      <td>107</td>\n",
       "      <td>121</td>\n",
       "      <td>1</td>\n",
       "    </tr>\n",
       "    <tr>\n",
       "      <th>24999</th>\n",
       "      <td>230</td>\n",
       "      <td>240</td>\n",
       "      <td>247</td>\n",
       "      <td>231</td>\n",
       "      <td>241</td>\n",
       "      <td>248</td>\n",
       "      <td>228</td>\n",
       "      <td>238</td>\n",
       "      <td>245</td>\n",
       "      <td>234</td>\n",
       "      <td>...</td>\n",
       "      <td>254</td>\n",
       "      <td>254</td>\n",
       "      <td>254</td>\n",
       "      <td>254</td>\n",
       "      <td>254</td>\n",
       "      <td>254</td>\n",
       "      <td>254</td>\n",
       "      <td>254</td>\n",
       "      <td>254</td>\n",
       "      <td>1</td>\n",
       "    </tr>\n",
       "  </tbody>\n",
       "</table>\n",
       "<p>25000 rows × 7501 columns</p>\n",
       "</div>"
      ],
      "text/plain": [
       "       pixel_0  pixel_1  pixel_2  pixel_3  pixel_4  pixel_5  pixel_6  pixel_7  \\\n",
       "0           92      169      208      100      177      216      104      182   \n",
       "1           43       43       39       64       58       55       36       40   \n",
       "2           53       45       38       61       47       41       64       54   \n",
       "3          217      222      221      220      225      224      237      235   \n",
       "4           72      109      137       83      120      148       48       87   \n",
       "...        ...      ...      ...      ...      ...      ...      ...      ...   \n",
       "24995      107      144      148      110      147      151      113      150   \n",
       "24996       53       81      111       63       88      114       44       76   \n",
       "24997       45       48       53       50       53       58       51       53   \n",
       "24998      253      252      253      229      230      253      175      189   \n",
       "24999      230      240      247      231      241      248      228      238   \n",
       "\n",
       "       pixel_8  pixel_9  ...  pixel_7491  pixel_7492  pixel_7493  pixel_7494  \\\n",
       "0          225      110  ...           0           2           2           0   \n",
       "1           35       44  ...          47          53          70          52   \n",
       "2           47       69  ...          52         150         165           2   \n",
       "3          235      239  ...         208         210         210         218   \n",
       "4          115       90  ...          82         105         120          59   \n",
       "...        ...      ...  ...         ...         ...         ...         ...   \n",
       "24995      154      114  ...         132         168         178         134   \n",
       "24996       95       43  ...          50          76          99          66   \n",
       "24997       54       41  ...         134         175         213          27   \n",
       "24998      235       92  ...          98          98         114          97   \n",
       "24999      245      234  ...         254         254         254         254   \n",
       "\n",
       "       pixel_7495  pixel_7496  pixel_7497  pixel_7498  pixel_7499  label  \n",
       "0               2           2           0           2           2      0  \n",
       "1              57          75          20          26          39      0  \n",
       "2             183         185          10         183         187      0  \n",
       "3             220         219         207         212         215      0  \n",
       "4              91         102          64          90         102      0  \n",
       "...           ...         ...         ...         ...         ...    ...  \n",
       "24995         169         179         135         170         180      1  \n",
       "24996          97         118          37          64          85      1  \n",
       "24997          76         117         126         171         217      1  \n",
       "24998          95         110         107         107         121      1  \n",
       "24999         254         254         254         254         254      1  \n",
       "\n",
       "[25000 rows x 7501 columns]"
      ]
     },
     "execution_count": 7,
     "metadata": {},
     "output_type": "execute_result"
    }
   ],
   "source": [
    "cols = []\n",
    "for i in range(7500):\n",
    "    cols.append(\"pixel_\"+str(i))\n",
    "df2 = pd.DataFrame(train_data,columns=cols)\n",
    "df2['label']=train_label\n",
    "df2"
   ]
  },
  {
   "cell_type": "code",
   "execution_count": null,
   "metadata": {},
   "outputs": [],
   "source": [
    "df2.to_csv(r'C:\\Users\\anitay\\Desktop\\Ors folder\\cnd.csv',index=False)"
   ]
  },
  {
   "cell_type": "code",
   "execution_count": 2,
   "metadata": {},
   "outputs": [],
   "source": [
    "df2 = pd.read_csv(r'C:\\Users\\anitay\\Desktop\\Ors folder\\cnd.csv')"
   ]
  },
  {
   "cell_type": "code",
   "execution_count": 3,
   "metadata": {},
   "outputs": [
    {
     "data": {
      "text/html": [
       "<div>\n",
       "<style scoped>\n",
       "    .dataframe tbody tr th:only-of-type {\n",
       "        vertical-align: middle;\n",
       "    }\n",
       "\n",
       "    .dataframe tbody tr th {\n",
       "        vertical-align: top;\n",
       "    }\n",
       "\n",
       "    .dataframe thead th {\n",
       "        text-align: right;\n",
       "    }\n",
       "</style>\n",
       "<table border=\"1\" class=\"dataframe\">\n",
       "  <thead>\n",
       "    <tr style=\"text-align: right;\">\n",
       "      <th></th>\n",
       "      <th>pixel_0</th>\n",
       "      <th>pixel_1</th>\n",
       "      <th>pixel_2</th>\n",
       "      <th>pixel_3</th>\n",
       "      <th>pixel_4</th>\n",
       "      <th>pixel_5</th>\n",
       "      <th>pixel_6</th>\n",
       "      <th>pixel_7</th>\n",
       "      <th>pixel_8</th>\n",
       "      <th>pixel_9</th>\n",
       "      <th>...</th>\n",
       "      <th>pixel_7491</th>\n",
       "      <th>pixel_7492</th>\n",
       "      <th>pixel_7493</th>\n",
       "      <th>pixel_7494</th>\n",
       "      <th>pixel_7495</th>\n",
       "      <th>pixel_7496</th>\n",
       "      <th>pixel_7497</th>\n",
       "      <th>pixel_7498</th>\n",
       "      <th>pixel_7499</th>\n",
       "      <th>label</th>\n",
       "    </tr>\n",
       "  </thead>\n",
       "  <tbody>\n",
       "    <tr>\n",
       "      <th>0</th>\n",
       "      <td>92</td>\n",
       "      <td>169</td>\n",
       "      <td>208</td>\n",
       "      <td>100</td>\n",
       "      <td>177</td>\n",
       "      <td>216</td>\n",
       "      <td>104</td>\n",
       "      <td>182</td>\n",
       "      <td>225</td>\n",
       "      <td>110</td>\n",
       "      <td>...</td>\n",
       "      <td>0</td>\n",
       "      <td>2</td>\n",
       "      <td>2</td>\n",
       "      <td>0</td>\n",
       "      <td>2</td>\n",
       "      <td>2</td>\n",
       "      <td>0</td>\n",
       "      <td>2</td>\n",
       "      <td>2</td>\n",
       "      <td>0</td>\n",
       "    </tr>\n",
       "    <tr>\n",
       "      <th>1</th>\n",
       "      <td>43</td>\n",
       "      <td>43</td>\n",
       "      <td>39</td>\n",
       "      <td>64</td>\n",
       "      <td>58</td>\n",
       "      <td>55</td>\n",
       "      <td>36</td>\n",
       "      <td>40</td>\n",
       "      <td>35</td>\n",
       "      <td>44</td>\n",
       "      <td>...</td>\n",
       "      <td>47</td>\n",
       "      <td>53</td>\n",
       "      <td>70</td>\n",
       "      <td>52</td>\n",
       "      <td>57</td>\n",
       "      <td>75</td>\n",
       "      <td>20</td>\n",
       "      <td>26</td>\n",
       "      <td>39</td>\n",
       "      <td>0</td>\n",
       "    </tr>\n",
       "    <tr>\n",
       "      <th>2</th>\n",
       "      <td>53</td>\n",
       "      <td>45</td>\n",
       "      <td>38</td>\n",
       "      <td>61</td>\n",
       "      <td>47</td>\n",
       "      <td>41</td>\n",
       "      <td>64</td>\n",
       "      <td>54</td>\n",
       "      <td>47</td>\n",
       "      <td>69</td>\n",
       "      <td>...</td>\n",
       "      <td>52</td>\n",
       "      <td>150</td>\n",
       "      <td>165</td>\n",
       "      <td>2</td>\n",
       "      <td>183</td>\n",
       "      <td>185</td>\n",
       "      <td>10</td>\n",
       "      <td>183</td>\n",
       "      <td>187</td>\n",
       "      <td>0</td>\n",
       "    </tr>\n",
       "    <tr>\n",
       "      <th>3</th>\n",
       "      <td>217</td>\n",
       "      <td>222</td>\n",
       "      <td>221</td>\n",
       "      <td>220</td>\n",
       "      <td>225</td>\n",
       "      <td>224</td>\n",
       "      <td>237</td>\n",
       "      <td>235</td>\n",
       "      <td>235</td>\n",
       "      <td>239</td>\n",
       "      <td>...</td>\n",
       "      <td>208</td>\n",
       "      <td>210</td>\n",
       "      <td>210</td>\n",
       "      <td>218</td>\n",
       "      <td>220</td>\n",
       "      <td>219</td>\n",
       "      <td>207</td>\n",
       "      <td>212</td>\n",
       "      <td>215</td>\n",
       "      <td>0</td>\n",
       "    </tr>\n",
       "    <tr>\n",
       "      <th>4</th>\n",
       "      <td>72</td>\n",
       "      <td>109</td>\n",
       "      <td>137</td>\n",
       "      <td>83</td>\n",
       "      <td>120</td>\n",
       "      <td>148</td>\n",
       "      <td>48</td>\n",
       "      <td>87</td>\n",
       "      <td>115</td>\n",
       "      <td>90</td>\n",
       "      <td>...</td>\n",
       "      <td>82</td>\n",
       "      <td>105</td>\n",
       "      <td>120</td>\n",
       "      <td>59</td>\n",
       "      <td>91</td>\n",
       "      <td>102</td>\n",
       "      <td>64</td>\n",
       "      <td>90</td>\n",
       "      <td>102</td>\n",
       "      <td>0</td>\n",
       "    </tr>\n",
       "  </tbody>\n",
       "</table>\n",
       "<p>5 rows × 7501 columns</p>\n",
       "</div>"
      ],
      "text/plain": [
       "   pixel_0  pixel_1  pixel_2  pixel_3  pixel_4  pixel_5  pixel_6  pixel_7  \\\n",
       "0       92      169      208      100      177      216      104      182   \n",
       "1       43       43       39       64       58       55       36       40   \n",
       "2       53       45       38       61       47       41       64       54   \n",
       "3      217      222      221      220      225      224      237      235   \n",
       "4       72      109      137       83      120      148       48       87   \n",
       "\n",
       "   pixel_8  pixel_9  ...  pixel_7491  pixel_7492  pixel_7493  pixel_7494  \\\n",
       "0      225      110  ...           0           2           2           0   \n",
       "1       35       44  ...          47          53          70          52   \n",
       "2       47       69  ...          52         150         165           2   \n",
       "3      235      239  ...         208         210         210         218   \n",
       "4      115       90  ...          82         105         120          59   \n",
       "\n",
       "   pixel_7495  pixel_7496  pixel_7497  pixel_7498  pixel_7499  label  \n",
       "0           2           2           0           2           2      0  \n",
       "1          57          75          20          26          39      0  \n",
       "2         183         185          10         183         187      0  \n",
       "3         220         219         207         212         215      0  \n",
       "4          91         102          64          90         102      0  \n",
       "\n",
       "[5 rows x 7501 columns]"
      ]
     },
     "execution_count": 3,
     "metadata": {},
     "output_type": "execute_result"
    }
   ],
   "source": [
    "df2.head()"
   ]
  },
  {
   "cell_type": "code",
   "execution_count": 4,
   "metadata": {},
   "outputs": [
    {
     "data": {
      "text/html": [
       "<div>\n",
       "<style scoped>\n",
       "    .dataframe tbody tr th:only-of-type {\n",
       "        vertical-align: middle;\n",
       "    }\n",
       "\n",
       "    .dataframe tbody tr th {\n",
       "        vertical-align: top;\n",
       "    }\n",
       "\n",
       "    .dataframe thead th {\n",
       "        text-align: right;\n",
       "    }\n",
       "</style>\n",
       "<table border=\"1\" class=\"dataframe\">\n",
       "  <thead>\n",
       "    <tr style=\"text-align: right;\">\n",
       "      <th></th>\n",
       "      <th>pixel_0</th>\n",
       "      <th>pixel_1</th>\n",
       "      <th>pixel_2</th>\n",
       "      <th>pixel_3</th>\n",
       "      <th>pixel_4</th>\n",
       "      <th>pixel_5</th>\n",
       "      <th>pixel_6</th>\n",
       "      <th>pixel_7</th>\n",
       "      <th>pixel_8</th>\n",
       "      <th>pixel_9</th>\n",
       "      <th>...</th>\n",
       "      <th>pixel_7491</th>\n",
       "      <th>pixel_7492</th>\n",
       "      <th>pixel_7493</th>\n",
       "      <th>pixel_7494</th>\n",
       "      <th>pixel_7495</th>\n",
       "      <th>pixel_7496</th>\n",
       "      <th>pixel_7497</th>\n",
       "      <th>pixel_7498</th>\n",
       "      <th>pixel_7499</th>\n",
       "      <th>label</th>\n",
       "    </tr>\n",
       "  </thead>\n",
       "  <tbody>\n",
       "    <tr>\n",
       "      <th>14149</th>\n",
       "      <td>43</td>\n",
       "      <td>80</td>\n",
       "      <td>42</td>\n",
       "      <td>30</td>\n",
       "      <td>82</td>\n",
       "      <td>41</td>\n",
       "      <td>28</td>\n",
       "      <td>76</td>\n",
       "      <td>47</td>\n",
       "      <td>19</td>\n",
       "      <td>...</td>\n",
       "      <td>87</td>\n",
       "      <td>156</td>\n",
       "      <td>101</td>\n",
       "      <td>66</td>\n",
       "      <td>142</td>\n",
       "      <td>106</td>\n",
       "      <td>64</td>\n",
       "      <td>114</td>\n",
       "      <td>76</td>\n",
       "      <td>1</td>\n",
       "    </tr>\n",
       "    <tr>\n",
       "      <th>8946</th>\n",
       "      <td>20</td>\n",
       "      <td>58</td>\n",
       "      <td>120</td>\n",
       "      <td>4</td>\n",
       "      <td>53</td>\n",
       "      <td>119</td>\n",
       "      <td>6</td>\n",
       "      <td>51</td>\n",
       "      <td>119</td>\n",
       "      <td>3</td>\n",
       "      <td>...</td>\n",
       "      <td>77</td>\n",
       "      <td>71</td>\n",
       "      <td>72</td>\n",
       "      <td>75</td>\n",
       "      <td>72</td>\n",
       "      <td>68</td>\n",
       "      <td>70</td>\n",
       "      <td>74</td>\n",
       "      <td>69</td>\n",
       "      <td>0</td>\n",
       "    </tr>\n",
       "    <tr>\n",
       "      <th>22378</th>\n",
       "      <td>182</td>\n",
       "      <td>186</td>\n",
       "      <td>187</td>\n",
       "      <td>187</td>\n",
       "      <td>188</td>\n",
       "      <td>191</td>\n",
       "      <td>202</td>\n",
       "      <td>202</td>\n",
       "      <td>202</td>\n",
       "      <td>207</td>\n",
       "      <td>...</td>\n",
       "      <td>35</td>\n",
       "      <td>41</td>\n",
       "      <td>36</td>\n",
       "      <td>32</td>\n",
       "      <td>37</td>\n",
       "      <td>35</td>\n",
       "      <td>19</td>\n",
       "      <td>24</td>\n",
       "      <td>22</td>\n",
       "      <td>1</td>\n",
       "    </tr>\n",
       "    <tr>\n",
       "      <th>12162</th>\n",
       "      <td>24</td>\n",
       "      <td>31</td>\n",
       "      <td>42</td>\n",
       "      <td>34</td>\n",
       "      <td>55</td>\n",
       "      <td>86</td>\n",
       "      <td>104</td>\n",
       "      <td>135</td>\n",
       "      <td>160</td>\n",
       "      <td>106</td>\n",
       "      <td>...</td>\n",
       "      <td>88</td>\n",
       "      <td>95</td>\n",
       "      <td>120</td>\n",
       "      <td>70</td>\n",
       "      <td>75</td>\n",
       "      <td>95</td>\n",
       "      <td>93</td>\n",
       "      <td>98</td>\n",
       "      <td>112</td>\n",
       "      <td>0</td>\n",
       "    </tr>\n",
       "    <tr>\n",
       "      <th>4879</th>\n",
       "      <td>110</td>\n",
       "      <td>126</td>\n",
       "      <td>149</td>\n",
       "      <td>114</td>\n",
       "      <td>130</td>\n",
       "      <td>152</td>\n",
       "      <td>113</td>\n",
       "      <td>134</td>\n",
       "      <td>156</td>\n",
       "      <td>108</td>\n",
       "      <td>...</td>\n",
       "      <td>23</td>\n",
       "      <td>77</td>\n",
       "      <td>137</td>\n",
       "      <td>37</td>\n",
       "      <td>91</td>\n",
       "      <td>151</td>\n",
       "      <td>32</td>\n",
       "      <td>86</td>\n",
       "      <td>146</td>\n",
       "      <td>0</td>\n",
       "    </tr>\n",
       "    <tr>\n",
       "      <th>...</th>\n",
       "      <td>...</td>\n",
       "      <td>...</td>\n",
       "      <td>...</td>\n",
       "      <td>...</td>\n",
       "      <td>...</td>\n",
       "      <td>...</td>\n",
       "      <td>...</td>\n",
       "      <td>...</td>\n",
       "      <td>...</td>\n",
       "      <td>...</td>\n",
       "      <td>...</td>\n",
       "      <td>...</td>\n",
       "      <td>...</td>\n",
       "      <td>...</td>\n",
       "      <td>...</td>\n",
       "      <td>...</td>\n",
       "      <td>...</td>\n",
       "      <td>...</td>\n",
       "      <td>...</td>\n",
       "      <td>...</td>\n",
       "      <td>...</td>\n",
       "    </tr>\n",
       "    <tr>\n",
       "      <th>13123</th>\n",
       "      <td>88</td>\n",
       "      <td>92</td>\n",
       "      <td>84</td>\n",
       "      <td>83</td>\n",
       "      <td>85</td>\n",
       "      <td>91</td>\n",
       "      <td>79</td>\n",
       "      <td>75</td>\n",
       "      <td>71</td>\n",
       "      <td>102</td>\n",
       "      <td>...</td>\n",
       "      <td>22</td>\n",
       "      <td>60</td>\n",
       "      <td>30</td>\n",
       "      <td>32</td>\n",
       "      <td>65</td>\n",
       "      <td>38</td>\n",
       "      <td>29</td>\n",
       "      <td>55</td>\n",
       "      <td>29</td>\n",
       "      <td>1</td>\n",
       "    </tr>\n",
       "    <tr>\n",
       "      <th>19648</th>\n",
       "      <td>129</td>\n",
       "      <td>125</td>\n",
       "      <td>130</td>\n",
       "      <td>131</td>\n",
       "      <td>125</td>\n",
       "      <td>136</td>\n",
       "      <td>166</td>\n",
       "      <td>161</td>\n",
       "      <td>170</td>\n",
       "      <td>136</td>\n",
       "      <td>...</td>\n",
       "      <td>90</td>\n",
       "      <td>104</td>\n",
       "      <td>116</td>\n",
       "      <td>124</td>\n",
       "      <td>133</td>\n",
       "      <td>146</td>\n",
       "      <td>133</td>\n",
       "      <td>141</td>\n",
       "      <td>158</td>\n",
       "      <td>1</td>\n",
       "    </tr>\n",
       "    <tr>\n",
       "      <th>9845</th>\n",
       "      <td>114</td>\n",
       "      <td>119</td>\n",
       "      <td>134</td>\n",
       "      <td>116</td>\n",
       "      <td>121</td>\n",
       "      <td>136</td>\n",
       "      <td>119</td>\n",
       "      <td>124</td>\n",
       "      <td>139</td>\n",
       "      <td>117</td>\n",
       "      <td>...</td>\n",
       "      <td>52</td>\n",
       "      <td>51</td>\n",
       "      <td>61</td>\n",
       "      <td>41</td>\n",
       "      <td>40</td>\n",
       "      <td>50</td>\n",
       "      <td>47</td>\n",
       "      <td>46</td>\n",
       "      <td>55</td>\n",
       "      <td>0</td>\n",
       "    </tr>\n",
       "    <tr>\n",
       "      <th>10799</th>\n",
       "      <td>45</td>\n",
       "      <td>56</td>\n",
       "      <td>54</td>\n",
       "      <td>41</td>\n",
       "      <td>52</td>\n",
       "      <td>50</td>\n",
       "      <td>33</td>\n",
       "      <td>43</td>\n",
       "      <td>42</td>\n",
       "      <td>28</td>\n",
       "      <td>...</td>\n",
       "      <td>163</td>\n",
       "      <td>161</td>\n",
       "      <td>157</td>\n",
       "      <td>160</td>\n",
       "      <td>160</td>\n",
       "      <td>154</td>\n",
       "      <td>153</td>\n",
       "      <td>146</td>\n",
       "      <td>143</td>\n",
       "      <td>0</td>\n",
       "    </tr>\n",
       "    <tr>\n",
       "      <th>2732</th>\n",
       "      <td>43</td>\n",
       "      <td>80</td>\n",
       "      <td>114</td>\n",
       "      <td>44</td>\n",
       "      <td>83</td>\n",
       "      <td>111</td>\n",
       "      <td>47</td>\n",
       "      <td>80</td>\n",
       "      <td>113</td>\n",
       "      <td>45</td>\n",
       "      <td>...</td>\n",
       "      <td>105</td>\n",
       "      <td>140</td>\n",
       "      <td>181</td>\n",
       "      <td>89</td>\n",
       "      <td>132</td>\n",
       "      <td>174</td>\n",
       "      <td>82</td>\n",
       "      <td>119</td>\n",
       "      <td>156</td>\n",
       "      <td>0</td>\n",
       "    </tr>\n",
       "  </tbody>\n",
       "</table>\n",
       "<p>25000 rows × 7501 columns</p>\n",
       "</div>"
      ],
      "text/plain": [
       "       pixel_0  pixel_1  pixel_2  pixel_3  pixel_4  pixel_5  pixel_6  pixel_7  \\\n",
       "14149       43       80       42       30       82       41       28       76   \n",
       "8946        20       58      120        4       53      119        6       51   \n",
       "22378      182      186      187      187      188      191      202      202   \n",
       "12162       24       31       42       34       55       86      104      135   \n",
       "4879       110      126      149      114      130      152      113      134   \n",
       "...        ...      ...      ...      ...      ...      ...      ...      ...   \n",
       "13123       88       92       84       83       85       91       79       75   \n",
       "19648      129      125      130      131      125      136      166      161   \n",
       "9845       114      119      134      116      121      136      119      124   \n",
       "10799       45       56       54       41       52       50       33       43   \n",
       "2732        43       80      114       44       83      111       47       80   \n",
       "\n",
       "       pixel_8  pixel_9  ...  pixel_7491  pixel_7492  pixel_7493  pixel_7494  \\\n",
       "14149       47       19  ...          87         156         101          66   \n",
       "8946       119        3  ...          77          71          72          75   \n",
       "22378      202      207  ...          35          41          36          32   \n",
       "12162      160      106  ...          88          95         120          70   \n",
       "4879       156      108  ...          23          77         137          37   \n",
       "...        ...      ...  ...         ...         ...         ...         ...   \n",
       "13123       71      102  ...          22          60          30          32   \n",
       "19648      170      136  ...          90         104         116         124   \n",
       "9845       139      117  ...          52          51          61          41   \n",
       "10799       42       28  ...         163         161         157         160   \n",
       "2732       113       45  ...         105         140         181          89   \n",
       "\n",
       "       pixel_7495  pixel_7496  pixel_7497  pixel_7498  pixel_7499  label  \n",
       "14149         142         106          64         114          76      1  \n",
       "8946           72          68          70          74          69      0  \n",
       "22378          37          35          19          24          22      1  \n",
       "12162          75          95          93          98         112      0  \n",
       "4879           91         151          32          86         146      0  \n",
       "...           ...         ...         ...         ...         ...    ...  \n",
       "13123          65          38          29          55          29      1  \n",
       "19648         133         146         133         141         158      1  \n",
       "9845           40          50          47          46          55      0  \n",
       "10799         160         154         153         146         143      0  \n",
       "2732          132         174          82         119         156      0  \n",
       "\n",
       "[25000 rows x 7501 columns]"
      ]
     },
     "execution_count": 4,
     "metadata": {},
     "output_type": "execute_result"
    }
   ],
   "source": [
    "df2_suffled = df2.sample(frac=1,random_state=0)\n",
    "df2_suffled"
   ]
  },
  {
   "cell_type": "code",
   "execution_count": 5,
   "metadata": {},
   "outputs": [
    {
     "data": {
      "text/html": [
       "<div>\n",
       "<style scoped>\n",
       "    .dataframe tbody tr th:only-of-type {\n",
       "        vertical-align: middle;\n",
       "    }\n",
       "\n",
       "    .dataframe tbody tr th {\n",
       "        vertical-align: top;\n",
       "    }\n",
       "\n",
       "    .dataframe thead th {\n",
       "        text-align: right;\n",
       "    }\n",
       "</style>\n",
       "<table border=\"1\" class=\"dataframe\">\n",
       "  <thead>\n",
       "    <tr style=\"text-align: right;\">\n",
       "      <th></th>\n",
       "      <th>pixel_0</th>\n",
       "      <th>pixel_1</th>\n",
       "      <th>pixel_2</th>\n",
       "      <th>pixel_3</th>\n",
       "      <th>pixel_4</th>\n",
       "      <th>pixel_5</th>\n",
       "      <th>pixel_6</th>\n",
       "      <th>pixel_7</th>\n",
       "      <th>pixel_8</th>\n",
       "      <th>pixel_9</th>\n",
       "      <th>...</th>\n",
       "      <th>pixel_7491</th>\n",
       "      <th>pixel_7492</th>\n",
       "      <th>pixel_7493</th>\n",
       "      <th>pixel_7494</th>\n",
       "      <th>pixel_7495</th>\n",
       "      <th>pixel_7496</th>\n",
       "      <th>pixel_7497</th>\n",
       "      <th>pixel_7498</th>\n",
       "      <th>pixel_7499</th>\n",
       "      <th>label</th>\n",
       "    </tr>\n",
       "  </thead>\n",
       "  <tbody>\n",
       "    <tr>\n",
       "      <th>0</th>\n",
       "      <td>43</td>\n",
       "      <td>80</td>\n",
       "      <td>42</td>\n",
       "      <td>30</td>\n",
       "      <td>82</td>\n",
       "      <td>41</td>\n",
       "      <td>28</td>\n",
       "      <td>76</td>\n",
       "      <td>47</td>\n",
       "      <td>19</td>\n",
       "      <td>...</td>\n",
       "      <td>87</td>\n",
       "      <td>156</td>\n",
       "      <td>101</td>\n",
       "      <td>66</td>\n",
       "      <td>142</td>\n",
       "      <td>106</td>\n",
       "      <td>64</td>\n",
       "      <td>114</td>\n",
       "      <td>76</td>\n",
       "      <td>1</td>\n",
       "    </tr>\n",
       "    <tr>\n",
       "      <th>1</th>\n",
       "      <td>20</td>\n",
       "      <td>58</td>\n",
       "      <td>120</td>\n",
       "      <td>4</td>\n",
       "      <td>53</td>\n",
       "      <td>119</td>\n",
       "      <td>6</td>\n",
       "      <td>51</td>\n",
       "      <td>119</td>\n",
       "      <td>3</td>\n",
       "      <td>...</td>\n",
       "      <td>77</td>\n",
       "      <td>71</td>\n",
       "      <td>72</td>\n",
       "      <td>75</td>\n",
       "      <td>72</td>\n",
       "      <td>68</td>\n",
       "      <td>70</td>\n",
       "      <td>74</td>\n",
       "      <td>69</td>\n",
       "      <td>0</td>\n",
       "    </tr>\n",
       "    <tr>\n",
       "      <th>2</th>\n",
       "      <td>182</td>\n",
       "      <td>186</td>\n",
       "      <td>187</td>\n",
       "      <td>187</td>\n",
       "      <td>188</td>\n",
       "      <td>191</td>\n",
       "      <td>202</td>\n",
       "      <td>202</td>\n",
       "      <td>202</td>\n",
       "      <td>207</td>\n",
       "      <td>...</td>\n",
       "      <td>35</td>\n",
       "      <td>41</td>\n",
       "      <td>36</td>\n",
       "      <td>32</td>\n",
       "      <td>37</td>\n",
       "      <td>35</td>\n",
       "      <td>19</td>\n",
       "      <td>24</td>\n",
       "      <td>22</td>\n",
       "      <td>1</td>\n",
       "    </tr>\n",
       "    <tr>\n",
       "      <th>3</th>\n",
       "      <td>24</td>\n",
       "      <td>31</td>\n",
       "      <td>42</td>\n",
       "      <td>34</td>\n",
       "      <td>55</td>\n",
       "      <td>86</td>\n",
       "      <td>104</td>\n",
       "      <td>135</td>\n",
       "      <td>160</td>\n",
       "      <td>106</td>\n",
       "      <td>...</td>\n",
       "      <td>88</td>\n",
       "      <td>95</td>\n",
       "      <td>120</td>\n",
       "      <td>70</td>\n",
       "      <td>75</td>\n",
       "      <td>95</td>\n",
       "      <td>93</td>\n",
       "      <td>98</td>\n",
       "      <td>112</td>\n",
       "      <td>0</td>\n",
       "    </tr>\n",
       "    <tr>\n",
       "      <th>4</th>\n",
       "      <td>110</td>\n",
       "      <td>126</td>\n",
       "      <td>149</td>\n",
       "      <td>114</td>\n",
       "      <td>130</td>\n",
       "      <td>152</td>\n",
       "      <td>113</td>\n",
       "      <td>134</td>\n",
       "      <td>156</td>\n",
       "      <td>108</td>\n",
       "      <td>...</td>\n",
       "      <td>23</td>\n",
       "      <td>77</td>\n",
       "      <td>137</td>\n",
       "      <td>37</td>\n",
       "      <td>91</td>\n",
       "      <td>151</td>\n",
       "      <td>32</td>\n",
       "      <td>86</td>\n",
       "      <td>146</td>\n",
       "      <td>0</td>\n",
       "    </tr>\n",
       "  </tbody>\n",
       "</table>\n",
       "<p>5 rows × 7501 columns</p>\n",
       "</div>"
      ],
      "text/plain": [
       "   pixel_0  pixel_1  pixel_2  pixel_3  pixel_4  pixel_5  pixel_6  pixel_7  \\\n",
       "0       43       80       42       30       82       41       28       76   \n",
       "1       20       58      120        4       53      119        6       51   \n",
       "2      182      186      187      187      188      191      202      202   \n",
       "3       24       31       42       34       55       86      104      135   \n",
       "4      110      126      149      114      130      152      113      134   \n",
       "\n",
       "   pixel_8  pixel_9  ...  pixel_7491  pixel_7492  pixel_7493  pixel_7494  \\\n",
       "0       47       19  ...          87         156         101          66   \n",
       "1      119        3  ...          77          71          72          75   \n",
       "2      202      207  ...          35          41          36          32   \n",
       "3      160      106  ...          88          95         120          70   \n",
       "4      156      108  ...          23          77         137          37   \n",
       "\n",
       "   pixel_7495  pixel_7496  pixel_7497  pixel_7498  pixel_7499  label  \n",
       "0         142         106          64         114          76      1  \n",
       "1          72          68          70          74          69      0  \n",
       "2          37          35          19          24          22      1  \n",
       "3          75          95          93          98         112      0  \n",
       "4          91         151          32          86         146      0  \n",
       "\n",
       "[5 rows x 7501 columns]"
      ]
     },
     "execution_count": 5,
     "metadata": {},
     "output_type": "execute_result"
    }
   ],
   "source": [
    "test = df2_suffled.iloc[:5000]\n",
    "test.reset_index(drop=True,inplace=True)\n",
    "test.head()"
   ]
  },
  {
   "cell_type": "code",
   "execution_count": 6,
   "metadata": {},
   "outputs": [
    {
     "data": {
      "text/html": [
       "<div>\n",
       "<style scoped>\n",
       "    .dataframe tbody tr th:only-of-type {\n",
       "        vertical-align: middle;\n",
       "    }\n",
       "\n",
       "    .dataframe tbody tr th {\n",
       "        vertical-align: top;\n",
       "    }\n",
       "\n",
       "    .dataframe thead th {\n",
       "        text-align: right;\n",
       "    }\n",
       "</style>\n",
       "<table border=\"1\" class=\"dataframe\">\n",
       "  <thead>\n",
       "    <tr style=\"text-align: right;\">\n",
       "      <th></th>\n",
       "      <th>pixel_0</th>\n",
       "      <th>pixel_1</th>\n",
       "      <th>pixel_2</th>\n",
       "      <th>pixel_3</th>\n",
       "      <th>pixel_4</th>\n",
       "      <th>pixel_5</th>\n",
       "      <th>pixel_6</th>\n",
       "      <th>pixel_7</th>\n",
       "      <th>pixel_8</th>\n",
       "      <th>pixel_9</th>\n",
       "      <th>...</th>\n",
       "      <th>pixel_7491</th>\n",
       "      <th>pixel_7492</th>\n",
       "      <th>pixel_7493</th>\n",
       "      <th>pixel_7494</th>\n",
       "      <th>pixel_7495</th>\n",
       "      <th>pixel_7496</th>\n",
       "      <th>pixel_7497</th>\n",
       "      <th>pixel_7498</th>\n",
       "      <th>pixel_7499</th>\n",
       "      <th>label</th>\n",
       "    </tr>\n",
       "  </thead>\n",
       "  <tbody>\n",
       "    <tr>\n",
       "      <th>0</th>\n",
       "      <td>218</td>\n",
       "      <td>227</td>\n",
       "      <td>187</td>\n",
       "      <td>224</td>\n",
       "      <td>235</td>\n",
       "      <td>195</td>\n",
       "      <td>214</td>\n",
       "      <td>227</td>\n",
       "      <td>189</td>\n",
       "      <td>203</td>\n",
       "      <td>...</td>\n",
       "      <td>204</td>\n",
       "      <td>208</td>\n",
       "      <td>159</td>\n",
       "      <td>205</td>\n",
       "      <td>209</td>\n",
       "      <td>160</td>\n",
       "      <td>202</td>\n",
       "      <td>206</td>\n",
       "      <td>157</td>\n",
       "      <td>0</td>\n",
       "    </tr>\n",
       "    <tr>\n",
       "      <th>1</th>\n",
       "      <td>50</td>\n",
       "      <td>70</td>\n",
       "      <td>67</td>\n",
       "      <td>48</td>\n",
       "      <td>78</td>\n",
       "      <td>73</td>\n",
       "      <td>56</td>\n",
       "      <td>98</td>\n",
       "      <td>87</td>\n",
       "      <td>64</td>\n",
       "      <td>...</td>\n",
       "      <td>43</td>\n",
       "      <td>53</td>\n",
       "      <td>83</td>\n",
       "      <td>11</td>\n",
       "      <td>29</td>\n",
       "      <td>59</td>\n",
       "      <td>38</td>\n",
       "      <td>63</td>\n",
       "      <td>97</td>\n",
       "      <td>1</td>\n",
       "    </tr>\n",
       "    <tr>\n",
       "      <th>2</th>\n",
       "      <td>113</td>\n",
       "      <td>94</td>\n",
       "      <td>77</td>\n",
       "      <td>110</td>\n",
       "      <td>91</td>\n",
       "      <td>74</td>\n",
       "      <td>117</td>\n",
       "      <td>98</td>\n",
       "      <td>81</td>\n",
       "      <td>108</td>\n",
       "      <td>...</td>\n",
       "      <td>55</td>\n",
       "      <td>60</td>\n",
       "      <td>85</td>\n",
       "      <td>59</td>\n",
       "      <td>57</td>\n",
       "      <td>87</td>\n",
       "      <td>61</td>\n",
       "      <td>65</td>\n",
       "      <td>97</td>\n",
       "      <td>1</td>\n",
       "    </tr>\n",
       "    <tr>\n",
       "      <th>3</th>\n",
       "      <td>134</td>\n",
       "      <td>146</td>\n",
       "      <td>152</td>\n",
       "      <td>125</td>\n",
       "      <td>137</td>\n",
       "      <td>143</td>\n",
       "      <td>130</td>\n",
       "      <td>138</td>\n",
       "      <td>145</td>\n",
       "      <td>144</td>\n",
       "      <td>...</td>\n",
       "      <td>194</td>\n",
       "      <td>198</td>\n",
       "      <td>203</td>\n",
       "      <td>204</td>\n",
       "      <td>207</td>\n",
       "      <td>211</td>\n",
       "      <td>191</td>\n",
       "      <td>193</td>\n",
       "      <td>201</td>\n",
       "      <td>1</td>\n",
       "    </tr>\n",
       "    <tr>\n",
       "      <th>4</th>\n",
       "      <td>1</td>\n",
       "      <td>1</td>\n",
       "      <td>1</td>\n",
       "      <td>1</td>\n",
       "      <td>1</td>\n",
       "      <td>1</td>\n",
       "      <td>1</td>\n",
       "      <td>1</td>\n",
       "      <td>1</td>\n",
       "      <td>1</td>\n",
       "      <td>...</td>\n",
       "      <td>1</td>\n",
       "      <td>1</td>\n",
       "      <td>1</td>\n",
       "      <td>1</td>\n",
       "      <td>1</td>\n",
       "      <td>1</td>\n",
       "      <td>1</td>\n",
       "      <td>1</td>\n",
       "      <td>1</td>\n",
       "      <td>1</td>\n",
       "    </tr>\n",
       "  </tbody>\n",
       "</table>\n",
       "<p>5 rows × 7501 columns</p>\n",
       "</div>"
      ],
      "text/plain": [
       "   pixel_0  pixel_1  pixel_2  pixel_3  pixel_4  pixel_5  pixel_6  pixel_7  \\\n",
       "0      218      227      187      224      235      195      214      227   \n",
       "1       50       70       67       48       78       73       56       98   \n",
       "2      113       94       77      110       91       74      117       98   \n",
       "3      134      146      152      125      137      143      130      138   \n",
       "4        1        1        1        1        1        1        1        1   \n",
       "\n",
       "   pixel_8  pixel_9  ...  pixel_7491  pixel_7492  pixel_7493  pixel_7494  \\\n",
       "0      189      203  ...         204         208         159         205   \n",
       "1       87       64  ...          43          53          83          11   \n",
       "2       81      108  ...          55          60          85          59   \n",
       "3      145      144  ...         194         198         203         204   \n",
       "4        1        1  ...           1           1           1           1   \n",
       "\n",
       "   pixel_7495  pixel_7496  pixel_7497  pixel_7498  pixel_7499  label  \n",
       "0         209         160         202         206         157      0  \n",
       "1          29          59          38          63          97      1  \n",
       "2          57          87          61          65          97      1  \n",
       "3         207         211         191         193         201      1  \n",
       "4           1           1           1           1           1      1  \n",
       "\n",
       "[5 rows x 7501 columns]"
      ]
     },
     "execution_count": 6,
     "metadata": {},
     "output_type": "execute_result"
    }
   ],
   "source": [
    "train = df2_suffled.iloc[5000:]\n",
    "train.reset_index(drop=True,inplace=True)\n",
    "train.head()"
   ]
  },
  {
   "cell_type": "code",
   "execution_count": 7,
   "metadata": {},
   "outputs": [],
   "source": [
    "train_data = train.drop('label',axis=1)\n",
    "train_target = train['label']"
   ]
  },
  {
   "cell_type": "code",
   "execution_count": 8,
   "metadata": {},
   "outputs": [
    {
     "data": {
      "text/plain": [
       "<matplotlib.image.AxesImage at 0x231510de700>"
      ]
     },
     "execution_count": 8,
     "metadata": {},
     "output_type": "execute_result"
    },
    {
     "data": {
      "image/png": "[encoded data removed]",
      "text/plain": [
       "<Figure size 432x288 with 1 Axes>"
      ]
     },
     "metadata": {
      "needs_background": "light"
     },
     "output_type": "display_data"
    }
   ],
   "source": [
    "plt.imshow(np.flip(np.array(train_data.loc[1]).reshape(50,50,3),2))"
   ]
  },
  {
   "cell_type": "code",
   "execution_count": 8,
   "metadata": {},
   "outputs": [],
   "source": [
    "test_data = test.drop('label',axis=1)\n",
    "test_target = test['label']"
   ]
  },
  {
   "cell_type": "code",
   "execution_count": 28,
   "metadata": {},
   "outputs": [],
   "source": [
    "sc= StandardScaler()\n",
    "scaled_train = sc.fit_transform(train_data)\n",
    "scaled_test = sc.transform(test_data)"
   ]
  },
  {
   "cell_type": "code",
   "execution_count": 34,
   "metadata": {},
   "outputs": [
    {
     "data": {
      "text/plain": [
       "RandomForestClassifier()"
      ]
     },
     "execution_count": 34,
     "metadata": {},
     "output_type": "execute_result"
    }
   ],
   "source": [
    "rfc = RandomForestClassifier()\n",
    "rfc.fit(scaled_train,train_target)\n",
    "rfc"
   ]
  },
  {
   "cell_type": "code",
   "execution_count": 35,
   "metadata": {},
   "outputs": [],
   "source": [
    "y_pred = rfc.predict(scaled_test)"
   ]
  },
  {
   "cell_type": "code",
   "execution_count": 36,
   "metadata": {},
   "outputs": [
    {
     "name": "stdout",
     "output_type": "stream",
     "text": [
      "              precision    recall  f1-score   support\n",
      "\n",
      "           0       0.65      0.70      0.67      2496\n",
      "           1       0.67      0.62      0.64      2504\n",
      "\n",
      "    accuracy                           0.66      5000\n",
      "   macro avg       0.66      0.66      0.66      5000\n",
      "weighted avg       0.66      0.66      0.66      5000\n",
      "\n"
     ]
    }
   ],
   "source": [
    "print (classification_report(test_target,y_pred))"
   ]
  },
  {
   "cell_type": "code",
   "execution_count": 37,
   "metadata": {},
   "outputs": [
    {
     "data": {
      "text/plain": [
       "0.6586"
      ]
     },
     "execution_count": 37,
     "metadata": {},
     "output_type": "execute_result"
    }
   ],
   "source": [
    "metrics.accuracy_score(test_target,y_pred)"
   ]
  },
  {
   "cell_type": "code",
   "execution_count": 44,
   "metadata": {},
   "outputs": [
    {
     "data": {
      "text/plain": [
       "Text(33.0, 0.5, 'Actual')"
      ]
     },
     "execution_count": 44,
     "metadata": {},
     "output_type": "execute_result"
    },
    {
     "data": {
      "image/png": "[encoded data removed]",
      "text/plain": [
       "<Figure size 432x288 with 2 Axes>"
      ]
     },
     "metadata": {
      "needs_background": "light"
     },
     "output_type": "display_data"
    }
   ],
   "source": [
    "cm = confusion_matrix(test_target,y_pred)\n",
    "sns.heatmap(cm,annot=True,annot_kws = {'size':15},fmt=\".1f\")\n",
    "plt.xlabel(\"Predict\")\n",
    "plt.ylabel(\"Actual\")"
   ]
  },
  {
   "cell_type": "code",
   "execution_count": 13,
   "metadata": {},
   "outputs": [],
   "source": [
    "train_data_fliped = []\n",
    "train_label_fliped = []\n",
    "for img in os.listdir(r'C:\\Users\\anitay\\Desktop\\Ors folder\\train'):\n",
    "    label = label_img(img)\n",
    "    path = os.path.join(r'C:\\Users\\anitay\\Desktop\\Ors folder\\train',img)\n",
    "    img = cv2.resize(cv2.imread(path),(50,50))\n",
    "    img = cv2.flip(img,1)\n",
    "    train_data_fliped.append(np.array(img).flatten())\n",
    "    train_label_fliped.append(label)"
   ]
  },
  {
   "cell_type": "code",
   "execution_count": 15,
   "metadata": {},
   "outputs": [
    {
     "data": {
      "text/html": [
       "<div>\n",
       "<style scoped>\n",
       "    .dataframe tbody tr th:only-of-type {\n",
       "        vertical-align: middle;\n",
       "    }\n",
       "\n",
       "    .dataframe tbody tr th {\n",
       "        vertical-align: top;\n",
       "    }\n",
       "\n",
       "    .dataframe thead th {\n",
       "        text-align: right;\n",
       "    }\n",
       "</style>\n",
       "<table border=\"1\" class=\"dataframe\">\n",
       "  <thead>\n",
       "    <tr style=\"text-align: right;\">\n",
       "      <th></th>\n",
       "      <th>pixel_0</th>\n",
       "      <th>pixel_1</th>\n",
       "      <th>pixel_2</th>\n",
       "      <th>pixel_3</th>\n",
       "      <th>pixel_4</th>\n",
       "      <th>pixel_5</th>\n",
       "      <th>pixel_6</th>\n",
       "      <th>pixel_7</th>\n",
       "      <th>pixel_8</th>\n",
       "      <th>pixel_9</th>\n",
       "      <th>...</th>\n",
       "      <th>pixel_7491</th>\n",
       "      <th>pixel_7492</th>\n",
       "      <th>pixel_7493</th>\n",
       "      <th>pixel_7494</th>\n",
       "      <th>pixel_7495</th>\n",
       "      <th>pixel_7496</th>\n",
       "      <th>pixel_7497</th>\n",
       "      <th>pixel_7498</th>\n",
       "      <th>pixel_7499</th>\n",
       "      <th>label</th>\n",
       "    </tr>\n",
       "  </thead>\n",
       "  <tbody>\n",
       "    <tr>\n",
       "      <th>0</th>\n",
       "      <td>122</td>\n",
       "      <td>204</td>\n",
       "      <td>245</td>\n",
       "      <td>133</td>\n",
       "      <td>212</td>\n",
       "      <td>247</td>\n",
       "      <td>146</td>\n",
       "      <td>219</td>\n",
       "      <td>249</td>\n",
       "      <td>155</td>\n",
       "      <td>...</td>\n",
       "      <td>60</td>\n",
       "      <td>132</td>\n",
       "      <td>166</td>\n",
       "      <td>62</td>\n",
       "      <td>129</td>\n",
       "      <td>160</td>\n",
       "      <td>57</td>\n",
       "      <td>124</td>\n",
       "      <td>155</td>\n",
       "      <td>0</td>\n",
       "    </tr>\n",
       "    <tr>\n",
       "      <th>1</th>\n",
       "      <td>167</td>\n",
       "      <td>195</td>\n",
       "      <td>199</td>\n",
       "      <td>107</td>\n",
       "      <td>93</td>\n",
       "      <td>88</td>\n",
       "      <td>121</td>\n",
       "      <td>95</td>\n",
       "      <td>88</td>\n",
       "      <td>116</td>\n",
       "      <td>...</td>\n",
       "      <td>20</td>\n",
       "      <td>18</td>\n",
       "      <td>20</td>\n",
       "      <td>22</td>\n",
       "      <td>21</td>\n",
       "      <td>23</td>\n",
       "      <td>23</td>\n",
       "      <td>22</td>\n",
       "      <td>24</td>\n",
       "      <td>0</td>\n",
       "    </tr>\n",
       "    <tr>\n",
       "      <th>2</th>\n",
       "      <td>159</td>\n",
       "      <td>163</td>\n",
       "      <td>131</td>\n",
       "      <td>150</td>\n",
       "      <td>158</td>\n",
       "      <td>129</td>\n",
       "      <td>157</td>\n",
       "      <td>158</td>\n",
       "      <td>124</td>\n",
       "      <td>162</td>\n",
       "      <td>...</td>\n",
       "      <td>97</td>\n",
       "      <td>132</td>\n",
       "      <td>146</td>\n",
       "      <td>106</td>\n",
       "      <td>143</td>\n",
       "      <td>157</td>\n",
       "      <td>111</td>\n",
       "      <td>155</td>\n",
       "      <td>168</td>\n",
       "      <td>0</td>\n",
       "    </tr>\n",
       "    <tr>\n",
       "      <th>3</th>\n",
       "      <td>241</td>\n",
       "      <td>236</td>\n",
       "      <td>235</td>\n",
       "      <td>250</td>\n",
       "      <td>245</td>\n",
       "      <td>244</td>\n",
       "      <td>232</td>\n",
       "      <td>230</td>\n",
       "      <td>229</td>\n",
       "      <td>232</td>\n",
       "      <td>...</td>\n",
       "      <td>202</td>\n",
       "      <td>199</td>\n",
       "      <td>211</td>\n",
       "      <td>202</td>\n",
       "      <td>195</td>\n",
       "      <td>206</td>\n",
       "      <td>213</td>\n",
       "      <td>209</td>\n",
       "      <td>211</td>\n",
       "      <td>0</td>\n",
       "    </tr>\n",
       "    <tr>\n",
       "      <th>4</th>\n",
       "      <td>68</td>\n",
       "      <td>87</td>\n",
       "      <td>130</td>\n",
       "      <td>26</td>\n",
       "      <td>55</td>\n",
       "      <td>116</td>\n",
       "      <td>0</td>\n",
       "      <td>15</td>\n",
       "      <td>73</td>\n",
       "      <td>57</td>\n",
       "      <td>...</td>\n",
       "      <td>39</td>\n",
       "      <td>56</td>\n",
       "      <td>65</td>\n",
       "      <td>44</td>\n",
       "      <td>57</td>\n",
       "      <td>65</td>\n",
       "      <td>46</td>\n",
       "      <td>56</td>\n",
       "      <td>63</td>\n",
       "      <td>0</td>\n",
       "    </tr>\n",
       "    <tr>\n",
       "      <th>...</th>\n",
       "      <td>...</td>\n",
       "      <td>...</td>\n",
       "      <td>...</td>\n",
       "      <td>...</td>\n",
       "      <td>...</td>\n",
       "      <td>...</td>\n",
       "      <td>...</td>\n",
       "      <td>...</td>\n",
       "      <td>...</td>\n",
       "      <td>...</td>\n",
       "      <td>...</td>\n",
       "      <td>...</td>\n",
       "      <td>...</td>\n",
       "      <td>...</td>\n",
       "      <td>...</td>\n",
       "      <td>...</td>\n",
       "      <td>...</td>\n",
       "      <td>...</td>\n",
       "      <td>...</td>\n",
       "      <td>...</td>\n",
       "      <td>...</td>\n",
       "    </tr>\n",
       "    <tr>\n",
       "      <th>24995</th>\n",
       "      <td>155</td>\n",
       "      <td>190</td>\n",
       "      <td>200</td>\n",
       "      <td>155</td>\n",
       "      <td>190</td>\n",
       "      <td>200</td>\n",
       "      <td>154</td>\n",
       "      <td>189</td>\n",
       "      <td>199</td>\n",
       "      <td>153</td>\n",
       "      <td>...</td>\n",
       "      <td>48</td>\n",
       "      <td>71</td>\n",
       "      <td>73</td>\n",
       "      <td>48</td>\n",
       "      <td>71</td>\n",
       "      <td>73</td>\n",
       "      <td>47</td>\n",
       "      <td>70</td>\n",
       "      <td>72</td>\n",
       "      <td>1</td>\n",
       "    </tr>\n",
       "    <tr>\n",
       "      <th>24996</th>\n",
       "      <td>35</td>\n",
       "      <td>74</td>\n",
       "      <td>88</td>\n",
       "      <td>47</td>\n",
       "      <td>116</td>\n",
       "      <td>113</td>\n",
       "      <td>38</td>\n",
       "      <td>79</td>\n",
       "      <td>102</td>\n",
       "      <td>93</td>\n",
       "      <td>...</td>\n",
       "      <td>50</td>\n",
       "      <td>78</td>\n",
       "      <td>102</td>\n",
       "      <td>68</td>\n",
       "      <td>94</td>\n",
       "      <td>110</td>\n",
       "      <td>54</td>\n",
       "      <td>77</td>\n",
       "      <td>100</td>\n",
       "      <td>1</td>\n",
       "    </tr>\n",
       "    <tr>\n",
       "      <th>24997</th>\n",
       "      <td>60</td>\n",
       "      <td>68</td>\n",
       "      <td>75</td>\n",
       "      <td>61</td>\n",
       "      <td>70</td>\n",
       "      <td>77</td>\n",
       "      <td>54</td>\n",
       "      <td>57</td>\n",
       "      <td>62</td>\n",
       "      <td>47</td>\n",
       "      <td>...</td>\n",
       "      <td>71</td>\n",
       "      <td>91</td>\n",
       "      <td>120</td>\n",
       "      <td>96</td>\n",
       "      <td>142</td>\n",
       "      <td>167</td>\n",
       "      <td>47</td>\n",
       "      <td>70</td>\n",
       "      <td>94</td>\n",
       "      <td>1</td>\n",
       "    </tr>\n",
       "    <tr>\n",
       "      <th>24998</th>\n",
       "      <td>240</td>\n",
       "      <td>248</td>\n",
       "      <td>253</td>\n",
       "      <td>228</td>\n",
       "      <td>232</td>\n",
       "      <td>255</td>\n",
       "      <td>215</td>\n",
       "      <td>235</td>\n",
       "      <td>244</td>\n",
       "      <td>208</td>\n",
       "      <td>...</td>\n",
       "      <td>74</td>\n",
       "      <td>79</td>\n",
       "      <td>94</td>\n",
       "      <td>74</td>\n",
       "      <td>79</td>\n",
       "      <td>94</td>\n",
       "      <td>80</td>\n",
       "      <td>84</td>\n",
       "      <td>99</td>\n",
       "      <td>1</td>\n",
       "    </tr>\n",
       "    <tr>\n",
       "      <th>24999</th>\n",
       "      <td>248</td>\n",
       "      <td>255</td>\n",
       "      <td>255</td>\n",
       "      <td>247</td>\n",
       "      <td>255</td>\n",
       "      <td>255</td>\n",
       "      <td>247</td>\n",
       "      <td>255</td>\n",
       "      <td>255</td>\n",
       "      <td>248</td>\n",
       "      <td>...</td>\n",
       "      <td>81</td>\n",
       "      <td>82</td>\n",
       "      <td>73</td>\n",
       "      <td>79</td>\n",
       "      <td>77</td>\n",
       "      <td>69</td>\n",
       "      <td>84</td>\n",
       "      <td>82</td>\n",
       "      <td>74</td>\n",
       "      <td>1</td>\n",
       "    </tr>\n",
       "  </tbody>\n",
       "</table>\n",
       "<p>25000 rows × 7501 columns</p>\n",
       "</div>"
      ],
      "text/plain": [
       "       pixel_0  pixel_1  pixel_2  pixel_3  pixel_4  pixel_5  pixel_6  pixel_7  \\\n",
       "0          122      204      245      133      212      247      146      219   \n",
       "1          167      195      199      107       93       88      121       95   \n",
       "2          159      163      131      150      158      129      157      158   \n",
       "3          241      236      235      250      245      244      232      230   \n",
       "4           68       87      130       26       55      116        0       15   \n",
       "...        ...      ...      ...      ...      ...      ...      ...      ...   \n",
       "24995      155      190      200      155      190      200      154      189   \n",
       "24996       35       74       88       47      116      113       38       79   \n",
       "24997       60       68       75       61       70       77       54       57   \n",
       "24998      240      248      253      228      232      255      215      235   \n",
       "24999      248      255      255      247      255      255      247      255   \n",
       "\n",
       "       pixel_8  pixel_9  ...  pixel_7491  pixel_7492  pixel_7493  pixel_7494  \\\n",
       "0          249      155  ...          60         132         166          62   \n",
       "1           88      116  ...          20          18          20          22   \n",
       "2          124      162  ...          97         132         146         106   \n",
       "3          229      232  ...         202         199         211         202   \n",
       "4           73       57  ...          39          56          65          44   \n",
       "...        ...      ...  ...         ...         ...         ...         ...   \n",
       "24995      199      153  ...          48          71          73          48   \n",
       "24996      102       93  ...          50          78         102          68   \n",
       "24997       62       47  ...          71          91         120          96   \n",
       "24998      244      208  ...          74          79          94          74   \n",
       "24999      255      248  ...          81          82          73          79   \n",
       "\n",
       "       pixel_7495  pixel_7496  pixel_7497  pixel_7498  pixel_7499  label  \n",
       "0             129         160          57         124         155      0  \n",
       "1              21          23          23          22          24      0  \n",
       "2             143         157         111         155         168      0  \n",
       "3             195         206         213         209         211      0  \n",
       "4              57          65          46          56          63      0  \n",
       "...           ...         ...         ...         ...         ...    ...  \n",
       "24995          71          73          47          70          72      1  \n",
       "24996          94         110          54          77         100      1  \n",
       "24997         142         167          47          70          94      1  \n",
       "24998          79          94          80          84          99      1  \n",
       "24999          77          69          84          82          74      1  \n",
       "\n",
       "[25000 rows x 7501 columns]"
      ]
     },
     "execution_count": 15,
     "metadata": {},
     "output_type": "execute_result"
    }
   ],
   "source": [
    "cols = []\n",
    "for i in range(7500):\n",
    "    cols.append(\"pixel_\"+str(i))\n",
    "df2_fliped = pd.DataFrame(train_data_fliped,columns=cols)\n",
    "df2_fliped['label']=train_label_fliped\n",
    "df2_fliped"
   ]
  },
  {
   "cell_type": "code",
   "execution_count": 16,
   "metadata": {},
   "outputs": [],
   "source": [
    "df2_fliped.to_csv(r'C:\\Users\\anitay\\Desktop\\Ors folder\\mirror.csv',index=False)"
   ]
  },
  {
   "cell_type": "code",
   "execution_count": 9,
   "metadata": {},
   "outputs": [],
   "source": [
    "df2_fliped = pd.read_csv(r'C:\\Users\\anitay\\Desktop\\Ors folder\\mirror.csv')"
   ]
  },
  {
   "cell_type": "code",
   "execution_count": 10,
   "metadata": {},
   "outputs": [
    {
     "data": {
      "text/html": [
       "<div>\n",
       "<style scoped>\n",
       "    .dataframe tbody tr th:only-of-type {\n",
       "        vertical-align: middle;\n",
       "    }\n",
       "\n",
       "    .dataframe tbody tr th {\n",
       "        vertical-align: top;\n",
       "    }\n",
       "\n",
       "    .dataframe thead th {\n",
       "        text-align: right;\n",
       "    }\n",
       "</style>\n",
       "<table border=\"1\" class=\"dataframe\">\n",
       "  <thead>\n",
       "    <tr style=\"text-align: right;\">\n",
       "      <th></th>\n",
       "      <th>pixel_0</th>\n",
       "      <th>pixel_1</th>\n",
       "      <th>pixel_2</th>\n",
       "      <th>pixel_3</th>\n",
       "      <th>pixel_4</th>\n",
       "      <th>pixel_5</th>\n",
       "      <th>pixel_6</th>\n",
       "      <th>pixel_7</th>\n",
       "      <th>pixel_8</th>\n",
       "      <th>pixel_9</th>\n",
       "      <th>...</th>\n",
       "      <th>pixel_7491</th>\n",
       "      <th>pixel_7492</th>\n",
       "      <th>pixel_7493</th>\n",
       "      <th>pixel_7494</th>\n",
       "      <th>pixel_7495</th>\n",
       "      <th>pixel_7496</th>\n",
       "      <th>pixel_7497</th>\n",
       "      <th>pixel_7498</th>\n",
       "      <th>pixel_7499</th>\n",
       "      <th>label</th>\n",
       "    </tr>\n",
       "  </thead>\n",
       "  <tbody>\n",
       "    <tr>\n",
       "      <th>14149</th>\n",
       "      <td>70</td>\n",
       "      <td>131</td>\n",
       "      <td>87</td>\n",
       "      <td>67</td>\n",
       "      <td>116</td>\n",
       "      <td>80</td>\n",
       "      <td>49</td>\n",
       "      <td>106</td>\n",
       "      <td>71</td>\n",
       "      <td>178</td>\n",
       "      <td>...</td>\n",
       "      <td>32</td>\n",
       "      <td>88</td>\n",
       "      <td>57</td>\n",
       "      <td>50</td>\n",
       "      <td>138</td>\n",
       "      <td>82</td>\n",
       "      <td>110</td>\n",
       "      <td>175</td>\n",
       "      <td>127</td>\n",
       "      <td>1</td>\n",
       "    </tr>\n",
       "    <tr>\n",
       "      <th>8946</th>\n",
       "      <td>128</td>\n",
       "      <td>105</td>\n",
       "      <td>60</td>\n",
       "      <td>129</td>\n",
       "      <td>104</td>\n",
       "      <td>63</td>\n",
       "      <td>138</td>\n",
       "      <td>120</td>\n",
       "      <td>82</td>\n",
       "      <td>145</td>\n",
       "      <td>...</td>\n",
       "      <td>210</td>\n",
       "      <td>220</td>\n",
       "      <td>227</td>\n",
       "      <td>210</td>\n",
       "      <td>221</td>\n",
       "      <td>225</td>\n",
       "      <td>210</td>\n",
       "      <td>221</td>\n",
       "      <td>225</td>\n",
       "      <td>0</td>\n",
       "    </tr>\n",
       "    <tr>\n",
       "      <th>22378</th>\n",
       "      <td>247</td>\n",
       "      <td>238</td>\n",
       "      <td>238</td>\n",
       "      <td>236</td>\n",
       "      <td>226</td>\n",
       "      <td>226</td>\n",
       "      <td>254</td>\n",
       "      <td>254</td>\n",
       "      <td>253</td>\n",
       "      <td>246</td>\n",
       "      <td>...</td>\n",
       "      <td>45</td>\n",
       "      <td>51</td>\n",
       "      <td>46</td>\n",
       "      <td>39</td>\n",
       "      <td>51</td>\n",
       "      <td>45</td>\n",
       "      <td>40</td>\n",
       "      <td>52</td>\n",
       "      <td>46</td>\n",
       "      <td>1</td>\n",
       "    </tr>\n",
       "    <tr>\n",
       "      <th>12162</th>\n",
       "      <td>85</td>\n",
       "      <td>100</td>\n",
       "      <td>118</td>\n",
       "      <td>108</td>\n",
       "      <td>135</td>\n",
       "      <td>158</td>\n",
       "      <td>74</td>\n",
       "      <td>88</td>\n",
       "      <td>90</td>\n",
       "      <td>27</td>\n",
       "      <td>...</td>\n",
       "      <td>41</td>\n",
       "      <td>50</td>\n",
       "      <td>63</td>\n",
       "      <td>52</td>\n",
       "      <td>69</td>\n",
       "      <td>88</td>\n",
       "      <td>60</td>\n",
       "      <td>72</td>\n",
       "      <td>92</td>\n",
       "      <td>0</td>\n",
       "    </tr>\n",
       "    <tr>\n",
       "      <th>4879</th>\n",
       "      <td>67</td>\n",
       "      <td>90</td>\n",
       "      <td>104</td>\n",
       "      <td>67</td>\n",
       "      <td>90</td>\n",
       "      <td>104</td>\n",
       "      <td>67</td>\n",
       "      <td>90</td>\n",
       "      <td>105</td>\n",
       "      <td>72</td>\n",
       "      <td>...</td>\n",
       "      <td>22</td>\n",
       "      <td>74</td>\n",
       "      <td>141</td>\n",
       "      <td>42</td>\n",
       "      <td>94</td>\n",
       "      <td>161</td>\n",
       "      <td>43</td>\n",
       "      <td>95</td>\n",
       "      <td>162</td>\n",
       "      <td>0</td>\n",
       "    </tr>\n",
       "  </tbody>\n",
       "</table>\n",
       "<p>5 rows × 7501 columns</p>\n",
       "</div>"
      ],
      "text/plain": [
       "       pixel_0  pixel_1  pixel_2  pixel_3  pixel_4  pixel_5  pixel_6  pixel_7  \\\n",
       "14149       70      131       87       67      116       80       49      106   \n",
       "8946       128      105       60      129      104       63      138      120   \n",
       "22378      247      238      238      236      226      226      254      254   \n",
       "12162       85      100      118      108      135      158       74       88   \n",
       "4879        67       90      104       67       90      104       67       90   \n",
       "\n",
       "       pixel_8  pixel_9  ...  pixel_7491  pixel_7492  pixel_7493  pixel_7494  \\\n",
       "14149       71      178  ...          32          88          57          50   \n",
       "8946        82      145  ...         210         220         227         210   \n",
       "22378      253      246  ...          45          51          46          39   \n",
       "12162       90       27  ...          41          50          63          52   \n",
       "4879       105       72  ...          22          74         141          42   \n",
       "\n",
       "       pixel_7495  pixel_7496  pixel_7497  pixel_7498  pixel_7499  label  \n",
       "14149         138          82         110         175         127      1  \n",
       "8946          221         225         210         221         225      0  \n",
       "22378          51          45          40          52          46      1  \n",
       "12162          69          88          60          72          92      0  \n",
       "4879           94         161          43          95         162      0  \n",
       "\n",
       "[5 rows x 7501 columns]"
      ]
     },
     "execution_count": 10,
     "metadata": {},
     "output_type": "execute_result"
    }
   ],
   "source": [
    "df2_fliped_shuffled = df2_fliped.sample(frac=1,random_state=0)\n",
    "df2_fliped_shuffled.head()"
   ]
  },
  {
   "cell_type": "code",
   "execution_count": 11,
   "metadata": {},
   "outputs": [
    {
     "data": {
      "text/html": [
       "<div>\n",
       "<style scoped>\n",
       "    .dataframe tbody tr th:only-of-type {\n",
       "        vertical-align: middle;\n",
       "    }\n",
       "\n",
       "    .dataframe tbody tr th {\n",
       "        vertical-align: top;\n",
       "    }\n",
       "\n",
       "    .dataframe thead th {\n",
       "        text-align: right;\n",
       "    }\n",
       "</style>\n",
       "<table border=\"1\" class=\"dataframe\">\n",
       "  <thead>\n",
       "    <tr style=\"text-align: right;\">\n",
       "      <th></th>\n",
       "      <th>pixel_0</th>\n",
       "      <th>pixel_1</th>\n",
       "      <th>pixel_2</th>\n",
       "      <th>pixel_3</th>\n",
       "      <th>pixel_4</th>\n",
       "      <th>pixel_5</th>\n",
       "      <th>pixel_6</th>\n",
       "      <th>pixel_7</th>\n",
       "      <th>pixel_8</th>\n",
       "      <th>pixel_9</th>\n",
       "      <th>...</th>\n",
       "      <th>pixel_7491</th>\n",
       "      <th>pixel_7492</th>\n",
       "      <th>pixel_7493</th>\n",
       "      <th>pixel_7494</th>\n",
       "      <th>pixel_7495</th>\n",
       "      <th>pixel_7496</th>\n",
       "      <th>pixel_7497</th>\n",
       "      <th>pixel_7498</th>\n",
       "      <th>pixel_7499</th>\n",
       "      <th>label</th>\n",
       "    </tr>\n",
       "  </thead>\n",
       "  <tbody>\n",
       "    <tr>\n",
       "      <th>0</th>\n",
       "      <td>105</td>\n",
       "      <td>123</td>\n",
       "      <td>109</td>\n",
       "      <td>135</td>\n",
       "      <td>154</td>\n",
       "      <td>140</td>\n",
       "      <td>114</td>\n",
       "      <td>138</td>\n",
       "      <td>126</td>\n",
       "      <td>114</td>\n",
       "      <td>...</td>\n",
       "      <td>178</td>\n",
       "      <td>174</td>\n",
       "      <td>96</td>\n",
       "      <td>175</td>\n",
       "      <td>170</td>\n",
       "      <td>92</td>\n",
       "      <td>175</td>\n",
       "      <td>172</td>\n",
       "      <td>91</td>\n",
       "      <td>0</td>\n",
       "    </tr>\n",
       "    <tr>\n",
       "      <th>1</th>\n",
       "      <td>20</td>\n",
       "      <td>72</td>\n",
       "      <td>70</td>\n",
       "      <td>6</td>\n",
       "      <td>35</td>\n",
       "      <td>40</td>\n",
       "      <td>87</td>\n",
       "      <td>128</td>\n",
       "      <td>132</td>\n",
       "      <td>71</td>\n",
       "      <td>...</td>\n",
       "      <td>83</td>\n",
       "      <td>102</td>\n",
       "      <td>135</td>\n",
       "      <td>55</td>\n",
       "      <td>80</td>\n",
       "      <td>118</td>\n",
       "      <td>65</td>\n",
       "      <td>84</td>\n",
       "      <td>111</td>\n",
       "      <td>1</td>\n",
       "    </tr>\n",
       "    <tr>\n",
       "      <th>2</th>\n",
       "      <td>37</td>\n",
       "      <td>41</td>\n",
       "      <td>36</td>\n",
       "      <td>39</td>\n",
       "      <td>43</td>\n",
       "      <td>38</td>\n",
       "      <td>39</td>\n",
       "      <td>43</td>\n",
       "      <td>38</td>\n",
       "      <td>37</td>\n",
       "      <td>...</td>\n",
       "      <td>69</td>\n",
       "      <td>91</td>\n",
       "      <td>96</td>\n",
       "      <td>61</td>\n",
       "      <td>83</td>\n",
       "      <td>88</td>\n",
       "      <td>57</td>\n",
       "      <td>79</td>\n",
       "      <td>84</td>\n",
       "      <td>1</td>\n",
       "    </tr>\n",
       "    <tr>\n",
       "      <th>3</th>\n",
       "      <td>22</td>\n",
       "      <td>35</td>\n",
       "      <td>43</td>\n",
       "      <td>84</td>\n",
       "      <td>104</td>\n",
       "      <td>115</td>\n",
       "      <td>91</td>\n",
       "      <td>116</td>\n",
       "      <td>134</td>\n",
       "      <td>93</td>\n",
       "      <td>...</td>\n",
       "      <td>161</td>\n",
       "      <td>182</td>\n",
       "      <td>191</td>\n",
       "      <td>141</td>\n",
       "      <td>166</td>\n",
       "      <td>168</td>\n",
       "      <td>93</td>\n",
       "      <td>127</td>\n",
       "      <td>121</td>\n",
       "      <td>1</td>\n",
       "    </tr>\n",
       "    <tr>\n",
       "      <th>4</th>\n",
       "      <td>1</td>\n",
       "      <td>1</td>\n",
       "      <td>1</td>\n",
       "      <td>1</td>\n",
       "      <td>1</td>\n",
       "      <td>1</td>\n",
       "      <td>1</td>\n",
       "      <td>1</td>\n",
       "      <td>1</td>\n",
       "      <td>1</td>\n",
       "      <td>...</td>\n",
       "      <td>1</td>\n",
       "      <td>1</td>\n",
       "      <td>1</td>\n",
       "      <td>1</td>\n",
       "      <td>1</td>\n",
       "      <td>1</td>\n",
       "      <td>1</td>\n",
       "      <td>1</td>\n",
       "      <td>1</td>\n",
       "      <td>1</td>\n",
       "    </tr>\n",
       "  </tbody>\n",
       "</table>\n",
       "<p>5 rows × 7501 columns</p>\n",
       "</div>"
      ],
      "text/plain": [
       "   pixel_0  pixel_1  pixel_2  pixel_3  pixel_4  pixel_5  pixel_6  pixel_7  \\\n",
       "0      105      123      109      135      154      140      114      138   \n",
       "1       20       72       70        6       35       40       87      128   \n",
       "2       37       41       36       39       43       38       39       43   \n",
       "3       22       35       43       84      104      115       91      116   \n",
       "4        1        1        1        1        1        1        1        1   \n",
       "\n",
       "   pixel_8  pixel_9  ...  pixel_7491  pixel_7492  pixel_7493  pixel_7494  \\\n",
       "0      126      114  ...         178         174          96         175   \n",
       "1      132       71  ...          83         102         135          55   \n",
       "2       38       37  ...          69          91          96          61   \n",
       "3      134       93  ...         161         182         191         141   \n",
       "4        1        1  ...           1           1           1           1   \n",
       "\n",
       "   pixel_7495  pixel_7496  pixel_7497  pixel_7498  pixel_7499  label  \n",
       "0         170          92         175         172          91      0  \n",
       "1          80         118          65          84         111      1  \n",
       "2          83          88          57          79          84      1  \n",
       "3         166         168          93         127         121      1  \n",
       "4           1           1           1           1           1      1  \n",
       "\n",
       "[5 rows x 7501 columns]"
      ]
     },
     "execution_count": 11,
     "metadata": {},
     "output_type": "execute_result"
    }
   ],
   "source": [
    "train_fliped = df2_fliped_shuffled.iloc[5000:]\n",
    "train_fliped.reset_index(drop=True,inplace=True)\n",
    "train_fliped.head()"
   ]
  },
  {
   "cell_type": "code",
   "execution_count": 12,
   "metadata": {},
   "outputs": [],
   "source": [
    "train_fliped_data = train_fliped.drop('label',axis=1)\n",
    "train_fliped_target = train_fliped['label']"
   ]
  },
  {
   "cell_type": "code",
   "execution_count": 23,
   "metadata": {},
   "outputs": [
    {
     "data": {
      "text/plain": [
       "<matplotlib.image.AxesImage at 0x1da24033d00>"
      ]
     },
     "execution_count": 23,
     "metadata": {},
     "output_type": "execute_result"
    },
    {
     "data": {
      "image/png": "[encoded data removed]",
      "text/plain": [
       "<Figure size 432x288 with 1 Axes>"
      ]
     },
     "metadata": {
      "needs_background": "light"
     },
     "output_type": "display_data"
    }
   ],
   "source": [
    "plt.imshow(np.flip(np.array(train_fliped_data.loc[1]).reshape(50,50,3),2))"
   ]
  },
  {
   "cell_type": "code",
   "execution_count": 13,
   "metadata": {},
   "outputs": [],
   "source": [
    "full_train_data = pd.concat([train_data,train_fliped_data])"
   ]
  },
  {
   "cell_type": "code",
   "execution_count": 14,
   "metadata": {},
   "outputs": [],
   "source": [
    "full_train_target = pd.concat([train_target,train_fliped_target])"
   ]
  },
  {
   "cell_type": "code",
   "execution_count": 15,
   "metadata": {},
   "outputs": [],
   "source": [
    "sc= StandardScaler()\n",
    "scaled_train = sc.fit_transform(full_train_data)\n",
    "scaled_test = sc.transform(test_data)"
   ]
  },
  {
   "cell_type": "code",
   "execution_count": 29,
   "metadata": {},
   "outputs": [
    {
     "data": {
      "text/plain": [
       "RandomForestClassifier()"
      ]
     },
     "execution_count": 29,
     "metadata": {},
     "output_type": "execute_result"
    }
   ],
   "source": [
    "rfc = RandomForestClassifier()\n",
    "rfc.fit(scaled_train,full_train_target)\n",
    "rfc"
   ]
  },
  {
   "cell_type": "code",
   "execution_count": 30,
   "metadata": {},
   "outputs": [],
   "source": [
    "y_pred = rfc.predict(scaled_test)"
   ]
  },
  {
   "cell_type": "code",
   "execution_count": 31,
   "metadata": {},
   "outputs": [
    {
     "name": "stdout",
     "output_type": "stream",
     "text": [
      "              precision    recall  f1-score   support\n",
      "\n",
      "           0       0.66      0.71      0.68      2496\n",
      "           1       0.69      0.63      0.66      2504\n",
      "\n",
      "    accuracy                           0.67      5000\n",
      "   macro avg       0.67      0.67      0.67      5000\n",
      "weighted avg       0.67      0.67      0.67      5000\n",
      "\n"
     ]
    }
   ],
   "source": [
    "print (classification_report(test_target,y_pred))"
   ]
  },
  {
   "cell_type": "code",
   "execution_count": 32,
   "metadata": {},
   "outputs": [
    {
     "data": {
      "text/plain": [
       "0.6702"
      ]
     },
     "execution_count": 32,
     "metadata": {},
     "output_type": "execute_result"
    }
   ],
   "source": [
    "metrics.accuracy_score(test_target,y_pred)"
   ]
  },
  {
   "cell_type": "code",
   "execution_count": 33,
   "metadata": {},
   "outputs": [
    {
     "data": {
      "text/plain": [
       "Text(33.0, 0.5, 'Actual')"
      ]
     },
     "execution_count": 33,
     "metadata": {},
     "output_type": "execute_result"
    },
    {
     "data": {
      "image/png": "[encoded data removed]",
      "text/plain": [
       "<Figure size 432x288 with 2 Axes>"
      ]
     },
     "metadata": {
      "needs_background": "light"
     },
     "output_type": "display_data"
    }
   ],
   "source": [
    "cm = confusion_matrix(test_target,y_pred)\n",
    "sns.heatmap(cm,annot=True,annot_kws = {'size':15},fmt=\".1f\")\n",
    "plt.xlabel(\"Predict\")\n",
    "plt.ylabel(\"Actual\")"
   ]
  },
  {
   "cell_type": "code",
   "execution_count": 16,
   "metadata": {},
   "outputs": [
    {
     "name": "stdout",
     "output_type": "stream",
     "text": [
      "[02:22:44] WARNING: ..\\src\\learner.cc:1061: Starting in XGBoost 1.3.0, the default evaluation metric used with the objective 'binary:logistic' was changed from 'error' to 'logloss'. Explicitly set eval_metric if you'd like to restore the old behavior.\n"
     ]
    },
    {
     "data": {
      "text/plain": [
       "XGBClassifier(base_score=0.5, booster='gbtree', colsample_bylevel=1,\n",
       "              colsample_bynode=1, colsample_bytree=1, gamma=0, gpu_id=-1,\n",
       "              importance_type='gain', interaction_constraints='',\n",
       "              learning_rate=0.300000012, max_delta_step=0, max_depth=6,\n",
       "              min_child_weight=1, missing=nan, monotone_constraints='()',\n",
       "              n_estimators=100, n_jobs=8, num_parallel_tree=1, random_state=0,\n",
       "              reg_alpha=0, reg_lambda=1, scale_pos_weight=1, subsample=1,\n",
       "              tree_method='exact', use_label_encoder=False,\n",
       "              validate_parameters=1, verbosity=None)"
      ]
     },
     "execution_count": 16,
     "metadata": {},
     "output_type": "execute_result"
    }
   ],
   "source": [
    "xg = XGBClassifier(use_label_encoder=False)\n",
    "xg.fit(scaled_train,full_train_target)"
   ]
  },
  {
   "cell_type": "code",
   "execution_count": 17,
   "metadata": {},
   "outputs": [],
   "source": [
    "y_pred = xg.predict(scaled_test)"
   ]
  },
  {
   "cell_type": "code",
   "execution_count": 18,
   "metadata": {},
   "outputs": [
    {
     "name": "stdout",
     "output_type": "stream",
     "text": [
      "              precision    recall  f1-score   support\n",
      "\n",
      "           0       0.69      0.71      0.70      2496\n",
      "           1       0.70      0.68      0.69      2504\n",
      "\n",
      "    accuracy                           0.69      5000\n",
      "   macro avg       0.69      0.69      0.69      5000\n",
      "weighted avg       0.69      0.69      0.69      5000\n",
      "\n"
     ]
    }
   ],
   "source": [
    "print (classification_report(test_target,y_pred))"
   ]
  },
  {
   "cell_type": "code",
   "execution_count": 19,
   "metadata": {},
   "outputs": [
    {
     "data": {
      "text/plain": [
       "0.6948"
      ]
     },
     "execution_count": 19,
     "metadata": {},
     "output_type": "execute_result"
    }
   ],
   "source": [
    "metrics.accuracy_score(test_target,y_pred)"
   ]
  },
  {
   "cell_type": "code",
   "execution_count": 20,
   "metadata": {},
   "outputs": [
    {
     "data": {
      "text/plain": [
       "Text(33.0, 0.5, 'Actual')"
      ]
     },
     "execution_count": 20,
     "metadata": {},
     "output_type": "execute_result"
    },
    {
     "data": {
      "image/png": "[encoded data removed]",
      "text/plain": [
       "<Figure size 432x288 with 2 Axes>"
      ]
     },
     "metadata": {
      "needs_background": "light"
     },
     "output_type": "display_data"
    }
   ],
   "source": [
    "cm = confusion_matrix(test_target,y_pred)\n",
    "sns.heatmap(cm,annot=True,annot_kws = {'size':15},fmt=\".1f\")\n",
    "plt.xlabel(\"Predict\")\n",
    "plt.ylabel(\"Actual\")"
   ]
  },
  {
   "cell_type": "code",
   "execution_count": 21,
   "metadata": {},
   "outputs": [],
   "source": [
    "xg = XGBClassifier(use_label_encoder=False)\n",
    "rfc = RandomForestClassifier()\n",
    "vot = VotingClassifier(estimators=[('xg',xg),('rfc',rfc)],voting='soft')"
   ]
  },
  {
   "cell_type": "code",
   "execution_count": 22,
   "metadata": {
    "scrolled": true
   },
   "outputs": [
    {
     "name": "stdout",
     "output_type": "stream",
     "text": [
      "[02:30:29] WARNING: ..\\src\\learner.cc:1061: Starting in XGBoost 1.3.0, the default evaluation metric used with the objective 'binary:logistic' was changed from 'error' to 'logloss'. Explicitly set eval_metric if you'd like to restore the old behavior.\n"
     ]
    },
    {
     "data": {
      "text/plain": [
       "VotingClassifier(estimators=[('xg',\n",
       "                              XGBClassifier(base_score=None, booster=None,\n",
       "                                            colsample_bylevel=None,\n",
       "                                            colsample_bynode=None,\n",
       "                                            colsample_bytree=None, gamma=None,\n",
       "                                            gpu_id=None, importance_type='gain',\n",
       "                                            interaction_constraints=None,\n",
       "                                            learning_rate=None,\n",
       "                                            max_delta_step=None, max_depth=None,\n",
       "                                            min_child_weight=None, missing=nan,\n",
       "                                            monotone_constraints=None,\n",
       "                                            n_estimators=100, n_jobs=None,\n",
       "                                            num_parallel_tree=None,\n",
       "                                            random_state=None, reg_alpha=None,\n",
       "                                            reg_lambda=None,\n",
       "                                            scale_pos_weight=None,\n",
       "                                            subsample=None, tree_method=None,\n",
       "                                            use_label_encoder=False,\n",
       "                                            validate_parameters=None,\n",
       "                                            verbosity=None)),\n",
       "                             ('rfc', RandomForestClassifier())],\n",
       "                 voting='soft')"
      ]
     },
     "execution_count": 22,
     "metadata": {},
     "output_type": "execute_result"
    }
   ],
   "source": [
    "vot.fit(scaled_train,full_train_target)"
   ]
  },
  {
   "cell_type": "code",
   "execution_count": 23,
   "metadata": {},
   "outputs": [],
   "source": [
    "y_pred = vot.predict(scaled_test)"
   ]
  },
  {
   "cell_type": "code",
   "execution_count": 24,
   "metadata": {},
   "outputs": [
    {
     "name": "stdout",
     "output_type": "stream",
     "text": [
      "              precision    recall  f1-score   support\n",
      "\n",
      "           0       0.69      0.71      0.70      2496\n",
      "           1       0.70      0.69      0.69      2504\n",
      "\n",
      "    accuracy                           0.70      5000\n",
      "   macro avg       0.70      0.70      0.70      5000\n",
      "weighted avg       0.70      0.70      0.70      5000\n",
      "\n"
     ]
    }
   ],
   "source": [
    "print (classification_report(test_target,y_pred))"
   ]
  },
  {
   "cell_type": "code",
   "execution_count": 25,
   "metadata": {},
   "outputs": [
    {
     "data": {
      "text/plain": [
       "0.6976"
      ]
     },
     "execution_count": 25,
     "metadata": {},
     "output_type": "execute_result"
    }
   ],
   "source": [
    "metrics.accuracy_score(test_target,y_pred)"
   ]
  },
  {
   "cell_type": "code",
   "execution_count": 26,
   "metadata": {},
   "outputs": [
    {
     "data": {
      "text/plain": [
       "Text(33.0, 0.5, 'Actual')"
      ]
     },
     "execution_count": 26,
     "metadata": {},
     "output_type": "execute_result"
    },
    {
     "data": {
      "image/png": "[encoded data removed]",
      "text/plain": [
       "<Figure size 432x288 with 2 Axes>"
      ]
     },
     "metadata": {
      "needs_background": "light"
     },
     "output_type": "display_data"
    }
   ],
   "source": [
    "cm = confusion_matrix(test_target,y_pred)\n",
    "sns.heatmap(cm,annot=True,annot_kws = {'size':15},fmt=\".1f\")\n",
    "plt.xlabel(\"Predict\")\n",
    "plt.ylabel(\"Actual\")"
   ]
  },
  {
   "cell_type": "code",
   "execution_count": 27,
   "metadata": {},
   "outputs": [],
   "source": [
    "pca = PCA()\n",
    "pca.fit(scaled_train)\n",
    "cumsum = np.cumsum(pca.explained_variance_ratio_)\n",
    "d = np.argmax(cumsum >= 0.8) + 1"
   ]
  },
  {
   "cell_type": "code",
   "execution_count": 28,
   "metadata": {},
   "outputs": [
    {
     "data": {
      "image/png": "[encoded data removed]",
      "text/plain": [
       "<Figure size 720x288 with 1 Axes>"
      ]
     },
     "metadata": {
      "needs_background": "light"
     },
     "output_type": "display_data"
    }
   ],
   "source": [
    "plt.figure(figsize=(10,4))\n",
    "plt.plot(cumsum, linewidth=3)\n",
    "plt.axis([0, 400, 0, 1])\n",
    "plt.xlabel(\"Dimensions\")\n",
    "plt.ylabel(\"Explained Variance\")\n",
    "plt.plot([d, d], [0, 0.8], \"k:\")\n",
    "plt.plot([0, d], [0.8, 0.8], \"k:\")\n",
    "plt.plot(d, 0.8, \"ko\")\n",
    "plt.grid(True)\n",
    "plt.show()"
   ]
  },
  {
   "cell_type": "code",
   "execution_count": 29,
   "metadata": {},
   "outputs": [],
   "source": [
    "knn = KNeighborsClassifier()\n",
    "dtc = DecisionTreeClassifier()\n",
    "rfc = RandomForestClassifier()\n",
    "pca = PCA(n_components=0.8)"
   ]
  },
  {
   "cell_type": "code",
   "execution_count": 30,
   "metadata": {},
   "outputs": [
    {
     "data": {
      "text/plain": [
       "(40000, 91)"
      ]
     },
     "execution_count": 30,
     "metadata": {},
     "output_type": "execute_result"
    }
   ],
   "source": [
    "redueced_train = pca.fit_transform(scaled_train)\n",
    "redueced_train.shape"
   ]
  },
  {
   "cell_type": "code",
   "execution_count": 31,
   "metadata": {},
   "outputs": [
    {
     "data": {
      "text/plain": [
       "(5000, 91)"
      ]
     },
     "execution_count": 31,
     "metadata": {},
     "output_type": "execute_result"
    }
   ],
   "source": [
    "redueced_test = pca.transform(scaled_test)\n",
    "redueced_test.shape"
   ]
  },
  {
   "cell_type": "code",
   "execution_count": 32,
   "metadata": {},
   "outputs": [
    {
     "data": {
      "text/plain": [
       "XGBClassifier(base_score=0.5, booster='gbtree', colsample_bylevel=1,\n",
       "              colsample_bynode=1, colsample_bytree=1, eval_metric='logloss',\n",
       "              gamma=0, gpu_id=-1, importance_type='gain',\n",
       "              interaction_constraints='', learning_rate=0.300000012,\n",
       "              max_delta_step=0, max_depth=6, min_child_weight=1, missing=nan,\n",
       "              monotone_constraints='()', n_estimators=100, n_jobs=8,\n",
       "              num_parallel_tree=1, random_state=0, reg_alpha=0, reg_lambda=1,\n",
       "              scale_pos_weight=1, subsample=1, tree_method='exact',\n",
       "              use_label_encoder=False, validate_parameters=1, verbosity=None)"
      ]
     },
     "execution_count": 32,
     "metadata": {},
     "output_type": "execute_result"
    }
   ],
   "source": [
    "xg = XGBClassifier(use_label_encoder=False,eval_metric='logloss')\n",
    "xg.fit(redueced_train,full_train_target)"
   ]
  },
  {
   "cell_type": "code",
   "execution_count": 33,
   "metadata": {},
   "outputs": [],
   "source": [
    "y_pred = xg.predict(redueced_test)"
   ]
  },
  {
   "cell_type": "code",
   "execution_count": 34,
   "metadata": {},
   "outputs": [
    {
     "name": "stdout",
     "output_type": "stream",
     "text": [
      "              precision    recall  f1-score   support\n",
      "\n",
      "           0       0.65      0.64      0.65      2496\n",
      "           1       0.65      0.66      0.65      2504\n",
      "\n",
      "    accuracy                           0.65      5000\n",
      "   macro avg       0.65      0.65      0.65      5000\n",
      "weighted avg       0.65      0.65      0.65      5000\n",
      "\n"
     ]
    }
   ],
   "source": [
    "print (classification_report(test_target,y_pred))"
   ]
  },
  {
   "cell_type": "code",
   "execution_count": 35,
   "metadata": {},
   "outputs": [
    {
     "data": {
      "text/plain": [
       "0.649"
      ]
     },
     "execution_count": 35,
     "metadata": {},
     "output_type": "execute_result"
    }
   ],
   "source": [
    "metrics.accuracy_score(test_target,y_pred)"
   ]
  },
  {
   "cell_type": "code",
   "execution_count": null,
   "metadata": {},
   "outputs": [],
   "source": []
  },
  {
   "cell_type": "code",
   "execution_count": null,
   "metadata": {},
   "outputs": [],
   "source": [
    "param_knn = {\n",
    "    'knn__n_neighbors': list(range(2,11,2)),\n",
    "    'knn__weights': ['uniform','distance']  \n",
    "}"
   ]
  },
  {
   "cell_type": "code",
   "execution_count": null,
   "metadata": {},
   "outputs": [],
   "source": [
    "path = dtc.cost_complexity_pruning_path(redueced_train,y_train)\n",
    "alphas = path.ccp_alphas\n",
    "param_dtc = {'dtc__ccp_alpha':alphas}"
   ]
  },
  {
   "cell_type": "code",
   "execution_count": null,
   "metadata": {},
   "outputs": [],
   "source": [
    "param_rfc = {'rfc__n_estimators':[100,200,300,400,500],\n",
    "    'rfc__max_depth' : list(range(2,21,2))}"
   ]
  },
  {
   "cell_type": "code",
   "execution_count": null,
   "metadata": {},
   "outputs": [],
   "source": []
  },
  {
   "cell_type": "code",
   "execution_count": null,
   "metadata": {},
   "outputs": [],
   "source": []
  },
  {
   "cell_type": "code",
   "execution_count": 34,
   "metadata": {},
   "outputs": [],
   "source": [
    "train_data_fliped2 = []\n",
    "train_label_fliped2 = []\n",
    "for img in os.listdir(r'C:\\Users\\anitay\\Desktop\\Ors folder\\train'):\n",
    "    label = label_img(img)\n",
    "    path = os.path.join(r'C:\\Users\\anitay\\Desktop\\Ors folder\\train',img)\n",
    "    img = cv2.resize(cv2.imread(path),(50,50))\n",
    "    img = cv2.flip(img,0)\n",
    "    train_data_fliped2.append(np.array(img).flatten())\n",
    "    train_label_fliped2.append(label)"
   ]
  },
  {
   "cell_type": "code",
   "execution_count": 35,
   "metadata": {},
   "outputs": [
    {
     "data": {
      "text/html": [
       "<div>\n",
       "<style scoped>\n",
       "    .dataframe tbody tr th:only-of-type {\n",
       "        vertical-align: middle;\n",
       "    }\n",
       "\n",
       "    .dataframe tbody tr th {\n",
       "        vertical-align: top;\n",
       "    }\n",
       "\n",
       "    .dataframe thead th {\n",
       "        text-align: right;\n",
       "    }\n",
       "</style>\n",
       "<table border=\"1\" class=\"dataframe\">\n",
       "  <thead>\n",
       "    <tr style=\"text-align: right;\">\n",
       "      <th></th>\n",
       "      <th>pixel_0</th>\n",
       "      <th>pixel_1</th>\n",
       "      <th>pixel_2</th>\n",
       "      <th>pixel_3</th>\n",
       "      <th>pixel_4</th>\n",
       "      <th>pixel_5</th>\n",
       "      <th>pixel_6</th>\n",
       "      <th>pixel_7</th>\n",
       "      <th>pixel_8</th>\n",
       "      <th>pixel_9</th>\n",
       "      <th>...</th>\n",
       "      <th>pixel_7491</th>\n",
       "      <th>pixel_7492</th>\n",
       "      <th>pixel_7493</th>\n",
       "      <th>pixel_7494</th>\n",
       "      <th>pixel_7495</th>\n",
       "      <th>pixel_7496</th>\n",
       "      <th>pixel_7497</th>\n",
       "      <th>pixel_7498</th>\n",
       "      <th>pixel_7499</th>\n",
       "      <th>label</th>\n",
       "    </tr>\n",
       "  </thead>\n",
       "  <tbody>\n",
       "    <tr>\n",
       "      <th>0</th>\n",
       "      <td>57</td>\n",
       "      <td>124</td>\n",
       "      <td>155</td>\n",
       "      <td>62</td>\n",
       "      <td>129</td>\n",
       "      <td>160</td>\n",
       "      <td>60</td>\n",
       "      <td>132</td>\n",
       "      <td>166</td>\n",
       "      <td>66</td>\n",
       "      <td>...</td>\n",
       "      <td>146</td>\n",
       "      <td>219</td>\n",
       "      <td>249</td>\n",
       "      <td>133</td>\n",
       "      <td>212</td>\n",
       "      <td>247</td>\n",
       "      <td>122</td>\n",
       "      <td>204</td>\n",
       "      <td>245</td>\n",
       "      <td>0</td>\n",
       "    </tr>\n",
       "    <tr>\n",
       "      <th>1</th>\n",
       "      <td>23</td>\n",
       "      <td>22</td>\n",
       "      <td>24</td>\n",
       "      <td>22</td>\n",
       "      <td>21</td>\n",
       "      <td>23</td>\n",
       "      <td>20</td>\n",
       "      <td>18</td>\n",
       "      <td>20</td>\n",
       "      <td>18</td>\n",
       "      <td>...</td>\n",
       "      <td>121</td>\n",
       "      <td>95</td>\n",
       "      <td>88</td>\n",
       "      <td>107</td>\n",
       "      <td>93</td>\n",
       "      <td>88</td>\n",
       "      <td>167</td>\n",
       "      <td>195</td>\n",
       "      <td>199</td>\n",
       "      <td>0</td>\n",
       "    </tr>\n",
       "    <tr>\n",
       "      <th>2</th>\n",
       "      <td>111</td>\n",
       "      <td>155</td>\n",
       "      <td>168</td>\n",
       "      <td>106</td>\n",
       "      <td>143</td>\n",
       "      <td>157</td>\n",
       "      <td>97</td>\n",
       "      <td>132</td>\n",
       "      <td>146</td>\n",
       "      <td>100</td>\n",
       "      <td>...</td>\n",
       "      <td>157</td>\n",
       "      <td>158</td>\n",
       "      <td>124</td>\n",
       "      <td>150</td>\n",
       "      <td>158</td>\n",
       "      <td>129</td>\n",
       "      <td>159</td>\n",
       "      <td>163</td>\n",
       "      <td>131</td>\n",
       "      <td>0</td>\n",
       "    </tr>\n",
       "    <tr>\n",
       "      <th>3</th>\n",
       "      <td>213</td>\n",
       "      <td>209</td>\n",
       "      <td>211</td>\n",
       "      <td>202</td>\n",
       "      <td>195</td>\n",
       "      <td>206</td>\n",
       "      <td>202</td>\n",
       "      <td>199</td>\n",
       "      <td>211</td>\n",
       "      <td>128</td>\n",
       "      <td>...</td>\n",
       "      <td>232</td>\n",
       "      <td>230</td>\n",
       "      <td>229</td>\n",
       "      <td>250</td>\n",
       "      <td>245</td>\n",
       "      <td>244</td>\n",
       "      <td>241</td>\n",
       "      <td>236</td>\n",
       "      <td>235</td>\n",
       "      <td>0</td>\n",
       "    </tr>\n",
       "    <tr>\n",
       "      <th>4</th>\n",
       "      <td>46</td>\n",
       "      <td>56</td>\n",
       "      <td>63</td>\n",
       "      <td>44</td>\n",
       "      <td>57</td>\n",
       "      <td>65</td>\n",
       "      <td>39</td>\n",
       "      <td>56</td>\n",
       "      <td>65</td>\n",
       "      <td>49</td>\n",
       "      <td>...</td>\n",
       "      <td>0</td>\n",
       "      <td>15</td>\n",
       "      <td>73</td>\n",
       "      <td>26</td>\n",
       "      <td>55</td>\n",
       "      <td>116</td>\n",
       "      <td>68</td>\n",
       "      <td>87</td>\n",
       "      <td>130</td>\n",
       "      <td>0</td>\n",
       "    </tr>\n",
       "    <tr>\n",
       "      <th>...</th>\n",
       "      <td>...</td>\n",
       "      <td>...</td>\n",
       "      <td>...</td>\n",
       "      <td>...</td>\n",
       "      <td>...</td>\n",
       "      <td>...</td>\n",
       "      <td>...</td>\n",
       "      <td>...</td>\n",
       "      <td>...</td>\n",
       "      <td>...</td>\n",
       "      <td>...</td>\n",
       "      <td>...</td>\n",
       "      <td>...</td>\n",
       "      <td>...</td>\n",
       "      <td>...</td>\n",
       "      <td>...</td>\n",
       "      <td>...</td>\n",
       "      <td>...</td>\n",
       "      <td>...</td>\n",
       "      <td>...</td>\n",
       "      <td>...</td>\n",
       "    </tr>\n",
       "    <tr>\n",
       "      <th>24995</th>\n",
       "      <td>47</td>\n",
       "      <td>70</td>\n",
       "      <td>72</td>\n",
       "      <td>48</td>\n",
       "      <td>71</td>\n",
       "      <td>73</td>\n",
       "      <td>48</td>\n",
       "      <td>71</td>\n",
       "      <td>73</td>\n",
       "      <td>47</td>\n",
       "      <td>...</td>\n",
       "      <td>154</td>\n",
       "      <td>189</td>\n",
       "      <td>199</td>\n",
       "      <td>155</td>\n",
       "      <td>190</td>\n",
       "      <td>200</td>\n",
       "      <td>155</td>\n",
       "      <td>190</td>\n",
       "      <td>200</td>\n",
       "      <td>1</td>\n",
       "    </tr>\n",
       "    <tr>\n",
       "      <th>24996</th>\n",
       "      <td>54</td>\n",
       "      <td>77</td>\n",
       "      <td>100</td>\n",
       "      <td>68</td>\n",
       "      <td>94</td>\n",
       "      <td>110</td>\n",
       "      <td>50</td>\n",
       "      <td>78</td>\n",
       "      <td>102</td>\n",
       "      <td>62</td>\n",
       "      <td>...</td>\n",
       "      <td>38</td>\n",
       "      <td>79</td>\n",
       "      <td>102</td>\n",
       "      <td>47</td>\n",
       "      <td>116</td>\n",
       "      <td>113</td>\n",
       "      <td>35</td>\n",
       "      <td>74</td>\n",
       "      <td>88</td>\n",
       "      <td>1</td>\n",
       "    </tr>\n",
       "    <tr>\n",
       "      <th>24997</th>\n",
       "      <td>47</td>\n",
       "      <td>70</td>\n",
       "      <td>94</td>\n",
       "      <td>96</td>\n",
       "      <td>142</td>\n",
       "      <td>167</td>\n",
       "      <td>71</td>\n",
       "      <td>91</td>\n",
       "      <td>120</td>\n",
       "      <td>43</td>\n",
       "      <td>...</td>\n",
       "      <td>54</td>\n",
       "      <td>57</td>\n",
       "      <td>62</td>\n",
       "      <td>61</td>\n",
       "      <td>70</td>\n",
       "      <td>77</td>\n",
       "      <td>60</td>\n",
       "      <td>68</td>\n",
       "      <td>75</td>\n",
       "      <td>1</td>\n",
       "    </tr>\n",
       "    <tr>\n",
       "      <th>24998</th>\n",
       "      <td>80</td>\n",
       "      <td>84</td>\n",
       "      <td>99</td>\n",
       "      <td>74</td>\n",
       "      <td>79</td>\n",
       "      <td>94</td>\n",
       "      <td>74</td>\n",
       "      <td>79</td>\n",
       "      <td>94</td>\n",
       "      <td>69</td>\n",
       "      <td>...</td>\n",
       "      <td>215</td>\n",
       "      <td>235</td>\n",
       "      <td>244</td>\n",
       "      <td>228</td>\n",
       "      <td>232</td>\n",
       "      <td>255</td>\n",
       "      <td>240</td>\n",
       "      <td>248</td>\n",
       "      <td>253</td>\n",
       "      <td>1</td>\n",
       "    </tr>\n",
       "    <tr>\n",
       "      <th>24999</th>\n",
       "      <td>84</td>\n",
       "      <td>82</td>\n",
       "      <td>74</td>\n",
       "      <td>79</td>\n",
       "      <td>77</td>\n",
       "      <td>69</td>\n",
       "      <td>81</td>\n",
       "      <td>82</td>\n",
       "      <td>73</td>\n",
       "      <td>57</td>\n",
       "      <td>...</td>\n",
       "      <td>247</td>\n",
       "      <td>255</td>\n",
       "      <td>255</td>\n",
       "      <td>247</td>\n",
       "      <td>255</td>\n",
       "      <td>255</td>\n",
       "      <td>248</td>\n",
       "      <td>255</td>\n",
       "      <td>255</td>\n",
       "      <td>1</td>\n",
       "    </tr>\n",
       "  </tbody>\n",
       "</table>\n",
       "<p>25000 rows × 7501 columns</p>\n",
       "</div>"
      ],
      "text/plain": [
       "       pixel_0  pixel_1  pixel_2  pixel_3  pixel_4  pixel_5  pixel_6  pixel_7  \\\n",
       "0           57      124      155       62      129      160       60      132   \n",
       "1           23       22       24       22       21       23       20       18   \n",
       "2          111      155      168      106      143      157       97      132   \n",
       "3          213      209      211      202      195      206      202      199   \n",
       "4           46       56       63       44       57       65       39       56   \n",
       "...        ...      ...      ...      ...      ...      ...      ...      ...   \n",
       "24995       47       70       72       48       71       73       48       71   \n",
       "24996       54       77      100       68       94      110       50       78   \n",
       "24997       47       70       94       96      142      167       71       91   \n",
       "24998       80       84       99       74       79       94       74       79   \n",
       "24999       84       82       74       79       77       69       81       82   \n",
       "\n",
       "       pixel_8  pixel_9  ...  pixel_7491  pixel_7492  pixel_7493  pixel_7494  \\\n",
       "0          166       66  ...         146         219         249         133   \n",
       "1           20       18  ...         121          95          88         107   \n",
       "2          146      100  ...         157         158         124         150   \n",
       "3          211      128  ...         232         230         229         250   \n",
       "4           65       49  ...           0          15          73          26   \n",
       "...        ...      ...  ...         ...         ...         ...         ...   \n",
       "24995       73       47  ...         154         189         199         155   \n",
       "24996      102       62  ...          38          79         102          47   \n",
       "24997      120       43  ...          54          57          62          61   \n",
       "24998       94       69  ...         215         235         244         228   \n",
       "24999       73       57  ...         247         255         255         247   \n",
       "\n",
       "       pixel_7495  pixel_7496  pixel_7497  pixel_7498  pixel_7499  label  \n",
       "0             212         247         122         204         245      0  \n",
       "1              93          88         167         195         199      0  \n",
       "2             158         129         159         163         131      0  \n",
       "3             245         244         241         236         235      0  \n",
       "4              55         116          68          87         130      0  \n",
       "...           ...         ...         ...         ...         ...    ...  \n",
       "24995         190         200         155         190         200      1  \n",
       "24996         116         113          35          74          88      1  \n",
       "24997          70          77          60          68          75      1  \n",
       "24998         232         255         240         248         253      1  \n",
       "24999         255         255         248         255         255      1  \n",
       "\n",
       "[25000 rows x 7501 columns]"
      ]
     },
     "execution_count": 35,
     "metadata": {},
     "output_type": "execute_result"
    }
   ],
   "source": [
    "cols = []\n",
    "for i in range(7500):\n",
    "    cols.append(\"pixel_\"+str(i))\n",
    "df2_fliped2 = pd.DataFrame(train_data_fliped2,columns=cols)\n",
    "df2_fliped2['label']=train_label_fliped2\n",
    "df2_fliped2"
   ]
  },
  {
   "cell_type": "code",
   "execution_count": 37,
   "metadata": {},
   "outputs": [],
   "source": [
    "df2_fliped2.to_csv(r'C:\\Users\\anitay\\Desktop\\Ors folder\\upsidown.csv',index=False)"
   ]
  },
  {
   "cell_type": "code",
   "execution_count": 38,
   "metadata": {},
   "outputs": [],
   "source": [
    "train_data_fliped3 = []\n",
    "train_label_fliped3 = []\n",
    "for img in os.listdir(r'C:\\Users\\anitay\\Desktop\\Ors folder\\train'):\n",
    "    label = label_img(img)\n",
    "    path = os.path.join(r'C:\\Users\\anitay\\Desktop\\Ors folder\\train',img)\n",
    "    img = cv2.resize(cv2.imread(path),(50,50))\n",
    "    img = cv2.flip(img,-1)\n",
    "    train_data_fliped3.append(np.array(img).flatten())\n",
    "    train_label_fliped3.append(label)"
   ]
  },
  {
   "cell_type": "code",
   "execution_count": 39,
   "metadata": {},
   "outputs": [
    {
     "data": {
      "text/html": [
       "<div>\n",
       "<style scoped>\n",
       "    .dataframe tbody tr th:only-of-type {\n",
       "        vertical-align: middle;\n",
       "    }\n",
       "\n",
       "    .dataframe tbody tr th {\n",
       "        vertical-align: top;\n",
       "    }\n",
       "\n",
       "    .dataframe thead th {\n",
       "        text-align: right;\n",
       "    }\n",
       "</style>\n",
       "<table border=\"1\" class=\"dataframe\">\n",
       "  <thead>\n",
       "    <tr style=\"text-align: right;\">\n",
       "      <th></th>\n",
       "      <th>pixel_0</th>\n",
       "      <th>pixel_1</th>\n",
       "      <th>pixel_2</th>\n",
       "      <th>pixel_3</th>\n",
       "      <th>pixel_4</th>\n",
       "      <th>pixel_5</th>\n",
       "      <th>pixel_6</th>\n",
       "      <th>pixel_7</th>\n",
       "      <th>pixel_8</th>\n",
       "      <th>pixel_9</th>\n",
       "      <th>...</th>\n",
       "      <th>pixel_7491</th>\n",
       "      <th>pixel_7492</th>\n",
       "      <th>pixel_7493</th>\n",
       "      <th>pixel_7494</th>\n",
       "      <th>pixel_7495</th>\n",
       "      <th>pixel_7496</th>\n",
       "      <th>pixel_7497</th>\n",
       "      <th>pixel_7498</th>\n",
       "      <th>pixel_7499</th>\n",
       "      <th>label</th>\n",
       "    </tr>\n",
       "  </thead>\n",
       "  <tbody>\n",
       "    <tr>\n",
       "      <th>0</th>\n",
       "      <td>0</td>\n",
       "      <td>2</td>\n",
       "      <td>2</td>\n",
       "      <td>0</td>\n",
       "      <td>2</td>\n",
       "      <td>2</td>\n",
       "      <td>0</td>\n",
       "      <td>2</td>\n",
       "      <td>2</td>\n",
       "      <td>0</td>\n",
       "      <td>...</td>\n",
       "      <td>104</td>\n",
       "      <td>182</td>\n",
       "      <td>225</td>\n",
       "      <td>100</td>\n",
       "      <td>177</td>\n",
       "      <td>216</td>\n",
       "      <td>92</td>\n",
       "      <td>169</td>\n",
       "      <td>208</td>\n",
       "      <td>0</td>\n",
       "    </tr>\n",
       "    <tr>\n",
       "      <th>1</th>\n",
       "      <td>20</td>\n",
       "      <td>26</td>\n",
       "      <td>39</td>\n",
       "      <td>52</td>\n",
       "      <td>57</td>\n",
       "      <td>75</td>\n",
       "      <td>47</td>\n",
       "      <td>53</td>\n",
       "      <td>70</td>\n",
       "      <td>43</td>\n",
       "      <td>...</td>\n",
       "      <td>36</td>\n",
       "      <td>40</td>\n",
       "      <td>35</td>\n",
       "      <td>64</td>\n",
       "      <td>58</td>\n",
       "      <td>55</td>\n",
       "      <td>43</td>\n",
       "      <td>43</td>\n",
       "      <td>39</td>\n",
       "      <td>0</td>\n",
       "    </tr>\n",
       "    <tr>\n",
       "      <th>2</th>\n",
       "      <td>10</td>\n",
       "      <td>183</td>\n",
       "      <td>187</td>\n",
       "      <td>2</td>\n",
       "      <td>183</td>\n",
       "      <td>185</td>\n",
       "      <td>52</td>\n",
       "      <td>150</td>\n",
       "      <td>165</td>\n",
       "      <td>132</td>\n",
       "      <td>...</td>\n",
       "      <td>64</td>\n",
       "      <td>54</td>\n",
       "      <td>47</td>\n",
       "      <td>61</td>\n",
       "      <td>47</td>\n",
       "      <td>41</td>\n",
       "      <td>53</td>\n",
       "      <td>45</td>\n",
       "      <td>38</td>\n",
       "      <td>0</td>\n",
       "    </tr>\n",
       "    <tr>\n",
       "      <th>3</th>\n",
       "      <td>207</td>\n",
       "      <td>212</td>\n",
       "      <td>215</td>\n",
       "      <td>218</td>\n",
       "      <td>220</td>\n",
       "      <td>219</td>\n",
       "      <td>208</td>\n",
       "      <td>210</td>\n",
       "      <td>210</td>\n",
       "      <td>203</td>\n",
       "      <td>...</td>\n",
       "      <td>237</td>\n",
       "      <td>235</td>\n",
       "      <td>235</td>\n",
       "      <td>220</td>\n",
       "      <td>225</td>\n",
       "      <td>224</td>\n",
       "      <td>217</td>\n",
       "      <td>222</td>\n",
       "      <td>221</td>\n",
       "      <td>0</td>\n",
       "    </tr>\n",
       "    <tr>\n",
       "      <th>4</th>\n",
       "      <td>64</td>\n",
       "      <td>90</td>\n",
       "      <td>102</td>\n",
       "      <td>59</td>\n",
       "      <td>91</td>\n",
       "      <td>102</td>\n",
       "      <td>82</td>\n",
       "      <td>105</td>\n",
       "      <td>120</td>\n",
       "      <td>56</td>\n",
       "      <td>...</td>\n",
       "      <td>48</td>\n",
       "      <td>87</td>\n",
       "      <td>115</td>\n",
       "      <td>83</td>\n",
       "      <td>120</td>\n",
       "      <td>148</td>\n",
       "      <td>72</td>\n",
       "      <td>109</td>\n",
       "      <td>137</td>\n",
       "      <td>0</td>\n",
       "    </tr>\n",
       "    <tr>\n",
       "      <th>...</th>\n",
       "      <td>...</td>\n",
       "      <td>...</td>\n",
       "      <td>...</td>\n",
       "      <td>...</td>\n",
       "      <td>...</td>\n",
       "      <td>...</td>\n",
       "      <td>...</td>\n",
       "      <td>...</td>\n",
       "      <td>...</td>\n",
       "      <td>...</td>\n",
       "      <td>...</td>\n",
       "      <td>...</td>\n",
       "      <td>...</td>\n",
       "      <td>...</td>\n",
       "      <td>...</td>\n",
       "      <td>...</td>\n",
       "      <td>...</td>\n",
       "      <td>...</td>\n",
       "      <td>...</td>\n",
       "      <td>...</td>\n",
       "      <td>...</td>\n",
       "    </tr>\n",
       "    <tr>\n",
       "      <th>24995</th>\n",
       "      <td>135</td>\n",
       "      <td>170</td>\n",
       "      <td>180</td>\n",
       "      <td>134</td>\n",
       "      <td>169</td>\n",
       "      <td>179</td>\n",
       "      <td>132</td>\n",
       "      <td>168</td>\n",
       "      <td>178</td>\n",
       "      <td>132</td>\n",
       "      <td>...</td>\n",
       "      <td>113</td>\n",
       "      <td>150</td>\n",
       "      <td>154</td>\n",
       "      <td>110</td>\n",
       "      <td>147</td>\n",
       "      <td>151</td>\n",
       "      <td>107</td>\n",
       "      <td>144</td>\n",
       "      <td>148</td>\n",
       "      <td>1</td>\n",
       "    </tr>\n",
       "    <tr>\n",
       "      <th>24996</th>\n",
       "      <td>37</td>\n",
       "      <td>64</td>\n",
       "      <td>85</td>\n",
       "      <td>66</td>\n",
       "      <td>97</td>\n",
       "      <td>118</td>\n",
       "      <td>50</td>\n",
       "      <td>76</td>\n",
       "      <td>99</td>\n",
       "      <td>63</td>\n",
       "      <td>...</td>\n",
       "      <td>44</td>\n",
       "      <td>76</td>\n",
       "      <td>95</td>\n",
       "      <td>63</td>\n",
       "      <td>88</td>\n",
       "      <td>114</td>\n",
       "      <td>53</td>\n",
       "      <td>81</td>\n",
       "      <td>111</td>\n",
       "      <td>1</td>\n",
       "    </tr>\n",
       "    <tr>\n",
       "      <th>24997</th>\n",
       "      <td>126</td>\n",
       "      <td>171</td>\n",
       "      <td>217</td>\n",
       "      <td>27</td>\n",
       "      <td>76</td>\n",
       "      <td>117</td>\n",
       "      <td>134</td>\n",
       "      <td>175</td>\n",
       "      <td>213</td>\n",
       "      <td>36</td>\n",
       "      <td>...</td>\n",
       "      <td>51</td>\n",
       "      <td>53</td>\n",
       "      <td>54</td>\n",
       "      <td>50</td>\n",
       "      <td>53</td>\n",
       "      <td>58</td>\n",
       "      <td>45</td>\n",
       "      <td>48</td>\n",
       "      <td>53</td>\n",
       "      <td>1</td>\n",
       "    </tr>\n",
       "    <tr>\n",
       "      <th>24998</th>\n",
       "      <td>107</td>\n",
       "      <td>107</td>\n",
       "      <td>121</td>\n",
       "      <td>97</td>\n",
       "      <td>95</td>\n",
       "      <td>110</td>\n",
       "      <td>98</td>\n",
       "      <td>98</td>\n",
       "      <td>114</td>\n",
       "      <td>91</td>\n",
       "      <td>...</td>\n",
       "      <td>175</td>\n",
       "      <td>189</td>\n",
       "      <td>235</td>\n",
       "      <td>229</td>\n",
       "      <td>230</td>\n",
       "      <td>253</td>\n",
       "      <td>253</td>\n",
       "      <td>252</td>\n",
       "      <td>253</td>\n",
       "      <td>1</td>\n",
       "    </tr>\n",
       "    <tr>\n",
       "      <th>24999</th>\n",
       "      <td>254</td>\n",
       "      <td>254</td>\n",
       "      <td>254</td>\n",
       "      <td>254</td>\n",
       "      <td>254</td>\n",
       "      <td>254</td>\n",
       "      <td>254</td>\n",
       "      <td>254</td>\n",
       "      <td>254</td>\n",
       "      <td>254</td>\n",
       "      <td>...</td>\n",
       "      <td>228</td>\n",
       "      <td>238</td>\n",
       "      <td>245</td>\n",
       "      <td>231</td>\n",
       "      <td>241</td>\n",
       "      <td>248</td>\n",
       "      <td>230</td>\n",
       "      <td>240</td>\n",
       "      <td>247</td>\n",
       "      <td>1</td>\n",
       "    </tr>\n",
       "  </tbody>\n",
       "</table>\n",
       "<p>25000 rows × 7501 columns</p>\n",
       "</div>"
      ],
      "text/plain": [
       "       pixel_0  pixel_1  pixel_2  pixel_3  pixel_4  pixel_5  pixel_6  pixel_7  \\\n",
       "0            0        2        2        0        2        2        0        2   \n",
       "1           20       26       39       52       57       75       47       53   \n",
       "2           10      183      187        2      183      185       52      150   \n",
       "3          207      212      215      218      220      219      208      210   \n",
       "4           64       90      102       59       91      102       82      105   \n",
       "...        ...      ...      ...      ...      ...      ...      ...      ...   \n",
       "24995      135      170      180      134      169      179      132      168   \n",
       "24996       37       64       85       66       97      118       50       76   \n",
       "24997      126      171      217       27       76      117      134      175   \n",
       "24998      107      107      121       97       95      110       98       98   \n",
       "24999      254      254      254      254      254      254      254      254   \n",
       "\n",
       "       pixel_8  pixel_9  ...  pixel_7491  pixel_7492  pixel_7493  pixel_7494  \\\n",
       "0            2        0  ...         104         182         225         100   \n",
       "1           70       43  ...          36          40          35          64   \n",
       "2          165      132  ...          64          54          47          61   \n",
       "3          210      203  ...         237         235         235         220   \n",
       "4          120       56  ...          48          87         115          83   \n",
       "...        ...      ...  ...         ...         ...         ...         ...   \n",
       "24995      178      132  ...         113         150         154         110   \n",
       "24996       99       63  ...          44          76          95          63   \n",
       "24997      213       36  ...          51          53          54          50   \n",
       "24998      114       91  ...         175         189         235         229   \n",
       "24999      254      254  ...         228         238         245         231   \n",
       "\n",
       "       pixel_7495  pixel_7496  pixel_7497  pixel_7498  pixel_7499  label  \n",
       "0             177         216          92         169         208      0  \n",
       "1              58          55          43          43          39      0  \n",
       "2              47          41          53          45          38      0  \n",
       "3             225         224         217         222         221      0  \n",
       "4             120         148          72         109         137      0  \n",
       "...           ...         ...         ...         ...         ...    ...  \n",
       "24995         147         151         107         144         148      1  \n",
       "24996          88         114          53          81         111      1  \n",
       "24997          53          58          45          48          53      1  \n",
       "24998         230         253         253         252         253      1  \n",
       "24999         241         248         230         240         247      1  \n",
       "\n",
       "[25000 rows x 7501 columns]"
      ]
     },
     "execution_count": 39,
     "metadata": {},
     "output_type": "execute_result"
    }
   ],
   "source": [
    "cols = []\n",
    "for i in range(7500):\n",
    "    cols.append(\"pixel_\"+str(i))\n",
    "df2_fliped3 = pd.DataFrame(train_data_fliped3,columns=cols)\n",
    "df2_fliped3['label']=train_label_fliped3\n",
    "df2_fliped3"
   ]
  },
  {
   "cell_type": "code",
   "execution_count": 40,
   "metadata": {},
   "outputs": [],
   "source": [
    "df2_fliped3.to_csv(r'C:\\Users\\anitay\\Desktop\\Ors folder\\both.csv',index=False)"
   ]
  },
  {
   "cell_type": "code",
   "execution_count": 13,
   "metadata": {},
   "outputs": [],
   "source": [
    "df2_fliped2 = pd.read_csv(r'C:\\Users\\anitay\\Desktop\\Ors folder\\upsidown.csv')"
   ]
  },
  {
   "cell_type": "code",
   "execution_count": 14,
   "metadata": {},
   "outputs": [],
   "source": [
    "df2_fliped3 = pd.read_csv(r'C:\\Users\\anitay\\Desktop\\Ors folder\\both.csv')"
   ]
  },
  {
   "cell_type": "code",
   "execution_count": 15,
   "metadata": {},
   "outputs": [],
   "source": [
    "df2_fliped_shuffled2 = df2_fliped2.sample(frac=1,random_state=0)\n",
    "df2_fliped_shuffled3 = df2_fliped3.sample(frac=1,random_state=0)"
   ]
  },
  {
   "cell_type": "code",
   "execution_count": 16,
   "metadata": {},
   "outputs": [],
   "source": [
    "train_fliped2 = df2_fliped_shuffled2.iloc[5000:]\n",
    "train_fliped2.reset_index(drop=True,inplace=True)\n",
    "train_fliped3 = df2_fliped_shuffled3.iloc[5000:]\n",
    "train_fliped3.reset_index(drop=True,inplace=True)"
   ]
  },
  {
   "cell_type": "code",
   "execution_count": 17,
   "metadata": {},
   "outputs": [],
   "source": [
    "train_fliped_data2 = train_fliped2.drop('label',axis=1)\n",
    "train_fliped_target2 = train_fliped2['label']\n",
    "train_fliped_data3 = train_fliped3.drop('label',axis=1)\n",
    "train_fliped_target3 = train_fliped3['label']"
   ]
  },
  {
   "cell_type": "code",
   "execution_count": 21,
   "metadata": {},
   "outputs": [
    {
     "data": {
      "text/plain": [
       "<matplotlib.image.AxesImage at 0x1da36bf7b50>"
      ]
     },
     "execution_count": 21,
     "metadata": {},
     "output_type": "execute_result"
    },
    {
     "data": {
      "image/png": "[encoded data removed]",
      "text/plain": [
       "<Figure size 432x288 with 1 Axes>"
      ]
     },
     "metadata": {
      "needs_background": "light"
     },
     "output_type": "display_data"
    }
   ],
   "source": [
    "plt.imshow(np.flip(np.array(train_fliped_data2.loc[1]).reshape(50,50,3),2))"
   ]
  },
  {
   "cell_type": "code",
   "execution_count": 22,
   "metadata": {},
   "outputs": [
    {
     "data": {
      "text/plain": [
       "<matplotlib.image.AxesImage at 0x1da792a8070>"
      ]
     },
     "execution_count": 22,
     "metadata": {},
     "output_type": "execute_result"
    },
    {
     "data": {
      "image/png": "[encoded data removed]",
      "text/plain": [
       "<Figure size 432x288 with 1 Axes>"
      ]
     },
     "metadata": {
      "needs_background": "light"
     },
     "output_type": "display_data"
    }
   ],
   "source": [
    "plt.imshow(np.flip(np.array(train_fliped_data3.loc[1]).reshape(50,50,3),2))"
   ]
  },
  {
   "cell_type": "code",
   "execution_count": 18,
   "metadata": {},
   "outputs": [],
   "source": [
    "full_train_data2 = pd.concat([train_data,train_fliped_data,train_fliped_data2,train_fliped_data3])"
   ]
  },
  {
   "cell_type": "code",
   "execution_count": 19,
   "metadata": {},
   "outputs": [],
   "source": [
    "full_train_target2 = pd.concat([train_target,train_fliped_target,train_fliped_target2,train_fliped_target3])"
   ]
  },
  {
   "cell_type": "code",
   "execution_count": 28,
   "metadata": {
    "scrolled": true
   },
   "outputs": [
    {
     "ename": "MemoryError",
     "evalue": "Unable to allocate 4.47 GiB for an array with shape (80000, 7500) and data type float64",
     "output_type": "error",
     "traceback": [
      "\u001b[1;31m---------------------------------------------------------------------------\u001b[0m",
      "\u001b[1;31mMemoryError\u001b[0m                               Traceback (most recent call last)",
      "\u001b[1;32m<ipython-input-28-b7fe408f0c7e>\u001b[0m in \u001b[0;36m<module>\u001b[1;34m\u001b[0m\n\u001b[0;32m      1\u001b[0m \u001b[0msc\u001b[0m\u001b[1;33m=\u001b[0m \u001b[0mStandardScaler\u001b[0m\u001b[1;33m(\u001b[0m\u001b[1;33m)\u001b[0m\u001b[1;33m\u001b[0m\u001b[1;33m\u001b[0m\u001b[0m\n\u001b[1;32m----> 2\u001b[1;33m \u001b[0mscaled_train2\u001b[0m \u001b[1;33m=\u001b[0m \u001b[0msc\u001b[0m\u001b[1;33m.\u001b[0m\u001b[0mfit_transform\u001b[0m\u001b[1;33m(\u001b[0m\u001b[0mfull_train_data2\u001b[0m\u001b[1;33m)\u001b[0m\u001b[1;33m\u001b[0m\u001b[1;33m\u001b[0m\u001b[0m\n\u001b[0m\u001b[0;32m      3\u001b[0m \u001b[0mscaled_test2\u001b[0m \u001b[1;33m=\u001b[0m \u001b[0msc\u001b[0m\u001b[1;33m.\u001b[0m\u001b[0mtransform\u001b[0m\u001b[1;33m(\u001b[0m\u001b[0mtest_data\u001b[0m\u001b[1;33m)\u001b[0m\u001b[1;33m\u001b[0m\u001b[1;33m\u001b[0m\u001b[0m\n",
      "\u001b[1;32m~\\Anaconda3\\lib\\site-packages\\sklearn\\base.py\u001b[0m in \u001b[0;36mfit_transform\u001b[1;34m(self, X, y, **fit_params)\u001b[0m\n\u001b[0;32m    697\u001b[0m         \u001b[1;32mif\u001b[0m \u001b[0my\u001b[0m \u001b[1;32mis\u001b[0m \u001b[1;32mNone\u001b[0m\u001b[1;33m:\u001b[0m\u001b[1;33m\u001b[0m\u001b[1;33m\u001b[0m\u001b[0m\n\u001b[0;32m    698\u001b[0m             \u001b[1;31m# fit method of arity 1 (unsupervised transformation)\u001b[0m\u001b[1;33m\u001b[0m\u001b[1;33m\u001b[0m\u001b[1;33m\u001b[0m\u001b[0m\n\u001b[1;32m--> 699\u001b[1;33m             \u001b[1;32mreturn\u001b[0m \u001b[0mself\u001b[0m\u001b[1;33m.\u001b[0m\u001b[0mfit\u001b[0m\u001b[1;33m(\u001b[0m\u001b[0mX\u001b[0m\u001b[1;33m,\u001b[0m \u001b[1;33m**\u001b[0m\u001b[0mfit_params\u001b[0m\u001b[1;33m)\u001b[0m\u001b[1;33m.\u001b[0m\u001b[0mtransform\u001b[0m\u001b[1;33m(\u001b[0m\u001b[0mX\u001b[0m\u001b[1;33m)\u001b[0m\u001b[1;33m\u001b[0m\u001b[1;33m\u001b[0m\u001b[0m\n\u001b[0m\u001b[0;32m    700\u001b[0m         \u001b[1;32melse\u001b[0m\u001b[1;33m:\u001b[0m\u001b[1;33m\u001b[0m\u001b[1;33m\u001b[0m\u001b[0m\n\u001b[0;32m    701\u001b[0m             \u001b[1;31m# fit method of arity 2 (supervised transformation)\u001b[0m\u001b[1;33m\u001b[0m\u001b[1;33m\u001b[0m\u001b[1;33m\u001b[0m\u001b[0m\n",
      "\u001b[1;32m~\\Anaconda3\\lib\\site-packages\\sklearn\\preprocessing\\_data.py\u001b[0m in \u001b[0;36mfit\u001b[1;34m(self, X, y, sample_weight)\u001b[0m\n\u001b[0;32m    728\u001b[0m         \u001b[1;31m# Reset internal state before fitting\u001b[0m\u001b[1;33m\u001b[0m\u001b[1;33m\u001b[0m\u001b[1;33m\u001b[0m\u001b[0m\n\u001b[0;32m    729\u001b[0m         \u001b[0mself\u001b[0m\u001b[1;33m.\u001b[0m\u001b[0m_reset\u001b[0m\u001b[1;33m(\u001b[0m\u001b[1;33m)\u001b[0m\u001b[1;33m\u001b[0m\u001b[1;33m\u001b[0m\u001b[0m\n\u001b[1;32m--> 730\u001b[1;33m         \u001b[1;32mreturn\u001b[0m \u001b[0mself\u001b[0m\u001b[1;33m.\u001b[0m\u001b[0mpartial_fit\u001b[0m\u001b[1;33m(\u001b[0m\u001b[0mX\u001b[0m\u001b[1;33m,\u001b[0m \u001b[0my\u001b[0m\u001b[1;33m,\u001b[0m \u001b[0msample_weight\u001b[0m\u001b[1;33m)\u001b[0m\u001b[1;33m\u001b[0m\u001b[1;33m\u001b[0m\u001b[0m\n\u001b[0m\u001b[0;32m    731\u001b[0m \u001b[1;33m\u001b[0m\u001b[0m\n\u001b[0;32m    732\u001b[0m     \u001b[1;32mdef\u001b[0m \u001b[0mpartial_fit\u001b[0m\u001b[1;33m(\u001b[0m\u001b[0mself\u001b[0m\u001b[1;33m,\u001b[0m \u001b[0mX\u001b[0m\u001b[1;33m,\u001b[0m \u001b[0my\u001b[0m\u001b[1;33m=\u001b[0m\u001b[1;32mNone\u001b[0m\u001b[1;33m,\u001b[0m \u001b[0msample_weight\u001b[0m\u001b[1;33m=\u001b[0m\u001b[1;32mNone\u001b[0m\u001b[1;33m)\u001b[0m\u001b[1;33m:\u001b[0m\u001b[1;33m\u001b[0m\u001b[1;33m\u001b[0m\u001b[0m\n",
      "\u001b[1;32m~\\Anaconda3\\lib\\site-packages\\sklearn\\preprocessing\\_data.py\u001b[0m in \u001b[0;36mpartial_fit\u001b[1;34m(self, X, y, sample_weight)\u001b[0m\n\u001b[0;32m    764\u001b[0m         \"\"\"\n\u001b[0;32m    765\u001b[0m         \u001b[0mfirst_call\u001b[0m \u001b[1;33m=\u001b[0m \u001b[1;32mnot\u001b[0m \u001b[0mhasattr\u001b[0m\u001b[1;33m(\u001b[0m\u001b[0mself\u001b[0m\u001b[1;33m,\u001b[0m \u001b[1;34m\"n_samples_seen_\"\u001b[0m\u001b[1;33m)\u001b[0m\u001b[1;33m\u001b[0m\u001b[1;33m\u001b[0m\u001b[0m\n\u001b[1;32m--> 766\u001b[1;33m         X = self._validate_data(X, accept_sparse=('csr', 'csc'),\n\u001b[0m\u001b[0;32m    767\u001b[0m                                 \u001b[0mestimator\u001b[0m\u001b[1;33m=\u001b[0m\u001b[0mself\u001b[0m\u001b[1;33m,\u001b[0m \u001b[0mdtype\u001b[0m\u001b[1;33m=\u001b[0m\u001b[0mFLOAT_DTYPES\u001b[0m\u001b[1;33m,\u001b[0m\u001b[1;33m\u001b[0m\u001b[1;33m\u001b[0m\u001b[0m\n\u001b[0;32m    768\u001b[0m                                 force_all_finite='allow-nan', reset=first_call)\n",
      "\u001b[1;32m~\\Anaconda3\\lib\\site-packages\\sklearn\\base.py\u001b[0m in \u001b[0;36m_validate_data\u001b[1;34m(self, X, y, reset, validate_separately, **check_params)\u001b[0m\n\u001b[0;32m    419\u001b[0m             \u001b[0mout\u001b[0m \u001b[1;33m=\u001b[0m \u001b[0mX\u001b[0m\u001b[1;33m\u001b[0m\u001b[1;33m\u001b[0m\u001b[0m\n\u001b[0;32m    420\u001b[0m         \u001b[1;32melif\u001b[0m \u001b[0misinstance\u001b[0m\u001b[1;33m(\u001b[0m\u001b[0my\u001b[0m\u001b[1;33m,\u001b[0m \u001b[0mstr\u001b[0m\u001b[1;33m)\u001b[0m \u001b[1;32mand\u001b[0m \u001b[0my\u001b[0m \u001b[1;33m==\u001b[0m \u001b[1;34m'no_validation'\u001b[0m\u001b[1;33m:\u001b[0m\u001b[1;33m\u001b[0m\u001b[1;33m\u001b[0m\u001b[0m\n\u001b[1;32m--> 421\u001b[1;33m             \u001b[0mX\u001b[0m \u001b[1;33m=\u001b[0m \u001b[0mcheck_array\u001b[0m\u001b[1;33m(\u001b[0m\u001b[0mX\u001b[0m\u001b[1;33m,\u001b[0m \u001b[1;33m**\u001b[0m\u001b[0mcheck_params\u001b[0m\u001b[1;33m)\u001b[0m\u001b[1;33m\u001b[0m\u001b[1;33m\u001b[0m\u001b[0m\n\u001b[0m\u001b[0;32m    422\u001b[0m             \u001b[0mout\u001b[0m \u001b[1;33m=\u001b[0m \u001b[0mX\u001b[0m\u001b[1;33m\u001b[0m\u001b[1;33m\u001b[0m\u001b[0m\n\u001b[0;32m    423\u001b[0m         \u001b[1;32melse\u001b[0m\u001b[1;33m:\u001b[0m\u001b[1;33m\u001b[0m\u001b[1;33m\u001b[0m\u001b[0m\n",
      "\u001b[1;32m~\\Anaconda3\\lib\\site-packages\\sklearn\\utils\\validation.py\u001b[0m in \u001b[0;36minner_f\u001b[1;34m(*args, **kwargs)\u001b[0m\n\u001b[0;32m     61\u001b[0m             \u001b[0mextra_args\u001b[0m \u001b[1;33m=\u001b[0m \u001b[0mlen\u001b[0m\u001b[1;33m(\u001b[0m\u001b[0margs\u001b[0m\u001b[1;33m)\u001b[0m \u001b[1;33m-\u001b[0m \u001b[0mlen\u001b[0m\u001b[1;33m(\u001b[0m\u001b[0mall_args\u001b[0m\u001b[1;33m)\u001b[0m\u001b[1;33m\u001b[0m\u001b[1;33m\u001b[0m\u001b[0m\n\u001b[0;32m     62\u001b[0m             \u001b[1;32mif\u001b[0m \u001b[0mextra_args\u001b[0m \u001b[1;33m<=\u001b[0m \u001b[1;36m0\u001b[0m\u001b[1;33m:\u001b[0m\u001b[1;33m\u001b[0m\u001b[1;33m\u001b[0m\u001b[0m\n\u001b[1;32m---> 63\u001b[1;33m                 \u001b[1;32mreturn\u001b[0m \u001b[0mf\u001b[0m\u001b[1;33m(\u001b[0m\u001b[1;33m*\u001b[0m\u001b[0margs\u001b[0m\u001b[1;33m,\u001b[0m \u001b[1;33m**\u001b[0m\u001b[0mkwargs\u001b[0m\u001b[1;33m)\u001b[0m\u001b[1;33m\u001b[0m\u001b[1;33m\u001b[0m\u001b[0m\n\u001b[0m\u001b[0;32m     64\u001b[0m \u001b[1;33m\u001b[0m\u001b[0m\n\u001b[0;32m     65\u001b[0m             \u001b[1;31m# extra_args > 0\u001b[0m\u001b[1;33m\u001b[0m\u001b[1;33m\u001b[0m\u001b[1;33m\u001b[0m\u001b[0m\n",
      "\u001b[1;32m~\\Anaconda3\\lib\\site-packages\\sklearn\\utils\\validation.py\u001b[0m in \u001b[0;36mcheck_array\u001b[1;34m(array, accept_sparse, accept_large_sparse, dtype, order, copy, force_all_finite, ensure_2d, allow_nd, ensure_min_samples, ensure_min_features, estimator)\u001b[0m\n\u001b[0;32m    614\u001b[0m                     \u001b[0marray\u001b[0m \u001b[1;33m=\u001b[0m \u001b[0marray\u001b[0m\u001b[1;33m.\u001b[0m\u001b[0mastype\u001b[0m\u001b[1;33m(\u001b[0m\u001b[0mdtype\u001b[0m\u001b[1;33m,\u001b[0m \u001b[0mcasting\u001b[0m\u001b[1;33m=\u001b[0m\u001b[1;34m\"unsafe\"\u001b[0m\u001b[1;33m,\u001b[0m \u001b[0mcopy\u001b[0m\u001b[1;33m=\u001b[0m\u001b[1;32mFalse\u001b[0m\u001b[1;33m)\u001b[0m\u001b[1;33m\u001b[0m\u001b[1;33m\u001b[0m\u001b[0m\n\u001b[0;32m    615\u001b[0m                 \u001b[1;32melse\u001b[0m\u001b[1;33m:\u001b[0m\u001b[1;33m\u001b[0m\u001b[1;33m\u001b[0m\u001b[0m\n\u001b[1;32m--> 616\u001b[1;33m                     \u001b[0marray\u001b[0m \u001b[1;33m=\u001b[0m \u001b[0mnp\u001b[0m\u001b[1;33m.\u001b[0m\u001b[0masarray\u001b[0m\u001b[1;33m(\u001b[0m\u001b[0marray\u001b[0m\u001b[1;33m,\u001b[0m \u001b[0morder\u001b[0m\u001b[1;33m=\u001b[0m\u001b[0morder\u001b[0m\u001b[1;33m,\u001b[0m \u001b[0mdtype\u001b[0m\u001b[1;33m=\u001b[0m\u001b[0mdtype\u001b[0m\u001b[1;33m)\u001b[0m\u001b[1;33m\u001b[0m\u001b[1;33m\u001b[0m\u001b[0m\n\u001b[0m\u001b[0;32m    617\u001b[0m             \u001b[1;32mexcept\u001b[0m \u001b[0mComplexWarning\u001b[0m \u001b[1;32mas\u001b[0m \u001b[0mcomplex_warning\u001b[0m\u001b[1;33m:\u001b[0m\u001b[1;33m\u001b[0m\u001b[1;33m\u001b[0m\u001b[0m\n\u001b[0;32m    618\u001b[0m                 raise ValueError(\"Complex data not supported\\n\"\n",
      "\u001b[1;32m~\\Anaconda3\\lib\\site-packages\\numpy\\core\\_asarray.py\u001b[0m in \u001b[0;36masarray\u001b[1;34m(a, dtype, order, like)\u001b[0m\n\u001b[0;32m    100\u001b[0m         \u001b[1;32mreturn\u001b[0m \u001b[0m_asarray_with_like\u001b[0m\u001b[1;33m(\u001b[0m\u001b[0ma\u001b[0m\u001b[1;33m,\u001b[0m \u001b[0mdtype\u001b[0m\u001b[1;33m=\u001b[0m\u001b[0mdtype\u001b[0m\u001b[1;33m,\u001b[0m \u001b[0morder\u001b[0m\u001b[1;33m=\u001b[0m\u001b[0morder\u001b[0m\u001b[1;33m,\u001b[0m \u001b[0mlike\u001b[0m\u001b[1;33m=\u001b[0m\u001b[0mlike\u001b[0m\u001b[1;33m)\u001b[0m\u001b[1;33m\u001b[0m\u001b[1;33m\u001b[0m\u001b[0m\n\u001b[0;32m    101\u001b[0m \u001b[1;33m\u001b[0m\u001b[0m\n\u001b[1;32m--> 102\u001b[1;33m     \u001b[1;32mreturn\u001b[0m \u001b[0marray\u001b[0m\u001b[1;33m(\u001b[0m\u001b[0ma\u001b[0m\u001b[1;33m,\u001b[0m \u001b[0mdtype\u001b[0m\u001b[1;33m,\u001b[0m \u001b[0mcopy\u001b[0m\u001b[1;33m=\u001b[0m\u001b[1;32mFalse\u001b[0m\u001b[1;33m,\u001b[0m \u001b[0morder\u001b[0m\u001b[1;33m=\u001b[0m\u001b[0morder\u001b[0m\u001b[1;33m)\u001b[0m\u001b[1;33m\u001b[0m\u001b[1;33m\u001b[0m\u001b[0m\n\u001b[0m\u001b[0;32m    103\u001b[0m \u001b[1;33m\u001b[0m\u001b[0m\n\u001b[0;32m    104\u001b[0m \u001b[1;33m\u001b[0m\u001b[0m\n",
      "\u001b[1;32m~\\Anaconda3\\lib\\site-packages\\pandas\\core\\generic.py\u001b[0m in \u001b[0;36m__array__\u001b[1;34m(self, dtype)\u001b[0m\n\u001b[0;32m   1897\u001b[0m \u001b[1;33m\u001b[0m\u001b[0m\n\u001b[0;32m   1898\u001b[0m     \u001b[1;32mdef\u001b[0m \u001b[0m__array__\u001b[0m\u001b[1;33m(\u001b[0m\u001b[0mself\u001b[0m\u001b[1;33m,\u001b[0m \u001b[0mdtype\u001b[0m\u001b[1;33m=\u001b[0m\u001b[1;32mNone\u001b[0m\u001b[1;33m)\u001b[0m \u001b[1;33m->\u001b[0m \u001b[0mnp\u001b[0m\u001b[1;33m.\u001b[0m\u001b[0mndarray\u001b[0m\u001b[1;33m:\u001b[0m\u001b[1;33m\u001b[0m\u001b[1;33m\u001b[0m\u001b[0m\n\u001b[1;32m-> 1899\u001b[1;33m         \u001b[1;32mreturn\u001b[0m \u001b[0mnp\u001b[0m\u001b[1;33m.\u001b[0m\u001b[0masarray\u001b[0m\u001b[1;33m(\u001b[0m\u001b[0mself\u001b[0m\u001b[1;33m.\u001b[0m\u001b[0m_values\u001b[0m\u001b[1;33m,\u001b[0m \u001b[0mdtype\u001b[0m\u001b[1;33m=\u001b[0m\u001b[0mdtype\u001b[0m\u001b[1;33m)\u001b[0m\u001b[1;33m\u001b[0m\u001b[1;33m\u001b[0m\u001b[0m\n\u001b[0m\u001b[0;32m   1900\u001b[0m \u001b[1;33m\u001b[0m\u001b[0m\n\u001b[0;32m   1901\u001b[0m     def __array_wrap__(\n",
      "\u001b[1;32m~\\Anaconda3\\lib\\site-packages\\numpy\\core\\_asarray.py\u001b[0m in \u001b[0;36masarray\u001b[1;34m(a, dtype, order, like)\u001b[0m\n\u001b[0;32m    100\u001b[0m         \u001b[1;32mreturn\u001b[0m \u001b[0m_asarray_with_like\u001b[0m\u001b[1;33m(\u001b[0m\u001b[0ma\u001b[0m\u001b[1;33m,\u001b[0m \u001b[0mdtype\u001b[0m\u001b[1;33m=\u001b[0m\u001b[0mdtype\u001b[0m\u001b[1;33m,\u001b[0m \u001b[0morder\u001b[0m\u001b[1;33m=\u001b[0m\u001b[0morder\u001b[0m\u001b[1;33m,\u001b[0m \u001b[0mlike\u001b[0m\u001b[1;33m=\u001b[0m\u001b[0mlike\u001b[0m\u001b[1;33m)\u001b[0m\u001b[1;33m\u001b[0m\u001b[1;33m\u001b[0m\u001b[0m\n\u001b[0;32m    101\u001b[0m \u001b[1;33m\u001b[0m\u001b[0m\n\u001b[1;32m--> 102\u001b[1;33m     \u001b[1;32mreturn\u001b[0m \u001b[0marray\u001b[0m\u001b[1;33m(\u001b[0m\u001b[0ma\u001b[0m\u001b[1;33m,\u001b[0m \u001b[0mdtype\u001b[0m\u001b[1;33m,\u001b[0m \u001b[0mcopy\u001b[0m\u001b[1;33m=\u001b[0m\u001b[1;32mFalse\u001b[0m\u001b[1;33m,\u001b[0m \u001b[0morder\u001b[0m\u001b[1;33m=\u001b[0m\u001b[0morder\u001b[0m\u001b[1;33m)\u001b[0m\u001b[1;33m\u001b[0m\u001b[1;33m\u001b[0m\u001b[0m\n\u001b[0m\u001b[0;32m    103\u001b[0m \u001b[1;33m\u001b[0m\u001b[0m\n\u001b[0;32m    104\u001b[0m \u001b[1;33m\u001b[0m\u001b[0m\n",
      "\u001b[1;31mMemoryError\u001b[0m: Unable to allocate 4.47 GiB for an array with shape (80000, 7500) and data type float64"
     ]
    }
   ],
   "source": [
    "sc= StandardScaler()\n",
    "scaled_train2 = sc.fit_transform(full_train_data2)\n",
    "scaled_test2 = sc.transform(test_data)"
   ]
  },
  {
   "cell_type": "code",
   "execution_count": 22,
   "metadata": {},
   "outputs": [
    {
     "data": {
      "text/plain": [
       "RandomForestClassifier()"
      ]
     },
     "execution_count": 22,
     "metadata": {},
     "output_type": "execute_result"
    }
   ],
   "source": [
    "rfc = RandomForestClassifier()\n",
    "rfc.fit(full_train_data2,full_train_target2)\n",
    "rfc"
   ]
  },
  {
   "cell_type": "code",
   "execution_count": 23,
   "metadata": {},
   "outputs": [],
   "source": [
    "y_pred = rfc.predict(test_data)"
   ]
  },
  {
   "cell_type": "code",
   "execution_count": 24,
   "metadata": {},
   "outputs": [
    {
     "name": "stdout",
     "output_type": "stream",
     "text": [
      "              precision    recall  f1-score   support\n",
      "\n",
      "           0       0.62      0.67      0.64      2496\n",
      "           1       0.64      0.59      0.61      2504\n",
      "\n",
      "    accuracy                           0.63      5000\n",
      "   macro avg       0.63      0.63      0.63      5000\n",
      "weighted avg       0.63      0.63      0.63      5000\n",
      "\n"
     ]
    }
   ],
   "source": [
    "print (classification_report(test_target,y_pred))"
   ]
  },
  {
   "cell_type": "code",
   "execution_count": 25,
   "metadata": {},
   "outputs": [
    {
     "data": {
      "text/plain": [
       "0.6296"
      ]
     },
     "execution_count": 25,
     "metadata": {},
     "output_type": "execute_result"
    }
   ],
   "source": [
    "metrics.accuracy_score(test_target,y_pred)"
   ]
  },
  {
   "cell_type": "code",
   "execution_count": 26,
   "metadata": {},
   "outputs": [
    {
     "data": {
      "text/plain": [
       "Text(33.0, 0.5, 'Actual')"
      ]
     },
     "execution_count": 26,
     "metadata": {},
     "output_type": "execute_result"
    },
    {
     "data": {
      "image/png": "[encoded data removed]",
      "text/plain": [
       "<Figure size 432x288 with 2 Axes>"
      ]
     },
     "metadata": {
      "needs_background": "light"
     },
     "output_type": "display_data"
    }
   ],
   "source": [
    "cm = confusion_matrix(test_target,y_pred)\n",
    "sns.heatmap(cm,annot=True,annot_kws = {'size':15},fmt=\".1f\")\n",
    "plt.xlabel(\"Predict\")\n",
    "plt.ylabel(\"Actual\")"
   ]
  },
  {
   "cell_type": "code",
   "execution_count": null,
   "metadata": {},
   "outputs": [],
   "source": []
  },
  {
   "cell_type": "code",
   "execution_count": null,
   "metadata": {},
   "outputs": [],
   "source": []
  },
  {
   "cell_type": "code",
   "execution_count": null,
   "metadata": {},
   "outputs": [],
   "source": []
  },
  {
   "cell_type": "code",
   "execution_count": null,
   "metadata": {},
   "outputs": [],
   "source": []
  },
  {
   "cell_type": "code",
   "execution_count": null,
   "metadata": {},
   "outputs": [],
   "source": []
  },
  {
   "cell_type": "code",
   "execution_count": null,
   "metadata": {},
   "outputs": [],
   "source": []
  },
  {
   "cell_type": "code",
   "execution_count": null,
   "metadata": {},
   "outputs": [],
   "source": []
  },
  {
   "cell_type": "code",
   "execution_count": 9,
   "metadata": {},
   "outputs": [],
   "source": [
    "sc= StandardScaler()\n",
    "scaled_train = sc.fit_transform(X_train)\n",
    "scaled_test = sc.transform(X_test)"
   ]
  },
  {
   "cell_type": "code",
   "execution_count": 10,
   "metadata": {},
   "outputs": [
    {
     "data": {
      "text/plain": [
       "RandomForestClassifier()"
      ]
     },
     "execution_count": 10,
     "metadata": {},
     "output_type": "execute_result"
    }
   ],
   "source": [
    "rfc = RandomForestClassifier()\n",
    "rfc.fit(scaled_train,y_train)\n",
    "rfc"
   ]
  },
  {
   "cell_type": "code",
   "execution_count": 11,
   "metadata": {},
   "outputs": [],
   "source": [
    "y_pred = rfc.predict(scaled_test)"
   ]
  },
  {
   "cell_type": "code",
   "execution_count": 12,
   "metadata": {},
   "outputs": [
    {
     "name": "stdout",
     "output_type": "stream",
     "text": [
      "              precision    recall  f1-score   support\n",
      "\n",
      "           0       0.65      0.71      0.68      3149\n",
      "           1       0.67      0.61      0.64      3101\n",
      "\n",
      "    accuracy                           0.66      6250\n",
      "   macro avg       0.66      0.66      0.66      6250\n",
      "weighted avg       0.66      0.66      0.66      6250\n",
      "\n"
     ]
    }
   ],
   "source": [
    "print (classification_report(y_test,y_pred))"
   ]
  },
  {
   "cell_type": "code",
   "execution_count": 13,
   "metadata": {},
   "outputs": [
    {
     "data": {
      "text/plain": [
       "0.65776"
      ]
     },
     "execution_count": 13,
     "metadata": {},
     "output_type": "execute_result"
    }
   ],
   "source": [
    "metrics.accuracy_score(y_test,y_pred)"
   ]
  },
  {
   "cell_type": "code",
   "execution_count": 14,
   "metadata": {},
   "outputs": [],
   "source": [
    "xg = XGBClassifier(use_label_encoder=False)"
   ]
  },
  {
   "cell_type": "code",
   "execution_count": 15,
   "metadata": {},
   "outputs": [
    {
     "data": {
      "text/plain": [
       "RandomForestClassifier()"
      ]
     },
     "execution_count": 15,
     "metadata": {},
     "output_type": "execute_result"
    }
   ],
   "source": [
    "xg = RandomForestClassifier()\n",
    "xg.fit(scaled_train,y_train)\n",
    "xg"
   ]
  },
  {
   "cell_type": "code",
   "execution_count": 16,
   "metadata": {},
   "outputs": [],
   "source": [
    "y_pred = xg.predict(scaled_test)"
   ]
  },
  {
   "cell_type": "code",
   "execution_count": 17,
   "metadata": {},
   "outputs": [
    {
     "name": "stdout",
     "output_type": "stream",
     "text": [
      "              precision    recall  f1-score   support\n",
      "\n",
      "           0       0.64      0.70      0.67      3149\n",
      "           1       0.66      0.61      0.64      3101\n",
      "\n",
      "    accuracy                           0.65      6250\n",
      "   macro avg       0.65      0.65      0.65      6250\n",
      "weighted avg       0.65      0.65      0.65      6250\n",
      "\n"
     ]
    }
   ],
   "source": [
    "print (classification_report(y_test,y_pred))"
   ]
  },
  {
   "cell_type": "code",
   "execution_count": null,
   "metadata": {},
   "outputs": [],
   "source": []
  }
 ],
 "metadata": {
  "kernelspec": {
   "display_name": "Python 3",
   "language": "python",
   "name": "python3"
  },
  "language_info": {
   "codemirror_mode": {
    "name": "ipython",
    "version": 3
   },
   "file_extension": ".py",
   "mimetype": "text/x-python",
   "name": "python",
   "nbconvert_exporter": "python",
   "pygments_lexer": "ipython3",
   "version": "3.8.3"
  }
 },
 "nbformat": 4,
 "nbformat_minor": 4
}
