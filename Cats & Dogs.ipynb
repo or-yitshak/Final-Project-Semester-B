{
 "cells": [
  {
   "cell_type": "code",
   "execution_count": 2,
   "metadata": {},
   "outputs": [],
   "source": [
    "import pandas as pd\n",
    "import seaborn as sns\n",
    "import matplotlib.pyplot as plt\n",
    "%matplotlib inline\n",
    "import numpy as np\n",
    "import os\n",
    "import cv2\n",
    "\n",
    "from random import shuffle\n",
    "from sklearn.preprocessing import MinMaxScaler\n",
    "from sklearn.preprocessing import StandardScaler\n",
    "from sklearn.model_selection import train_test_split\n",
    "from sklearn.neighbors import KNeighborsClassifier\n",
    "from sklearn.tree import DecisionTreeClassifier\n",
    "from sklearn import metrics\n",
    "from sklearn.metrics import classification_report,confusion_matrix\n",
    "from sklearn.model_selection import cross_val_score\n",
    "from sklearn.model_selection import GridSearchCV\n",
    "from sklearn.model_selection import RandomizedSearchCV\n",
    "from sklearn.tree import plot_tree\n",
    "from sklearn.dummy import DummyClassifier\n",
    "from sklearn.ensemble import RandomForestClassifier\n",
    "from sklearn.decomposition import PCA\n",
    "from sklearn.pipeline import Pipeline\n",
    "from sklearn.ensemble import AdaBoostClassifier\n",
    "from sklearn.ensemble import VotingClassifier\n",
    "from sklearn.ensemble import GradientBoostingClassifier\n",
    "from sklearn.ensemble import StackingClassifier\n",
    "\n",
    "from xgboost import XGBClassifier"
   ]
  },
  {
   "cell_type": "code",
   "execution_count": 3,
   "metadata": {},
   "outputs": [],
   "source": [
    "def label_img(img):\n",
    "    word_label = img.split('.')[0]\n",
    "    if word_label == 'dog' : return 1\n",
    "    elif word_label == 'cat' : return 0"
   ]
  },
  {
   "cell_type": "code",
   "execution_count": 4,
   "metadata": {},
   "outputs": [],
   "source": [
    "train_data = []\n",
    "train_label = []\n",
    "for img in os.listdir(r'C:\\Users\\guyit\\Desktop\\train'):\n",
    "    label = label_img(img)\n",
    "    path = os.path.join(r'C:\\Users\\guyit\\Desktop\\train',img)\n",
    "    img = cv2.resize(cv2.imread(path, cv2.IMREAD_GRAYSCALE),(28,28))\n",
    "    train_data.append(np.array(img).flatten())\n",
    "    train_label.append(label)\n",
    "np.save('training_data.npy',train_data)\n",
    "np.save('training_label.npy',train_label)"
   ]
  },
  {
   "cell_type": "code",
   "execution_count": 5,
   "metadata": {},
   "outputs": [],
   "source": [
    "cols = []\n",
    "for i in range(784):\n",
    "    cols.append(\"pixel_\"+str(i))"
   ]
  },
  {
   "cell_type": "code",
   "execution_count": 6,
   "metadata": {},
   "outputs": [
    {
     "data": {
      "text/html": [
       "<div>\n",
       "<style scoped>\n",
       "    .dataframe tbody tr th:only-of-type {\n",
       "        vertical-align: middle;\n",
       "    }\n",
       "\n",
       "    .dataframe tbody tr th {\n",
       "        vertical-align: top;\n",
       "    }\n",
       "\n",
       "    .dataframe thead th {\n",
       "        text-align: right;\n",
       "    }\n",
       "</style>\n",
       "<table border=\"1\" class=\"dataframe\">\n",
       "  <thead>\n",
       "    <tr style=\"text-align: right;\">\n",
       "      <th></th>\n",
       "      <th>pixel_0</th>\n",
       "      <th>pixel_1</th>\n",
       "      <th>pixel_2</th>\n",
       "      <th>pixel_3</th>\n",
       "      <th>pixel_4</th>\n",
       "      <th>pixel_5</th>\n",
       "      <th>pixel_6</th>\n",
       "      <th>pixel_7</th>\n",
       "      <th>pixel_8</th>\n",
       "      <th>pixel_9</th>\n",
       "      <th>...</th>\n",
       "      <th>pixel_775</th>\n",
       "      <th>pixel_776</th>\n",
       "      <th>pixel_777</th>\n",
       "      <th>pixel_778</th>\n",
       "      <th>pixel_779</th>\n",
       "      <th>pixel_780</th>\n",
       "      <th>pixel_781</th>\n",
       "      <th>pixel_782</th>\n",
       "      <th>pixel_783</th>\n",
       "      <th>label</th>\n",
       "    </tr>\n",
       "  </thead>\n",
       "  <tbody>\n",
       "    <tr>\n",
       "      <th>0</th>\n",
       "      <td>173</td>\n",
       "      <td>187</td>\n",
       "      <td>197</td>\n",
       "      <td>204</td>\n",
       "      <td>209</td>\n",
       "      <td>215</td>\n",
       "      <td>184</td>\n",
       "      <td>165</td>\n",
       "      <td>143</td>\n",
       "      <td>96</td>\n",
       "      <td>...</td>\n",
       "      <td>28</td>\n",
       "      <td>4</td>\n",
       "      <td>9</td>\n",
       "      <td>34</td>\n",
       "      <td>28</td>\n",
       "      <td>9</td>\n",
       "      <td>2</td>\n",
       "      <td>3</td>\n",
       "      <td>3</td>\n",
       "      <td>0</td>\n",
       "    </tr>\n",
       "    <tr>\n",
       "      <th>1</th>\n",
       "      <td>36</td>\n",
       "      <td>44</td>\n",
       "      <td>41</td>\n",
       "      <td>40</td>\n",
       "      <td>41</td>\n",
       "      <td>53</td>\n",
       "      <td>67</td>\n",
       "      <td>64</td>\n",
       "      <td>62</td>\n",
       "      <td>73</td>\n",
       "      <td>...</td>\n",
       "      <td>62</td>\n",
       "      <td>26</td>\n",
       "      <td>33</td>\n",
       "      <td>71</td>\n",
       "      <td>53</td>\n",
       "      <td>87</td>\n",
       "      <td>57</td>\n",
       "      <td>52</td>\n",
       "      <td>42</td>\n",
       "      <td>0</td>\n",
       "    </tr>\n",
       "    <tr>\n",
       "      <th>2</th>\n",
       "      <td>56</td>\n",
       "      <td>58</td>\n",
       "      <td>62</td>\n",
       "      <td>61</td>\n",
       "      <td>56</td>\n",
       "      <td>50</td>\n",
       "      <td>48</td>\n",
       "      <td>43</td>\n",
       "      <td>48</td>\n",
       "      <td>56</td>\n",
       "      <td>...</td>\n",
       "      <td>106</td>\n",
       "      <td>147</td>\n",
       "      <td>63</td>\n",
       "      <td>76</td>\n",
       "      <td>68</td>\n",
       "      <td>72</td>\n",
       "      <td>131</td>\n",
       "      <td>145</td>\n",
       "      <td>172</td>\n",
       "      <td>0</td>\n",
       "    </tr>\n",
       "    <tr>\n",
       "      <th>3</th>\n",
       "      <td>222</td>\n",
       "      <td>236</td>\n",
       "      <td>226</td>\n",
       "      <td>228</td>\n",
       "      <td>231</td>\n",
       "      <td>223</td>\n",
       "      <td>231</td>\n",
       "      <td>224</td>\n",
       "      <td>216</td>\n",
       "      <td>208</td>\n",
       "      <td>...</td>\n",
       "      <td>159</td>\n",
       "      <td>178</td>\n",
       "      <td>255</td>\n",
       "      <td>251</td>\n",
       "      <td>237</td>\n",
       "      <td>223</td>\n",
       "      <td>208</td>\n",
       "      <td>209</td>\n",
       "      <td>212</td>\n",
       "      <td>0</td>\n",
       "    </tr>\n",
       "    <tr>\n",
       "      <th>4</th>\n",
       "      <td>99</td>\n",
       "      <td>82</td>\n",
       "      <td>145</td>\n",
       "      <td>198</td>\n",
       "      <td>222</td>\n",
       "      <td>237</td>\n",
       "      <td>202</td>\n",
       "      <td>236</td>\n",
       "      <td>85</td>\n",
       "      <td>136</td>\n",
       "      <td>...</td>\n",
       "      <td>92</td>\n",
       "      <td>97</td>\n",
       "      <td>92</td>\n",
       "      <td>86</td>\n",
       "      <td>86</td>\n",
       "      <td>85</td>\n",
       "      <td>76</td>\n",
       "      <td>85</td>\n",
       "      <td>79</td>\n",
       "      <td>0</td>\n",
       "    </tr>\n",
       "    <tr>\n",
       "      <th>...</th>\n",
       "      <td>...</td>\n",
       "      <td>...</td>\n",
       "      <td>...</td>\n",
       "      <td>...</td>\n",
       "      <td>...</td>\n",
       "      <td>...</td>\n",
       "      <td>...</td>\n",
       "      <td>...</td>\n",
       "      <td>...</td>\n",
       "      <td>...</td>\n",
       "      <td>...</td>\n",
       "      <td>...</td>\n",
       "      <td>...</td>\n",
       "      <td>...</td>\n",
       "      <td>...</td>\n",
       "      <td>...</td>\n",
       "      <td>...</td>\n",
       "      <td>...</td>\n",
       "      <td>...</td>\n",
       "      <td>...</td>\n",
       "      <td>...</td>\n",
       "    </tr>\n",
       "    <tr>\n",
       "      <th>24995</th>\n",
       "      <td>143</td>\n",
       "      <td>147</td>\n",
       "      <td>149</td>\n",
       "      <td>152</td>\n",
       "      <td>154</td>\n",
       "      <td>158</td>\n",
       "      <td>159</td>\n",
       "      <td>160</td>\n",
       "      <td>163</td>\n",
       "      <td>165</td>\n",
       "      <td>...</td>\n",
       "      <td>157</td>\n",
       "      <td>169</td>\n",
       "      <td>135</td>\n",
       "      <td>159</td>\n",
       "      <td>163</td>\n",
       "      <td>163</td>\n",
       "      <td>164</td>\n",
       "      <td>167</td>\n",
       "      <td>168</td>\n",
       "      <td>1</td>\n",
       "    </tr>\n",
       "    <tr>\n",
       "      <th>24996</th>\n",
       "      <td>68</td>\n",
       "      <td>128</td>\n",
       "      <td>89</td>\n",
       "      <td>84</td>\n",
       "      <td>69</td>\n",
       "      <td>104</td>\n",
       "      <td>106</td>\n",
       "      <td>82</td>\n",
       "      <td>113</td>\n",
       "      <td>68</td>\n",
       "      <td>...</td>\n",
       "      <td>49</td>\n",
       "      <td>11</td>\n",
       "      <td>20</td>\n",
       "      <td>27</td>\n",
       "      <td>72</td>\n",
       "      <td>94</td>\n",
       "      <td>82</td>\n",
       "      <td>73</td>\n",
       "      <td>82</td>\n",
       "      <td>1</td>\n",
       "    </tr>\n",
       "    <tr>\n",
       "      <th>24997</th>\n",
       "      <td>29</td>\n",
       "      <td>43</td>\n",
       "      <td>26</td>\n",
       "      <td>66</td>\n",
       "      <td>136</td>\n",
       "      <td>141</td>\n",
       "      <td>50</td>\n",
       "      <td>85</td>\n",
       "      <td>59</td>\n",
       "      <td>133</td>\n",
       "      <td>...</td>\n",
       "      <td>214</td>\n",
       "      <td>137</td>\n",
       "      <td>109</td>\n",
       "      <td>161</td>\n",
       "      <td>132</td>\n",
       "      <td>159</td>\n",
       "      <td>121</td>\n",
       "      <td>164</td>\n",
       "      <td>147</td>\n",
       "      <td>1</td>\n",
       "    </tr>\n",
       "    <tr>\n",
       "      <th>24998</th>\n",
       "      <td>245</td>\n",
       "      <td>188</td>\n",
       "      <td>110</td>\n",
       "      <td>111</td>\n",
       "      <td>73</td>\n",
       "      <td>111</td>\n",
       "      <td>161</td>\n",
       "      <td>62</td>\n",
       "      <td>87</td>\n",
       "      <td>119</td>\n",
       "      <td>...</td>\n",
       "      <td>135</td>\n",
       "      <td>143</td>\n",
       "      <td>119</td>\n",
       "      <td>113</td>\n",
       "      <td>89</td>\n",
       "      <td>97</td>\n",
       "      <td>97</td>\n",
       "      <td>83</td>\n",
       "      <td>119</td>\n",
       "      <td>1</td>\n",
       "    </tr>\n",
       "    <tr>\n",
       "      <th>24999</th>\n",
       "      <td>253</td>\n",
       "      <td>248</td>\n",
       "      <td>254</td>\n",
       "      <td>246</td>\n",
       "      <td>254</td>\n",
       "      <td>254</td>\n",
       "      <td>254</td>\n",
       "      <td>251</td>\n",
       "      <td>249</td>\n",
       "      <td>255</td>\n",
       "      <td>...</td>\n",
       "      <td>255</td>\n",
       "      <td>255</td>\n",
       "      <td>255</td>\n",
       "      <td>255</td>\n",
       "      <td>254</td>\n",
       "      <td>254</td>\n",
       "      <td>254</td>\n",
       "      <td>254</td>\n",
       "      <td>254</td>\n",
       "      <td>1</td>\n",
       "    </tr>\n",
       "  </tbody>\n",
       "</table>\n",
       "<p>25000 rows × 785 columns</p>\n",
       "</div>"
      ],
      "text/plain": [
       "       pixel_0  pixel_1  pixel_2  pixel_3  pixel_4  pixel_5  pixel_6  pixel_7  \\\n",
       "0          173      187      197      204      209      215      184      165   \n",
       "1           36       44       41       40       41       53       67       64   \n",
       "2           56       58       62       61       56       50       48       43   \n",
       "3          222      236      226      228      231      223      231      224   \n",
       "4           99       82      145      198      222      237      202      236   \n",
       "...        ...      ...      ...      ...      ...      ...      ...      ...   \n",
       "24995      143      147      149      152      154      158      159      160   \n",
       "24996       68      128       89       84       69      104      106       82   \n",
       "24997       29       43       26       66      136      141       50       85   \n",
       "24998      245      188      110      111       73      111      161       62   \n",
       "24999      253      248      254      246      254      254      254      251   \n",
       "\n",
       "       pixel_8  pixel_9  ...  pixel_775  pixel_776  pixel_777  pixel_778  \\\n",
       "0          143       96  ...         28          4          9         34   \n",
       "1           62       73  ...         62         26         33         71   \n",
       "2           48       56  ...        106        147         63         76   \n",
       "3          216      208  ...        159        178        255        251   \n",
       "4           85      136  ...         92         97         92         86   \n",
       "...        ...      ...  ...        ...        ...        ...        ...   \n",
       "24995      163      165  ...        157        169        135        159   \n",
       "24996      113       68  ...         49         11         20         27   \n",
       "24997       59      133  ...        214        137        109        161   \n",
       "24998       87      119  ...        135        143        119        113   \n",
       "24999      249      255  ...        255        255        255        255   \n",
       "\n",
       "       pixel_779  pixel_780  pixel_781  pixel_782  pixel_783  label  \n",
       "0             28          9          2          3          3      0  \n",
       "1             53         87         57         52         42      0  \n",
       "2             68         72        131        145        172      0  \n",
       "3            237        223        208        209        212      0  \n",
       "4             86         85         76         85         79      0  \n",
       "...          ...        ...        ...        ...        ...    ...  \n",
       "24995        163        163        164        167        168      1  \n",
       "24996         72         94         82         73         82      1  \n",
       "24997        132        159        121        164        147      1  \n",
       "24998         89         97         97         83        119      1  \n",
       "24999        254        254        254        254        254      1  \n",
       "\n",
       "[25000 rows x 785 columns]"
      ]
     },
     "execution_count": 6,
     "metadata": {},
     "output_type": "execute_result"
    }
   ],
   "source": [
    "df = pd.DataFrame(train_data,columns=cols)\n",
    "df['label']=train_label\n",
    "df"
   ]
  },
  {
   "cell_type": "markdown",
   "metadata": {},
   "source": [
    "the labels are:\n",
    "- 0 cat\n",
    "- 1 dog"
   ]
  },
  {
   "cell_type": "code",
   "execution_count": 136,
   "metadata": {},
   "outputs": [],
   "source": [
    "some_instance = np.array(df[:1].drop('label',axis=1))\n",
    "some_instance_image = some_instance.reshape(28, 28)"
   ]
  },
  {
   "cell_type": "code",
   "execution_count": 137,
   "metadata": {},
   "outputs": [
    {
     "data": {
      "text/plain": [
       "<matplotlib.image.AxesImage at 0x205a38055e0>"
      ]
     },
     "execution_count": 137,
     "metadata": {},
     "output_type": "execute_result"
    },
    {
     "data": {
      "image/png": "[encoded data removed]",
      "text/plain": [
       "<Figure size 432x288 with 1 Axes>"
      ]
     },
     "metadata": {
      "needs_background": "light"
     },
     "output_type": "display_data"
    }
   ],
   "source": [
    "plt.imshow(some_instance_image)"
   ]
  },
  {
   "cell_type": "code",
   "execution_count": 161,
   "metadata": {},
   "outputs": [
    {
     "name": "stdout",
     "output_type": "stream",
     "text": [
      "<class 'pandas.core.frame.DataFrame'>\n",
      "RangeIndex: 25000 entries, 0 to 24999\n",
      "Columns: 785 entries, pixel_0 to label\n",
      "dtypes: int64(785)\n",
      "memory usage: 149.7 MB\n"
     ]
    }
   ],
   "source": [
    "df.info()"
   ]
  },
  {
   "cell_type": "code",
   "execution_count": 162,
   "metadata": {},
   "outputs": [
    {
     "data": {
      "text/plain": [
       "<matplotlib.axes._subplots.AxesSubplot at 0x204d21a32b0>"
      ]
     },
     "execution_count": 162,
     "metadata": {},
     "output_type": "execute_result"
    },
    {
     "data": {
      "image/png": "[encoded data removed]",
      "text/plain": [
       "<Figure size 432x288 with 1 Axes>"
      ]
     },
     "metadata": {
      "needs_background": "light"
     },
     "output_type": "display_data"
    }
   ],
   "source": [
    "sns.distplot(df['label'],kde= False)"
   ]
  },
  {
   "cell_type": "code",
   "execution_count": 7,
   "metadata": {},
   "outputs": [],
   "source": [
    "target=df['label']\n",
    "data=df.drop(['label'], axis = 1)\n",
    "X_train,X_test,y_train,y_test = train_test_split(data,target ,random_state=0)"
   ]
  },
  {
   "cell_type": "code",
   "execution_count": 164,
   "metadata": {},
   "outputs": [
    {
     "data": {
      "text/plain": [
       "RandomForestClassifier()"
      ]
     },
     "execution_count": 164,
     "metadata": {},
     "output_type": "execute_result"
    }
   ],
   "source": [
    "rfc = RandomForestClassifier()\n",
    "rfc.fit(X_train,y_train)"
   ]
  },
  {
   "cell_type": "code",
   "execution_count": 167,
   "metadata": {},
   "outputs": [
    {
     "data": {
      "text/plain": [
       "array([0.0012072 , 0.0009263 , 0.00100172, 0.00108912, 0.00106676,\n",
       "       0.00108161, 0.000978  , 0.00088772, 0.00090105, 0.0010968 ,\n",
       "       0.00106896, 0.00102715, 0.00111839, 0.00110629, 0.0010166 ,\n",
       "       0.00107132, 0.00098879, 0.00104371, 0.00102741, 0.00112598,\n",
       "       0.00108937, 0.00094194, 0.00103583, 0.00108385, 0.00112462,\n",
       "       0.00104074, 0.00094324, 0.00111315, 0.0009152 , 0.00105014,\n",
       "       0.00091166, 0.00096448, 0.0010722 , 0.00096907, 0.00106601,\n",
       "       0.00105263, 0.00103602, 0.00096388, 0.00109673, 0.00100028,\n",
       "       0.00117158, 0.00111783, 0.00099296, 0.00106184, 0.00104447,\n",
       "       0.00109759, 0.00092338, 0.00099728, 0.00098901, 0.00100129,\n",
       "       0.00104182, 0.00111367, 0.00105765, 0.0009373 , 0.00106399,\n",
       "       0.00090644, 0.00103153, 0.00105322, 0.0010498 , 0.00110342,\n",
       "       0.00111402, 0.0010164 , 0.00118419, 0.00105605, 0.00115064,\n",
       "       0.00124466, 0.00123213, 0.00117649, 0.00109406, 0.00112006,\n",
       "       0.0011649 , 0.00112965, 0.00107037, 0.00121005, 0.00096226,\n",
       "       0.00113667, 0.00103598, 0.00100538, 0.00093017, 0.00109725,\n",
       "       0.00107674, 0.00097482, 0.00100324, 0.00107223, 0.00097094,\n",
       "       0.00109473, 0.00101664, 0.00111978, 0.00110144, 0.00090042,\n",
       "       0.00110391, 0.00102811, 0.00102233, 0.00125497, 0.00113672,\n",
       "       0.00114732, 0.00120456, 0.00144049, 0.00103934, 0.00106241,\n",
       "       0.00129117, 0.00121871, 0.00103584, 0.00107691, 0.00107278,\n",
       "       0.00111905, 0.00096521, 0.00110443, 0.00101087, 0.00098467,\n",
       "       0.00102049, 0.00100805, 0.00095253, 0.00100453, 0.00100938,\n",
       "       0.00088843, 0.00109214, 0.00104433, 0.00130213, 0.00110515,\n",
       "       0.00119484, 0.00120213, 0.00114593, 0.00143337, 0.00136989,\n",
       "       0.00134007, 0.00136792, 0.00136812, 0.00135267, 0.001244  ,\n",
       "       0.00105176, 0.0011872 , 0.00100593, 0.0010423 , 0.0011262 ,\n",
       "       0.0011091 , 0.00100005, 0.00104742, 0.00102609, 0.00089186,\n",
       "       0.00105329, 0.00114491, 0.00090884, 0.00104682, 0.00110111,\n",
       "       0.00110862, 0.00119711, 0.00111998, 0.00129959, 0.00137088,\n",
       "       0.0013909 , 0.00132977, 0.00165936, 0.00169151, 0.00181099,\n",
       "       0.00146237, 0.0014618 , 0.00137774, 0.00123407, 0.00118447,\n",
       "       0.00130751, 0.00094364, 0.00113775, 0.00099693, 0.00097959,\n",
       "       0.00113614, 0.00096028, 0.00112172, 0.00102711, 0.00115416,\n",
       "       0.0010573 , 0.00103242, 0.00118943, 0.00117578, 0.0012219 ,\n",
       "       0.00106628, 0.00131062, 0.00134204, 0.00123418, 0.00149693,\n",
       "       0.00155821, 0.00178852, 0.00166973, 0.00151255, 0.00155613,\n",
       "       0.00125986, 0.00106846, 0.00108824, 0.00118446, 0.00119552,\n",
       "       0.00109816, 0.00099743, 0.00095934, 0.0010383 , 0.0011636 ,\n",
       "       0.00120903, 0.00122266, 0.00119668, 0.00113648, 0.00110134,\n",
       "       0.00107009, 0.00107613, 0.0011279 , 0.00126937, 0.00122727,\n",
       "       0.00126629, 0.00132645, 0.00156565, 0.00149827, 0.00162594,\n",
       "       0.00132317, 0.00132592, 0.00140823, 0.00119528, 0.00148265,\n",
       "       0.00115475, 0.00109051, 0.00118132, 0.0009847 , 0.00115257,\n",
       "       0.00101162, 0.00102662, 0.00093269, 0.00101069, 0.00126639,\n",
       "       0.00095974, 0.00127005, 0.00113885, 0.0011472 , 0.00104498,\n",
       "       0.00120849, 0.00122804, 0.00115555, 0.00150919, 0.00106849,\n",
       "       0.00127688, 0.00134114, 0.00134181, 0.00132202, 0.0015159 ,\n",
       "       0.0014115 , 0.0012818 , 0.00119283, 0.00115309, 0.0011106 ,\n",
       "       0.00103749, 0.00108814, 0.00088745, 0.00107913, 0.00100889,\n",
       "       0.0011122 , 0.00123181, 0.0010255 , 0.00123358, 0.00116619,\n",
       "       0.00103486, 0.00105241, 0.00116285, 0.00110726, 0.00130203,\n",
       "       0.00121917, 0.00129449, 0.00124045, 0.00145352, 0.00121539,\n",
       "       0.00135206, 0.00157603, 0.00119484, 0.00128174, 0.00123144,\n",
       "       0.00119122, 0.00124354, 0.00116259, 0.00105636, 0.00119079,\n",
       "       0.00108097, 0.0010248 , 0.00111532, 0.0009682 , 0.00126025,\n",
       "       0.00117797, 0.00131906, 0.00130907, 0.00123149, 0.00112947,\n",
       "       0.0010906 , 0.00120266, 0.00112634, 0.00118045, 0.00129777,\n",
       "       0.00125655, 0.00116578, 0.00129993, 0.00121153, 0.00139721,\n",
       "       0.00134142, 0.00109695, 0.00126554, 0.00129127, 0.0011607 ,\n",
       "       0.00104646, 0.00124787, 0.00109975, 0.00103176, 0.00115368,\n",
       "       0.00101592, 0.0011328 , 0.00115033, 0.00147107, 0.00145862,\n",
       "       0.00136517, 0.00123536, 0.00121004, 0.00110333, 0.00111818,\n",
       "       0.00110267, 0.001101  , 0.00130916, 0.0011377 , 0.00145823,\n",
       "       0.0013465 , 0.00133869, 0.00139607, 0.00138006, 0.00135008,\n",
       "       0.00106456, 0.00109646, 0.00126606, 0.00110255, 0.00105313,\n",
       "       0.0012538 , 0.00100594, 0.00109342, 0.00112054, 0.00108406,\n",
       "       0.00164462, 0.00149836, 0.00160366, 0.00164424, 0.00116395,\n",
       "       0.00117271, 0.00107945, 0.00102548, 0.00110768, 0.00126816,\n",
       "       0.00129852, 0.00121075, 0.00146861, 0.00136544, 0.00150641,\n",
       "       0.00137645, 0.00149018, 0.00133446, 0.00137981, 0.00117002,\n",
       "       0.0012146 , 0.00125413, 0.00125342, 0.00112947, 0.00110665,\n",
       "       0.00104931, 0.00130803, 0.00150304, 0.00127066, 0.00124772,\n",
       "       0.0016115 , 0.00145763, 0.00141074, 0.001294  , 0.00108955,\n",
       "       0.0011216 , 0.00115628, 0.00100722, 0.00122453, 0.00126924,\n",
       "       0.00118909, 0.00147921, 0.00156896, 0.00139892, 0.00132411,\n",
       "       0.001415  , 0.00127767, 0.00122641, 0.00128766, 0.0012701 ,\n",
       "       0.0012613 , 0.00106936, 0.00128569, 0.00131537, 0.00137296,\n",
       "       0.00143678, 0.00138648, 0.00143127, 0.00147716, 0.00134267,\n",
       "       0.00112889, 0.00122317, 0.0012929 , 0.00111545, 0.00123554,\n",
       "       0.00118064, 0.0012937 , 0.00137103, 0.00144942, 0.00119825,\n",
       "       0.0014419 , 0.00162927, 0.00133883, 0.00124276, 0.0012578 ,\n",
       "       0.00124159, 0.00117501, 0.00118825, 0.00108939, 0.00109038,\n",
       "       0.00114866, 0.00123224, 0.0013374 , 0.00149172, 0.00150692,\n",
       "       0.00123689, 0.00124188, 0.00178792, 0.00113959, 0.0014076 ,\n",
       "       0.00136699, 0.00115869, 0.00120917, 0.00111262, 0.00117558,\n",
       "       0.00135584, 0.00121593, 0.00147004, 0.00185398, 0.001661  ,\n",
       "       0.00137998, 0.00132283, 0.00143489, 0.00116957, 0.0012195 ,\n",
       "       0.00132222, 0.0010451 , 0.00123096, 0.0012442 , 0.0011857 ,\n",
       "       0.0013737 , 0.00148915, 0.00169647, 0.00129322, 0.0015923 ,\n",
       "       0.00162372, 0.0015002 , 0.00127343, 0.00119127, 0.00119248,\n",
       "       0.00132504, 0.0009905 , 0.00121775, 0.00124181, 0.00155475,\n",
       "       0.0014263 , 0.00164276, 0.00150107, 0.00159035, 0.00132305,\n",
       "       0.00136811, 0.00117613, 0.00110787, 0.00103668, 0.00117362,\n",
       "       0.00128646, 0.00124951, 0.00129328, 0.00127431, 0.00158651,\n",
       "       0.00144432, 0.00136608, 0.00150687, 0.0015732 , 0.00126381,\n",
       "       0.00132518, 0.00122174, 0.00123105, 0.00117109, 0.00122134,\n",
       "       0.00115007, 0.00142082, 0.00119201, 0.00128198, 0.00141237,\n",
       "       0.00188839, 0.00164565, 0.00156324, 0.00137461, 0.00135734,\n",
       "       0.00119812, 0.00129272, 0.0010914 , 0.00119431, 0.00133741,\n",
       "       0.00135978, 0.00180067, 0.00197828, 0.00185261, 0.00142161,\n",
       "       0.00157505, 0.00186353, 0.00131202, 0.00117304, 0.00117853,\n",
       "       0.00117895, 0.00127953, 0.00118962, 0.00142104, 0.00138615,\n",
       "       0.00148414, 0.00141098, 0.0013225 , 0.00165799, 0.00147044,\n",
       "       0.00169475, 0.00158822, 0.00130652, 0.0013287 , 0.00123155,\n",
       "       0.00128797, 0.00099523, 0.00145686, 0.00126256, 0.00152923,\n",
       "       0.00136008, 0.00153967, 0.00144173, 0.00138514, 0.0016486 ,\n",
       "       0.0013056 , 0.00121845, 0.00115695, 0.00129595, 0.001275  ,\n",
       "       0.00124249, 0.00124856, 0.00137745, 0.00140629, 0.00141705,\n",
       "       0.00178722, 0.00180813, 0.00189988, 0.00183793, 0.00131548,\n",
       "       0.00144422, 0.00116112, 0.00126546, 0.00129144, 0.00109253,\n",
       "       0.00158441, 0.00154416, 0.00148565, 0.00138555, 0.00181789,\n",
       "       0.00163652, 0.00132011, 0.0014728 , 0.00146654, 0.00146277,\n",
       "       0.00134179, 0.00122983, 0.0012248 , 0.00134575, 0.0015263 ,\n",
       "       0.00131912, 0.00160411, 0.00152336, 0.0016009 , 0.00134567,\n",
       "       0.00208508, 0.00170747, 0.00140906, 0.00141829, 0.00144369,\n",
       "       0.00111001, 0.00113483, 0.0012885 , 0.0012661 , 0.00126441,\n",
       "       0.00131558, 0.00131675, 0.0012157 , 0.00148993, 0.00124895,\n",
       "       0.00142743, 0.00111635, 0.00113656, 0.00117664, 0.00117819,\n",
       "       0.00125442, 0.00133876, 0.00129058, 0.00121461, 0.00145735,\n",
       "       0.00170484, 0.00177489, 0.00182601, 0.00179591, 0.00149619,\n",
       "       0.00160572, 0.00149233, 0.00128954, 0.0012978 , 0.00119782,\n",
       "       0.00123824, 0.00117659, 0.00114317, 0.00123046, 0.0012304 ,\n",
       "       0.00132862, 0.00139593, 0.00142903, 0.00104229, 0.00107201,\n",
       "       0.00120381, 0.00118973, 0.00124533, 0.00125908, 0.00132149,\n",
       "       0.00118875, 0.00125376, 0.00150915, 0.00144539, 0.00201261,\n",
       "       0.00185411, 0.00186988, 0.00163717, 0.00133508, 0.00140466,\n",
       "       0.00130049, 0.00109737, 0.00127893, 0.00127884, 0.00117047,\n",
       "       0.00106755, 0.00110879, 0.00132629, 0.00163007, 0.00146713,\n",
       "       0.00121389, 0.00111561, 0.00105934, 0.00131255, 0.00103463,\n",
       "       0.00116366, 0.00112671, 0.00120624, 0.00134489, 0.00140882,\n",
       "       0.00130744, 0.0014131 , 0.0015177 , 0.00169196, 0.00200251,\n",
       "       0.00147603, 0.00165052, 0.00127305, 0.00114354, 0.00115732,\n",
       "       0.00113485, 0.00115041, 0.00144094, 0.00119873, 0.00129042,\n",
       "       0.00119495, 0.00137411, 0.00122345, 0.00113642, 0.00090553,\n",
       "       0.00118379, 0.00109662, 0.00111474, 0.00124044, 0.00118776,\n",
       "       0.00115251, 0.00133183, 0.0012223 , 0.00144018, 0.00144413,\n",
       "       0.00138204, 0.00122164, 0.00151996, 0.00160582, 0.00154048,\n",
       "       0.00126618, 0.00122391, 0.00110966, 0.00108734, 0.00112532,\n",
       "       0.00140035, 0.00146421, 0.00110653, 0.0013172 , 0.00119876,\n",
       "       0.00146004, 0.00149509, 0.00127984, 0.00130229, 0.00142693,\n",
       "       0.00119   , 0.00108268, 0.00127353, 0.00111539, 0.00133282,\n",
       "       0.00120021, 0.00136297, 0.00133622, 0.00138827, 0.00121277,\n",
       "       0.00158995, 0.00153574, 0.00126079, 0.00126826, 0.00136592,\n",
       "       0.00129993, 0.00099972, 0.00107031, 0.00115536, 0.00142348,\n",
       "       0.00140664, 0.00166171, 0.00125749, 0.00141549, 0.00136946,\n",
       "       0.00135771, 0.0012444 , 0.00128902, 0.0013555 , 0.00121835,\n",
       "       0.00109429, 0.00144448, 0.00157375, 0.00121308, 0.00132652,\n",
       "       0.00153672, 0.00223576, 0.0014783 , 0.00144007, 0.00149453,\n",
       "       0.00144421, 0.00122061, 0.00121466, 0.00122681, 0.00123243,\n",
       "       0.00130009, 0.00127927, 0.0011652 , 0.00134546, 0.00141826,\n",
       "       0.00176586, 0.00153086, 0.00124758, 0.00134577, 0.00143332,\n",
       "       0.00140713, 0.00142728, 0.00125992, 0.00170411, 0.00137108,\n",
       "       0.00161255, 0.0014469 , 0.00153831, 0.001871  , 0.00166482,\n",
       "       0.00250978, 0.0027354 , 0.00225055, 0.00210863, 0.00194991,\n",
       "       0.00141193, 0.0014229 , 0.00125958, 0.0013522 , 0.00125101,\n",
       "       0.00133135, 0.00165059, 0.00199265, 0.00180764])"
      ]
     },
     "execution_count": 167,
     "metadata": {},
     "output_type": "execute_result"
    }
   ],
   "source": [
    "rfc.feature_importances_"
   ]
  },
  {
   "cell_type": "code",
   "execution_count": 168,
   "metadata": {},
   "outputs": [],
   "source": [
    "def plot_instance(data):\n",
    "    image = data.reshape(28, 28)\n",
    "    plt.imshow(image, cmap = plt.cm.hot,\n",
    "               interpolation=\"nearest\")\n",
    "    plt.axis(\"off\")"
   ]
  },
  {
   "cell_type": "code",
   "execution_count": 169,
   "metadata": {},
   "outputs": [
    {
     "data": {
      "image/png": "[encoded data removed]",
      "text/plain": [
       "<Figure size 1440x720 with 2 Axes>"
      ]
     },
     "metadata": {
      "needs_background": "light"
     },
     "output_type": "display_data"
    }
   ],
   "source": [
    "plt.figure(figsize=(20, 10))\n",
    "plot_instance(rfc.feature_importances_)\n",
    "cbar = plt.colorbar(ticks=[rfc.feature_importances_.min(), rfc.feature_importances_.max()])\n",
    "cbar.ax.set_yticklabels(['Not important', 'Very important'])\n",
    "plt.show()"
   ]
  },
  {
   "cell_type": "code",
   "execution_count": 8,
   "metadata": {},
   "outputs": [],
   "source": [
    "sc= StandardScaler()"
   ]
  },
  {
   "cell_type": "code",
   "execution_count": 9,
   "metadata": {},
   "outputs": [],
   "source": [
    "scaled_train = sc.fit_transform(X_train)"
   ]
  },
  {
   "cell_type": "code",
   "execution_count": 10,
   "metadata": {},
   "outputs": [],
   "source": [
    "scaled_test = sc.transform(X_test)"
   ]
  },
  {
   "cell_type": "code",
   "execution_count": 173,
   "metadata": {},
   "outputs": [
    {
     "data": {
      "text/plain": [
       "RandomForestClassifier()"
      ]
     },
     "execution_count": 173,
     "metadata": {},
     "output_type": "execute_result"
    }
   ],
   "source": [
    "rfc = RandomForestClassifier()\n",
    "rfc.fit(scaled_train,y_train)\n",
    "rfc"
   ]
  },
  {
   "cell_type": "code",
   "execution_count": 174,
   "metadata": {},
   "outputs": [],
   "source": [
    "y_pred = rfc.predict(scaled_test)"
   ]
  },
  {
   "cell_type": "code",
   "execution_count": 175,
   "metadata": {},
   "outputs": [
    {
     "name": "stdout",
     "output_type": "stream",
     "text": [
      "              precision    recall  f1-score   support\n",
      "\n",
      "           0       0.64      0.66      0.65      3149\n",
      "           1       0.64      0.61      0.63      3101\n",
      "\n",
      "    accuracy                           0.64      6250\n",
      "   macro avg       0.64      0.64      0.64      6250\n",
      "weighted avg       0.64      0.64      0.64      6250\n",
      "\n"
     ]
    }
   ],
   "source": [
    "print (classification_report(y_test,y_pred))"
   ]
  },
  {
   "cell_type": "code",
   "execution_count": 181,
   "metadata": {},
   "outputs": [
    {
     "data": {
      "text/plain": [
       "Text(33.0, 0.5, 'Actual')"
      ]
     },
     "execution_count": 181,
     "metadata": {},
     "output_type": "execute_result"
    },
    {
     "data": {
      "image/png": "[encoded data removed]",
      "text/plain": [
       "<Figure size 432x288 with 2 Axes>"
      ]
     },
     "metadata": {
      "needs_background": "light"
     },
     "output_type": "display_data"
    }
   ],
   "source": [
    "cm = confusion_matrix(y_test,y_pred)\n",
    "sns.heatmap(cm,annot=True,annot_kws = {'size':15},fmt=\".1f\")\n",
    "plt.xlabel(\"Predict\")\n",
    "plt.ylabel(\"Actual\")"
   ]
  },
  {
   "cell_type": "code",
   "execution_count": 11,
   "metadata": {},
   "outputs": [],
   "source": [
    "pca = PCA()\n",
    "pca.fit(scaled_train)\n",
    "cumsum = np.cumsum(pca.explained_variance_ratio_)\n",
    "d = np.argmax(cumsum >= 0.9) + 1"
   ]
  },
  {
   "cell_type": "code",
   "execution_count": 12,
   "metadata": {},
   "outputs": [
    {
     "data": {
      "image/png": "[encoded data removed]",
      "text/plain": [
       "<Figure size 720x288 with 1 Axes>"
      ]
     },
     "metadata": {
      "needs_background": "light"
     },
     "output_type": "display_data"
    }
   ],
   "source": [
    "plt.figure(figsize=(10,4))\n",
    "plt.plot(cumsum, linewidth=3)\n",
    "plt.axis([0, 400, 0, 1])\n",
    "plt.xlabel(\"Dimensions\")\n",
    "plt.ylabel(\"Explained Variance\")\n",
    "plt.plot([d, d], [0, 0.9], \"k:\")\n",
    "plt.plot([0, d], [0.9, 0.9], \"k:\")\n",
    "plt.plot(d, 0.9, \"ko\")\n",
    "plt.grid(True)\n",
    "plt.show()"
   ]
  },
  {
   "cell_type": "code",
   "execution_count": 13,
   "metadata": {},
   "outputs": [],
   "source": [
    "knn = KNeighborsClassifier()\n",
    "dtc = DecisionTreeClassifier()\n",
    "rfc = RandomForestClassifier()\n",
    "pca = PCA(n_components=0.9)"
   ]
  },
  {
   "cell_type": "code",
   "execution_count": 14,
   "metadata": {},
   "outputs": [],
   "source": [
    "redueced_train = pca.fit_transform(scaled_train)"
   ]
  },
  {
   "cell_type": "code",
   "execution_count": 15,
   "metadata": {},
   "outputs": [
    {
     "data": {
      "text/plain": [
       "(18750, 216)"
      ]
     },
     "execution_count": 15,
     "metadata": {},
     "output_type": "execute_result"
    }
   ],
   "source": [
    "redueced_train.shape"
   ]
  },
  {
   "cell_type": "code",
   "execution_count": 16,
   "metadata": {},
   "outputs": [
    {
     "data": {
      "text/plain": [
       "(6250, 216)"
      ]
     },
     "execution_count": 16,
     "metadata": {},
     "output_type": "execute_result"
    }
   ],
   "source": [
    "X_test_reduced = pca.transform(scaled_test)\n",
    "X_test_reduced.shape"
   ]
  },
  {
   "cell_type": "code",
   "execution_count": 17,
   "metadata": {},
   "outputs": [],
   "source": [
    "pipe_knn = Pipeline(steps=[('sc',sc),('pca', pca), ('knn', knn)])"
   ]
  },
  {
   "cell_type": "code",
   "execution_count": 18,
   "metadata": {},
   "outputs": [],
   "source": [
    "pipe_dtc = Pipeline(steps=[('sc',sc),('pca', pca), ('dtc', dtc)])"
   ]
  },
  {
   "cell_type": "code",
   "execution_count": 19,
   "metadata": {},
   "outputs": [],
   "source": [
    "pipe_rfc = Pipeline(steps=[('sc',sc),('pca', pca), ('rfc', rfc)])"
   ]
  },
  {
   "cell_type": "code",
   "execution_count": 206,
   "metadata": {},
   "outputs": [],
   "source": [
    "param_knn = {\n",
    "    'knn__n_neighbors': list(range(2,11,2)),\n",
    "    'knn__weights': ['uniform','distance']  \n",
    "}"
   ]
  },
  {
   "cell_type": "code",
   "execution_count": 207,
   "metadata": {},
   "outputs": [],
   "source": [
    "path = dtc.cost_complexity_pruning_path(redueced_train,y_train)\n",
    "alphas = path.ccp_alphas"
   ]
  },
  {
   "cell_type": "code",
   "execution_count": 208,
   "metadata": {},
   "outputs": [],
   "source": [
    "param_dtc = {'dtc__ccp_alpha':alphas}"
   ]
  },
  {
   "cell_type": "code",
   "execution_count": 209,
   "metadata": {},
   "outputs": [],
   "source": [
    "param_rfc = {'rfc__n_estimators':[100,200,300,400,500],\n",
    "    'rfc__max_depth' : list(range(2,21,2))}"
   ]
  },
  {
   "cell_type": "code",
   "execution_count": 210,
   "metadata": {},
   "outputs": [],
   "source": [
    "grid_knn = RandomizedSearchCV(pipe_knn,param_knn,scoring='accuracy')\n",
    "grid_dtc = RandomizedSearchCV(pipe_dtc,param_dtc,scoring='accuracy')\n",
    "grid_rfc = RandomizedSearchCV(pipe_rfc,param_rfc,scoring='accuracy')"
   ]
  },
  {
   "cell_type": "code",
   "execution_count": 211,
   "metadata": {},
   "outputs": [
    {
     "data": {
      "text/plain": [
       "RandomizedSearchCV(estimator=Pipeline(steps=[('sc', StandardScaler()),\n",
       "                                             ('pca', PCA(n_components=0.9)),\n",
       "                                             ('knn', KNeighborsClassifier())]),\n",
       "                   param_distributions={'knn__n_neighbors': [2, 4, 6, 8, 10],\n",
       "                                        'knn__weights': ['uniform',\n",
       "                                                         'distance']},\n",
       "                   scoring='accuracy')"
      ]
     },
     "execution_count": 211,
     "metadata": {},
     "output_type": "execute_result"
    }
   ],
   "source": [
    "grid_knn.fit(data,target)"
   ]
  },
  {
   "cell_type": "code",
   "execution_count": 214,
   "metadata": {},
   "outputs": [
    {
     "data": {
      "text/plain": [
       "RandomizedSearchCV(estimator=Pipeline(steps=[('sc', StandardScaler()),\n",
       "                                             ('pca', PCA(n_components=0.9)),\n",
       "                                             ('dtc',\n",
       "                                              DecisionTreeClassifier())]),\n",
       "                   param_distributions={'dtc__ccp_alpha': array([0.00000000e+00, 5.09090909e-05, 5.15555556e-05, ...,\n",
       "       3.38112209e-03, 4.32563647e-03, 6.46794246e-03])},\n",
       "                   scoring='accuracy')"
      ]
     },
     "execution_count": 214,
     "metadata": {},
     "output_type": "execute_result"
    }
   ],
   "source": [
    "grid_dtc.fit(data,target)"
   ]
  },
  {
   "cell_type": "code",
   "execution_count": 217,
   "metadata": {},
   "outputs": [
    {
     "data": {
      "text/plain": [
       "RandomizedSearchCV(estimator=Pipeline(steps=[('sc', StandardScaler()),\n",
       "                                             ('pca', PCA(n_components=0.9)),\n",
       "                                             ('rfc',\n",
       "                                              RandomForestClassifier())]),\n",
       "                   param_distributions={'rfc__max_depth': [2, 4, 6, 8, 10, 12,\n",
       "                                                           14, 16, 18, 20],\n",
       "                                        'rfc__n_estimators': [100, 200, 300,\n",
       "                                                              400, 500]},\n",
       "                   scoring='accuracy')"
      ]
     },
     "execution_count": 217,
     "metadata": {},
     "output_type": "execute_result"
    }
   ],
   "source": [
    "grid_rfc.fit(data,target)"
   ]
  },
  {
   "cell_type": "code",
   "execution_count": 212,
   "metadata": {},
   "outputs": [
    {
     "data": {
      "text/plain": [
       "0.58968"
      ]
     },
     "execution_count": 212,
     "metadata": {},
     "output_type": "execute_result"
    }
   ],
   "source": [
    "grid_knn.best_score_"
   ]
  },
  {
   "cell_type": "code",
   "execution_count": 213,
   "metadata": {},
   "outputs": [
    {
     "data": {
      "text/plain": [
       "{'knn__weights': 'distance', 'knn__n_neighbors': 10}"
      ]
     },
     "execution_count": 213,
     "metadata": {},
     "output_type": "execute_result"
    }
   ],
   "source": [
    "grid_knn.best_params_"
   ]
  },
  {
   "cell_type": "code",
   "execution_count": 215,
   "metadata": {},
   "outputs": [
    {
     "data": {
      "text/plain": [
       "0.57452"
      ]
     },
     "execution_count": 215,
     "metadata": {},
     "output_type": "execute_result"
    }
   ],
   "source": [
    "grid_dtc.best_score_"
   ]
  },
  {
   "cell_type": "code",
   "execution_count": 216,
   "metadata": {},
   "outputs": [
    {
     "data": {
      "text/plain": [
       "{'dtc__ccp_alpha': 0.0003748628587666933}"
      ]
     },
     "execution_count": 216,
     "metadata": {},
     "output_type": "execute_result"
    }
   ],
   "source": [
    "grid_dtc.best_params_"
   ]
  },
  {
   "cell_type": "code",
   "execution_count": 218,
   "metadata": {},
   "outputs": [
    {
     "data": {
      "text/plain": [
       "0.6364"
      ]
     },
     "execution_count": 218,
     "metadata": {},
     "output_type": "execute_result"
    }
   ],
   "source": [
    "grid_rfc.best_score_"
   ]
  },
  {
   "cell_type": "code",
   "execution_count": 219,
   "metadata": {},
   "outputs": [
    {
     "data": {
      "text/plain": [
       "{'rfc__n_estimators': 500, 'rfc__max_depth': 14}"
      ]
     },
     "execution_count": 219,
     "metadata": {},
     "output_type": "execute_result"
    }
   ],
   "source": [
    "grid_rfc.best_params_"
   ]
  },
  {
   "cell_type": "code",
   "execution_count": null,
   "metadata": {},
   "outputs": [],
   "source": []
  },
  {
   "cell_type": "code",
   "execution_count": 220,
   "metadata": {},
   "outputs": [],
   "source": [
    "vot = VotingClassifier(estimators=[('dtc', grid_dtc.best_estimator_), ('knn', grid_knn.best_estimator_), ('rfc', grid_rfc.best_estimator_)],\n",
    "voting='soft')"
   ]
  },
  {
   "cell_type": "code",
   "execution_count": 221,
   "metadata": {},
   "outputs": [
    {
     "data": {
      "text/plain": [
       "0.613"
      ]
     },
     "execution_count": 221,
     "metadata": {},
     "output_type": "execute_result"
    }
   ],
   "source": [
    "cross_val_score(vot,data,target,scoring='accuracy').mean()"
   ]
  },
  {
   "cell_type": "code",
   "execution_count": null,
   "metadata": {},
   "outputs": [],
   "source": []
  },
  {
   "cell_type": "code",
   "execution_count": 20,
   "metadata": {},
   "outputs": [],
   "source": [
    "xg = XGBClassifier(use_label_encoder=False,eval_metric= 'mlogloss')"
   ]
  },
  {
   "cell_type": "code",
   "execution_count": 21,
   "metadata": {},
   "outputs": [],
   "source": [
    "pipe_xg = Pipeline(steps=[('sc',sc),('pca', pca), ('xg', xg)])"
   ]
  },
  {
   "cell_type": "code",
   "execution_count": 227,
   "metadata": {},
   "outputs": [
    {
     "data": {
      "text/plain": [
       "0.6244799999999999"
      ]
     },
     "execution_count": 227,
     "metadata": {},
     "output_type": "execute_result"
    }
   ],
   "source": [
    "cross_val_score(pipe_xg,data,target,scoring='accuracy').mean()"
   ]
  },
  {
   "cell_type": "code",
   "execution_count": null,
   "metadata": {},
   "outputs": [],
   "source": []
  },
  {
   "cell_type": "code",
   "execution_count": 228,
   "metadata": {},
   "outputs": [],
   "source": [
    "vot2 = VotingClassifier(estimators=[('pipe_xg', pipe_xg), ('rfc', grid_rfc.best_estimator_)],\n",
    "voting='soft')"
   ]
  },
  {
   "cell_type": "code",
   "execution_count": 229,
   "metadata": {},
   "outputs": [
    {
     "data": {
      "text/plain": [
       "0.6347200000000001"
      ]
     },
     "execution_count": 229,
     "metadata": {},
     "output_type": "execute_result"
    }
   ],
   "source": [
    "cross_val_score(vot2,data,target,scoring='accuracy').mean()"
   ]
  },
  {
   "cell_type": "code",
   "execution_count": null,
   "metadata": {},
   "outputs": [],
   "source": []
  },
  {
   "cell_type": "code",
   "execution_count": 22,
   "metadata": {},
   "outputs": [],
   "source": [
    "rfc = RandomForestClassifier(n_estimators=500,max_depth=14)\n",
    "pipe_rfc = Pipeline(steps=[('sc',sc),('pca', pca), ('rfc', rfc)])"
   ]
  },
  {
   "cell_type": "code",
   "execution_count": 23,
   "metadata": {},
   "outputs": [],
   "source": [
    "stc = StackingClassifier(estimators=[('xg', pipe_xg), ('rfc', pipe_rfc)])"
   ]
  },
  {
   "cell_type": "code",
   "execution_count": 24,
   "metadata": {},
   "outputs": [
    {
     "data": {
      "text/plain": [
       "0.64304"
      ]
     },
     "execution_count": 24,
     "metadata": {},
     "output_type": "execute_result"
    }
   ],
   "source": [
    "cross_val_score(stc,data,target,scoring='accuracy').mean()"
   ]
  },
  {
   "cell_type": "code",
   "execution_count": null,
   "metadata": {},
   "outputs": [],
   "source": []
  },
  {
   "cell_type": "code",
   "execution_count": 25,
   "metadata": {},
   "outputs": [],
   "source": [
    "knn = KNeighborsClassifier(n_neighbors=10,weights='distance')\n",
    "dtc = DecisionTreeClassifier(ccp_alpha= 0.0003748628587666933)\n",
    "rfc = RandomForestClassifier(n_estimators=500,max_depth=14)\n",
    "pipe_rfc = Pipeline(steps=[('sc',sc),('pca', pca), ('rfc', rfc)])\n",
    "pipe_knn = Pipeline(steps=[('sc',sc),('pca', pca), ('knn', knn)])\n",
    "pipe_dtc = Pipeline(steps=[('sc',sc),('pca', pca), ('dtc', dtc)])"
   ]
  },
  {
   "cell_type": "code",
   "execution_count": 26,
   "metadata": {},
   "outputs": [],
   "source": [
    "stc2 = StackingClassifier(estimators=[('xg', pipe_xg), ('rfc', pipe_rfc),('knn', knn),('dtc', dtc)])"
   ]
  },
  {
   "cell_type": "code",
   "execution_count": 27,
   "metadata": {},
   "outputs": [
    {
     "data": {
      "text/plain": [
       "0.6463599999999999"
      ]
     },
     "execution_count": 27,
     "metadata": {},
     "output_type": "execute_result"
    }
   ],
   "source": [
    "cross_val_score(stc2,data,target,scoring='accuracy').mean()"
   ]
  },
  {
   "cell_type": "code",
   "execution_count": null,
   "metadata": {},
   "outputs": [],
   "source": []
  }
 ],
 "metadata": {
  "kernelspec": {
   "display_name": "Python 3",
   "language": "python",
   "name": "python3"
  },
  "language_info": {
   "codemirror_mode": {
    "name": "ipython",
    "version": 3
   },
   "file_extension": ".py",
   "mimetype": "text/x-python",
   "name": "python",
   "nbconvert_exporter": "python",
   "pygments_lexer": "ipython3",
   "version": "3.8.3"
  }
 },
 "nbformat": 4,
 "nbformat_minor": 4
}
